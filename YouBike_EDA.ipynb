{
 "cells": [
  {
   "cell_type": "code",
   "execution_count": 2,
   "id": "18672940-7efc-442d-98a2-067bdb121e04",
   "metadata": {
    "tags": []
   },
   "outputs": [],
   "source": [
    "import requests\n",
    "import pandas as pd\n",
    "import matplotlib.pyplot as plt\n",
    "import seaborn as sns"
   ]
  },
  {
   "cell_type": "markdown",
   "id": "187127f3-f77c-4748-8cd0-258254293ca8",
   "metadata": {},
   "source": [
    "# Data Collection"
   ]
  },
  {
   "cell_type": "code",
   "execution_count": 3,
   "id": "3e77ee0f-dcba-4266-b9bd-f3425562e74b",
   "metadata": {
    "tags": []
   },
   "outputs": [],
   "source": [
    "url = 'https://gcs-youbike2-linebot.microprogram.tw/latest-data/youbike-station.csv'\n",
    "r = requests.request('GET', url)"
   ]
  },
  {
   "cell_type": "code",
   "execution_count": 4,
   "id": "4ae4065f-bbc4-4606-812a-d867de521bc1",
   "metadata": {
    "tags": []
   },
   "outputs": [],
   "source": [
    "csv_file = bytes.decode( r.content, 'utf-8');\n",
    "file = open('youbike-res.csv', 'w')\n",
    "file.write(r.text)\n",
    "file.close()"
   ]
  },
  {
   "cell_type": "code",
   "execution_count": 24,
   "id": "0ecdedee-9777-47fc-a5df-28622195e895",
   "metadata": {
    "tags": []
   },
   "outputs": [],
   "source": [
    "bikes_station_raw = pd.read_csv('youbike-res.csv')"
   ]
  },
  {
   "cell_type": "code",
   "execution_count": 57,
   "id": "4aada221-7dc4-4e76-bc9e-d2bb91a17474",
   "metadata": {
    "tags": []
   },
   "outputs": [],
   "source": [
    "# Analyze Raw data\n",
    "main_df = bikes_station_raw.copy()\n",
    "\n",
    "# Double check with cleaned df \n",
    "# main_df = bikes_station_clean.copy()"
   ]
  },
  {
   "cell_type": "markdown",
   "id": "8a73905f-2680-4b09-9803-b475f202c0d5",
   "metadata": {},
   "source": [
    "# Validate & clean the dataset"
   ]
  },
  {
   "cell_type": "code",
   "execution_count": 7,
   "id": "1b0867f3-204f-4ede-964f-e00ab1eeebf5",
   "metadata": {
    "tags": []
   },
   "outputs": [
    {
     "data": {
      "text/plain": [
       "(7843, 17)"
      ]
     },
     "execution_count": 7,
     "metadata": {},
     "output_type": "execute_result"
    }
   ],
   "source": [
    "main_df.shape"
   ]
  },
  {
   "cell_type": "code",
   "execution_count": 58,
   "id": "cae788bd-b3a9-4f7d-accc-6a635a4cd68d",
   "metadata": {
    "tags": []
   },
   "outputs": [
    {
     "data": {
      "text/plain": [
       "Index(['id', 'name', 'type', 'space', 'full', 'empty', 'bike_yb1', 'bike_yb2',\n",
       "       'bike_eyb', 'city', 'area', 'lat', 'lng', 'place_id', 'address',\n",
       "       'is_open', 'updated_at'],\n",
       "      dtype='object')"
      ]
     },
     "execution_count": 58,
     "metadata": {},
     "output_type": "execute_result"
    }
   ],
   "source": [
    "main_df.columns"
   ]
  },
  {
   "cell_type": "markdown",
   "id": "49508c63-6d3b-4e26-9ccf-3d5abc9bf860",
   "metadata": {},
   "source": [
    "**Columns are understood as follows:**\n",
    "- id: unique identifier per bike station\n",
    "- type: ??\n",
    "- space: total available bike slots per station (= full + empty)\n",
    "- full: nbr of occupied slots \n",
    "- empty: nbr of available slots for parking\n",
    "- bike_yb1: ??\n",
    "- bike_yb2: ??\n",
    "- bike_eyb: ??\n",
    "- city: city where bike station is located\n",
    "- area: city's district where bike station is located\n",
    "- lat: latitude coordinate of bike station\n",
    "- lng: longitude coordinate of bike station\n",
    "- place_id: ??\n",
    "- address: postal address of bike station\n",
    "- is_open: ??\n",
    "- updated_at: timestamp of data in unix epoch"
   ]
  },
  {
   "cell_type": "markdown",
   "id": "a86b23f1-5a9f-4240-8d21-1034b71f1b8a",
   "metadata": {},
   "source": [
    "### Check types & missing values"
   ]
  },
  {
   "cell_type": "code",
   "execution_count": 13,
   "id": "1e84f4b8-969a-4621-931d-0334e7a3149d",
   "metadata": {
    "collapsed": true,
    "jupyter": {
     "outputs_hidden": true
    },
    "tags": []
   },
   "outputs": [
    {
     "name": "stdout",
     "output_type": "stream",
     "text": [
      "<class 'pandas.core.frame.DataFrame'>\n",
      "RangeIndex: 7843 entries, 0 to 7842\n",
      "Data columns (total 17 columns):\n",
      " #   Column      Non-Null Count  Dtype  \n",
      "---  ------      --------------  -----  \n",
      " 0   id          7843 non-null   int64  \n",
      " 1   name        7843 non-null   object \n",
      " 2   type        7843 non-null   int64  \n",
      " 3   space       7843 non-null   int64  \n",
      " 4   full        7843 non-null   int64  \n",
      " 5   empty       7843 non-null   int64  \n",
      " 6   bike_yb1    7843 non-null   int64  \n",
      " 7   bike_yb2    7843 non-null   int64  \n",
      " 8   bike_eyb    7843 non-null   int64  \n",
      " 9   city        7719 non-null   object \n",
      " 10  area        7843 non-null   object \n",
      " 11  lat         7843 non-null   float64\n",
      " 12  lng         7843 non-null   float64\n",
      " 13  place_id    0 non-null      float64\n",
      " 14  address     7843 non-null   object \n",
      " 15  is_open     7843 non-null   int64  \n",
      " 16  updated_at  7843 non-null   int64  \n",
      "dtypes: float64(3), int64(10), object(4)\n",
      "memory usage: 1.0+ MB\n"
     ]
    },
    {
     "data": {
      "text/plain": [
       "None"
      ]
     },
     "metadata": {},
     "output_type": "display_data"
    },
    {
     "data": {
      "text/plain": [
       "id            False\n",
       "name          False\n",
       "type          False\n",
       "space         False\n",
       "full          False\n",
       "empty         False\n",
       "bike_yb1      False\n",
       "bike_yb2      False\n",
       "bike_eyb      False\n",
       "city           True\n",
       "area          False\n",
       "lat           False\n",
       "lng           False\n",
       "place_id       True\n",
       "address       False\n",
       "is_open       False\n",
       "updated_at    False\n",
       "dtype: bool"
      ]
     },
     "metadata": {},
     "output_type": "display_data"
    }
   ],
   "source": [
    "display(main_df.info())\n",
    "display(main_df.isna().any())"
   ]
  },
  {
   "cell_type": "markdown",
   "id": "f3192d59-44f8-450f-8916-31fabd231ba0",
   "metadata": {},
   "source": [
    "**Observation**\n",
    "- place_id contains no value\n",
    "- city has empty values\n",
    "- updated_at is an int64"
   ]
  },
  {
   "cell_type": "code",
   "execution_count": 35,
   "id": "102f0846-6439-46a7-82d1-f9cb73c96258",
   "metadata": {
    "tags": []
   },
   "outputs": [],
   "source": [
    "main_df.drop(main_df[main_df[\"city\"].isna()].index, inplace=True)\n",
    "main_df[\"ts\"] = pd.to_datetime(main_df[\"updated_at\"], unit=\"s\")\n",
    "main_df.drop(labels=[\"place_id\", \"updated_at\"], axis=1, inplace=True)"
   ]
  },
  {
   "cell_type": "markdown",
   "id": "cbb5ed05-0077-410f-a9b6-07244b113fcb",
   "metadata": {},
   "source": [
    "### Discard irrelevant features"
   ]
  },
  {
   "cell_type": "code",
   "execution_count": 36,
   "id": "896fb099-0dbb-4b74-aa9c-b520fe605840",
   "metadata": {
    "tags": []
   },
   "outputs": [],
   "source": [
    "main_df.drop(labels=[\"name\", \"area\", \"address\"], axis=1, inplace=True)"
   ]
  },
  {
   "cell_type": "markdown",
   "id": "823c6d5d-249c-4d32-8fad-19bb74647d31",
   "metadata": {
    "tags": []
   },
   "source": [
    "### Check range and distribution of values"
   ]
  },
  {
   "cell_type": "markdown",
   "id": "46eab2b7-1f19-4993-8bb2-b21d0d8940e2",
   "metadata": {},
   "source": [
    "#### Categorical"
   ]
  },
  {
   "cell_type": "code",
   "execution_count": 37,
   "id": "e2683e0e-27ba-454e-9e5c-5bd3f092147d",
   "metadata": {
    "tags": []
   },
   "outputs": [],
   "source": [
    "main_df_cat = main_df.select_dtypes(include=[\"category\", \"object\"])\n",
    "#TODO: set \"type\" to a category var to include in categorical"
   ]
  },
  {
   "cell_type": "code",
   "execution_count": 40,
   "id": "9b0491d1-8b34-4e5a-b2fe-7f67800d1496",
   "metadata": {},
   "outputs": [
    {
     "name": "stdout",
     "output_type": "stream",
     "text": [
      "Unique values in 'city': ['TaiNanShi' 'TaoYuanShi' 'XinBeiShi' 'MiaoLiXian' 'TaiBeiShi'\n",
      " 'KaoXiongShi' 'JiaYiShi' 'XinZhuXian' 'PingDongXian' 'TaiZhongShi'\n",
      " 'XinZhuShi' 'XinZhuKeXueGong']\n"
     ]
    }
   ],
   "source": [
    "for col in main_df_cat.columns:\n",
    "    unique_values = main_df[col].unique()\n",
    "    print(f\"Unique values in '{col}': {unique_values}\")"
   ]
  },
  {
   "cell_type": "code",
   "execution_count": 39,
   "id": "97e43208-8cae-484a-8889-0804920c7941",
   "metadata": {
    "tags": []
   },
   "outputs": [],
   "source": [
    "#Map city to ascii chars\n",
    "city_name_glossary = {\"新北市\": \"XinBeiShi\",\n",
    "                      \"台北市\": \"TaiBeiShi\",\n",
    "                      \"台中市\":\"TaiZhongShi\",\n",
    "                      \"高雄市\":\"KaoXiongShi\",\n",
    "                      \"桃園市\":\"TaoYuanShi\",\n",
    "                      \"臺南市\": \"TaiNanShi\",\n",
    "                      \"嘉義市\": \"JiaYiShi\",\n",
    "                      \"屏東縣\": \"PingDongXian\",\n",
    "                      \"新竹市\": \"XinZhuShi\",\n",
    "                      \"新竹縣\": \"XinZhuXian\",\n",
    "                      \"苗栗縣\" : \"MiaoLiXian\",\n",
    "                      \"新竹科學工業園區\": \"XinZhuKeXueGong\"}  \n",
    "\n",
    "#TODO Need to catch KeyError and set default value. \n",
    "main_df[\"city\"] = main_df.apply(lambda x: city_name_glossary[x[\"city\"]], axis=1)\n"
   ]
  },
  {
   "cell_type": "markdown",
   "id": "1e4d8ec6-9aaf-4358-b2f2-07fcedc73c7e",
   "metadata": {},
   "source": [
    "#### Numerical"
   ]
  },
  {
   "cell_type": "code",
   "execution_count": 41,
   "id": "dcef713c-749e-4bbf-84fe-6bfa7004fd51",
   "metadata": {},
   "outputs": [],
   "source": [
    "main_df_num = main_df.drop(labels=main_df_cat.columns, axis=1)"
   ]
  },
  {
   "cell_type": "code",
   "execution_count": 42,
   "id": "a34d9e3d-ff68-4953-91ee-380a367e8976",
   "metadata": {
    "tags": []
   },
   "outputs": [
    {
     "data": {
      "text/html": [
       "<div>\n",
       "<style scoped>\n",
       "    .dataframe tbody tr th:only-of-type {\n",
       "        vertical-align: middle;\n",
       "    }\n",
       "\n",
       "    .dataframe tbody tr th {\n",
       "        vertical-align: top;\n",
       "    }\n",
       "\n",
       "    .dataframe thead th {\n",
       "        text-align: right;\n",
       "    }\n",
       "</style>\n",
       "<table border=\"1\" class=\"dataframe\">\n",
       "  <thead>\n",
       "    <tr style=\"text-align: right;\">\n",
       "      <th></th>\n",
       "      <th>id</th>\n",
       "      <th>type</th>\n",
       "      <th>space</th>\n",
       "      <th>full</th>\n",
       "      <th>empty</th>\n",
       "      <th>bike_yb1</th>\n",
       "      <th>bike_yb2</th>\n",
       "      <th>bike_eyb</th>\n",
       "      <th>lat</th>\n",
       "      <th>lng</th>\n",
       "      <th>is_open</th>\n",
       "      <th>ts</th>\n",
       "    </tr>\n",
       "  </thead>\n",
       "  <tbody>\n",
       "    <tr>\n",
       "      <th>count</th>\n",
       "      <td>7.719000e+03</td>\n",
       "      <td>7719.000000</td>\n",
       "      <td>7719.000000</td>\n",
       "      <td>7719.000000</td>\n",
       "      <td>7719.000000</td>\n",
       "      <td>7719.000000</td>\n",
       "      <td>7719.000000</td>\n",
       "      <td>7719.000000</td>\n",
       "      <td>7719.000000</td>\n",
       "      <td>7719.000000</td>\n",
       "      <td>7719.000000</td>\n",
       "      <td>7719</td>\n",
       "    </tr>\n",
       "    <tr>\n",
       "      <th>mean</th>\n",
       "      <td>4.323405e+08</td>\n",
       "      <td>1.863583</td>\n",
       "      <td>20.992357</td>\n",
       "      <td>6.488535</td>\n",
       "      <td>13.332556</td>\n",
       "      <td>0.851017</td>\n",
       "      <td>5.453815</td>\n",
       "      <td>0.183703</td>\n",
       "      <td>24.235829</td>\n",
       "      <td>120.694232</td>\n",
       "      <td>0.979401</td>\n",
       "      <td>2024-01-04 07:38:00.498510336</td>\n",
       "    </tr>\n",
       "    <tr>\n",
       "      <th>min</th>\n",
       "      <td>1.001000e+03</td>\n",
       "      <td>1.000000</td>\n",
       "      <td>0.000000</td>\n",
       "      <td>0.000000</td>\n",
       "      <td>-5.000000</td>\n",
       "      <td>0.000000</td>\n",
       "      <td>0.000000</td>\n",
       "      <td>0.000000</td>\n",
       "      <td>0.000000</td>\n",
       "      <td>0.000000</td>\n",
       "      <td>0.000000</td>\n",
       "      <td>2023-06-21 04:43:40</td>\n",
       "    </tr>\n",
       "    <tr>\n",
       "      <th>25%</th>\n",
       "      <td>5.001090e+08</td>\n",
       "      <td>2.000000</td>\n",
       "      <td>14.000000</td>\n",
       "      <td>1.000000</td>\n",
       "      <td>7.000000</td>\n",
       "      <td>0.000000</td>\n",
       "      <td>0.000000</td>\n",
       "      <td>0.000000</td>\n",
       "      <td>23.479212</td>\n",
       "      <td>120.500780</td>\n",
       "      <td>1.000000</td>\n",
       "      <td>2024-01-04 10:52:17</td>\n",
       "    </tr>\n",
       "    <tr>\n",
       "      <th>50%</th>\n",
       "      <td>5.003041e+08</td>\n",
       "      <td>2.000000</td>\n",
       "      <td>18.000000</td>\n",
       "      <td>5.000000</td>\n",
       "      <td>11.000000</td>\n",
       "      <td>0.000000</td>\n",
       "      <td>4.000000</td>\n",
       "      <td>0.000000</td>\n",
       "      <td>24.939500</td>\n",
       "      <td>121.223400</td>\n",
       "      <td>1.000000</td>\n",
       "      <td>2024-01-04 10:52:17</td>\n",
       "    </tr>\n",
       "    <tr>\n",
       "      <th>75%</th>\n",
       "      <td>5.010011e+08</td>\n",
       "      <td>2.000000</td>\n",
       "      <td>25.000000</td>\n",
       "      <td>9.000000</td>\n",
       "      <td>18.000000</td>\n",
       "      <td>0.000000</td>\n",
       "      <td>8.000000</td>\n",
       "      <td>0.000000</td>\n",
       "      <td>25.032600</td>\n",
       "      <td>121.484955</td>\n",
       "      <td>1.000000</td>\n",
       "      <td>2024-01-04 10:52:17</td>\n",
       "    </tr>\n",
       "    <tr>\n",
       "      <th>max</th>\n",
       "      <td>5.082010e+08</td>\n",
       "      <td>2.000000</td>\n",
       "      <td>106.000000</td>\n",
       "      <td>80.000000</td>\n",
       "      <td>98.000000</td>\n",
       "      <td>59.000000</td>\n",
       "      <td>80.000000</td>\n",
       "      <td>17.000000</td>\n",
       "      <td>25.293010</td>\n",
       "      <td>122.000000</td>\n",
       "      <td>5.000000</td>\n",
       "      <td>2024-01-04 10:52:20</td>\n",
       "    </tr>\n",
       "    <tr>\n",
       "      <th>std</th>\n",
       "      <td>1.718451e+08</td>\n",
       "      <td>0.343253</td>\n",
       "      <td>11.554128</td>\n",
       "      <td>6.637806</td>\n",
       "      <td>10.722098</td>\n",
       "      <td>3.316169</td>\n",
       "      <td>6.422332</td>\n",
       "      <td>0.723277</td>\n",
       "      <td>1.525511</td>\n",
       "      <td>6.134469</td>\n",
       "      <td>0.429498</td>\n",
       "      <td>NaN</td>\n",
       "    </tr>\n",
       "  </tbody>\n",
       "</table>\n",
       "</div>"
      ],
      "text/plain": [
       "                 id         type        space         full        empty  \\\n",
       "count  7.719000e+03  7719.000000  7719.000000  7719.000000  7719.000000   \n",
       "mean   4.323405e+08     1.863583    20.992357     6.488535    13.332556   \n",
       "min    1.001000e+03     1.000000     0.000000     0.000000    -5.000000   \n",
       "25%    5.001090e+08     2.000000    14.000000     1.000000     7.000000   \n",
       "50%    5.003041e+08     2.000000    18.000000     5.000000    11.000000   \n",
       "75%    5.010011e+08     2.000000    25.000000     9.000000    18.000000   \n",
       "max    5.082010e+08     2.000000   106.000000    80.000000    98.000000   \n",
       "std    1.718451e+08     0.343253    11.554128     6.637806    10.722098   \n",
       "\n",
       "          bike_yb1     bike_yb2     bike_eyb          lat          lng  \\\n",
       "count  7719.000000  7719.000000  7719.000000  7719.000000  7719.000000   \n",
       "mean      0.851017     5.453815     0.183703    24.235829   120.694232   \n",
       "min       0.000000     0.000000     0.000000     0.000000     0.000000   \n",
       "25%       0.000000     0.000000     0.000000    23.479212   120.500780   \n",
       "50%       0.000000     4.000000     0.000000    24.939500   121.223400   \n",
       "75%       0.000000     8.000000     0.000000    25.032600   121.484955   \n",
       "max      59.000000    80.000000    17.000000    25.293010   122.000000   \n",
       "std       3.316169     6.422332     0.723277     1.525511     6.134469   \n",
       "\n",
       "           is_open                             ts  \n",
       "count  7719.000000                           7719  \n",
       "mean      0.979401  2024-01-04 07:38:00.498510336  \n",
       "min       0.000000            2023-06-21 04:43:40  \n",
       "25%       1.000000            2024-01-04 10:52:17  \n",
       "50%       1.000000            2024-01-04 10:52:17  \n",
       "75%       1.000000            2024-01-04 10:52:17  \n",
       "max       5.000000            2024-01-04 10:52:20  \n",
       "std       0.429498                            NaN  "
      ]
     },
     "execution_count": 42,
     "metadata": {},
     "output_type": "execute_result"
    }
   ],
   "source": [
    "main_df_num.describe()"
   ]
  },
  {
   "cell_type": "markdown",
   "id": "6bc567dc-5e02-4442-b5dd-be1455832490",
   "metadata": {},
   "source": [
    "**Observations**\n",
    "- Empty has negative values\n",
    "- Some long/lat coordinates are outside of Taiwan\n",
    "- Some ts shows stale data (many days older than latest ts)"
   ]
  },
  {
   "cell_type": "code",
   "execution_count": null,
   "id": "69a82a3f-1408-4a40-a172-3d6d57ecf20b",
   "metadata": {},
   "outputs": [],
   "source": [
    "main_df.drop(main_df[main_df[\"empty\"] < 0"
   ]
  },
  {
   "cell_type": "code",
   "execution_count": 43,
   "id": "0875be75-f2aa-4d41-8d14-26b727cc054a",
   "metadata": {
    "tags": []
   },
   "outputs": [
    {
     "data": {
      "text/plain": [
       "Index(['id', 'type', 'space', 'full', 'empty', 'bike_yb1', 'bike_yb2',\n",
       "       'bike_eyb', 'lat', 'lng', 'is_open', 'ts'],\n",
       "      dtype='object')"
      ]
     },
     "execution_count": 43,
     "metadata": {},
     "output_type": "execute_result"
    }
   ],
   "source": [
    "main_df_num.columns"
   ]
  },
  {
   "cell_type": "code",
   "execution_count": 51,
   "id": "2d15f7f6-5bd6-467d-ab71-82e97991fc7b",
   "metadata": {
    "tags": []
   },
   "outputs": [],
   "source": [
    "%matplotlib inline"
   ]
  },
  {
   "cell_type": "code",
   "execution_count": 55,
   "id": "e4e6eb0a-376c-4cf1-bc2b-ed39bdbd8806",
   "metadata": {
    "tags": []
   },
   "outputs": [
    {
     "data": {
      "image/png": "[encoded data removed]",
      "text/plain": [
       "<Figure size 500x500 with 1 Axes>"
      ]
     },
     "metadata": {},
     "output_type": "display_data"
    },
    {
     "data": {
      "image/png": "[encoded data removed]",
      "text/plain": [
       "<Figure size 500x500 with 1 Axes>"
      ]
     },
     "metadata": {},
     "output_type": "display_data"
    },
    {
     "data": {
      "image/png": "[encoded data removed]",
      "text/plain": [
       "<Figure size 500x500 with 1 Axes>"
      ]
     },
     "metadata": {},
     "output_type": "display_data"
    },
    {
     "data": {
      "image/png": "[encoded data removed]",
      "text/plain": [
       "<Figure size 500x500 with 1 Axes>"
      ]
     },
     "metadata": {},
     "output_type": "display_data"
    },
    {
     "data": {
      "image/png": "[encoded data removed]",
      "text/plain": [
       "<Figure size 500x500 with 1 Axes>"
      ]
     },
     "metadata": {},
     "output_type": "display_data"
    },
    {
     "data": {
      "image/png": "[encoded data removed]",
      "text/plain": [
       "<Figure size 500x500 with 1 Axes>"
      ]
     },
     "metadata": {},
     "output_type": "display_data"
    },
    {
     "data": {
      "image/png": "[encoded data removed]",
      "text/plain": [
       "<Figure size 500x500 with 1 Axes>"
      ]
     },
     "metadata": {},
     "output_type": "display_data"
    },
    {
     "data": {
      "image/png": "[encoded data removed]",
      "text/plain": [
       "<Figure size 500x500 with 1 Axes>"
      ]
     },
     "metadata": {},
     "output_type": "display_data"
    },
    {
     "data": {
      "image/png": "[encoded data removed]",
      "text/plain": [
       "<Figure size 500x500 with 1 Axes>"
      ]
     },
     "metadata": {},
     "output_type": "display_data"
    },
    {
     "data": {
      "image/png": "[encoded data removed]",
      "text/plain": [
       "<Figure size 500x500 with 1 Axes>"
      ]
     },
     "metadata": {},
     "output_type": "display_data"
    },
    {
     "data": {
      "image/png": "[encoded data removed]",
      "text/plain": [
       "<Figure size 500x500 with 1 Axes>"
      ]
     },
     "metadata": {},
     "output_type": "display_data"
    },
    {
     "data": {
      "image/png": "[encoded data removed]",
      "text/plain": [
       "<Figure size 500x500 with 1 Axes>"
      ]
     },
     "metadata": {},
     "output_type": "display_data"
    }
   ],
   "source": [
    "for col in main_df_num.columns:\n",
    "    sns.catplot(kind=\"box\", x=col, data=main_df_num)"
   ]
  },
  {
   "cell_type": "markdown",
   "id": "120fea4f-4d98-4494-a212-b301333d61bf",
   "metadata": {},
   "source": [
    "# Clean Data"
   ]
  },
  {
   "cell_type": "code",
   "execution_count": 85,
   "id": "8bca0d73-208d-4a5c-b3de-c2cfbb8bb703",
   "metadata": {
    "tags": []
   },
   "outputs": [],
   "source": [
    "city_name_glossary = {\"新北市\": \"XinBeiShi\",\n",
    "                      \"台北市\": \"TaiBeiShi\",\n",
    "                      \"台中市\":\"TaiZhongShi\",\n",
    "                      \"高雄市\":\"KaoXiongShi\",\n",
    "                      \"桃園市\":\"TaoYuanShi\",\n",
    "                      \"臺南市\": \"TaiNanShi\",\n",
    "                      \"嘉義市\": \"JiaYiShi\",\n",
    "                      \"屏東縣\": \"PingDongXian\",\n",
    "                      \"新竹市\": \"XinZhuShi\",\n",
    "                      \"新竹縣\": \"XinZhuXian\",\n",
    "                      \"苗栗縣\" : \"MiaoLiXian\",\n",
    "                      \"新竹科學工業園區\": \"XinZhuKeXueGong\"}  "
   ]
  },
  {
   "cell_type": "code",
   "execution_count": 35,
   "id": "6b5013f2-8701-4366-a689-a62edef4b6e2",
   "metadata": {
    "tags": []
   },
   "outputs": [],
   "source": []
  },
  {
   "cell_type": "markdown",
   "id": "a4115b09-88ff-41bb-9fa5-2f49e39eb424",
   "metadata": {},
   "source": [
    "#### Discard irrelevant data"
   ]
  },
  {
   "cell_type": "code",
   "execution_count": 174,
   "id": "4896a38d-246f-4f98-9198-f555f340c133",
   "metadata": {
    "tags": []
   },
   "outputs": [
    {
     "data": {
      "text/plain": [
       "(7833, 17)"
      ]
     },
     "execution_count": 174,
     "metadata": {},
     "output_type": "execute_result"
    }
   ],
   "source": [
    "main_df.shape"
   ]
  },
  {
   "cell_type": "code",
   "execution_count": 175,
   "id": "c889703d-23c5-4ef4-bd56-64d4a9f4090d",
   "metadata": {
    "tags": []
   },
   "outputs": [],
   "source": [
    "discard_mask = (\n",
    "    (main_df[\"city\"].isna()) #Bike stations where city is NaN are considered deprecated & removed\n",
    "    | (main_df[\"space\"] < 1) #Bike stations where space is null are discarded\n",
    "    | (main_df[\"empty\"] < 0) \n",
    "    | (main_df[\"full\"] < 0)\n",
    "    | (main_df[\"bike_yb1\"] < 0)\n",
    "    | (main_df[\"bike_yb2\"] < 0)\n",
    "    | (main_df[\"bike_eyb\"] < 0)\n",
    "               )\n",
    "\n",
    "main_df.drop(main_df[discard_mask == True].index, inplace=True)"
   ]
  },
  {
   "cell_type": "markdown",
   "id": "8424507d-2433-479d-9fea-952522e139a1",
   "metadata": {
    "tags": []
   },
   "source": [
    "#### Format data"
   ]
  },
  {
   "cell_type": "code",
   "execution_count": 181,
   "id": "c790acd5-91e2-4bcd-b6a5-15e0f5eb30b2",
   "metadata": {
    "tags": []
   },
   "outputs": [
    {
     "ename": "KeyError",
     "evalue": "'TaiBeiShi'",
     "output_type": "error",
     "traceback": [
      "\u001b[0;31m---------------------------------------------------------------------------\u001b[0m",
      "\u001b[0;31mKeyError\u001b[0m                                  Traceback (most recent call last)",
      "Cell \u001b[0;32mIn[181], line 3\u001b[0m\n\u001b[1;32m      1\u001b[0m \u001b[38;5;66;03m#TODO Need to catch KeyError and set default value. \u001b[39;00m\n\u001b[0;32m----> 3\u001b[0m main_df[\u001b[38;5;124m\"\u001b[39m\u001b[38;5;124mcity\u001b[39m\u001b[38;5;124m\"\u001b[39m] \u001b[38;5;241m=\u001b[39m \u001b[43mmain_df\u001b[49m\u001b[38;5;241;43m.\u001b[39;49m\u001b[43mapply\u001b[49m\u001b[43m(\u001b[49m\u001b[38;5;28;43;01mlambda\u001b[39;49;00m\u001b[43m \u001b[49m\u001b[43mx\u001b[49m\u001b[43m:\u001b[49m\u001b[43m \u001b[49m\u001b[43mcity_name_glossary\u001b[49m\u001b[43m[\u001b[49m\u001b[43mx\u001b[49m\u001b[43m[\u001b[49m\u001b[38;5;124;43m\"\u001b[39;49m\u001b[38;5;124;43mcity\u001b[39;49m\u001b[38;5;124;43m\"\u001b[39;49m\u001b[43m]\u001b[49m\u001b[43m]\u001b[49m\u001b[43m,\u001b[49m\u001b[43m \u001b[49m\u001b[43maxis\u001b[49m\u001b[38;5;241;43m=\u001b[39;49m\u001b[38;5;241;43m1\u001b[39;49m\u001b[43m)\u001b[49m\n\u001b[1;32m      5\u001b[0m \u001b[38;5;66;03m#place_id seems unused\u001b[39;00m\n\u001b[1;32m      6\u001b[0m main_df\u001b[38;5;241m.\u001b[39mdrop(labels\u001b[38;5;241m=\u001b[39m[\u001b[38;5;124m\"\u001b[39m\u001b[38;5;124mplace_id\u001b[39m\u001b[38;5;124m\"\u001b[39m, \u001b[38;5;124m\"\u001b[39m\u001b[38;5;124mname\u001b[39m\u001b[38;5;124m\"\u001b[39m, \u001b[38;5;124m\"\u001b[39m\u001b[38;5;124marea\u001b[39m\u001b[38;5;124m\"\u001b[39m, \u001b[38;5;124m\"\u001b[39m\u001b[38;5;124maddress\u001b[39m\u001b[38;5;124m\"\u001b[39m], axis\u001b[38;5;241m=\u001b[39m\u001b[38;5;241m1\u001b[39m, inplace\u001b[38;5;241m=\u001b[39m\u001b[38;5;28;01mTrue\u001b[39;00m)\n",
      "File \u001b[0;32m~/miniconda/lib/python3.10/site-packages/pandas/core/frame.py:10034\u001b[0m, in \u001b[0;36mDataFrame.apply\u001b[0;34m(self, func, axis, raw, result_type, args, by_row, **kwargs)\u001b[0m\n\u001b[1;32m  10022\u001b[0m \u001b[38;5;28;01mfrom\u001b[39;00m \u001b[38;5;21;01mpandas\u001b[39;00m\u001b[38;5;21;01m.\u001b[39;00m\u001b[38;5;21;01mcore\u001b[39;00m\u001b[38;5;21;01m.\u001b[39;00m\u001b[38;5;21;01mapply\u001b[39;00m \u001b[38;5;28;01mimport\u001b[39;00m frame_apply\n\u001b[1;32m  10024\u001b[0m op \u001b[38;5;241m=\u001b[39m frame_apply(\n\u001b[1;32m  10025\u001b[0m     \u001b[38;5;28mself\u001b[39m,\n\u001b[1;32m  10026\u001b[0m     func\u001b[38;5;241m=\u001b[39mfunc,\n\u001b[0;32m   (...)\u001b[0m\n\u001b[1;32m  10032\u001b[0m     kwargs\u001b[38;5;241m=\u001b[39mkwargs,\n\u001b[1;32m  10033\u001b[0m )\n\u001b[0;32m> 10034\u001b[0m \u001b[38;5;28;01mreturn\u001b[39;00m \u001b[43mop\u001b[49m\u001b[38;5;241;43m.\u001b[39;49m\u001b[43mapply\u001b[49m\u001b[43m(\u001b[49m\u001b[43m)\u001b[49m\u001b[38;5;241m.\u001b[39m__finalize__(\u001b[38;5;28mself\u001b[39m, method\u001b[38;5;241m=\u001b[39m\u001b[38;5;124m\"\u001b[39m\u001b[38;5;124mapply\u001b[39m\u001b[38;5;124m\"\u001b[39m)\n",
      "File \u001b[0;32m~/miniconda/lib/python3.10/site-packages/pandas/core/apply.py:837\u001b[0m, in \u001b[0;36mFrameApply.apply\u001b[0;34m(self)\u001b[0m\n\u001b[1;32m    834\u001b[0m \u001b[38;5;28;01melif\u001b[39;00m \u001b[38;5;28mself\u001b[39m\u001b[38;5;241m.\u001b[39mraw:\n\u001b[1;32m    835\u001b[0m     \u001b[38;5;28;01mreturn\u001b[39;00m \u001b[38;5;28mself\u001b[39m\u001b[38;5;241m.\u001b[39mapply_raw()\n\u001b[0;32m--> 837\u001b[0m \u001b[38;5;28;01mreturn\u001b[39;00m \u001b[38;5;28;43mself\u001b[39;49m\u001b[38;5;241;43m.\u001b[39;49m\u001b[43mapply_standard\u001b[49m\u001b[43m(\u001b[49m\u001b[43m)\u001b[49m\n",
      "File \u001b[0;32m~/miniconda/lib/python3.10/site-packages/pandas/core/apply.py:965\u001b[0m, in \u001b[0;36mFrameApply.apply_standard\u001b[0;34m(self)\u001b[0m\n\u001b[1;32m    964\u001b[0m \u001b[38;5;28;01mdef\u001b[39;00m \u001b[38;5;21mapply_standard\u001b[39m(\u001b[38;5;28mself\u001b[39m):\n\u001b[0;32m--> 965\u001b[0m     results, res_index \u001b[38;5;241m=\u001b[39m \u001b[38;5;28;43mself\u001b[39;49m\u001b[38;5;241;43m.\u001b[39;49m\u001b[43mapply_series_generator\u001b[49m\u001b[43m(\u001b[49m\u001b[43m)\u001b[49m\n\u001b[1;32m    967\u001b[0m     \u001b[38;5;66;03m# wrap results\u001b[39;00m\n\u001b[1;32m    968\u001b[0m     \u001b[38;5;28;01mreturn\u001b[39;00m \u001b[38;5;28mself\u001b[39m\u001b[38;5;241m.\u001b[39mwrap_results(results, res_index)\n",
      "File \u001b[0;32m~/miniconda/lib/python3.10/site-packages/pandas/core/apply.py:981\u001b[0m, in \u001b[0;36mFrameApply.apply_series_generator\u001b[0;34m(self)\u001b[0m\n\u001b[1;32m    978\u001b[0m \u001b[38;5;28;01mwith\u001b[39;00m option_context(\u001b[38;5;124m\"\u001b[39m\u001b[38;5;124mmode.chained_assignment\u001b[39m\u001b[38;5;124m\"\u001b[39m, \u001b[38;5;28;01mNone\u001b[39;00m):\n\u001b[1;32m    979\u001b[0m     \u001b[38;5;28;01mfor\u001b[39;00m i, v \u001b[38;5;129;01min\u001b[39;00m \u001b[38;5;28menumerate\u001b[39m(series_gen):\n\u001b[1;32m    980\u001b[0m         \u001b[38;5;66;03m# ignore SettingWithCopy here in case the user mutates\u001b[39;00m\n\u001b[0;32m--> 981\u001b[0m         results[i] \u001b[38;5;241m=\u001b[39m \u001b[38;5;28;43mself\u001b[39;49m\u001b[38;5;241;43m.\u001b[39;49m\u001b[43mfunc\u001b[49m\u001b[43m(\u001b[49m\u001b[43mv\u001b[49m\u001b[43m,\u001b[49m\u001b[43m \u001b[49m\u001b[38;5;241;43m*\u001b[39;49m\u001b[38;5;28;43mself\u001b[39;49m\u001b[38;5;241;43m.\u001b[39;49m\u001b[43margs\u001b[49m\u001b[43m,\u001b[49m\u001b[43m \u001b[49m\u001b[38;5;241;43m*\u001b[39;49m\u001b[38;5;241;43m*\u001b[39;49m\u001b[38;5;28;43mself\u001b[39;49m\u001b[38;5;241;43m.\u001b[39;49m\u001b[43mkwargs\u001b[49m\u001b[43m)\u001b[49m\n\u001b[1;32m    982\u001b[0m         \u001b[38;5;28;01mif\u001b[39;00m \u001b[38;5;28misinstance\u001b[39m(results[i], ABCSeries):\n\u001b[1;32m    983\u001b[0m             \u001b[38;5;66;03m# If we have a view on v, we need to make a copy because\u001b[39;00m\n\u001b[1;32m    984\u001b[0m             \u001b[38;5;66;03m#  series_generator will swap out the underlying data\u001b[39;00m\n\u001b[1;32m    985\u001b[0m             results[i] \u001b[38;5;241m=\u001b[39m results[i]\u001b[38;5;241m.\u001b[39mcopy(deep\u001b[38;5;241m=\u001b[39m\u001b[38;5;28;01mFalse\u001b[39;00m)\n",
      "Cell \u001b[0;32mIn[181], line 3\u001b[0m, in \u001b[0;36m<lambda>\u001b[0;34m(x)\u001b[0m\n\u001b[1;32m      1\u001b[0m \u001b[38;5;66;03m#TODO Need to catch KeyError and set default value. \u001b[39;00m\n\u001b[0;32m----> 3\u001b[0m main_df[\u001b[38;5;124m\"\u001b[39m\u001b[38;5;124mcity\u001b[39m\u001b[38;5;124m\"\u001b[39m] \u001b[38;5;241m=\u001b[39m main_df\u001b[38;5;241m.\u001b[39mapply(\u001b[38;5;28;01mlambda\u001b[39;00m x: \u001b[43mcity_name_glossary\u001b[49m\u001b[43m[\u001b[49m\u001b[43mx\u001b[49m\u001b[43m[\u001b[49m\u001b[38;5;124;43m\"\u001b[39;49m\u001b[38;5;124;43mcity\u001b[39;49m\u001b[38;5;124;43m\"\u001b[39;49m\u001b[43m]\u001b[49m\u001b[43m]\u001b[49m, axis\u001b[38;5;241m=\u001b[39m\u001b[38;5;241m1\u001b[39m)\n\u001b[1;32m      5\u001b[0m \u001b[38;5;66;03m#place_id seems unused\u001b[39;00m\n\u001b[1;32m      6\u001b[0m main_df\u001b[38;5;241m.\u001b[39mdrop(labels\u001b[38;5;241m=\u001b[39m[\u001b[38;5;124m\"\u001b[39m\u001b[38;5;124mplace_id\u001b[39m\u001b[38;5;124m\"\u001b[39m, \u001b[38;5;124m\"\u001b[39m\u001b[38;5;124mname\u001b[39m\u001b[38;5;124m\"\u001b[39m, \u001b[38;5;124m\"\u001b[39m\u001b[38;5;124marea\u001b[39m\u001b[38;5;124m\"\u001b[39m, \u001b[38;5;124m\"\u001b[39m\u001b[38;5;124maddress\u001b[39m\u001b[38;5;124m\"\u001b[39m], axis\u001b[38;5;241m=\u001b[39m\u001b[38;5;241m1\u001b[39m, inplace\u001b[38;5;241m=\u001b[39m\u001b[38;5;28;01mTrue\u001b[39;00m)\n",
      "\u001b[0;31mKeyError\u001b[0m: 'TaiBeiShi'"
     ]
    }
   ],
   "source": []
  },
  {
   "cell_type": "code",
   "execution_count": 180,
   "id": "652934c9-2e69-40e1-a60c-97dc51ea2086",
   "metadata": {
    "tags": []
   },
   "outputs": [
    {
     "data": {
      "text/html": [
       "<div>\n",
       "<style scoped>\n",
       "    .dataframe tbody tr th:only-of-type {\n",
       "        vertical-align: middle;\n",
       "    }\n",
       "\n",
       "    .dataframe tbody tr th {\n",
       "        vertical-align: top;\n",
       "    }\n",
       "\n",
       "    .dataframe thead th {\n",
       "        text-align: right;\n",
       "    }\n",
       "</style>\n",
       "<table border=\"1\" class=\"dataframe\">\n",
       "  <thead>\n",
       "    <tr style=\"text-align: right;\">\n",
       "      <th></th>\n",
       "      <th>id</th>\n",
       "      <th>type</th>\n",
       "      <th>space</th>\n",
       "      <th>full</th>\n",
       "      <th>empty</th>\n",
       "      <th>bike_yb1</th>\n",
       "      <th>bike_yb2</th>\n",
       "      <th>bike_eyb</th>\n",
       "      <th>city</th>\n",
       "      <th>lat</th>\n",
       "      <th>lng</th>\n",
       "      <th>is_open</th>\n",
       "      <th>updated_at</th>\n",
       "    </tr>\n",
       "  </thead>\n",
       "  <tbody>\n",
       "    <tr>\n",
       "      <th>0</th>\n",
       "      <td>500101230</td>\n",
       "      <td>2</td>\n",
       "      <td>20</td>\n",
       "      <td>3</td>\n",
       "      <td>17</td>\n",
       "      <td>0</td>\n",
       "      <td>3</td>\n",
       "      <td>0</td>\n",
       "      <td>TaiBeiShi</td>\n",
       "      <td>25.030560</td>\n",
       "      <td>121.55252</td>\n",
       "      <td>1</td>\n",
       "      <td>1704012256</td>\n",
       "    </tr>\n",
       "    <tr>\n",
       "      <th>1</th>\n",
       "      <td>500312003</td>\n",
       "      <td>2</td>\n",
       "      <td>17</td>\n",
       "      <td>0</td>\n",
       "      <td>0</td>\n",
       "      <td>0</td>\n",
       "      <td>0</td>\n",
       "      <td>0</td>\n",
       "      <td>TaoYuanShi</td>\n",
       "      <td>25.050730</td>\n",
       "      <td>121.29371</td>\n",
       "      <td>0</td>\n",
       "      <td>1704012256</td>\n",
       "    </tr>\n",
       "    <tr>\n",
       "      <th>2</th>\n",
       "      <td>500304097</td>\n",
       "      <td>2</td>\n",
       "      <td>9</td>\n",
       "      <td>0</td>\n",
       "      <td>0</td>\n",
       "      <td>0</td>\n",
       "      <td>0</td>\n",
       "      <td>0</td>\n",
       "      <td>TaoYuanShi</td>\n",
       "      <td>24.958230</td>\n",
       "      <td>121.22700</td>\n",
       "      <td>0</td>\n",
       "      <td>1704012256</td>\n",
       "    </tr>\n",
       "    <tr>\n",
       "      <th>3</th>\n",
       "      <td>500304085</td>\n",
       "      <td>2</td>\n",
       "      <td>14</td>\n",
       "      <td>0</td>\n",
       "      <td>0</td>\n",
       "      <td>0</td>\n",
       "      <td>0</td>\n",
       "      <td>0</td>\n",
       "      <td>TaoYuanShi</td>\n",
       "      <td>25.012420</td>\n",
       "      <td>121.21522</td>\n",
       "      <td>0</td>\n",
       "      <td>1704012256</td>\n",
       "    </tr>\n",
       "    <tr>\n",
       "      <th>4</th>\n",
       "      <td>500304048</td>\n",
       "      <td>2</td>\n",
       "      <td>10</td>\n",
       "      <td>0</td>\n",
       "      <td>0</td>\n",
       "      <td>0</td>\n",
       "      <td>0</td>\n",
       "      <td>0</td>\n",
       "      <td>TaoYuanShi</td>\n",
       "      <td>24.944850</td>\n",
       "      <td>121.22283</td>\n",
       "      <td>0</td>\n",
       "      <td>1704012256</td>\n",
       "    </tr>\n",
       "    <tr>\n",
       "      <th>...</th>\n",
       "      <td>...</td>\n",
       "      <td>...</td>\n",
       "      <td>...</td>\n",
       "      <td>...</td>\n",
       "      <td>...</td>\n",
       "      <td>...</td>\n",
       "      <td>...</td>\n",
       "      <td>...</td>\n",
       "      <td>...</td>\n",
       "      <td>...</td>\n",
       "      <td>...</td>\n",
       "      <td>...</td>\n",
       "      <td>...</td>\n",
       "    </tr>\n",
       "    <tr>\n",
       "      <th>7828</th>\n",
       "      <td>1673</td>\n",
       "      <td>1</td>\n",
       "      <td>14</td>\n",
       "      <td>0</td>\n",
       "      <td>14</td>\n",
       "      <td>0</td>\n",
       "      <td>0</td>\n",
       "      <td>0</td>\n",
       "      <td>XinBeiShi</td>\n",
       "      <td>24.997780</td>\n",
       "      <td>121.51968</td>\n",
       "      <td>1</td>\n",
       "      <td>1704012209</td>\n",
       "    </tr>\n",
       "    <tr>\n",
       "      <th>7829</th>\n",
       "      <td>1674</td>\n",
       "      <td>1</td>\n",
       "      <td>22</td>\n",
       "      <td>3</td>\n",
       "      <td>19</td>\n",
       "      <td>3</td>\n",
       "      <td>0</td>\n",
       "      <td>0</td>\n",
       "      <td>XinBeiShi</td>\n",
       "      <td>25.024020</td>\n",
       "      <td>121.46828</td>\n",
       "      <td>1</td>\n",
       "      <td>1704012214</td>\n",
       "    </tr>\n",
       "    <tr>\n",
       "      <th>7830</th>\n",
       "      <td>1675</td>\n",
       "      <td>1</td>\n",
       "      <td>24</td>\n",
       "      <td>4</td>\n",
       "      <td>20</td>\n",
       "      <td>4</td>\n",
       "      <td>0</td>\n",
       "      <td>0</td>\n",
       "      <td>XinBeiShi</td>\n",
       "      <td>25.005590</td>\n",
       "      <td>121.48921</td>\n",
       "      <td>1</td>\n",
       "      <td>1704012223</td>\n",
       "    </tr>\n",
       "    <tr>\n",
       "      <th>7831</th>\n",
       "      <td>1676</td>\n",
       "      <td>1</td>\n",
       "      <td>14</td>\n",
       "      <td>0</td>\n",
       "      <td>13</td>\n",
       "      <td>0</td>\n",
       "      <td>0</td>\n",
       "      <td>0</td>\n",
       "      <td>XinBeiShi</td>\n",
       "      <td>24.939500</td>\n",
       "      <td>121.33867</td>\n",
       "      <td>1</td>\n",
       "      <td>1704012198</td>\n",
       "    </tr>\n",
       "    <tr>\n",
       "      <th>7832</th>\n",
       "      <td>1678</td>\n",
       "      <td>1</td>\n",
       "      <td>44</td>\n",
       "      <td>3</td>\n",
       "      <td>39</td>\n",
       "      <td>3</td>\n",
       "      <td>0</td>\n",
       "      <td>0</td>\n",
       "      <td>XinBeiShi</td>\n",
       "      <td>24.983819</td>\n",
       "      <td>121.52833</td>\n",
       "      <td>1</td>\n",
       "      <td>1704012203</td>\n",
       "    </tr>\n",
       "  </tbody>\n",
       "</table>\n",
       "<p>7615 rows × 13 columns</p>\n",
       "</div>"
      ],
      "text/plain": [
       "             id  type  space  full  empty  bike_yb1  bike_yb2  bike_eyb  \\\n",
       "0     500101230     2     20     3     17         0         3         0   \n",
       "1     500312003     2     17     0      0         0         0         0   \n",
       "2     500304097     2      9     0      0         0         0         0   \n",
       "3     500304085     2     14     0      0         0         0         0   \n",
       "4     500304048     2     10     0      0         0         0         0   \n",
       "...         ...   ...    ...   ...    ...       ...       ...       ...   \n",
       "7828       1673     1     14     0     14         0         0         0   \n",
       "7829       1674     1     22     3     19         3         0         0   \n",
       "7830       1675     1     24     4     20         4         0         0   \n",
       "7831       1676     1     14     0     13         0         0         0   \n",
       "7832       1678     1     44     3     39         3         0         0   \n",
       "\n",
       "            city        lat        lng  is_open  updated_at  \n",
       "0      TaiBeiShi  25.030560  121.55252        1  1704012256  \n",
       "1     TaoYuanShi  25.050730  121.29371        0  1704012256  \n",
       "2     TaoYuanShi  24.958230  121.22700        0  1704012256  \n",
       "3     TaoYuanShi  25.012420  121.21522        0  1704012256  \n",
       "4     TaoYuanShi  24.944850  121.22283        0  1704012256  \n",
       "...          ...        ...        ...      ...         ...  \n",
       "7828   XinBeiShi  24.997780  121.51968        1  1704012209  \n",
       "7829   XinBeiShi  25.024020  121.46828        1  1704012214  \n",
       "7830   XinBeiShi  25.005590  121.48921        1  1704012223  \n",
       "7831   XinBeiShi  24.939500  121.33867        1  1704012198  \n",
       "7832   XinBeiShi  24.983819  121.52833        1  1704012203  \n",
       "\n",
       "[7615 rows x 13 columns]"
      ]
     },
     "execution_count": 180,
     "metadata": {},
     "output_type": "execute_result"
    }
   ],
   "source": [
    "main_df"
   ]
  },
  {
   "cell_type": "code",
   "execution_count": null,
   "id": "ff3cf3bd-3b8d-4da7-85ea-5bd2033ec181",
   "metadata": {},
   "outputs": [],
   "source": []
  },
  {
   "cell_type": "code",
   "execution_count": null,
   "id": "55d7d6d6-b87d-4967-8499-1c9ed85da7af",
   "metadata": {},
   "outputs": [],
   "source": []
  },
  {
   "cell_type": "markdown",
   "id": "26625a76-556a-416e-85d6-36edf09d51fe",
   "metadata": {},
   "source": [
    "# Analyze Data\n"
   ]
  },
  {
   "cell_type": "code",
   "execution_count": 29,
   "id": "38822a53-064c-4a12-bdd7-e0c64fe6c664",
   "metadata": {
    "tags": []
   },
   "outputs": [],
   "source": [
    "main_df_by_city = main_df.pivot_table(values=\"space\", index=\"city\", aggfunc=[\"sum\"])"
   ]
  },
  {
   "cell_type": "code",
   "execution_count": 30,
   "id": "aa6ddf2a-7b6a-4983-b036-6c48b4410ab0",
   "metadata": {
    "tags": []
   },
   "outputs": [
    {
     "data": {
      "text/html": [
       "<div>\n",
       "<style scoped>\n",
       "    .dataframe tbody tr th:only-of-type {\n",
       "        vertical-align: middle;\n",
       "    }\n",
       "\n",
       "    .dataframe tbody tr th {\n",
       "        vertical-align: top;\n",
       "    }\n",
       "\n",
       "    .dataframe thead tr th {\n",
       "        text-align: left;\n",
       "    }\n",
       "\n",
       "    .dataframe thead tr:last-of-type th {\n",
       "        text-align: right;\n",
       "    }\n",
       "</style>\n",
       "<table border=\"1\" class=\"dataframe\">\n",
       "  <thead>\n",
       "    <tr>\n",
       "      <th></th>\n",
       "      <th>sum</th>\n",
       "    </tr>\n",
       "    <tr>\n",
       "      <th></th>\n",
       "      <th>space</th>\n",
       "    </tr>\n",
       "    <tr>\n",
       "      <th>city</th>\n",
       "      <th></th>\n",
       "    </tr>\n",
       "  </thead>\n",
       "  <tbody>\n",
       "    <tr>\n",
       "      <th>XinZhuKeXueGong</th>\n",
       "      <td>740</td>\n",
       "    </tr>\n",
       "    <tr>\n",
       "      <th>XinZhuXian</th>\n",
       "      <td>1947</td>\n",
       "    </tr>\n",
       "    <tr>\n",
       "      <th>XinZhuShi</th>\n",
       "      <td>2468</td>\n",
       "    </tr>\n",
       "    <tr>\n",
       "      <th>JiaYiShi</th>\n",
       "      <td>2769</td>\n",
       "    </tr>\n",
       "    <tr>\n",
       "      <th>MiaoLiXian</th>\n",
       "      <td>2831</td>\n",
       "    </tr>\n",
       "    <tr>\n",
       "      <th>PingDongXian</th>\n",
       "      <td>2841</td>\n",
       "    </tr>\n",
       "    <tr>\n",
       "      <th>TaiNanShi</th>\n",
       "      <td>7953</td>\n",
       "    </tr>\n",
       "    <tr>\n",
       "      <th>TaoYuanShi</th>\n",
       "      <td>16817</td>\n",
       "    </tr>\n",
       "    <tr>\n",
       "      <th>KaoXiongShi</th>\n",
       "      <td>24467</td>\n",
       "    </tr>\n",
       "    <tr>\n",
       "      <th>TaiZhongShi</th>\n",
       "      <td>25681</td>\n",
       "    </tr>\n",
       "    <tr>\n",
       "      <th>TaiBeiShi</th>\n",
       "      <td>31223</td>\n",
       "    </tr>\n",
       "    <tr>\n",
       "      <th>XinBeiShi</th>\n",
       "      <td>42160</td>\n",
       "    </tr>\n",
       "  </tbody>\n",
       "</table>\n",
       "</div>"
      ],
      "text/plain": [
       "                   sum\n",
       "                 space\n",
       "city                  \n",
       "XinZhuKeXueGong    740\n",
       "XinZhuXian        1947\n",
       "XinZhuShi         2468\n",
       "JiaYiShi          2769\n",
       "MiaoLiXian        2831\n",
       "PingDongXian      2841\n",
       "TaiNanShi         7953\n",
       "TaoYuanShi       16817\n",
       "KaoXiongShi      24467\n",
       "TaiZhongShi      25681\n",
       "TaiBeiShi        31223\n",
       "XinBeiShi        42160"
      ]
     },
     "execution_count": 30,
     "metadata": {},
     "output_type": "execute_result"
    }
   ],
   "source": [
    "main_df_by_city.sort_values(by=(\"sum\",\"space\"))"
   ]
  },
  {
   "cell_type": "code",
   "execution_count": 31,
   "id": "47e68f7c-0f90-444b-9672-2ff3e7ff779d",
   "metadata": {
    "tags": []
   },
   "outputs": [
    {
     "data": {
      "image/png": "[encoded data removed]",
      "text/plain": [
       "<Figure size 640x480 with 1 Axes>"
      ]
     },
     "metadata": {},
     "output_type": "display_data"
    }
   ],
   "source": [
    "main_df_by_city.plot(kind=\"bar\", rot=45)\n",
    "plt.show()"
   ]
  },
  {
   "cell_type": "code",
   "execution_count": 32,
   "id": "7e0b8cf6-a8c6-4685-9968-0782d8b2b222",
   "metadata": {
    "tags": []
   },
   "outputs": [
    {
     "name": "stdout",
     "output_type": "stream",
     "text": [
      "is_open\n",
      "1          7090\n",
      "0           473\n",
      "2            84\n",
      "5            47\n",
      "3            10\n",
      "4             5\n",
      "Name: count, dtype: int64\n"
     ]
    }
   ],
   "source": [
    "print(main_df[[\"is_open\"]].value_counts())"
   ]
  },
  {
   "cell_type": "code",
   "execution_count": null,
   "id": "cb967482-1412-4942-8979-7c7856ce89a0",
   "metadata": {
    "tags": []
   },
   "outputs": [],
   "source": [
    "main_df[(main_df[\"is_open\"] == 0) & (main_df[\"empty\"] >0)].loc[:,\"type\":\"bike_eyb\"].describe()"
   ]
  },
  {
   "cell_type": "code",
   "execution_count": 47,
   "id": "d3be6cf4-2a40-41fa-95c8-264b83da8c6b",
   "metadata": {
    "tags": []
   },
   "outputs": [
    {
     "data": {
      "text/html": [
       "<div>\n",
       "<style scoped>\n",
       "    .dataframe tbody tr th:only-of-type {\n",
       "        vertical-align: middle;\n",
       "    }\n",
       "\n",
       "    .dataframe tbody tr th {\n",
       "        vertical-align: top;\n",
       "    }\n",
       "\n",
       "    .dataframe thead th {\n",
       "        text-align: right;\n",
       "    }\n",
       "</style>\n",
       "<table border=\"1\" class=\"dataframe\">\n",
       "  <thead>\n",
       "    <tr style=\"text-align: right;\">\n",
       "      <th></th>\n",
       "      <th>id</th>\n",
       "      <th>name</th>\n",
       "      <th>type</th>\n",
       "      <th>space</th>\n",
       "      <th>full</th>\n",
       "      <th>empty</th>\n",
       "      <th>bike_yb1</th>\n",
       "      <th>bike_yb2</th>\n",
       "      <th>bike_eyb</th>\n",
       "      <th>city</th>\n",
       "      <th>area</th>\n",
       "      <th>lat</th>\n",
       "      <th>lng</th>\n",
       "      <th>address</th>\n",
       "      <th>is_open</th>\n",
       "      <th>updated_at</th>\n",
       "    </tr>\n",
       "  </thead>\n",
       "  <tbody>\n",
       "    <tr>\n",
       "      <th>445</th>\n",
       "      <td>500399001</td>\n",
       "      <td>桃園維調(測試)</td>\n",
       "      <td>2</td>\n",
       "      <td>26</td>\n",
       "      <td>1</td>\n",
       "      <td>25</td>\n",
       "      <td>0</td>\n",
       "      <td>1</td>\n",
       "      <td>0</td>\n",
       "      <td>TaoYuanShi</td>\n",
       "      <td>維調區</td>\n",
       "      <td>24.594650</td>\n",
       "      <td>121.151120</td>\n",
       "      <td>桃園市中壢區內定三街170巷201-1號</td>\n",
       "      <td>5</td>\n",
       "      <td>1703922556</td>\n",
       "    </tr>\n",
       "    <tr>\n",
       "      <th>592</th>\n",
       "      <td>1702</td>\n",
       "      <td>成泰路4段22巷</td>\n",
       "      <td>1</td>\n",
       "      <td>16</td>\n",
       "      <td>0</td>\n",
       "      <td>16</td>\n",
       "      <td>0</td>\n",
       "      <td>0</td>\n",
       "      <td>0</td>\n",
       "      <td>XinBeiShi</td>\n",
       "      <td>五股區</td>\n",
       "      <td>25.108260</td>\n",
       "      <td>121.455960</td>\n",
       "      <td>成泰路4段22巷29號(對面)</td>\n",
       "      <td>2</td>\n",
       "      <td>1703922503</td>\n",
       "    </tr>\n",
       "    <tr>\n",
       "      <th>1015</th>\n",
       "      <td>500620021</td>\n",
       "      <td>大楓上楓社區活動中心</td>\n",
       "      <td>2</td>\n",
       "      <td>15</td>\n",
       "      <td>0</td>\n",
       "      <td>0</td>\n",
       "      <td>0</td>\n",
       "      <td>0</td>\n",
       "      <td>0</td>\n",
       "      <td>TaiZhongShi</td>\n",
       "      <td>大雅區</td>\n",
       "      <td>24.234454</td>\n",
       "      <td>120.666939</td>\n",
       "      <td>雅楓街106號(西南側)</td>\n",
       "      <td>2</td>\n",
       "      <td>1703922556</td>\n",
       "    </tr>\n",
       "    <tr>\n",
       "      <th>1045</th>\n",
       "      <td>500499002</td>\n",
       "      <td>新竹市服務中心</td>\n",
       "      <td>2</td>\n",
       "      <td>0</td>\n",
       "      <td>0</td>\n",
       "      <td>0</td>\n",
       "      <td>0</td>\n",
       "      <td>0</td>\n",
       "      <td>0</td>\n",
       "      <td>XinZhuShi</td>\n",
       "      <td>維調區</td>\n",
       "      <td>1.000000</td>\n",
       "      <td>1.000000</td>\n",
       "      <td>1</td>\n",
       "      <td>5</td>\n",
       "      <td>1703922556</td>\n",
       "    </tr>\n",
       "    <tr>\n",
       "      <th>1046</th>\n",
       "      <td>500299011</td>\n",
       "      <td>三重服務中心</td>\n",
       "      <td>2</td>\n",
       "      <td>1</td>\n",
       "      <td>1</td>\n",
       "      <td>0</td>\n",
       "      <td>0</td>\n",
       "      <td>1</td>\n",
       "      <td>0</td>\n",
       "      <td>XinBeiShi</td>\n",
       "      <td>新北維調區</td>\n",
       "      <td>1.000000</td>\n",
       "      <td>1.000000</td>\n",
       "      <td>1</td>\n",
       "      <td>5</td>\n",
       "      <td>1703922556</td>\n",
       "    </tr>\n",
       "    <tr>\n",
       "      <th>...</th>\n",
       "      <td>...</td>\n",
       "      <td>...</td>\n",
       "      <td>...</td>\n",
       "      <td>...</td>\n",
       "      <td>...</td>\n",
       "      <td>...</td>\n",
       "      <td>...</td>\n",
       "      <td>...</td>\n",
       "      <td>...</td>\n",
       "      <td>...</td>\n",
       "      <td>...</td>\n",
       "      <td>...</td>\n",
       "      <td>...</td>\n",
       "      <td>...</td>\n",
       "      <td>...</td>\n",
       "      <td>...</td>\n",
       "    </tr>\n",
       "    <tr>\n",
       "      <th>7416</th>\n",
       "      <td>1108</td>\n",
       "      <td>捷運板橋站(1號出口)</td>\n",
       "      <td>1</td>\n",
       "      <td>60</td>\n",
       "      <td>0</td>\n",
       "      <td>3</td>\n",
       "      <td>0</td>\n",
       "      <td>0</td>\n",
       "      <td>0</td>\n",
       "      <td>XinBeiShi</td>\n",
       "      <td>板橋區</td>\n",
       "      <td>25.013174</td>\n",
       "      <td>121.461900</td>\n",
       "      <td>縣民大道二段3號(秀泰影城門口)(鄰近板橋高鐵站)</td>\n",
       "      <td>2</td>\n",
       "      <td>1703922518</td>\n",
       "    </tr>\n",
       "    <tr>\n",
       "      <th>7434</th>\n",
       "      <td>1129</td>\n",
       "      <td>明志國小</td>\n",
       "      <td>1</td>\n",
       "      <td>64</td>\n",
       "      <td>0</td>\n",
       "      <td>0</td>\n",
       "      <td>0</td>\n",
       "      <td>0</td>\n",
       "      <td>0</td>\n",
       "      <td>XinBeiShi</td>\n",
       "      <td>泰山區</td>\n",
       "      <td>25.045729</td>\n",
       "      <td>121.426269</td>\n",
       "      <td>明志路二段324號對面人行道(鄰近明志書院)</td>\n",
       "      <td>2</td>\n",
       "      <td>1703922504</td>\n",
       "    </tr>\n",
       "    <tr>\n",
       "      <th>7586</th>\n",
       "      <td>1300</td>\n",
       "      <td>新北市政府(新站路)</td>\n",
       "      <td>1</td>\n",
       "      <td>30</td>\n",
       "      <td>0</td>\n",
       "      <td>4</td>\n",
       "      <td>0</td>\n",
       "      <td>0</td>\n",
       "      <td>0</td>\n",
       "      <td>XinBeiShi</td>\n",
       "      <td>板橋區</td>\n",
       "      <td>25.012614</td>\n",
       "      <td>121.466455</td>\n",
       "      <td>中山路一段161號(東側出口)(鄰近新北市市民廣場)</td>\n",
       "      <td>2</td>\n",
       "      <td>1703922517</td>\n",
       "    </tr>\n",
       "    <tr>\n",
       "      <th>7697</th>\n",
       "      <td>1437</td>\n",
       "      <td>成州國小</td>\n",
       "      <td>1</td>\n",
       "      <td>12</td>\n",
       "      <td>0</td>\n",
       "      <td>12</td>\n",
       "      <td>0</td>\n",
       "      <td>0</td>\n",
       "      <td>0</td>\n",
       "      <td>XinBeiShi</td>\n",
       "      <td>五股區</td>\n",
       "      <td>25.099230</td>\n",
       "      <td>121.450630</td>\n",
       "      <td>成泰路三段493號(東側)</td>\n",
       "      <td>2</td>\n",
       "      <td>1703922509</td>\n",
       "    </tr>\n",
       "    <tr>\n",
       "      <th>7711</th>\n",
       "      <td>1452</td>\n",
       "      <td>藍天大樓</td>\n",
       "      <td>1</td>\n",
       "      <td>16</td>\n",
       "      <td>0</td>\n",
       "      <td>1</td>\n",
       "      <td>0</td>\n",
       "      <td>0</td>\n",
       "      <td>0</td>\n",
       "      <td>XinBeiShi</td>\n",
       "      <td>三重區</td>\n",
       "      <td>25.053098</td>\n",
       "      <td>121.470165</td>\n",
       "      <td>興德路129號(旁)</td>\n",
       "      <td>2</td>\n",
       "      <td>1703922499</td>\n",
       "    </tr>\n",
       "  </tbody>\n",
       "</table>\n",
       "<p>146 rows × 16 columns</p>\n",
       "</div>"
      ],
      "text/plain": [
       "             id         name  type  space  full  empty  bike_yb1  bike_yb2  \\\n",
       "445   500399001     桃園維調(測試)     2     26     1     25         0         1   \n",
       "592        1702     成泰路4段22巷     1     16     0     16         0         0   \n",
       "1015  500620021   大楓上楓社區活動中心     2     15     0      0         0         0   \n",
       "1045  500499002      新竹市服務中心     2      0     0      0         0         0   \n",
       "1046  500299011       三重服務中心     2      1     1      0         0         1   \n",
       "...         ...          ...   ...    ...   ...    ...       ...       ...   \n",
       "7416       1108  捷運板橋站(1號出口)     1     60     0      3         0         0   \n",
       "7434       1129         明志國小     1     64     0      0         0         0   \n",
       "7586       1300   新北市政府(新站路)     1     30     0      4         0         0   \n",
       "7697       1437         成州國小     1     12     0     12         0         0   \n",
       "7711       1452         藍天大樓     1     16     0      1         0         0   \n",
       "\n",
       "      bike_eyb         city   area        lat         lng  \\\n",
       "445          0   TaoYuanShi    維調區  24.594650  121.151120   \n",
       "592          0    XinBeiShi    五股區  25.108260  121.455960   \n",
       "1015         0  TaiZhongShi    大雅區  24.234454  120.666939   \n",
       "1045         0    XinZhuShi    維調區   1.000000    1.000000   \n",
       "1046         0    XinBeiShi  新北維調區   1.000000    1.000000   \n",
       "...        ...          ...    ...        ...         ...   \n",
       "7416         0    XinBeiShi    板橋區  25.013174  121.461900   \n",
       "7434         0    XinBeiShi    泰山區  25.045729  121.426269   \n",
       "7586         0    XinBeiShi    板橋區  25.012614  121.466455   \n",
       "7697         0    XinBeiShi    五股區  25.099230  121.450630   \n",
       "7711         0    XinBeiShi    三重區  25.053098  121.470165   \n",
       "\n",
       "                         address  is_open  updated_at  \n",
       "445         桃園市中壢區內定三街170巷201-1號        5  1703922556  \n",
       "592              成泰路4段22巷29號(對面)        2  1703922503  \n",
       "1015                雅楓街106號(西南側)        2  1703922556  \n",
       "1045                           1        5  1703922556  \n",
       "1046                           1        5  1703922556  \n",
       "...                          ...      ...         ...  \n",
       "7416   縣民大道二段3號(秀泰影城門口)(鄰近板橋高鐵站)        2  1703922518  \n",
       "7434      明志路二段324號對面人行道(鄰近明志書院)        2  1703922504  \n",
       "7586  中山路一段161號(東側出口)(鄰近新北市市民廣場)        2  1703922517  \n",
       "7697               成泰路三段493號(東側)        2  1703922509  \n",
       "7711                  興德路129號(旁)        2  1703922499  \n",
       "\n",
       "[146 rows x 16 columns]"
      ]
     },
     "execution_count": 47,
     "metadata": {},
     "output_type": "execute_result"
    }
   ],
   "source": [
    "main_df[(main_df[\"is_open\"] > 1)]"
   ]
  },
  {
   "cell_type": "code",
   "execution_count": 66,
   "id": "2ef66564-97c7-4aab-8594-6668f38e8008",
   "metadata": {
    "tags": []
   },
   "outputs": [
    {
     "data": {
      "text/plain": [
       "<Axes: >"
      ]
     },
     "execution_count": 66,
     "metadata": {},
     "output_type": "execute_result"
    },
    {
     "data": {
      "image/png": "[encoded data removed]",
      "text/plain": [
       "<Figure size 640x480 with 1 Axes>"
      ]
     },
     "metadata": {},
     "output_type": "display_data"
    }
   ],
   "source": [
    "main_df_occupancy = main_df.pivot_table(values=\""
   ]
  },
  {
   "cell_type": "markdown",
   "id": "79848a29-3c86-4c1e-928d-4cfd14692dda",
   "metadata": {},
   "source": [
    "### Transfer to clean df"
   ]
  },
  {
   "cell_type": "code",
   "execution_count": 37,
   "id": "67c0acf4-ac8c-4191-a1f6-d4e6dc6023e1",
   "metadata": {
    "tags": []
   },
   "outputs": [],
   "source": [
    "bikes_station_clean = main_df.copy()"
   ]
  }
 ],
 "metadata": {
  "kernelspec": {
   "display_name": "Python 3 (ipykernel)",
   "language": "python",
   "name": "python3"
  },
  "language_info": {
   "codemirror_mode": {
    "name": "ipython",
    "version": 3
   },
   "file_extension": ".py",
   "mimetype": "text/x-python",
   "name": "python",
   "nbconvert_exporter": "python",
   "pygments_lexer": "ipython3",
   "version": "3.10.10"
  }
 },
 "nbformat": 4,
 "nbformat_minor": 5
}
