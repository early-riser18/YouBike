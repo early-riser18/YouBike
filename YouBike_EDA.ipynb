{
 "cells": [
  {
   "cell_type": "code",
   "execution_count": 67,
   "id": "18672940-7efc-442d-98a2-067bdb121e04",
   "metadata": {
    "tags": []
   },
   "outputs": [],
   "source": [
    "import requests\n",
    "import pandas as pd\n",
    "import numpy as np\n",
    "import matplotlib.pyplot as plt\n",
    "import seaborn as sns\n",
    "from datetime import datetime, tzinfo\n",
    "import pytz\n",
    "from io import StringIO"
   ]
  },
  {
   "cell_type": "code",
   "execution_count": 59,
   "id": "01945edb-65f1-4e7b-ad5d-3954fa7335bf",
   "metadata": {},
   "outputs": [],
   "source": []
  },
  {
   "cell_type": "code",
   "execution_count": 77,
   "id": "8d258e95-dfd9-4d13-b28e-da13a7ecef35",
   "metadata": {},
   "outputs": [],
   "source": [
    "class YoubikeSnapshot:\n",
    "    def __init__(self, extraction_ts: datetime, body: str):\n",
    "        self.extraction_ts = extraction_ts\n",
    "        self.body = body"
   ]
  },
  {
   "cell_type": "code",
   "execution_count": 68,
   "id": "bda27415-928b-4221-8ad3-027a6968b483",
   "metadata": {},
   "outputs": [],
   "source": [
    "def get_youbike_data() -> YoubikeSnapshot:\n",
    "    URL = 'https://gcs-youbike2-linebot.microprogram.tw/latest-data/youbike-station.csv'\n",
    "    r = requests.request('GET', url)\n",
    "    \n",
    "    tz_tst = pytz.timezone('Asia/Taipei')\n",
    "    time_now = datetime.today().now(tz=tz)\n",
    "    data = YoubikeSnapshot(extraction_ts=time_now, body=r.text)\n",
    "    return data\n",
    "\n",
    "def basic_preprocessing(data: YoubikeSnapshot) -> YoubikeSnapshot:\n",
    "    '''Attemps to apply simple preprocessing.\n",
    "    Returns preprocessed data\n",
    "    '''\n",
    "\n",
    "    df = pd.read_csv(StringIO(data.body))\n",
    "    df[\"last_update_ts\"] = pd.to_datetime(df[\"updated_at\"], unit=\"s\")\n",
    "    df.drop(labels=[\"updated_at\"], axis=1, inplace=True)\n",
    "    data.body = df.to_csv()\n",
    "    return data\n",
    "\n",
    "def download_basic_preprocessed_youbike_snapshot() -> str:\n",
    "    data = get_youbike_data()\n",
    "    file_stub = f'youbike_dock_info_{data.extraction_ts}_raw'\n",
    "    try:\n",
    "        preprocessed_data = basic_preprocessing(data)\n",
    "    except:\n",
    "        preprocessed_data = data\n",
    "        file_stup += 'error'\n",
    "        print(\"An error occured while preprocessing the data\")\n",
    "        \n",
    "    file_path = file_stub + '.csv'\n",
    "    with open(f'/raw_data/{file_path}', 'w') as f:\n",
    "        f.write(preprocessed_data.body)\n",
    "    return file_path"
   ]
  },
  {
   "cell_type": "code",
   "execution_count": 74,
   "id": "7a4421e7-17b4-495d-ae2b-55444cea3fd9",
   "metadata": {},
   "outputs": [
    {
     "data": {
      "text/plain": [
       "',test,string,last_update_ts\\n0,a,b,1970-01-13 15:34:58\\n'"
      ]
     },
     "execution_count": 74,
     "metadata": {},
     "output_type": "execute_result"
    }
   ],
   "source": []
  },
  {
   "cell_type": "code",
   "execution_count": 75,
   "id": "139d210d-4064-4407-9222-ead8de0aecc7",
   "metadata": {},
   "outputs": [
    {
     "data": {
      "text/plain": [
       "'youbike_dock_info_2024-02-15 19:08:46.307812+08:00_raw.csv'"
      ]
     },
     "execution_count": 75,
     "metadata": {},
     "output_type": "execute_result"
    }
   ],
   "source": [
    "download_basic_preprocessed_youbike_snapshot()"
   ]
  },
  {
   "cell_type": "code",
   "execution_count": 76,
   "id": "3e77ee0f-dcba-4266-b9bd-f3425562e74b",
   "metadata": {
    "tags": []
   },
   "outputs": [],
   "source": [
    "#Pull data from API to memory\n",
    "# Apply basic transformations, with try and error\n",
    "# Save step "
   ]
  },
  {
   "cell_type": "code",
   "execution_count": 50,
   "id": "0ecdedee-9777-47fc-a5df-28622195e895",
   "metadata": {
    "tags": []
   },
   "outputs": [],
   "source": [
    "last_data_path = get_youbike_data()\n",
    "bikes_station_raw = pd.read_csv(last_data_path)"
   ]
  },
  {
   "cell_type": "code",
   "execution_count": null,
   "id": "55e81e6e-e29d-48d4-887c-e7ec75138f14",
   "metadata": {},
   "outputs": [],
   "source": []
  },
  {
   "cell_type": "code",
   "execution_count": 51,
   "id": "4aada221-7dc4-4e76-bc9e-d2bb91a17474",
   "metadata": {
    "tags": []
   },
   "outputs": [],
   "source": [
    "# Analyze Raw data\n",
    "main_df = bikes_station_raw.copy()\n",
    "\n",
    "# Double check with cleaned df \n",
    "# main_df = bikes_station_clean.copy()"
   ]
  },
  {
   "cell_type": "markdown",
   "id": "8a73905f-2680-4b09-9803-b475f202c0d5",
   "metadata": {},
   "source": [
    "# Validate & clean the dataset"
   ]
  },
  {
   "cell_type": "code",
   "execution_count": 53,
   "id": "1b0867f3-204f-4ede-964f-e00ab1eeebf5",
   "metadata": {
    "tags": []
   },
   "outputs": [
    {
     "data": {
      "text/plain": [
       "(7889, 17)"
      ]
     },
     "execution_count": 53,
     "metadata": {},
     "output_type": "execute_result"
    }
   ],
   "source": [
    "main_df.shape"
   ]
  },
  {
   "cell_type": "code",
   "execution_count": 55,
   "id": "cae788bd-b3a9-4f7d-accc-6a635a4cd68d",
   "metadata": {
    "tags": []
   },
   "outputs": [
    {
     "data": {
      "text/plain": [
       "Index(['id', 'name', 'type', 'space', 'full', 'empty', 'bike_yb1', 'bike_yb2',\n",
       "       'bike_eyb', 'city', 'area', 'lat', 'lng', 'place_id', 'address',\n",
       "       'is_open', 'updated_at'],\n",
       "      dtype='object')"
      ]
     },
     "execution_count": 55,
     "metadata": {},
     "output_type": "execute_result"
    }
   ],
   "source": [
    "main_df.columns"
   ]
  },
  {
   "cell_type": "markdown",
   "id": "49508c63-6d3b-4e26-9ccf-3d5abc9bf860",
   "metadata": {},
   "source": [
    "**Columns are understood as follows:**\n",
    "- id: unique identifier per bike station\n",
    "- type: ??\n",
    "- space: total available bike slots per station (= full + empty)\n",
    "- full: nbr of occupied slots \n",
    "- empty: nbr of available slots for parking\n",
    "- bike_yb1: ??\n",
    "- bike_yb2: ??\n",
    "- bike_eyb: ??\n",
    "- city: city where bike station is located\n",
    "- area: city's district where bike station is located\n",
    "- lat: latitude coordinate of bike station\n",
    "- lng: longitude coordinate of bike station\n",
    "- place_id: ??\n",
    "- address: postal address of bike station\n",
    "- is_open: ??\n",
    "- updated_at: timestamp of data in unix epoch"
   ]
  },
  {
   "cell_type": "markdown",
   "id": "a86b23f1-5a9f-4240-8d21-1034b71f1b8a",
   "metadata": {},
   "source": [
    "### Check types & missing values"
   ]
  },
  {
   "cell_type": "code",
   "execution_count": 56,
   "id": "1e84f4b8-969a-4621-931d-0334e7a3149d",
   "metadata": {
    "tags": []
   },
   "outputs": [
    {
     "name": "stdout",
     "output_type": "stream",
     "text": [
      "<class 'pandas.core.frame.DataFrame'>\n",
      "RangeIndex: 7889 entries, 0 to 7888\n",
      "Data columns (total 17 columns):\n",
      " #   Column      Non-Null Count  Dtype  \n",
      "---  ------      --------------  -----  \n",
      " 0   id          7889 non-null   int64  \n",
      " 1   name        7889 non-null   object \n",
      " 2   type        7889 non-null   int64  \n",
      " 3   space       7889 non-null   int64  \n",
      " 4   full        7889 non-null   int64  \n",
      " 5   empty       7889 non-null   int64  \n",
      " 6   bike_yb1    7889 non-null   int64  \n",
      " 7   bike_yb2    7889 non-null   int64  \n",
      " 8   bike_eyb    7889 non-null   int64  \n",
      " 9   city        7765 non-null   object \n",
      " 10  area        7889 non-null   object \n",
      " 11  lat         7889 non-null   float64\n",
      " 12  lng         7889 non-null   float64\n",
      " 13  place_id    0 non-null      float64\n",
      " 14  address     7889 non-null   object \n",
      " 15  is_open     7889 non-null   int64  \n",
      " 16  updated_at  7889 non-null   int64  \n",
      "dtypes: float64(3), int64(10), object(4)\n",
      "memory usage: 1.0+ MB\n"
     ]
    },
    {
     "data": {
      "text/plain": [
       "None"
      ]
     },
     "metadata": {},
     "output_type": "display_data"
    },
    {
     "data": {
      "text/plain": [
       "id               0\n",
       "name             0\n",
       "type             0\n",
       "space            0\n",
       "full             0\n",
       "empty            0\n",
       "bike_yb1         0\n",
       "bike_yb2         0\n",
       "bike_eyb         0\n",
       "city           124\n",
       "area             0\n",
       "lat              0\n",
       "lng              0\n",
       "place_id      7889\n",
       "address          0\n",
       "is_open          0\n",
       "updated_at       0\n",
       "dtype: int64"
      ]
     },
     "metadata": {},
     "output_type": "display_data"
    }
   ],
   "source": [
    "display(main_df.info())\n",
    "display(main_df.isna().sum())"
   ]
  },
  {
   "cell_type": "markdown",
   "id": "f3192d59-44f8-450f-8916-31fabd231ba0",
   "metadata": {},
   "source": [
    "**Observation**\n",
    "- place_id contains no value\n",
    "- city has empty values\n",
    "- updated_at is an int64"
   ]
  },
  {
   "cell_type": "code",
   "execution_count": 57,
   "id": "102f0846-6439-46a7-82d1-f9cb73c96258",
   "metadata": {
    "tags": []
   },
   "outputs": [],
   "source": [
    "main_df.drop(main_df[main_df[\"city\"].isna()].index, inplace=True)\n",
    "main_df[\"ts\"] = pd.to_datetime(main_df[\"updated_at\"], unit=\"s\")\n",
    "main_df.drop(labels=[\"place_id\", \"updated_at\"], axis=1, inplace=True)"
   ]
  },
  {
   "cell_type": "markdown",
   "id": "cbb5ed05-0077-410f-a9b6-07244b113fcb",
   "metadata": {},
   "source": [
    "### Discard irrelevant features"
   ]
  },
  {
   "cell_type": "code",
   "execution_count": 10,
   "id": "896fb099-0dbb-4b74-aa9c-b520fe605840",
   "metadata": {
    "tags": []
   },
   "outputs": [],
   "source": [
    "main_df.drop(labels=[\"name\", \"area\", \"address\"], axis=1, inplace=True)"
   ]
  },
  {
   "cell_type": "markdown",
   "id": "823c6d5d-249c-4d32-8fad-19bb74647d31",
   "metadata": {
    "tags": []
   },
   "source": [
    "### Check range and distribution of values"
   ]
  },
  {
   "cell_type": "markdown",
   "id": "46eab2b7-1f19-4993-8bb2-b21d0d8940e2",
   "metadata": {},
   "source": [
    "#### Categorical"
   ]
  },
  {
   "cell_type": "code",
   "execution_count": 11,
   "id": "e2683e0e-27ba-454e-9e5c-5bd3f092147d",
   "metadata": {
    "tags": []
   },
   "outputs": [],
   "source": [
    "main_df_cat = main_df.select_dtypes(include=[\"category\", \"object\"])\n",
    "#TODO: set \"type\" to a category var to include in categorical"
   ]
  },
  {
   "cell_type": "code",
   "execution_count": 12,
   "id": "9b0491d1-8b34-4e5a-b2fe-7f67800d1496",
   "metadata": {},
   "outputs": [
    {
     "name": "stdout",
     "output_type": "stream",
     "text": [
      "Unique values in 'city': ['台北市' '臺南市' '桃園市' '新北市' '苗栗縣' '高雄市' '嘉義市' '新竹縣' '屏東縣' '台中市' '新竹市'\n",
      " '新竹科學工業園區']\n"
     ]
    }
   ],
   "source": [
    "for col in main_df_cat.columns:\n",
    "    unique_values = main_df[col].unique()\n",
    "    print(f\"Unique values in '{col}': {unique_values}\")"
   ]
  },
  {
   "cell_type": "code",
   "execution_count": 13,
   "id": "97e43208-8cae-484a-8889-0804920c7941",
   "metadata": {
    "tags": []
   },
   "outputs": [],
   "source": [
    "#Map city to ascii chars\n",
    "city_name_glossary = {\"新北市\": \"XinBeiShi\",\n",
    "                      \"台北市\": \"TaiBeiShi\",\n",
    "                      \"台中市\":\"TaiZhongShi\",\n",
    "                      \"高雄市\":\"KaoXiongShi\",\n",
    "                      \"桃園市\":\"TaoYuanShi\",\n",
    "                      \"臺南市\": \"TaiNanShi\",\n",
    "                      \"嘉義市\": \"JiaYiShi\",\n",
    "                      \"屏東縣\": \"PingDongXian\",\n",
    "                      \"新竹市\": \"XinZhuShi\",\n",
    "                      \"新竹縣\": \"XinZhuXian\",\n",
    "                      \"苗栗縣\" : \"MiaoLiXian\",\n",
    "                      \"新竹科學工業園區\": \"XinZhuKeXueGong\"}  \n",
    "\n",
    "#TODO Need to catch KeyError and set default value. \n",
    "main_df[\"city\"] = main_df.apply(lambda x: city_name_glossary[x[\"city\"]], axis=1)\n"
   ]
  },
  {
   "cell_type": "markdown",
   "id": "1e4d8ec6-9aaf-4358-b2f2-07fcedc73c7e",
   "metadata": {},
   "source": [
    "#### Numerical"
   ]
  },
  {
   "cell_type": "code",
   "execution_count": 14,
   "id": "dcef713c-749e-4bbf-84fe-6bfa7004fd51",
   "metadata": {},
   "outputs": [],
   "source": [
    "main_df_num = main_df.drop(labels=main_df_cat.columns, axis=1)"
   ]
  },
  {
   "cell_type": "code",
   "execution_count": 15,
   "id": "a34d9e3d-ff68-4953-91ee-380a367e8976",
   "metadata": {
    "tags": []
   },
   "outputs": [
    {
     "data": {
      "text/html": [
       "<div>\n",
       "<style scoped>\n",
       "    .dataframe tbody tr th:only-of-type {\n",
       "        vertical-align: middle;\n",
       "    }\n",
       "\n",
       "    .dataframe tbody tr th {\n",
       "        vertical-align: top;\n",
       "    }\n",
       "\n",
       "    .dataframe thead th {\n",
       "        text-align: right;\n",
       "    }\n",
       "</style>\n",
       "<table border=\"1\" class=\"dataframe\">\n",
       "  <thead>\n",
       "    <tr style=\"text-align: right;\">\n",
       "      <th></th>\n",
       "      <th>id</th>\n",
       "      <th>type</th>\n",
       "      <th>space</th>\n",
       "      <th>full</th>\n",
       "      <th>empty</th>\n",
       "      <th>bike_yb1</th>\n",
       "      <th>bike_yb2</th>\n",
       "      <th>bike_eyb</th>\n",
       "      <th>lat</th>\n",
       "      <th>lng</th>\n",
       "      <th>is_open</th>\n",
       "      <th>ts</th>\n",
       "    </tr>\n",
       "  </thead>\n",
       "  <tbody>\n",
       "    <tr>\n",
       "      <th>count</th>\n",
       "      <td>7.730000e+03</td>\n",
       "      <td>7730.000000</td>\n",
       "      <td>7730.000000</td>\n",
       "      <td>7730.000000</td>\n",
       "      <td>7730.000000</td>\n",
       "      <td>7730.000000</td>\n",
       "      <td>7730.000000</td>\n",
       "      <td>7730.000000</td>\n",
       "      <td>7730.000000</td>\n",
       "      <td>7730.000000</td>\n",
       "      <td>7730.000000</td>\n",
       "      <td>7730</td>\n",
       "    </tr>\n",
       "    <tr>\n",
       "      <th>mean</th>\n",
       "      <td>4.324384e+08</td>\n",
       "      <td>1.863777</td>\n",
       "      <td>20.991850</td>\n",
       "      <td>6.090815</td>\n",
       "      <td>14.165071</td>\n",
       "      <td>0.756145</td>\n",
       "      <td>5.181242</td>\n",
       "      <td>0.153428</td>\n",
       "      <td>24.234585</td>\n",
       "      <td>120.693889</td>\n",
       "      <td>1.009832</td>\n",
       "      <td>2024-01-06 06:21:01.025485312</td>\n",
       "    </tr>\n",
       "    <tr>\n",
       "      <th>min</th>\n",
       "      <td>1.001000e+03</td>\n",
       "      <td>1.000000</td>\n",
       "      <td>0.000000</td>\n",
       "      <td>0.000000</td>\n",
       "      <td>-20.000000</td>\n",
       "      <td>0.000000</td>\n",
       "      <td>0.000000</td>\n",
       "      <td>0.000000</td>\n",
       "      <td>0.000000</td>\n",
       "      <td>0.000000</td>\n",
       "      <td>0.000000</td>\n",
       "      <td>2023-06-21 04:43:40</td>\n",
       "    </tr>\n",
       "    <tr>\n",
       "      <th>25%</th>\n",
       "      <td>5.001090e+08</td>\n",
       "      <td>2.000000</td>\n",
       "      <td>14.000000</td>\n",
       "      <td>2.000000</td>\n",
       "      <td>8.000000</td>\n",
       "      <td>0.000000</td>\n",
       "      <td>0.000000</td>\n",
       "      <td>0.000000</td>\n",
       "      <td>23.478723</td>\n",
       "      <td>120.497398</td>\n",
       "      <td>1.000000</td>\n",
       "      <td>2024-01-06 09:38:17</td>\n",
       "    </tr>\n",
       "    <tr>\n",
       "      <th>50%</th>\n",
       "      <td>5.003041e+08</td>\n",
       "      <td>2.000000</td>\n",
       "      <td>18.000000</td>\n",
       "      <td>4.000000</td>\n",
       "      <td>12.000000</td>\n",
       "      <td>0.000000</td>\n",
       "      <td>3.000000</td>\n",
       "      <td>0.000000</td>\n",
       "      <td>24.939449</td>\n",
       "      <td>121.222856</td>\n",
       "      <td>1.000000</td>\n",
       "      <td>2024-01-06 09:38:17</td>\n",
       "    </tr>\n",
       "    <tr>\n",
       "      <th>75%</th>\n",
       "      <td>5.010011e+08</td>\n",
       "      <td>2.000000</td>\n",
       "      <td>25.000000</td>\n",
       "      <td>8.000000</td>\n",
       "      <td>18.000000</td>\n",
       "      <td>0.000000</td>\n",
       "      <td>7.000000</td>\n",
       "      <td>0.000000</td>\n",
       "      <td>25.032495</td>\n",
       "      <td>121.484830</td>\n",
       "      <td>1.000000</td>\n",
       "      <td>2024-01-06 09:38:17</td>\n",
       "    </tr>\n",
       "    <tr>\n",
       "      <th>max</th>\n",
       "      <td>5.082010e+08</td>\n",
       "      <td>2.000000</td>\n",
       "      <td>106.000000</td>\n",
       "      <td>88.000000</td>\n",
       "      <td>98.000000</td>\n",
       "      <td>79.000000</td>\n",
       "      <td>88.000000</td>\n",
       "      <td>14.000000</td>\n",
       "      <td>25.293010</td>\n",
       "      <td>122.000000</td>\n",
       "      <td>5.000000</td>\n",
       "      <td>2024-01-06 09:38:18</td>\n",
       "    </tr>\n",
       "    <tr>\n",
       "      <th>std</th>\n",
       "      <td>1.717423e+08</td>\n",
       "      <td>0.343047</td>\n",
       "      <td>11.580041</td>\n",
       "      <td>6.738314</td>\n",
       "      <td>10.196297</td>\n",
       "      <td>3.174189</td>\n",
       "      <td>6.498734</td>\n",
       "      <td>0.689649</td>\n",
       "      <td>1.525084</td>\n",
       "      <td>6.130140</td>\n",
       "      <td>0.389281</td>\n",
       "      <td>NaN</td>\n",
       "    </tr>\n",
       "  </tbody>\n",
       "</table>\n",
       "</div>"
      ],
      "text/plain": [
       "                 id         type        space         full        empty  \\\n",
       "count  7.730000e+03  7730.000000  7730.000000  7730.000000  7730.000000   \n",
       "mean   4.324384e+08     1.863777    20.991850     6.090815    14.165071   \n",
       "min    1.001000e+03     1.000000     0.000000     0.000000   -20.000000   \n",
       "25%    5.001090e+08     2.000000    14.000000     2.000000     8.000000   \n",
       "50%    5.003041e+08     2.000000    18.000000     4.000000    12.000000   \n",
       "75%    5.010011e+08     2.000000    25.000000     8.000000    18.000000   \n",
       "max    5.082010e+08     2.000000   106.000000    88.000000    98.000000   \n",
       "std    1.717423e+08     0.343047    11.580041     6.738314    10.196297   \n",
       "\n",
       "          bike_yb1     bike_yb2     bike_eyb          lat          lng  \\\n",
       "count  7730.000000  7730.000000  7730.000000  7730.000000  7730.000000   \n",
       "mean      0.756145     5.181242     0.153428    24.234585   120.693889   \n",
       "min       0.000000     0.000000     0.000000     0.000000     0.000000   \n",
       "25%       0.000000     0.000000     0.000000    23.478723   120.497398   \n",
       "50%       0.000000     3.000000     0.000000    24.939449   121.222856   \n",
       "75%       0.000000     7.000000     0.000000    25.032495   121.484830   \n",
       "max      79.000000    88.000000    14.000000    25.293010   122.000000   \n",
       "std       3.174189     6.498734     0.689649     1.525084     6.130140   \n",
       "\n",
       "           is_open                             ts  \n",
       "count  7730.000000                           7730  \n",
       "mean      1.009832  2024-01-06 06:21:01.025485312  \n",
       "min       0.000000            2023-06-21 04:43:40  \n",
       "25%       1.000000            2024-01-06 09:38:17  \n",
       "50%       1.000000            2024-01-06 09:38:17  \n",
       "75%       1.000000            2024-01-06 09:38:17  \n",
       "max       5.000000            2024-01-06 09:38:18  \n",
       "std       0.389281                            NaN  "
      ]
     },
     "execution_count": 15,
     "metadata": {},
     "output_type": "execute_result"
    }
   ],
   "source": [
    "main_df_num.describe()"
   ]
  },
  {
   "cell_type": "markdown",
   "id": "6bc567dc-5e02-4442-b5dd-be1455832490",
   "metadata": {},
   "source": [
    "**Observations**\n",
    "- Empty has negative values\n",
    "- Some long/lat coordinates are outside of Taiwan\n",
    "- Some ts shows stale data (many days older than latest ts)"
   ]
  },
  {
   "cell_type": "code",
   "execution_count": 16,
   "id": "69a82a3f-1408-4a40-a172-3d6d57ecf20b",
   "metadata": {},
   "outputs": [],
   "source": [
    "discard_mask = (\n",
    "    (main_df[\"empty\"] < 0)\n",
    "    | (main_df[\"space\"] < 1) # Stations without space are irrelevant\n",
    "    | (main_df[\"lat\"] < 21.89) #southermost lat of Taiwan's main island\n",
    "    | (main_df[\"lng\"] < 120) #westernmost lng of Taiwan's main island\n",
    "    | (main_df[\"ts\"] < pd.to_datetime('now').normalize())\n",
    ")\n",
    "main_df.drop(main_df[discard_mask == True].index, inplace=True)\n",
    "    "
   ]
  },
  {
   "cell_type": "code",
   "execution_count": 17,
   "id": "efb9cfad-0b89-4e54-8f52-e5d1d24ac1dd",
   "metadata": {
    "tags": []
   },
   "outputs": [
    {
     "data": {
      "text/plain": [
       "12"
      ]
     },
     "execution_count": 17,
     "metadata": {},
     "output_type": "execute_result"
    }
   ],
   "source": [
    "len(main_df_num.columns)"
   ]
  },
  {
   "cell_type": "code",
   "execution_count": 18,
   "id": "e4e6eb0a-376c-4cf1-bc2b-ed39bdbd8806",
   "metadata": {
    "tags": []
   },
   "outputs": [
    {
     "data": {
      "image/png": "[encoded data removed]",
      "text/plain": [
       "<Figure size 1200x600 with 12 Axes>"
      ]
     },
     "metadata": {},
     "output_type": "display_data"
    }
   ],
   "source": [
    "col_nb = 3\n",
    "fig, ax = plt.subplots(4, col_nb, figsize=(12, 6))\n",
    "\n",
    "main_df_num = main_df.drop(labels=main_df_cat.columns, axis=1)\n",
    "for i, col_name in enumerate(main_df_num.columns):\n",
    "    col = i % col_nb\n",
    "    row = i // col_nb\n",
    "    sns.boxplot(x=col_name, data=main_df_num, ax=ax[row, col], )\n",
    "plt.xticks(rotation=45)\n",
    "plt.tight_layout()  # Adjust subplots to fit into the figure area.\n",
    "\n",
    "plt.show()"
   ]
  },
  {
   "cell_type": "markdown",
   "id": "f7f20a39-ec76-44d0-9623-e1fd6de9aafa",
   "metadata": {},
   "source": [
    "**Observation:** Data is very heterogenous "
   ]
  },
  {
   "cell_type": "markdown",
   "id": "2115c185-a61a-40ae-91ed-4aadfc2cbc91",
   "metadata": {},
   "source": [
    "### Check uniqueness of data"
   ]
  },
  {
   "cell_type": "markdown",
   "id": "50b01cdc-bd05-41a8-b977-592234758d39",
   "metadata": {},
   "source": [
    "#### id"
   ]
  },
  {
   "cell_type": "code",
   "execution_count": 19,
   "id": "e650e54b-dbe6-4e9b-820f-0bfef66b865f",
   "metadata": {
    "tags": []
   },
   "outputs": [
    {
     "data": {
      "text/plain": [
       "Series([], Name: count, dtype: int64)"
      ]
     },
     "execution_count": 19,
     "metadata": {},
     "output_type": "execute_result"
    }
   ],
   "source": [
    "id_counts = main_df[\"id\"].value_counts()\n",
    "id_counts[id_counts > 1]"
   ]
  },
  {
   "cell_type": "markdown",
   "id": "38ab2392-d0fe-4746-af4b-90a9f5bfba70",
   "metadata": {},
   "source": [
    "id is unique"
   ]
  },
  {
   "cell_type": "markdown",
   "id": "fdf724ba-0405-4f6d-9957-d2ffe67268ee",
   "metadata": {},
   "source": [
    "#### lat/lng"
   ]
  },
  {
   "cell_type": "code",
   "execution_count": 20,
   "id": "2bab3f37-e160-4555-90b2-8fd2e38638a3",
   "metadata": {
    "tags": []
   },
   "outputs": [
    {
     "data": {
      "text/plain": [
       "lat\n",
       "24.99039    4\n",
       "24.98263    4\n",
       "25.02332    4\n",
       "25.07567    3\n",
       "25.02565    3\n",
       "           ..\n",
       "22.74015    1\n",
       "25.08471    1\n",
       "25.07676    1\n",
       "24.17893    1\n",
       "25.00559    1\n",
       "Name: count, Length: 6989, dtype: int64"
      ]
     },
     "execution_count": 20,
     "metadata": {},
     "output_type": "execute_result"
    }
   ],
   "source": [
    "lat_counts = main_df[\"lat\"].value_counts()\n",
    "lat_counts"
   ]
  },
  {
   "cell_type": "code",
   "execution_count": null,
   "id": "29f9d7a4-1122-4342-8267-b78c36eb4280",
   "metadata": {},
   "outputs": [],
   "source": []
  },
  {
   "cell_type": "code",
   "execution_count": 22,
   "id": "6b5013f2-8701-4366-a689-a62edef4b6e2",
   "metadata": {
    "tags": []
   },
   "outputs": [],
   "source": [
    "main_df[\"gps\"] = main_df.apply(lambda x: (x[\"lat\"], x[\"lng\"]), axis=1)"
   ]
  },
  {
   "cell_type": "code",
   "execution_count": 23,
   "id": "af2cd935-842c-44f4-9de7-63ed638c2ead",
   "metadata": {
    "tags": []
   },
   "outputs": [
    {
     "data": {
      "text/plain": [
       "gps\n",
       "(24.19870797, 120.660757)    3\n",
       "(25.00653, 121.50014)        2\n",
       "(25.000959, 121.317024)      2\n",
       "(24.962275, 121.293209)      2\n",
       "(24.986849, 121.294739)      2\n",
       "                            ..\n",
       "(25.19985, 121.42891)        2\n",
       "(25.17476, 121.43155)        2\n",
       "(24.90904, 121.28357)        2\n",
       "(25.01086, 121.45598)        2\n",
       "(24.93306, 121.22493)        2\n",
       "Name: count, Length: 265, dtype: int64"
      ]
     },
     "execution_count": 23,
     "metadata": {},
     "output_type": "execute_result"
    }
   ],
   "source": [
    "gps_counts = main_df[\"gps\"].value_counts()\n",
    "gps_counts[gps_counts > 1]"
   ]
  },
  {
   "cell_type": "code",
   "execution_count": 24,
   "id": "c9f3657b-393c-4645-84e4-b1c97e653c6e",
   "metadata": {
    "tags": []
   },
   "outputs": [
    {
     "data": {
      "text/html": [
       "<div>\n",
       "<style scoped>\n",
       "    .dataframe tbody tr th:only-of-type {\n",
       "        vertical-align: middle;\n",
       "    }\n",
       "\n",
       "    .dataframe tbody tr th {\n",
       "        vertical-align: top;\n",
       "    }\n",
       "\n",
       "    .dataframe thead th {\n",
       "        text-align: right;\n",
       "    }\n",
       "</style>\n",
       "<table border=\"1\" class=\"dataframe\">\n",
       "  <thead>\n",
       "    <tr style=\"text-align: right;\">\n",
       "      <th></th>\n",
       "      <th>id</th>\n",
       "      <th>type</th>\n",
       "      <th>space</th>\n",
       "      <th>full</th>\n",
       "      <th>empty</th>\n",
       "      <th>bike_yb1</th>\n",
       "      <th>bike_yb2</th>\n",
       "      <th>bike_eyb</th>\n",
       "      <th>city</th>\n",
       "      <th>lat</th>\n",
       "      <th>lng</th>\n",
       "      <th>is_open</th>\n",
       "      <th>ts</th>\n",
       "      <th>gps</th>\n",
       "    </tr>\n",
       "  </thead>\n",
       "  <tbody>\n",
       "    <tr>\n",
       "      <th>373</th>\n",
       "      <td>500306016</td>\n",
       "      <td>2</td>\n",
       "      <td>14</td>\n",
       "      <td>8</td>\n",
       "      <td>4</td>\n",
       "      <td>0</td>\n",
       "      <td>8</td>\n",
       "      <td>0</td>\n",
       "      <td>TaoYuanShi</td>\n",
       "      <td>24.977812</td>\n",
       "      <td>121.321076</td>\n",
       "      <td>1</td>\n",
       "      <td>2024-01-05 16:12:16</td>\n",
       "      <td>(24.977812, 121.321076)</td>\n",
       "    </tr>\n",
       "    <tr>\n",
       "      <th>7034</th>\n",
       "      <td>2041</td>\n",
       "      <td>1</td>\n",
       "      <td>36</td>\n",
       "      <td>25</td>\n",
       "      <td>6</td>\n",
       "      <td>25</td>\n",
       "      <td>0</td>\n",
       "      <td>0</td>\n",
       "      <td>TaoYuanShi</td>\n",
       "      <td>24.977812</td>\n",
       "      <td>121.321076</td>\n",
       "      <td>1</td>\n",
       "      <td>2024-01-05 16:11:28</td>\n",
       "      <td>(24.977812, 121.321076)</td>\n",
       "    </tr>\n",
       "  </tbody>\n",
       "</table>\n",
       "</div>"
      ],
      "text/plain": [
       "             id  type  space  full  empty  bike_yb1  bike_yb2  bike_eyb  \\\n",
       "373   500306016     2     14     8      4         0         8         0   \n",
       "7034       2041     1     36    25      6        25         0         0   \n",
       "\n",
       "            city        lat         lng  is_open                  ts  \\\n",
       "373   TaoYuanShi  24.977812  121.321076        1 2024-01-05 16:12:16   \n",
       "7034  TaoYuanShi  24.977812  121.321076        1 2024-01-05 16:11:28   \n",
       "\n",
       "                          gps  \n",
       "373   (24.977812, 121.321076)  \n",
       "7034  (24.977812, 121.321076)  "
      ]
     },
     "execution_count": 24,
     "metadata": {},
     "output_type": "execute_result"
    }
   ],
   "source": [
    "main_df[main_df[\"lat\"] == 24.977812]"
   ]
  },
  {
   "cell_type": "markdown",
   "id": "2d610f36-61df-4483-97c8-5be90a2979e7",
   "metadata": {},
   "source": [
    "## TBD why the duplicates "
   ]
  },
  {
   "cell_type": "code",
   "execution_count": 25,
   "id": "55d7d6d6-b87d-4967-8499-1c9ed85da7af",
   "metadata": {},
   "outputs": [
    {
     "data": {
      "text/plain": [
       "6       False\n",
       "8       False\n",
       "9       False\n",
       "11      False\n",
       "12      False\n",
       "        ...  \n",
       "7847     True\n",
       "7848     True\n",
       "7849     True\n",
       "7850     True\n",
       "7851     True\n",
       "Name: type, Length: 7634, dtype: bool"
      ]
     },
     "execution_count": 25,
     "metadata": {},
     "output_type": "execute_result"
    }
   ],
   "source": [
    "main_df[\"type\"].isin([1])"
   ]
  },
  {
   "cell_type": "markdown",
   "id": "26625a76-556a-416e-85d6-36edf09d51fe",
   "metadata": {},
   "source": [
    "# Analyze Data\n"
   ]
  },
  {
   "cell_type": "code",
   "execution_count": 26,
   "id": "38822a53-064c-4a12-bdd7-e0c64fe6c664",
   "metadata": {
    "tags": []
   },
   "outputs": [],
   "source": [
    "main_df_by_city = main_df.pivot_table(values=\"space\", index=\"city\", aggfunc=[\"sum\"])"
   ]
  },
  {
   "cell_type": "code",
   "execution_count": 27,
   "id": "aa6ddf2a-7b6a-4983-b036-6c48b4410ab0",
   "metadata": {
    "tags": []
   },
   "outputs": [
    {
     "data": {
      "text/html": [
       "<div>\n",
       "<style scoped>\n",
       "    .dataframe tbody tr th:only-of-type {\n",
       "        vertical-align: middle;\n",
       "    }\n",
       "\n",
       "    .dataframe tbody tr th {\n",
       "        vertical-align: top;\n",
       "    }\n",
       "\n",
       "    .dataframe thead tr th {\n",
       "        text-align: left;\n",
       "    }\n",
       "\n",
       "    .dataframe thead tr:last-of-type th {\n",
       "        text-align: right;\n",
       "    }\n",
       "</style>\n",
       "<table border=\"1\" class=\"dataframe\">\n",
       "  <thead>\n",
       "    <tr>\n",
       "      <th></th>\n",
       "      <th>sum</th>\n",
       "    </tr>\n",
       "    <tr>\n",
       "      <th></th>\n",
       "      <th>space</th>\n",
       "    </tr>\n",
       "    <tr>\n",
       "      <th>city</th>\n",
       "      <th></th>\n",
       "    </tr>\n",
       "  </thead>\n",
       "  <tbody>\n",
       "    <tr>\n",
       "      <th>XinZhuKeXueGong</th>\n",
       "      <td>740</td>\n",
       "    </tr>\n",
       "    <tr>\n",
       "      <th>XinZhuXian</th>\n",
       "      <td>1947</td>\n",
       "    </tr>\n",
       "    <tr>\n",
       "      <th>XinZhuShi</th>\n",
       "      <td>2468</td>\n",
       "    </tr>\n",
       "    <tr>\n",
       "      <th>JiaYiShi</th>\n",
       "      <td>2769</td>\n",
       "    </tr>\n",
       "    <tr>\n",
       "      <th>MiaoLiXian</th>\n",
       "      <td>2836</td>\n",
       "    </tr>\n",
       "    <tr>\n",
       "      <th>PingDongXian</th>\n",
       "      <td>2841</td>\n",
       "    </tr>\n",
       "    <tr>\n",
       "      <th>TaiNanShi</th>\n",
       "      <td>8140</td>\n",
       "    </tr>\n",
       "    <tr>\n",
       "      <th>TaoYuanShi</th>\n",
       "      <td>16390</td>\n",
       "    </tr>\n",
       "    <tr>\n",
       "      <th>KaoXiongShi</th>\n",
       "      <td>24457</td>\n",
       "    </tr>\n",
       "    <tr>\n",
       "      <th>TaiZhongShi</th>\n",
       "      <td>25681</td>\n",
       "    </tr>\n",
       "    <tr>\n",
       "      <th>TaiBeiShi</th>\n",
       "      <td>31393</td>\n",
       "    </tr>\n",
       "    <tr>\n",
       "      <th>XinBeiShi</th>\n",
       "      <td>42195</td>\n",
       "    </tr>\n",
       "  </tbody>\n",
       "</table>\n",
       "</div>"
      ],
      "text/plain": [
       "                   sum\n",
       "                 space\n",
       "city                  \n",
       "XinZhuKeXueGong    740\n",
       "XinZhuXian        1947\n",
       "XinZhuShi         2468\n",
       "JiaYiShi          2769\n",
       "MiaoLiXian        2836\n",
       "PingDongXian      2841\n",
       "TaiNanShi         8140\n",
       "TaoYuanShi       16390\n",
       "KaoXiongShi      24457\n",
       "TaiZhongShi      25681\n",
       "TaiBeiShi        31393\n",
       "XinBeiShi        42195"
      ]
     },
     "execution_count": 27,
     "metadata": {},
     "output_type": "execute_result"
    }
   ],
   "source": [
    "main_df_by_city.sort_values(by=(\"sum\",\"space\"))"
   ]
  },
  {
   "cell_type": "code",
   "execution_count": 28,
   "id": "47e68f7c-0f90-444b-9672-2ff3e7ff779d",
   "metadata": {
    "tags": []
   },
   "outputs": [
    {
     "data": {
      "image/png": "[encoded data removed]",
      "text/plain": [
       "<Figure size 640x480 with 1 Axes>"
      ]
     },
     "metadata": {},
     "output_type": "display_data"
    }
   ],
   "source": [
    "main_df_by_city.plot(kind=\"bar\", rot=45)\n",
    "plt.show()"
   ]
  },
  {
   "cell_type": "code",
   "execution_count": 29,
   "id": "7e0b8cf6-a8c6-4685-9968-0782d8b2b222",
   "metadata": {
    "tags": []
   },
   "outputs": [
    {
     "name": "stdout",
     "output_type": "stream",
     "text": [
      "is_open\n",
      "1          7335\n",
      "0           175\n",
      "2            86\n",
      "5            30\n",
      "4             5\n",
      "3             3\n",
      "Name: count, dtype: int64\n"
     ]
    }
   ],
   "source": [
    "print(main_df[[\"is_open\"]].value_counts())"
   ]
  },
  {
   "cell_type": "code",
   "execution_count": 30,
   "id": "cb967482-1412-4942-8979-7c7856ce89a0",
   "metadata": {
    "tags": []
   },
   "outputs": [
    {
     "data": {
      "text/html": [
       "<div>\n",
       "<style scoped>\n",
       "    .dataframe tbody tr th:only-of-type {\n",
       "        vertical-align: middle;\n",
       "    }\n",
       "\n",
       "    .dataframe tbody tr th {\n",
       "        vertical-align: top;\n",
       "    }\n",
       "\n",
       "    .dataframe thead th {\n",
       "        text-align: right;\n",
       "    }\n",
       "</style>\n",
       "<table border=\"1\" class=\"dataframe\">\n",
       "  <thead>\n",
       "    <tr style=\"text-align: right;\">\n",
       "      <th></th>\n",
       "      <th>type</th>\n",
       "      <th>space</th>\n",
       "      <th>full</th>\n",
       "      <th>empty</th>\n",
       "      <th>bike_yb1</th>\n",
       "      <th>bike_yb2</th>\n",
       "      <th>bike_eyb</th>\n",
       "    </tr>\n",
       "  </thead>\n",
       "  <tbody>\n",
       "    <tr>\n",
       "      <th>count</th>\n",
       "      <td>40.0</td>\n",
       "      <td>40.000000</td>\n",
       "      <td>40.0</td>\n",
       "      <td>40.000000</td>\n",
       "      <td>40.0</td>\n",
       "      <td>40.0</td>\n",
       "      <td>40.0</td>\n",
       "    </tr>\n",
       "    <tr>\n",
       "      <th>mean</th>\n",
       "      <td>2.0</td>\n",
       "      <td>20.125000</td>\n",
       "      <td>0.0</td>\n",
       "      <td>20.075000</td>\n",
       "      <td>0.0</td>\n",
       "      <td>0.0</td>\n",
       "      <td>0.0</td>\n",
       "    </tr>\n",
       "    <tr>\n",
       "      <th>std</th>\n",
       "      <td>0.0</td>\n",
       "      <td>13.091762</td>\n",
       "      <td>0.0</td>\n",
       "      <td>13.160523</td>\n",
       "      <td>0.0</td>\n",
       "      <td>0.0</td>\n",
       "      <td>0.0</td>\n",
       "    </tr>\n",
       "    <tr>\n",
       "      <th>min</th>\n",
       "      <td>2.0</td>\n",
       "      <td>3.000000</td>\n",
       "      <td>0.0</td>\n",
       "      <td>2.000000</td>\n",
       "      <td>0.0</td>\n",
       "      <td>0.0</td>\n",
       "      <td>0.0</td>\n",
       "    </tr>\n",
       "    <tr>\n",
       "      <th>25%</th>\n",
       "      <td>2.0</td>\n",
       "      <td>10.000000</td>\n",
       "      <td>0.0</td>\n",
       "      <td>10.000000</td>\n",
       "      <td>0.0</td>\n",
       "      <td>0.0</td>\n",
       "      <td>0.0</td>\n",
       "    </tr>\n",
       "    <tr>\n",
       "      <th>50%</th>\n",
       "      <td>2.0</td>\n",
       "      <td>14.500000</td>\n",
       "      <td>0.0</td>\n",
       "      <td>14.500000</td>\n",
       "      <td>0.0</td>\n",
       "      <td>0.0</td>\n",
       "      <td>0.0</td>\n",
       "    </tr>\n",
       "    <tr>\n",
       "      <th>75%</th>\n",
       "      <td>2.0</td>\n",
       "      <td>32.250000</td>\n",
       "      <td>0.0</td>\n",
       "      <td>32.250000</td>\n",
       "      <td>0.0</td>\n",
       "      <td>0.0</td>\n",
       "      <td>0.0</td>\n",
       "    </tr>\n",
       "    <tr>\n",
       "      <th>max</th>\n",
       "      <td>2.0</td>\n",
       "      <td>50.000000</td>\n",
       "      <td>0.0</td>\n",
       "      <td>50.000000</td>\n",
       "      <td>0.0</td>\n",
       "      <td>0.0</td>\n",
       "      <td>0.0</td>\n",
       "    </tr>\n",
       "  </tbody>\n",
       "</table>\n",
       "</div>"
      ],
      "text/plain": [
       "       type      space  full      empty  bike_yb1  bike_yb2  bike_eyb\n",
       "count  40.0  40.000000  40.0  40.000000      40.0      40.0      40.0\n",
       "mean    2.0  20.125000   0.0  20.075000       0.0       0.0       0.0\n",
       "std     0.0  13.091762   0.0  13.160523       0.0       0.0       0.0\n",
       "min     2.0   3.000000   0.0   2.000000       0.0       0.0       0.0\n",
       "25%     2.0  10.000000   0.0  10.000000       0.0       0.0       0.0\n",
       "50%     2.0  14.500000   0.0  14.500000       0.0       0.0       0.0\n",
       "75%     2.0  32.250000   0.0  32.250000       0.0       0.0       0.0\n",
       "max     2.0  50.000000   0.0  50.000000       0.0       0.0       0.0"
      ]
     },
     "execution_count": 30,
     "metadata": {},
     "output_type": "execute_result"
    }
   ],
   "source": [
    "main_df[(main_df[\"is_open\"] == 0) & (main_df[\"empty\"] >0)].loc[:,\"type\":\"bike_eyb\"].describe()"
   ]
  },
  {
   "cell_type": "code",
   "execution_count": 31,
   "id": "d3be6cf4-2a40-41fa-95c8-264b83da8c6b",
   "metadata": {
    "tags": []
   },
   "outputs": [
    {
     "data": {
      "text/html": [
       "<div>\n",
       "<style scoped>\n",
       "    .dataframe tbody tr th:only-of-type {\n",
       "        vertical-align: middle;\n",
       "    }\n",
       "\n",
       "    .dataframe tbody tr th {\n",
       "        vertical-align: top;\n",
       "    }\n",
       "\n",
       "    .dataframe thead th {\n",
       "        text-align: right;\n",
       "    }\n",
       "</style>\n",
       "<table border=\"1\" class=\"dataframe\">\n",
       "  <thead>\n",
       "    <tr style=\"text-align: right;\">\n",
       "      <th></th>\n",
       "      <th>id</th>\n",
       "      <th>type</th>\n",
       "      <th>space</th>\n",
       "      <th>full</th>\n",
       "      <th>empty</th>\n",
       "      <th>bike_yb1</th>\n",
       "      <th>bike_yb2</th>\n",
       "      <th>bike_eyb</th>\n",
       "      <th>city</th>\n",
       "      <th>lat</th>\n",
       "      <th>lng</th>\n",
       "      <th>is_open</th>\n",
       "      <th>ts</th>\n",
       "      <th>gps</th>\n",
       "    </tr>\n",
       "  </thead>\n",
       "  <tbody>\n",
       "    <tr>\n",
       "      <th>18</th>\n",
       "      <td>500799001</td>\n",
       "      <td>2</td>\n",
       "      <td>5</td>\n",
       "      <td>0</td>\n",
       "      <td>5</td>\n",
       "      <td>0</td>\n",
       "      <td>0</td>\n",
       "      <td>0</td>\n",
       "      <td>MiaoLiXian</td>\n",
       "      <td>24.612617</td>\n",
       "      <td>120.821200</td>\n",
       "      <td>5</td>\n",
       "      <td>2024-01-05 16:12:16</td>\n",
       "      <td>(24.612617, 120.8212)</td>\n",
       "    </tr>\n",
       "    <tr>\n",
       "      <th>464</th>\n",
       "      <td>500399001</td>\n",
       "      <td>2</td>\n",
       "      <td>26</td>\n",
       "      <td>0</td>\n",
       "      <td>26</td>\n",
       "      <td>0</td>\n",
       "      <td>0</td>\n",
       "      <td>0</td>\n",
       "      <td>TaoYuanShi</td>\n",
       "      <td>24.594650</td>\n",
       "      <td>121.151120</td>\n",
       "      <td>5</td>\n",
       "      <td>2024-01-05 16:12:16</td>\n",
       "      <td>(24.59465, 121.15112)</td>\n",
       "    </tr>\n",
       "    <tr>\n",
       "      <th>535</th>\n",
       "      <td>500211002</td>\n",
       "      <td>2</td>\n",
       "      <td>26</td>\n",
       "      <td>0</td>\n",
       "      <td>0</td>\n",
       "      <td>0</td>\n",
       "      <td>0</td>\n",
       "      <td>0</td>\n",
       "      <td>XinBeiShi</td>\n",
       "      <td>25.293010</td>\n",
       "      <td>121.536240</td>\n",
       "      <td>2</td>\n",
       "      <td>2024-01-05 16:12:16</td>\n",
       "      <td>(25.29301, 121.53624)</td>\n",
       "    </tr>\n",
       "    <tr>\n",
       "      <th>611</th>\n",
       "      <td>1702</td>\n",
       "      <td>1</td>\n",
       "      <td>16</td>\n",
       "      <td>0</td>\n",
       "      <td>16</td>\n",
       "      <td>0</td>\n",
       "      <td>0</td>\n",
       "      <td>0</td>\n",
       "      <td>XinBeiShi</td>\n",
       "      <td>25.108260</td>\n",
       "      <td>121.455960</td>\n",
       "      <td>2</td>\n",
       "      <td>2024-01-05 16:11:36</td>\n",
       "      <td>(25.10826, 121.45596)</td>\n",
       "    </tr>\n",
       "    <tr>\n",
       "      <th>903</th>\n",
       "      <td>500214063</td>\n",
       "      <td>2</td>\n",
       "      <td>16</td>\n",
       "      <td>0</td>\n",
       "      <td>0</td>\n",
       "      <td>0</td>\n",
       "      <td>0</td>\n",
       "      <td>0</td>\n",
       "      <td>XinBeiShi</td>\n",
       "      <td>25.097050</td>\n",
       "      <td>121.642410</td>\n",
       "      <td>2</td>\n",
       "      <td>2024-01-05 16:12:16</td>\n",
       "      <td>(25.09705, 121.64241)</td>\n",
       "    </tr>\n",
       "    <tr>\n",
       "      <th>...</th>\n",
       "      <td>...</td>\n",
       "      <td>...</td>\n",
       "      <td>...</td>\n",
       "      <td>...</td>\n",
       "      <td>...</td>\n",
       "      <td>...</td>\n",
       "      <td>...</td>\n",
       "      <td>...</td>\n",
       "      <td>...</td>\n",
       "      <td>...</td>\n",
       "      <td>...</td>\n",
       "      <td>...</td>\n",
       "      <td>...</td>\n",
       "      <td>...</td>\n",
       "    </tr>\n",
       "    <tr>\n",
       "      <th>6921</th>\n",
       "      <td>501299003</td>\n",
       "      <td>2</td>\n",
       "      <td>25</td>\n",
       "      <td>0</td>\n",
       "      <td>25</td>\n",
       "      <td>0</td>\n",
       "      <td>0</td>\n",
       "      <td>0</td>\n",
       "      <td>KaoXiongShi</td>\n",
       "      <td>22.628844</td>\n",
       "      <td>120.293747</td>\n",
       "      <td>5</td>\n",
       "      <td>2024-01-05 16:12:16</td>\n",
       "      <td>(22.628844, 120.293747)</td>\n",
       "    </tr>\n",
       "    <tr>\n",
       "      <th>7080</th>\n",
       "      <td>2087</td>\n",
       "      <td>1</td>\n",
       "      <td>18</td>\n",
       "      <td>0</td>\n",
       "      <td>0</td>\n",
       "      <td>0</td>\n",
       "      <td>0</td>\n",
       "      <td>0</td>\n",
       "      <td>TaoYuanShi</td>\n",
       "      <td>24.973517</td>\n",
       "      <td>121.298761</td>\n",
       "      <td>2</td>\n",
       "      <td>2024-01-05 16:12:17</td>\n",
       "      <td>(24.973517, 121.298761)</td>\n",
       "    </tr>\n",
       "    <tr>\n",
       "      <th>7453</th>\n",
       "      <td>1129</td>\n",
       "      <td>1</td>\n",
       "      <td>64</td>\n",
       "      <td>0</td>\n",
       "      <td>0</td>\n",
       "      <td>0</td>\n",
       "      <td>0</td>\n",
       "      <td>0</td>\n",
       "      <td>XinBeiShi</td>\n",
       "      <td>25.045729</td>\n",
       "      <td>121.426269</td>\n",
       "      <td>2</td>\n",
       "      <td>2024-01-05 16:11:42</td>\n",
       "      <td>(25.045729, 121.426269)</td>\n",
       "    </tr>\n",
       "    <tr>\n",
       "      <th>7716</th>\n",
       "      <td>1437</td>\n",
       "      <td>1</td>\n",
       "      <td>12</td>\n",
       "      <td>0</td>\n",
       "      <td>12</td>\n",
       "      <td>0</td>\n",
       "      <td>0</td>\n",
       "      <td>0</td>\n",
       "      <td>XinBeiShi</td>\n",
       "      <td>25.099230</td>\n",
       "      <td>121.450630</td>\n",
       "      <td>2</td>\n",
       "      <td>2024-01-05 16:11:32</td>\n",
       "      <td>(25.09923, 121.45063)</td>\n",
       "    </tr>\n",
       "    <tr>\n",
       "      <th>7730</th>\n",
       "      <td>1452</td>\n",
       "      <td>1</td>\n",
       "      <td>16</td>\n",
       "      <td>0</td>\n",
       "      <td>1</td>\n",
       "      <td>0</td>\n",
       "      <td>0</td>\n",
       "      <td>0</td>\n",
       "      <td>XinBeiShi</td>\n",
       "      <td>25.053098</td>\n",
       "      <td>121.470165</td>\n",
       "      <td>2</td>\n",
       "      <td>2024-01-05 16:11:44</td>\n",
       "      <td>(25.053098, 121.470165)</td>\n",
       "    </tr>\n",
       "  </tbody>\n",
       "</table>\n",
       "<p>124 rows × 14 columns</p>\n",
       "</div>"
      ],
      "text/plain": [
       "             id  type  space  full  empty  bike_yb1  bike_yb2  bike_eyb  \\\n",
       "18    500799001     2      5     0      5         0         0         0   \n",
       "464   500399001     2     26     0     26         0         0         0   \n",
       "535   500211002     2     26     0      0         0         0         0   \n",
       "611        1702     1     16     0     16         0         0         0   \n",
       "903   500214063     2     16     0      0         0         0         0   \n",
       "...         ...   ...    ...   ...    ...       ...       ...       ...   \n",
       "6921  501299003     2     25     0     25         0         0         0   \n",
       "7080       2087     1     18     0      0         0         0         0   \n",
       "7453       1129     1     64     0      0         0         0         0   \n",
       "7716       1437     1     12     0     12         0         0         0   \n",
       "7730       1452     1     16     0      1         0         0         0   \n",
       "\n",
       "             city        lat         lng  is_open                  ts  \\\n",
       "18     MiaoLiXian  24.612617  120.821200        5 2024-01-05 16:12:16   \n",
       "464    TaoYuanShi  24.594650  121.151120        5 2024-01-05 16:12:16   \n",
       "535     XinBeiShi  25.293010  121.536240        2 2024-01-05 16:12:16   \n",
       "611     XinBeiShi  25.108260  121.455960        2 2024-01-05 16:11:36   \n",
       "903     XinBeiShi  25.097050  121.642410        2 2024-01-05 16:12:16   \n",
       "...           ...        ...         ...      ...                 ...   \n",
       "6921  KaoXiongShi  22.628844  120.293747        5 2024-01-05 16:12:16   \n",
       "7080   TaoYuanShi  24.973517  121.298761        2 2024-01-05 16:12:17   \n",
       "7453    XinBeiShi  25.045729  121.426269        2 2024-01-05 16:11:42   \n",
       "7716    XinBeiShi  25.099230  121.450630        2 2024-01-05 16:11:32   \n",
       "7730    XinBeiShi  25.053098  121.470165        2 2024-01-05 16:11:44   \n",
       "\n",
       "                          gps  \n",
       "18      (24.612617, 120.8212)  \n",
       "464     (24.59465, 121.15112)  \n",
       "535     (25.29301, 121.53624)  \n",
       "611     (25.10826, 121.45596)  \n",
       "903     (25.09705, 121.64241)  \n",
       "...                       ...  \n",
       "6921  (22.628844, 120.293747)  \n",
       "7080  (24.973517, 121.298761)  \n",
       "7453  (25.045729, 121.426269)  \n",
       "7716    (25.09923, 121.45063)  \n",
       "7730  (25.053098, 121.470165)  \n",
       "\n",
       "[124 rows x 14 columns]"
      ]
     },
     "execution_count": 31,
     "metadata": {},
     "output_type": "execute_result"
    }
   ],
   "source": [
    "\n",
    "main_df[(main_df[\"is_open\"] > 1)]"
   ]
  },
  {
   "cell_type": "code",
   "execution_count": 31,
   "id": "a1bcbd73-bc91-428b-8a72-ec94a2cc08d8",
   "metadata": {
    "tags": []
   },
   "outputs": [],
   "source": [
    "from numpy.random import rand"
   ]
  },
  {
   "cell_type": "code",
   "execution_count": 48,
   "id": "c332e361-3a3b-4063-951d-fa790a9e0fc8",
   "metadata": {
    "tags": []
   },
   "outputs": [],
   "source": [
    "main_df_dummy = main_df.copy(deep=True)\n",
    "city_dummies = rand(main_df_dummy[\"city\"].isna().sum())\n",
    "main_df_dummy[\"city_na\"] = main_df_dummy[\"city\"].isna()"
   ]
  },
  {
   "cell_type": "code",
   "execution_count": 52,
   "id": "22f361d8-f034-4c4d-80e9-38e520a10075",
   "metadata": {
    "tags": []
   },
   "outputs": [
    {
     "data": {
      "text/plain": [
       "<seaborn.axisgrid.FacetGrid at 0x166bf9f00>"
      ]
     },
     "execution_count": 52,
     "metadata": {},
     "output_type": "execute_result"
    },
    {
     "data": {
      "image/png": "[encoded data removed]",
      "text/plain": [
       "<Figure size 584.875x500 with 1 Axes>"
      ]
     },
     "metadata": {},
     "output_type": "display_data"
    }
   ],
   "source": [
    "main_df[main_df_dummy[\"city\"].isna()]\n",
    "sns.relplot(kind=\"scatter\", x=\"lat\", y=\"lng\", data=main_df_dummy[main_df_dummy[\"lat\"] > 20], hue=\"city_na\")"
   ]
  },
  {
   "cell_type": "markdown",
   "id": "79848a29-3c86-4c1e-928d-4cfd14692dda",
   "metadata": {},
   "source": [
    "### Transfer to clean df"
   ]
  },
  {
   "cell_type": "code",
   "execution_count": null,
   "id": "67c0acf4-ac8c-4191-a1f6-d4e6dc6023e1",
   "metadata": {
    "tags": []
   },
   "outputs": [],
   "source": [
    "bikes_station_clean = main_df.copy()"
   ]
  },
  {
   "cell_type": "code",
   "execution_count": 44,
   "id": "a106e4d3-27a5-4511-91e5-4cc7b23bf099",
   "metadata": {
    "tags": []
   },
   "outputs": [
    {
     "ename": "TypeError",
     "evalue": "ufunc 'isnan' not supported for the input types, and the inputs could not be safely coerced to any supported types according to the casting rule ''safe''",
     "output_type": "error",
     "traceback": [
      "\u001b[0;31m---------------------------------------------------------------------------\u001b[0m",
      "\u001b[0;31mTypeError\u001b[0m                                 Traceback (most recent call last)",
      "Cell \u001b[0;32mIn[44], line 2\u001b[0m\n\u001b[1;32m      1\u001b[0m \u001b[38;5;28;01mimport\u001b[39;00m \u001b[38;5;21;01mnumpy\u001b[39;00m \u001b[38;5;28;01mas\u001b[39;00m \u001b[38;5;21;01mnp\u001b[39;00m \n\u001b[0;32m----> 2\u001b[0m \u001b[43mnp\u001b[49m\u001b[38;5;241;43m.\u001b[39;49m\u001b[43misnan\u001b[49m\u001b[43m(\u001b[49m\u001b[43mmain_df_dummy\u001b[49m\u001b[43m[\u001b[49m\u001b[38;5;124;43m\"\u001b[39;49m\u001b[38;5;124;43mcity\u001b[39;49m\u001b[38;5;124;43m\"\u001b[39;49m\u001b[43m]\u001b[49m\u001b[43m[\u001b[49m\u001b[38;5;241;43m0\u001b[39;49m\u001b[43m]\u001b[49m\u001b[43m)\u001b[49m\n",
      "\u001b[0;31mTypeError\u001b[0m: ufunc 'isnan' not supported for the input types, and the inputs could not be safely coerced to any supported types according to the casting rule ''safe''"
     ]
    }
   ],
   "source": [
    "import numpy as np \n",
    "np.isnan(main_df_dummy[\"city\"][0])"
   ]
  },
  {
   "cell_type": "code",
   "execution_count": 47,
   "id": "f3f45c07-d163-4cf2-8200-d417264e3853",
   "metadata": {
    "tags": []
   },
   "outputs": [
    {
     "data": {
      "text/plain": [
       "0       False\n",
       "1       False\n",
       "2       False\n",
       "3       False\n",
       "4       False\n",
       "        ...  \n",
       "7849    False\n",
       "7850    False\n",
       "7851    False\n",
       "7852    False\n",
       "7853    False\n",
       "Name: city, Length: 7854, dtype: bool"
      ]
     },
     "execution_count": 47,
     "metadata": {},
     "output_type": "execute_result"
    }
   ],
   "source": [
    "main_df_dummy[\"city\"].isna()"
   ]
  }
 ],
 "metadata": {
  "kernelspec": {
   "display_name": "Python 3 (ipykernel)",
   "language": "python",
   "name": "python3"
  },
  "language_info": {
   "codemirror_mode": {
    "name": "ipython",
    "version": 3
   },
   "file_extension": ".py",
   "mimetype": "text/x-python",
   "name": "python",
   "nbconvert_exporter": "python",
   "pygments_lexer": "ipython3",
   "version": "3.10.13"
  }
 },
 "nbformat": 4,
 "nbformat_minor": 5
}
