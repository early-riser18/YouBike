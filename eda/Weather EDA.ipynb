{
 "cells": [
  {
   "cell_type": "code",
   "execution_count": 93,
   "id": "675aaaa8-1f62-4193-9583-e12506a76aa8",
   "metadata": {},
   "outputs": [],
   "source": [
    "import pandas as pd\n",
    "import boto3\n",
    "import os\n",
    "import seaborn as sns\n",
    "import matplotlib.pyplot as plt"
   ]
  },
  {
   "cell_type": "code",
   "execution_count": 28,
   "id": "d3545ce2-f4c9-4171-b96a-00e14ea6efd9",
   "metadata": {},
   "outputs": [
    {
     "name": "stdout",
     "output_type": "stream",
     "text": [
      "/Users/justinwarambourg/Documents/programming/youbike/utils\n",
      "/Users/justinwarambourg/Documents/programming/youbike/eda\n"
     ]
    },
    {
     "name": "stderr",
     "output_type": "stream",
     "text": [
      "/Users/justinwarambourg/miniconda/envs/youbike/lib/python3.10/site-packages/IPython/core/magics/osm.py:417: UserWarning: using dhist requires you to install the `pickleshare` library.\n",
      "  self.shell.db['dhist'] = compress_dhist(dhist)[-100:]\n"
     ]
    }
   ],
   "source": [
    "%cd ../utils\n",
    "import s3_helper\n",
    "%cd ../eda"
   ]
  },
  {
   "cell_type": "code",
   "execution_count": 3,
   "id": "faeb3c0c-3083-4241-a365-fa2c10d14dfb",
   "metadata": {},
   "outputs": [],
   "source": [
    "os.environ['APP_ENV'] = 'stage'"
   ]
  },
  {
   "cell_type": "code",
   "execution_count": 4,
   "id": "e82703ef-b65d-4f00-be08-815c306f0f11",
   "metadata": {},
   "outputs": [
    {
     "name": "stdout",
     "output_type": "stream",
     "text": [
      "Loading from env:  stage\n"
     ]
    }
   ],
   "source": [
    "connection = s3_helper.ConnectionToS3.from_env()\n",
    "connection.bucket_name"
   ]
  },
  {
   "cell_type": "code",
   "execution_count": 5,
   "id": "b0742c44-fa60-44d5-b6d1-6ecc30cd21be",
   "metadata": {},
   "outputs": [
    {
     "data": {
      "text/plain": [
       "'stage-youbike'"
      ]
     },
     "execution_count": 5,
     "metadata": {},
     "output_type": "execute_result"
    }
   ],
   "source": [
    "s3_helper.download_from_bucket(connection, 'raw_data/', 'weather', './weather')"
   ]
  },
  {
   "cell_type": "code",
   "execution_count": 121,
   "id": "8f89e84c-f86b-4496-9cd0-ef2e17f9a95c",
   "metadata": {},
   "outputs": [],
   "source": [
    "#For now, let's use a historical dataset\n",
    "hist_df = pd.read_csv('./weather/raw_data/weather_data_raw_2024-03-15_14:16:56.csv')"
   ]
  },
  {
   "cell_type": "code",
   "execution_count": 122,
   "id": "623cadbc-fd28-4a92-9c75-4b313eef3267",
   "metadata": {},
   "outputs": [],
   "source": [
    "hist_df.sort_values(by=['lat', 'datetime'], inplace=True)"
   ]
  },
  {
   "cell_type": "code",
   "execution_count": 123,
   "id": "cdb70251-3766-4e2c-b483-b5017b887ff0",
   "metadata": {},
   "outputs": [],
   "source": [
    "hist_df = hist_df.drop_duplicates(subset=['datetime', 'lat', 'lng']).reset_index(drop=True)"
   ]
  },
  {
   "cell_type": "code",
   "execution_count": 127,
   "id": "04698ed9-38ed-43f4-b69d-1f9b2f98b1b2",
   "metadata": {},
   "outputs": [],
   "source": [
    "hist_df['datetime'] = pd.to_datetime(hist_df['datetime'], yearfirst=True).dt.tz_convert(tz='Asia/Taipei')"
   ]
  },
  {
   "cell_type": "code",
   "execution_count": 129,
   "id": "722519f7-69ce-4058-8c61-b44d554adeca",
   "metadata": {},
   "outputs": [],
   "source": [
    "hist_df.to_parquet('./weather_historical_2024-02-01_2024-03-15.parquet', index=False)"
   ]
  },
  {
   "cell_type": "code",
   "execution_count": 131,
   "id": "808c3f92-fea0-48b7-bce0-c6dd9b95a90e",
   "metadata": {},
   "outputs": [
    {
     "data": {
      "text/html": [
       "<div>\n",
       "<style scoped>\n",
       "    .dataframe tbody tr th:only-of-type {\n",
       "        vertical-align: middle;\n",
       "    }\n",
       "\n",
       "    .dataframe tbody tr th {\n",
       "        vertical-align: top;\n",
       "    }\n",
       "\n",
       "    .dataframe thead th {\n",
       "        text-align: right;\n",
       "    }\n",
       "</style>\n",
       "<table border=\"1\" class=\"dataframe\">\n",
       "  <thead>\n",
       "    <tr style=\"text-align: right;\">\n",
       "      <th></th>\n",
       "      <th>temperature</th>\n",
       "      <th>relative_humidity</th>\n",
       "      <th>apparent_temperature</th>\n",
       "      <th>precipitation</th>\n",
       "      <th>rain</th>\n",
       "      <th>wind_speed</th>\n",
       "      <th>wind_gusts</th>\n",
       "      <th>lat</th>\n",
       "      <th>lng</th>\n",
       "      <th>datetime</th>\n",
       "    </tr>\n",
       "  </thead>\n",
       "  <tbody>\n",
       "    <tr>\n",
       "      <th>0</th>\n",
       "      <td>20.812</td>\n",
       "      <td>87.51358</td>\n",
       "      <td>23.187660</td>\n",
       "      <td>0.0</td>\n",
       "      <td>0.0</td>\n",
       "      <td>5.771239</td>\n",
       "      <td>10.799999</td>\n",
       "      <td>22.601053</td>\n",
       "      <td>120.373833</td>\n",
       "      <td>2024-02-01 00:00:00+08:00</td>\n",
       "    </tr>\n",
       "    <tr>\n",
       "      <th>1</th>\n",
       "      <td>20.312</td>\n",
       "      <td>91.96054</td>\n",
       "      <td>22.406588</td>\n",
       "      <td>0.0</td>\n",
       "      <td>0.0</td>\n",
       "      <td>8.669949</td>\n",
       "      <td>14.400000</td>\n",
       "      <td>22.601053</td>\n",
       "      <td>120.373833</td>\n",
       "      <td>2024-02-01 01:00:00+08:00</td>\n",
       "    </tr>\n",
       "    <tr>\n",
       "      <th>2</th>\n",
       "      <td>19.562</td>\n",
       "      <td>94.84077</td>\n",
       "      <td>21.321457</td>\n",
       "      <td>0.0</td>\n",
       "      <td>0.0</td>\n",
       "      <td>10.163227</td>\n",
       "      <td>16.560000</td>\n",
       "      <td>22.601053</td>\n",
       "      <td>120.373833</td>\n",
       "      <td>2024-02-01 02:00:00+08:00</td>\n",
       "    </tr>\n",
       "    <tr>\n",
       "      <th>3</th>\n",
       "      <td>19.062</td>\n",
       "      <td>93.63786</td>\n",
       "      <td>20.704897</td>\n",
       "      <td>0.0</td>\n",
       "      <td>0.0</td>\n",
       "      <td>8.759178</td>\n",
       "      <td>16.919998</td>\n",
       "      <td>22.601053</td>\n",
       "      <td>120.373833</td>\n",
       "      <td>2024-02-01 03:00:00+08:00</td>\n",
       "    </tr>\n",
       "    <tr>\n",
       "      <th>4</th>\n",
       "      <td>18.312</td>\n",
       "      <td>94.79253</td>\n",
       "      <td>20.251684</td>\n",
       "      <td>0.0</td>\n",
       "      <td>0.0</td>\n",
       "      <td>5.052841</td>\n",
       "      <td>14.759999</td>\n",
       "      <td>22.601053</td>\n",
       "      <td>120.373833</td>\n",
       "      <td>2024-02-01 04:00:00+08:00</td>\n",
       "    </tr>\n",
       "  </tbody>\n",
       "</table>\n",
       "</div>"
      ],
      "text/plain": [
       "   temperature  relative_humidity  apparent_temperature  precipitation  rain  \\\n",
       "0       20.812           87.51358             23.187660            0.0   0.0   \n",
       "1       20.312           91.96054             22.406588            0.0   0.0   \n",
       "2       19.562           94.84077             21.321457            0.0   0.0   \n",
       "3       19.062           93.63786             20.704897            0.0   0.0   \n",
       "4       18.312           94.79253             20.251684            0.0   0.0   \n",
       "\n",
       "   wind_speed  wind_gusts        lat         lng                  datetime  \n",
       "0    5.771239   10.799999  22.601053  120.373833 2024-02-01 00:00:00+08:00  \n",
       "1    8.669949   14.400000  22.601053  120.373833 2024-02-01 01:00:00+08:00  \n",
       "2   10.163227   16.560000  22.601053  120.373833 2024-02-01 02:00:00+08:00  \n",
       "3    8.759178   16.919998  22.601053  120.373833 2024-02-01 03:00:00+08:00  \n",
       "4    5.052841   14.759999  22.601053  120.373833 2024-02-01 04:00:00+08:00  "
      ]
     },
     "execution_count": 131,
     "metadata": {},
     "output_type": "execute_result"
    }
   ],
   "source": [
    "hist_df.head(5)"
   ]
  }
 ],
 "metadata": {
  "kernelspec": {
   "display_name": "Python 3 (ipykernel)",
   "language": "python",
   "name": "python3"
  },
  "language_info": {
   "codemirror_mode": {
    "name": "ipython",
    "version": 3
   },
   "file_extension": ".py",
   "mimetype": "text/x-python",
   "name": "python",
   "nbconvert_exporter": "python",
   "pygments_lexer": "ipython3",
   "version": "3.10.13"
  }
 },
 "nbformat": 4,
 "nbformat_minor": 5
}
