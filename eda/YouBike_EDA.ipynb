{
 "cells": [
  {
   "cell_type": "code",
   "execution_count": 2,
   "id": "18672940-7efc-442d-98a2-067bdb121e04",
   "metadata": {
    "jupyter": {
     "source_hidden": true
    },
    "tags": []
   },
   "outputs": [],
   "source": [
    "import requests\n",
    "import pandas as pd\n",
    "import numpy as np\n",
    "import matplotlib.pyplot as plt\n",
    "import seaborn as sns\n",
    "from datetime import datetime, tzinfo\n",
    "import pytz\n",
    "from io import StringIO\n",
    "import os\n",
    "from IPython.display import Markdown\n",
    "import boto3"
   ]
  },
  {
   "cell_type": "code",
   "execution_count": 3,
   "id": "257cea24-fd90-48bd-9fa1-44226fdbabda",
   "metadata": {
    "jupyter": {
     "source_hidden": true
    }
   },
   "outputs": [],
   "source": [
    "# Wrapper function for convenience\n",
    "def dm(text):\n",
    "    return display(Markdown(text))"
   ]
  },
  {
   "cell_type": "markdown",
   "id": "6b363e26-22a0-4bf9-988c-a1d50659f688",
   "metadata": {},
   "source": [
    "# Introduction\n",
    "https://en.youbike.com.tw/region/main/stations/"
   ]
  },
  {
   "cell_type": "code",
   "execution_count": 4,
   "id": "b1af9cc0-7f6a-45a0-b735-6b826fd786d5",
   "metadata": {
    "jupyter": {
     "source_hidden": true
    }
   },
   "outputs": [],
   "source": [
    "class ConnectionToS3:\n",
    "    \"\"\"Factory method object to create an active boto3 S3 resource. Ensure the correct env variables are set before calling this object.\n",
    "\n",
    "    Available class method:\n",
    "        from_env(): create connection from environment variables\n",
    "\n",
    "    \"\"\"\n",
    "\n",
    "    def __init__(\n",
    "        self,\n",
    "        bucket_name: str,\n",
    "        aws_access_key_id: str,\n",
    "        aws_secret_access_key: str,\n",
    "        endpoint_url: str = None,\n",
    "        region_name: str = \"ap-northeast-1\",\n",
    "    ):\n",
    "        self._resource = boto3.resource(\n",
    "            \"s3\",\n",
    "            endpoint_url=endpoint_url,\n",
    "            region_name=region_name,\n",
    "            aws_access_key_id=aws_access_key_id,\n",
    "            aws_secret_access_key=aws_secret_access_key,\n",
    "        )\n",
    "        self._bucket_name = bucket_name\n",
    "\n",
    "    @classmethod\n",
    "    def from_env(cls):\n",
    "        app_env = os.getenv(\"APP_ENV\", \"local\")\n",
    "        print(\"Loading from env: \", app_env)\n",
    "        if app_env == \"local\":\n",
    "            return cls(\n",
    "                \"local-youbike\",\n",
    "                os.environ[\"MINIO_ACCESS_KEY_ID\"],\n",
    "                os.environ[\"MINIO_SECRET_ACCESS_KEY\"],\n",
    "                f'http://{os.environ[\"MINIO_HOST\"]}:9000'\n",
    "            )\n",
    "        elif app_env == \"stage\":\n",
    "            return cls(\n",
    "                \"stage-youbike\",\n",
    "                os.environ[\"AWS_ACCESS_KEY_ID\"],\n",
    "                os.environ[\"AWS_SECRET_ACCESS_KEY\"],\n",
    "            )\n",
    "        else:\n",
    "            raise Exception(f\"The argument env={app_env} is not valid.\")\n",
    "\n",
    "    @property\n",
    "    def resource(self):\n",
    "        return self._resource\n",
    "\n",
    "    @property\n",
    "    def bucket_name(self):\n",
    "        return self._bucket_name\n",
    "\n"
   ]
  },
  {
   "cell_type": "code",
   "execution_count": 5,
   "id": "ef5eb107-227a-4b52-9ef0-12152ec7dd66",
   "metadata": {},
   "outputs": [],
   "source": [
    "os.environ['APP_ENV'] = 'stage'"
   ]
  },
  {
   "cell_type": "code",
   "execution_count": 82,
   "id": "1864f043-c9ce-4491-ae08-2d2eba83b967",
   "metadata": {},
   "outputs": [
    {
     "name": "stdout",
     "output_type": "stream",
     "text": [
      "Loading from env:  stage\n"
     ]
    },
    {
     "data": {
      "text/plain": [
       "'stage-youbike'"
      ]
     },
     "execution_count": 82,
     "metadata": {},
     "output_type": "execute_result"
    }
   ],
   "source": [
    "connection = ConnectionToS3.from_env()\n",
    "connection.bucket_name"
   ]
  },
  {
   "cell_type": "code",
   "execution_count": 9,
   "id": "fb24b93d-965a-476c-b80d-0d38654d1e2b",
   "metadata": {},
   "outputs": [],
   "source": [
    "def download_from_bucket(bucket_name: str, remote_path: str, filter: str, dest_dir: str):\n",
    "    bucket = connection.resource.Bucket(bucket_name)\n",
    "\n",
    "    for obj in bucket.objects.all():\n",
    "        if f'{remote_path}{filter}' in obj.key:\n",
    "            local_file_path = os.path.join(dest_dir, obj.key)\n",
    "            if '/' in obj.key:\n",
    "                os.makedirs(os.path.dirname(local_file_path), exist_ok=True)\n",
    "                connection.resource.meta.client.download_file(connection.bucket_name, obj.key, local_file_path)\n",
    "            print(f\"Downloaded {obj.key} at {dest_dir}\")"
   ]
  },
  {
   "cell_type": "code",
   "execution_count": 11,
   "id": "01945edb-65f1-4e7b-ad5d-3954fa7335bf",
   "metadata": {
    "jupyter": {
     "source_hidden": true
    }
   },
   "outputs": [],
   "source": [
    "def create_or_append_df(parquet_path: str, df: pd.DataFrame) -> pd.DataFrame:\n",
    "    if df is None:\n",
    "        concat_df = pd.read_parquet(parquet_path).loc[[]]\n",
    "    else:\n",
    "        df_to_append = pd.read_parquet(parquet_path)\n",
    "        concat_df = pd.concat([df, df_to_append], join='outer')\n",
    "    return concat_df"
   ]
  },
  {
   "cell_type": "code",
   "execution_count": null,
   "id": "c7f25c34-c3af-43c9-bd69-0eb07bc09fa2",
   "metadata": {
    "scrolled": true
   },
   "outputs": [],
   "source": [
    "download_from_bucket(connection.bucket_name, 'raw_data/', '', '../tmp_data/parquet_raw_data')"
   ]
  },
  {
   "cell_type": "code",
   "execution_count": null,
   "id": "3e77ee0f-dcba-4266-b9bd-f3425562e74b",
   "metadata": {
    "jupyter": {
     "source_hidden": true
    },
    "scrolled": true,
    "tags": []
   },
   "outputs": [],
   "source": [
    "#Create historical data df\n",
    "hist_df = None\n",
    "cnt = 0\n",
    "for i in os.listdir('../tmp_data/parquet_raw_data/raw_data/'):\n",
    "    if \"youbike_dock_info_\" in i:\n",
    "        print(i)\n",
    "        try: \n",
    "            hist_df = create_or_append_df(f\"../tmp_data/parquet_raw_data/raw_data/{i}\", hist_df)\n",
    "        except:\n",
    "            print(\"failed with \", i)\n",
    "        cnt += 1\n",
    "        print(f\"Added: {cnt} / {len(os.listdir('../tmp_data/raw_data/'))}\")"
   ]
  },
  {
   "cell_type": "code",
   "execution_count": null,
   "id": "02b7b9de-96d8-493a-b1f6-6fbbe957618b",
   "metadata": {},
   "outputs": [],
   "source": [
    "#Enforce Schema for historical df\n",
    "hist_df = hist_df[['id', 'name', 'type', 'space', 'full', 'empty', 'bike_yb2', 'bike_eyb', 'city', 'area',\n",
    "         'lat', 'lng', 'address', 'is_open', 'place_id', 'last_update_ts', 'extraction_ts']].reset_index(drop=True)\n",
    "display(hist_df.head(5), hist_df.shape)"
   ]
  },
  {
   "cell_type": "code",
   "execution_count": 22,
   "id": "8ef2f21a-c373-41e8-9c01-53043c4af094",
   "metadata": {},
   "outputs": [],
   "source": [
    "#intermediary checkpoint\n",
    "hist_df.to_parquet(\"./youbike_dock_info_history_2024-02-15_2024-03-13_raw.parquet\", index=False)"
   ]
  },
  {
   "cell_type": "code",
   "execution_count": null,
   "id": "3b5536db-3d98-4079-a9e6-93920f448252",
   "metadata": {},
   "outputs": [],
   "source": [
    "hist_df['last_update_ts'] = pd.to_datetime(hist_df['last_update_ts'], yearfirst=True)\n",
    "hist_df['extraction_ts'] = pd.to_datetime(hist_df['extraction_ts'], yearfirst=True)"
   ]
  },
  {
   "cell_type": "code",
   "execution_count": 26,
   "id": "b820482d-cdc4-4381-815a-6683af6d03a8",
   "metadata": {},
   "outputs": [
    {
     "name": "stdout",
     "output_type": "stream",
     "text": [
      "<class 'pandas.core.frame.DataFrame'>\n",
      "RangeIndex: 10467683 entries, 0 to 10467682\n",
      "Data columns (total 17 columns):\n",
      " #   Column          Dtype  \n",
      "---  ------          -----  \n",
      " 0   id              int64  \n",
      " 1   name            object \n",
      " 2   type            int64  \n",
      " 3   space           int64  \n",
      " 4   full            int64  \n",
      " 5   empty           int64  \n",
      " 6   bike_yb2        int64  \n",
      " 7   bike_eyb        int64  \n",
      " 8   city            object \n",
      " 9   area            object \n",
      " 10  lat             float64\n",
      " 11  lng             float64\n",
      " 12  address         object \n",
      " 13  is_open         int64  \n",
      " 14  place_id        float64\n",
      " 15  last_update_ts  object \n",
      " 16  extraction_ts   object \n",
      "dtypes: float64(3), int64(8), object(6)\n",
      "memory usage: 1.3+ GB\n"
     ]
    }
   ],
   "source": [
    "hist_df.info()"
   ]
  },
  {
   "cell_type": "markdown",
   "id": "8a73905f-2680-4b09-9803-b475f202c0d5",
   "metadata": {},
   "source": [
    "# Validate & clean the dataset"
   ]
  },
  {
   "cell_type": "code",
   "execution_count": 31,
   "id": "4aada221-7dc4-4e76-bc9e-d2bb91a17474",
   "metadata": {
    "jupyter": {
     "source_hidden": true
    },
    "tags": []
   },
   "outputs": [],
   "source": [
    "# Analyze Raw da\n",
    "main_df = pd.read_parquet(\"./youbike_dock_info_history_2024-02-15_2024-03-13_raw.parquet\")\n",
    "\n"
   ]
  },
  {
   "cell_type": "code",
   "execution_count": 33,
   "id": "cae788bd-b3a9-4f7d-accc-6a635a4cd68d",
   "metadata": {
    "jupyter": {
     "source_hidden": true
    },
    "tags": []
   },
   "outputs": [
    {
     "data": {
      "text/plain": [
       "(10467683, 17)"
      ]
     },
     "metadata": {},
     "output_type": "display_data"
    },
    {
     "name": "stdout",
     "output_type": "stream",
     "text": [
      "<class 'pandas.core.frame.DataFrame'>\n",
      "RangeIndex: 10467683 entries, 0 to 10467682\n",
      "Data columns (total 17 columns):\n",
      " #   Column          Dtype                                \n",
      "---  ------          -----                                \n",
      " 0   id              int64                                \n",
      " 1   name            object                               \n",
      " 2   type            int64                                \n",
      " 3   space           int64                                \n",
      " 4   full            int64                                \n",
      " 5   empty           int64                                \n",
      " 6   bike_yb2        int64                                \n",
      " 7   bike_eyb        int64                                \n",
      " 8   city            object                               \n",
      " 9   area            object                               \n",
      " 10  lat             float64                              \n",
      " 11  lng             float64                              \n",
      " 12  address         object                               \n",
      " 13  is_open         int64                                \n",
      " 14  place_id        float64                              \n",
      " 15  last_update_ts  datetime64[us, pytz.FixedOffset(480)]\n",
      " 16  extraction_ts   datetime64[us, pytz.FixedOffset(480)]\n",
      "dtypes: datetime64[us, pytz.FixedOffset(480)](2), float64(3), int64(8), object(4)\n",
      "memory usage: 1.3+ GB\n"
     ]
    }
   ],
   "source": [
    "display(main_df.shape)\n",
    "main_df.info()"
   ]
  },
  {
   "cell_type": "markdown",
   "id": "49508c63-6d3b-4e26-9ccf-3d5abc9bf860",
   "metadata": {},
   "source": [
    "**Columns are understood as follows:**\n",
    "- id: unique identifier per bike station\n",
    "- type: youbike type (1.0, 2.0)\n",
    "- space: total available bike slots per station (= full + empty)\n",
    "- full: nbr of occupied slots (= bike_yb2 + bike_eyb)\n",
    "- empty: nbr of available slots for parking\n",
    "- bike_yb2: count of YouBike 2.0 in occupied slots (see 'full')\n",
    "- bike_eyb: count of E-Youbike 2.0 in occupied slots (see 'full')\n",
    "- city: city where bike station is located\n",
    "- area: city's district where bike station is located\n",
    "- lat: latitude coordinate of bike station\n",
    "- lng: longitude coordinate of bike station\n",
    "- place_id: ??\n",
    "- address: postal address of bike station\n",
    "- is_open: ??\n",
    "- last_updated_ts: timestamp of data in unix epoch\n",
    "- extraction_ts: ts data was pulled from API"
   ]
  },
  {
   "cell_type": "markdown",
   "id": "a86b23f1-5a9f-4240-8d21-1034b71f1b8a",
   "metadata": {},
   "source": [
    "## Check types & missing values"
   ]
  },
  {
   "cell_type": "code",
   "execution_count": 34,
   "id": "1e84f4b8-969a-4621-931d-0334e7a3149d",
   "metadata": {
    "jupyter": {
     "source_hidden": true
    },
    "tags": []
   },
   "outputs": [
    {
     "name": "stdout",
     "output_type": "stream",
     "text": [
      "<class 'pandas.core.frame.DataFrame'>\n",
      "RangeIndex: 10467683 entries, 0 to 10467682\n",
      "Data columns (total 17 columns):\n",
      " #   Column          Non-Null Count     Dtype                                \n",
      "---  ------          --------------     -----                                \n",
      " 0   id              10467683 non-null  int64                                \n",
      " 1   name            10467683 non-null  object                               \n",
      " 2   type            10467683 non-null  int64                                \n",
      " 3   space           10467683 non-null  int64                                \n",
      " 4   full            10467683 non-null  int64                                \n",
      " 5   empty           10467683 non-null  int64                                \n",
      " 6   bike_yb2        10467683 non-null  int64                                \n",
      " 7   bike_eyb        10467683 non-null  int64                                \n",
      " 8   city            10303383 non-null  object                               \n",
      " 9   area            10467683 non-null  object                               \n",
      " 10  lat             10467683 non-null  float64                              \n",
      " 11  lng             10467683 non-null  float64                              \n",
      " 12  address         10467683 non-null  object                               \n",
      " 13  is_open         10467683 non-null  int64                                \n",
      " 14  place_id        0 non-null         float64                              \n",
      " 15  last_update_ts  10467683 non-null  datetime64[us, pytz.FixedOffset(480)]\n",
      " 16  extraction_ts   10467683 non-null  datetime64[us, pytz.FixedOffset(480)]\n",
      "dtypes: datetime64[us, pytz.FixedOffset(480)](2), float64(3), int64(8), object(4)\n",
      "memory usage: 1.3+ GB\n"
     ]
    },
    {
     "data": {
      "text/plain": [
       "None"
      ]
     },
     "metadata": {},
     "output_type": "display_data"
    },
    {
     "data": {
      "text/plain": [
       "id                       0\n",
       "name                     0\n",
       "type                     0\n",
       "space                    0\n",
       "full                     0\n",
       "empty                    0\n",
       "bike_yb2                 0\n",
       "bike_eyb                 0\n",
       "city                164300\n",
       "area                     0\n",
       "lat                      0\n",
       "lng                      0\n",
       "address                  0\n",
       "is_open                  0\n",
       "place_id          10467683\n",
       "last_update_ts           0\n",
       "extraction_ts            0\n",
       "dtype: int64"
      ]
     },
     "metadata": {},
     "output_type": "display_data"
    }
   ],
   "source": [
    "display(main_df.info(show_counts=True))\n",
    "display(main_df.isna().sum())"
   ]
  },
  {
   "cell_type": "markdown",
   "id": "f3192d59-44f8-450f-8916-31fabd231ba0",
   "metadata": {},
   "source": [
    "**Observation**\n",
    "- place_id contains no value\n",
    "- city has empty values\n",
    "- updated_at is an int64"
   ]
  },
  {
   "cell_type": "code",
   "execution_count": 35,
   "id": "102f0846-6439-46a7-82d1-f9cb73c96258",
   "metadata": {
    "tags": []
   },
   "outputs": [],
   "source": [
    "# Drop empty cities\n",
    "main_df.drop(main_df[main_df[\"city\"].isna()].index, inplace=True) # Discard vals with null cities\n",
    "\n",
    "#Drop youbikes of type 1 - because soon discontinued\n",
    "main_df.drop(main_df[main_df[\"type\"] != 2].index, inplace=True)\n",
    "\n",
    "# Convert ts - Not necessary since using parquet\n",
    "# main_df[\"last_update_ts\"] = pd.to_datetime(main_df[\"last_update_ts\"], yearfirst=True) \n",
    "# main_df[\"extraction_ts\"] = pd.to_datetime(main_df[\"extraction_ts\"], yearfirst=True) "
   ]
  },
  {
   "cell_type": "markdown",
   "id": "cbb5ed05-0077-410f-a9b6-07244b113fcb",
   "metadata": {},
   "source": [
    "## Discard irrelevant features"
   ]
  },
  {
   "cell_type": "code",
   "execution_count": 36,
   "id": "896fb099-0dbb-4b74-aa9c-b520fe605840",
   "metadata": {
    "tags": []
   },
   "outputs": [],
   "source": [
    "main_df.drop(labels=[\"name\", \"area\", \"address\", 'place_id'], axis=1, inplace=True)"
   ]
  },
  {
   "cell_type": "code",
   "execution_count": 37,
   "id": "4a42bd80-540a-43ae-bb40-d19763880fa9",
   "metadata": {
    "jupyter": {
     "source_hidden": true
    }
   },
   "outputs": [
    {
     "data": {
      "text/markdown": [
       "#### Any missing values left?"
      ],
      "text/plain": [
       "<IPython.core.display.Markdown object>"
      ]
     },
     "metadata": {},
     "output_type": "display_data"
    },
    {
     "data": {
      "text/plain": [
       "id                0\n",
       "type              0\n",
       "space             0\n",
       "full              0\n",
       "empty             0\n",
       "bike_yb2          0\n",
       "bike_eyb          0\n",
       "city              0\n",
       "lat               0\n",
       "lng               0\n",
       "is_open           0\n",
       "last_update_ts    0\n",
       "extraction_ts     0\n",
       "dtype: int64"
      ]
     },
     "metadata": {},
     "output_type": "display_data"
    }
   ],
   "source": [
    "dm(\"#### Any missing values left?\")\n",
    "display(main_df.isna().sum())"
   ]
  },
  {
   "cell_type": "markdown",
   "id": "59720735-791e-4c56-8f1a-dc5cfcd5852c",
   "metadata": {},
   "source": [
    "## Check assumptions"
   ]
  },
  {
   "cell_type": "code",
   "execution_count": 38,
   "id": "b86da59e-04a0-46fd-9f18-7424c802bfff",
   "metadata": {
    "jupyter": {
     "source_hidden": true
    }
   },
   "outputs": [
    {
     "data": {
      "text/markdown": [
       "#### Checking if space = full + empty"
      ],
      "text/plain": [
       "<IPython.core.display.Markdown object>"
      ]
     },
     "metadata": {},
     "output_type": "display_data"
    },
    {
     "data": {
      "text/markdown": [
       "**Rows where unequal:** 954307"
      ],
      "text/plain": [
       "<IPython.core.display.Markdown object>"
      ]
     },
     "metadata": {},
     "output_type": "display_data"
    },
    {
     "data": {
      "text/markdown": [
       "**As proportion of total dataset:** 0.1058002807350998"
      ],
      "text/plain": [
       "<IPython.core.display.Markdown object>"
      ]
     },
     "metadata": {},
     "output_type": "display_data"
    },
    {
     "data": {
      "text/markdown": [
       "**Excerpt output**"
      ],
      "text/plain": [
       "<IPython.core.display.Markdown object>"
      ]
     },
     "metadata": {},
     "output_type": "display_data"
    },
    {
     "data": {
      "text/html": [
       "<div>\n",
       "<style scoped>\n",
       "    .dataframe tbody tr th:only-of-type {\n",
       "        vertical-align: middle;\n",
       "    }\n",
       "\n",
       "    .dataframe tbody tr th {\n",
       "        vertical-align: top;\n",
       "    }\n",
       "\n",
       "    .dataframe thead th {\n",
       "        text-align: right;\n",
       "    }\n",
       "</style>\n",
       "<table border=\"1\" class=\"dataframe\">\n",
       "  <thead>\n",
       "    <tr style=\"text-align: right;\">\n",
       "      <th></th>\n",
       "      <th>id</th>\n",
       "      <th>type</th>\n",
       "      <th>space</th>\n",
       "      <th>full</th>\n",
       "      <th>empty</th>\n",
       "      <th>bike_yb2</th>\n",
       "      <th>bike_eyb</th>\n",
       "      <th>city</th>\n",
       "      <th>lat</th>\n",
       "      <th>lng</th>\n",
       "      <th>is_open</th>\n",
       "      <th>last_update_ts</th>\n",
       "      <th>extraction_ts</th>\n",
       "    </tr>\n",
       "  </thead>\n",
       "  <tbody>\n",
       "    <tr>\n",
       "      <th>3</th>\n",
       "      <td>500312002</td>\n",
       "      <td>2</td>\n",
       "      <td>21</td>\n",
       "      <td>0</td>\n",
       "      <td>0</td>\n",
       "      <td>0</td>\n",
       "      <td>0</td>\n",
       "      <td>桃園市</td>\n",
       "      <td>25.05246</td>\n",
       "      <td>121.29786</td>\n",
       "      <td>0</td>\n",
       "      <td>2024-02-22 10:34:19+08:00</td>\n",
       "      <td>2024-02-22 15:42:19+08:00</td>\n",
       "    </tr>\n",
       "    <tr>\n",
       "      <th>4</th>\n",
       "      <td>500301028</td>\n",
       "      <td>2</td>\n",
       "      <td>17</td>\n",
       "      <td>0</td>\n",
       "      <td>0</td>\n",
       "      <td>0</td>\n",
       "      <td>0</td>\n",
       "      <td>桃園市</td>\n",
       "      <td>24.92931</td>\n",
       "      <td>121.28456</td>\n",
       "      <td>0</td>\n",
       "      <td>2024-02-22 11:03:20+08:00</td>\n",
       "      <td>2024-02-22 15:42:19+08:00</td>\n",
       "    </tr>\n",
       "    <tr>\n",
       "      <th>15</th>\n",
       "      <td>501335005</td>\n",
       "      <td>2</td>\n",
       "      <td>22</td>\n",
       "      <td>0</td>\n",
       "      <td>0</td>\n",
       "      <td>0</td>\n",
       "      <td>0</td>\n",
       "      <td>臺南市</td>\n",
       "      <td>22.92332</td>\n",
       "      <td>120.28666</td>\n",
       "      <td>0</td>\n",
       "      <td>2024-02-20 15:14:18+08:00</td>\n",
       "      <td>2024-02-22 15:42:19+08:00</td>\n",
       "    </tr>\n",
       "    <tr>\n",
       "      <th>16</th>\n",
       "      <td>501335006</td>\n",
       "      <td>2</td>\n",
       "      <td>20</td>\n",
       "      <td>0</td>\n",
       "      <td>0</td>\n",
       "      <td>0</td>\n",
       "      <td>0</td>\n",
       "      <td>臺南市</td>\n",
       "      <td>22.92629</td>\n",
       "      <td>120.28519</td>\n",
       "      <td>0</td>\n",
       "      <td>2024-02-20 15:14:17+08:00</td>\n",
       "      <td>2024-02-22 15:42:19+08:00</td>\n",
       "    </tr>\n",
       "    <tr>\n",
       "      <th>17</th>\n",
       "      <td>501323028</td>\n",
       "      <td>2</td>\n",
       "      <td>14</td>\n",
       "      <td>0</td>\n",
       "      <td>0</td>\n",
       "      <td>0</td>\n",
       "      <td>0</td>\n",
       "      <td>臺南市</td>\n",
       "      <td>22.96601</td>\n",
       "      <td>120.18523</td>\n",
       "      <td>0</td>\n",
       "      <td>2024-02-20 15:16:17+08:00</td>\n",
       "      <td>2024-02-22 15:42:19+08:00</td>\n",
       "    </tr>\n",
       "  </tbody>\n",
       "</table>\n",
       "</div>"
      ],
      "text/plain": [
       "           id  type  space  full  empty  bike_yb2  bike_eyb city       lat  \\\n",
       "3   500312002     2     21     0      0         0         0  桃園市  25.05246   \n",
       "4   500301028     2     17     0      0         0         0  桃園市  24.92931   \n",
       "15  501335005     2     22     0      0         0         0  臺南市  22.92332   \n",
       "16  501335006     2     20     0      0         0         0  臺南市  22.92629   \n",
       "17  501323028     2     14     0      0         0         0  臺南市  22.96601   \n",
       "\n",
       "          lng  is_open            last_update_ts             extraction_ts  \n",
       "3   121.29786        0 2024-02-22 10:34:19+08:00 2024-02-22 15:42:19+08:00  \n",
       "4   121.28456        0 2024-02-22 11:03:20+08:00 2024-02-22 15:42:19+08:00  \n",
       "15  120.28666        0 2024-02-20 15:14:18+08:00 2024-02-22 15:42:19+08:00  \n",
       "16  120.28519        0 2024-02-20 15:14:17+08:00 2024-02-22 15:42:19+08:00  \n",
       "17  120.18523        0 2024-02-20 15:16:17+08:00 2024-02-22 15:42:19+08:00  "
      ]
     },
     "metadata": {},
     "output_type": "display_data"
    },
    {
     "data": {
      "text/markdown": [
       "**conclusion:** Understanding the is_open code mapping would be useful to assess how to handle these records"
      ],
      "text/plain": [
       "<IPython.core.display.Markdown object>"
      ]
     },
     "metadata": {},
     "output_type": "display_data"
    }
   ],
   "source": [
    "# Space = full + empty\n",
    "\n",
    "space_uneq = main_df[main_df[\"space\"] != (main_df[\"full\"] + main_df[\"empty\"])]\n",
    "\n",
    "\n",
    "display(Markdown('#### Checking if space = full + empty'))\n",
    "display(Markdown(f'**Rows where unequal:** {space_uneq.shape[0]}'))\n",
    "display(Markdown(f'**As proportion of total dataset:** {space_uneq.shape[0] / main_df.shape[0]}')) #displays ratio of total bikes \n",
    "display(Markdown('**Excerpt output**'))\n",
    "display(space_uneq.head(5)) # Displays where it is not true\n",
    "dm(f'**conclusion:** Understanding the is_open code mapping would be useful to assess how to handle these records')"
   ]
  },
  {
   "cell_type": "code",
   "execution_count": 39,
   "id": "2b8ba329-28ab-4bb6-9aec-e2f755109ba2",
   "metadata": {
    "jupyter": {
     "source_hidden": true
    }
   },
   "outputs": [
    {
     "data": {
      "text/markdown": [
       "Inequality appears across all is_open, and mostly on 0 and 2. \n",
       " Proportion rows unequal vs total per is_open"
      ],
      "text/plain": [
       "<IPython.core.display.Markdown object>"
      ]
     },
     "metadata": {},
     "output_type": "display_data"
    },
    {
     "data": {
      "text/plain": [
       "is_open\n",
       "0    0.267788\n",
       "1    0.096824\n",
       "2    0.654579\n",
       "3         NaN\n",
       "4    0.036075\n",
       "5    0.119177\n",
       "Name: count, dtype: float64"
      ]
     },
     "metadata": {},
     "output_type": "display_data"
    }
   ],
   "source": [
    "dm(f'Inequality appears across all is_open, and mostly on 0 and 2. \\n Proportion rows unequal vs total per is_open')\n",
    "display(space_uneq[\"is_open\"].value_counts() / main_df[\"is_open\"].value_counts())"
   ]
  },
  {
   "cell_type": "code",
   "execution_count": 40,
   "id": "644c3145-fcee-4d08-8073-5f8208ce8764",
   "metadata": {
    "jupyter": {
     "source_hidden": true
    }
   },
   "outputs": [
    {
     "data": {
      "text/markdown": [
       "#### Check if full = bike_yb2 + bike_eyb"
      ],
      "text/plain": [
       "<IPython.core.display.Markdown object>"
      ]
     },
     "metadata": {},
     "output_type": "display_data"
    },
    {
     "data": {
      "text/markdown": [
       "**Rows where unequal:** 0"
      ],
      "text/plain": [
       "<IPython.core.display.Markdown object>"
      ]
     },
     "metadata": {},
     "output_type": "display_data"
    },
    {
     "data": {
      "text/markdown": [
       "**Excerpt output where unequal**"
      ],
      "text/plain": [
       "<IPython.core.display.Markdown object>"
      ]
     },
     "metadata": {},
     "output_type": "display_data"
    },
    {
     "data": {
      "text/html": [
       "<div>\n",
       "<style scoped>\n",
       "    .dataframe tbody tr th:only-of-type {\n",
       "        vertical-align: middle;\n",
       "    }\n",
       "\n",
       "    .dataframe tbody tr th {\n",
       "        vertical-align: top;\n",
       "    }\n",
       "\n",
       "    .dataframe thead th {\n",
       "        text-align: right;\n",
       "    }\n",
       "</style>\n",
       "<table border=\"1\" class=\"dataframe\">\n",
       "  <thead>\n",
       "    <tr style=\"text-align: right;\">\n",
       "      <th></th>\n",
       "      <th>id</th>\n",
       "      <th>type</th>\n",
       "      <th>space</th>\n",
       "      <th>full</th>\n",
       "      <th>empty</th>\n",
       "      <th>bike_yb2</th>\n",
       "      <th>bike_eyb</th>\n",
       "      <th>city</th>\n",
       "      <th>lat</th>\n",
       "      <th>lng</th>\n",
       "      <th>is_open</th>\n",
       "      <th>last_update_ts</th>\n",
       "      <th>extraction_ts</th>\n",
       "    </tr>\n",
       "  </thead>\n",
       "  <tbody>\n",
       "  </tbody>\n",
       "</table>\n",
       "</div>"
      ],
      "text/plain": [
       "Empty DataFrame\n",
       "Columns: [id, type, space, full, empty, bike_yb2, bike_eyb, city, lat, lng, is_open, last_update_ts, extraction_ts]\n",
       "Index: []"
      ]
     },
     "metadata": {},
     "output_type": "display_data"
    },
    {
     "data": {
      "text/markdown": [
       "**Conclusion**: Assumption is valid"
      ],
      "text/plain": [
       "<IPython.core.display.Markdown object>"
      ]
     },
     "metadata": {},
     "output_type": "display_data"
    }
   ],
   "source": [
    "dm('#### Check if full = bike_yb2 + bike_eyb')\n",
    "full_uneq = main_df[main_df[\"full\"] != (main_df[\"bike_yb2\"] + main_df[\"bike_eyb\"])]\n",
    "dm(f'**Rows where unequal:** {full_uneq.shape[0]}')\n",
    "dm(f'**Excerpt output where unequal**')\n",
    "display(full_uneq.head(5))\n",
    "dm(f'**Conclusion**: Assumption is valid')"
   ]
  },
  {
   "cell_type": "markdown",
   "id": "823c6d5d-249c-4d32-8fad-19bb74647d31",
   "metadata": {
    "tags": []
   },
   "source": [
    "## Check range and distribution of values"
   ]
  },
  {
   "cell_type": "markdown",
   "id": "46eab2b7-1f19-4993-8bb2-b21d0d8940e2",
   "metadata": {},
   "source": [
    "### Categorical"
   ]
  },
  {
   "cell_type": "code",
   "execution_count": 41,
   "id": "e2683e0e-27ba-454e-9e5c-5bd3f092147d",
   "metadata": {
    "jupyter": {
     "source_hidden": true
    },
    "tags": []
   },
   "outputs": [],
   "source": [
    "main_df_cat = main_df.select_dtypes(include=[\"category\", \"object\"]) \n",
    "main_df_cat[\"type\"] = hist_df[\"type\"]\n",
    "main_df_cat[\"is_open\"] = hist_df[\"is_open\"]"
   ]
  },
  {
   "cell_type": "code",
   "execution_count": 42,
   "id": "9b0491d1-8b34-4e5a-b2fe-7f67800d1496",
   "metadata": {
    "jupyter": {
     "source_hidden": true
    }
   },
   "outputs": [
    {
     "name": "stdout",
     "output_type": "stream",
     "text": [
      "Unique values in 'city': ['台北市' '桃園市' '臺南市' '高雄市' '新北市' '台中市' '新竹科學工業園區' '屏東縣' '嘉義市' '苗栗縣' '新竹縣'\n",
      " '新竹市']\n",
      "Unique values in 'type': [2]\n",
      "Unique values in 'is_open': [0 1 2 5 4 3]\n"
     ]
    }
   ],
   "source": [
    "for col in main_df_cat.columns:\n",
    "    unique_values = main_df[col].unique()\n",
    "    print(f\"Unique values in '{col}': {unique_values}\")"
   ]
  },
  {
   "cell_type": "code",
   "execution_count": 43,
   "id": "97e43208-8cae-484a-8889-0804920c7941",
   "metadata": {
    "tags": []
   },
   "outputs": [],
   "source": [
    "#Map city to ascii chars\n",
    "city_name_glossary = {\"新北市\": \"XinBeiShi\",\n",
    "                      \"台北市\": \"TaiBeiShi\",\n",
    "                      \"台中市\":\"TaiZhongShi\",\n",
    "                      \"高雄市\":\"KaoXiongShi\",\n",
    "                      \"桃園市\":\"TaoYuanShi\",\n",
    "                      \"臺南市\": \"TaiNanShi\",\n",
    "                      \"嘉義市\": \"JiaYiShi\",\n",
    "                      \"屏東縣\": \"PingDongXian\",\n",
    "                      \"新竹市\": \"XinZhuShi\",\n",
    "                      \"新竹縣\": \"XinZhuXian\",\n",
    "                      \"苗栗縣\" : \"MiaoLiXian\",\n",
    "                      \"新竹科學工業園區\": \"XinZhuKeXueGong\"}  \n",
    "\n",
    "#TODO Need to catch KeyError and set default value. \n",
    "main_df[\"city\"] = main_df.apply(lambda x: city_name_glossary[x[\"city\"]], axis=1)\n"
   ]
  },
  {
   "cell_type": "markdown",
   "id": "1e4d8ec6-9aaf-4358-b2f2-07fcedc73c7e",
   "metadata": {},
   "source": [
    "### Numerical"
   ]
  },
  {
   "cell_type": "code",
   "execution_count": 44,
   "id": "dcef713c-749e-4bbf-84fe-6bfa7004fd51",
   "metadata": {
    "jupyter": {
     "source_hidden": true
    }
   },
   "outputs": [],
   "source": [
    "main_df_num = main_df.drop(labels=main_df_cat.columns, axis=1)\n",
    "main_df_num['last_update_ts'] = main_df['last_update_ts'].copy(deep=True)\n",
    "main_df_num['extraction_ts'] = main_df['extraction_ts'].copy(deep=True)"
   ]
  },
  {
   "cell_type": "code",
   "execution_count": 45,
   "id": "6e320a75-08e4-4069-83f9-aa1b944ca35a",
   "metadata": {
    "jupyter": {
     "source_hidden": true
    }
   },
   "outputs": [],
   "source": [
    "pd.set_option('display.float_format', '{:.2f}'.format)\n"
   ]
  },
  {
   "cell_type": "code",
   "execution_count": 46,
   "id": "a34d9e3d-ff68-4953-91ee-380a367e8976",
   "metadata": {
    "jupyter": {
     "source_hidden": true
    },
    "tags": []
   },
   "outputs": [
    {
     "data": {
      "text/html": [
       "<div>\n",
       "<style scoped>\n",
       "    .dataframe tbody tr th:only-of-type {\n",
       "        vertical-align: middle;\n",
       "    }\n",
       "\n",
       "    .dataframe tbody tr th {\n",
       "        vertical-align: top;\n",
       "    }\n",
       "\n",
       "    .dataframe thead th {\n",
       "        text-align: right;\n",
       "    }\n",
       "</style>\n",
       "<table border=\"1\" class=\"dataframe\">\n",
       "  <thead>\n",
       "    <tr style=\"text-align: right;\">\n",
       "      <th></th>\n",
       "      <th>id</th>\n",
       "      <th>space</th>\n",
       "      <th>full</th>\n",
       "      <th>empty</th>\n",
       "      <th>bike_yb2</th>\n",
       "      <th>bike_eyb</th>\n",
       "      <th>lat</th>\n",
       "      <th>lng</th>\n",
       "      <th>last_update_ts</th>\n",
       "      <th>extraction_ts</th>\n",
       "    </tr>\n",
       "  </thead>\n",
       "  <tbody>\n",
       "    <tr>\n",
       "      <th>count</th>\n",
       "      <td>9019891.00</td>\n",
       "      <td>9019891.00</td>\n",
       "      <td>9019891.00</td>\n",
       "      <td>9019891.00</td>\n",
       "      <td>9019891.00</td>\n",
       "      <td>9019891.00</td>\n",
       "      <td>9019891.00</td>\n",
       "      <td>9019891.00</td>\n",
       "      <td>9019891</td>\n",
       "      <td>9019891</td>\n",
       "    </tr>\n",
       "    <tr>\n",
       "      <th>mean</th>\n",
       "      <td>500639565.85</td>\n",
       "      <td>20.89</td>\n",
       "      <td>6.98</td>\n",
       "      <td>13.44</td>\n",
       "      <td>6.68</td>\n",
       "      <td>0.31</td>\n",
       "      <td>24.11</td>\n",
       "      <td>120.56</td>\n",
       "      <td>2024-03-01 11:53:32.968970+08:00</td>\n",
       "      <td>2024-03-02 18:45:48.909483+08:00</td>\n",
       "    </tr>\n",
       "    <tr>\n",
       "      <th>min</th>\n",
       "      <td>500101001.00</td>\n",
       "      <td>0.00</td>\n",
       "      <td>0.00</td>\n",
       "      <td>0.00</td>\n",
       "      <td>0.00</td>\n",
       "      <td>0.00</td>\n",
       "      <td>0.00</td>\n",
       "      <td>0.00</td>\n",
       "      <td>2024-01-14 01:18:15+08:00</td>\n",
       "      <td>2024-02-15 19:41:49+08:00</td>\n",
       "    </tr>\n",
       "    <tr>\n",
       "      <th>25%</th>\n",
       "      <td>500207018.00</td>\n",
       "      <td>14.00</td>\n",
       "      <td>2.00</td>\n",
       "      <td>7.00</td>\n",
       "      <td>2.00</td>\n",
       "      <td>0.00</td>\n",
       "      <td>23.01</td>\n",
       "      <td>120.38</td>\n",
       "      <td>2024-02-22 14:21:43+08:00</td>\n",
       "      <td>2024-02-23 09:46:26+08:00</td>\n",
       "    </tr>\n",
       "    <tr>\n",
       "      <th>50%</th>\n",
       "      <td>500602036.00</td>\n",
       "      <td>17.00</td>\n",
       "      <td>5.00</td>\n",
       "      <td>11.00</td>\n",
       "      <td>5.00</td>\n",
       "      <td>0.00</td>\n",
       "      <td>24.39</td>\n",
       "      <td>120.81</td>\n",
       "      <td>2024-03-01 22:45:18+08:00</td>\n",
       "      <td>2024-03-02 02:48:34+08:00</td>\n",
       "    </tr>\n",
       "    <tr>\n",
       "      <th>75%</th>\n",
       "      <td>501203107.00</td>\n",
       "      <td>24.00</td>\n",
       "      <td>9.00</td>\n",
       "      <td>17.00</td>\n",
       "      <td>9.00</td>\n",
       "      <td>0.00</td>\n",
       "      <td>25.03</td>\n",
       "      <td>121.49</td>\n",
       "      <td>2024-03-10 21:45:18+08:00</td>\n",
       "      <td>2024-03-11 02:30:54+08:00</td>\n",
       "    </tr>\n",
       "    <tr>\n",
       "      <th>max</th>\n",
       "      <td>508201041.00</td>\n",
       "      <td>99.00</td>\n",
       "      <td>99.00</td>\n",
       "      <td>99.00</td>\n",
       "      <td>99.00</td>\n",
       "      <td>62.00</td>\n",
       "      <td>25.29</td>\n",
       "      <td>122.00</td>\n",
       "      <td>2024-03-13 12:09:19+08:00</td>\n",
       "      <td>2024-03-13 12:10:56+08:00</td>\n",
       "    </tr>\n",
       "    <tr>\n",
       "      <th>std</th>\n",
       "      <td>742878.20</td>\n",
       "      <td>11.86</td>\n",
       "      <td>7.07</td>\n",
       "      <td>10.19</td>\n",
       "      <td>6.98</td>\n",
       "      <td>1.14</td>\n",
       "      <td>1.64</td>\n",
       "      <td>6.79</td>\n",
       "      <td>NaN</td>\n",
       "      <td>NaN</td>\n",
       "    </tr>\n",
       "  </tbody>\n",
       "</table>\n",
       "</div>"
      ],
      "text/plain": [
       "                id      space       full      empty   bike_yb2   bike_eyb  \\\n",
       "count   9019891.00 9019891.00 9019891.00 9019891.00 9019891.00 9019891.00   \n",
       "mean  500639565.85      20.89       6.98      13.44       6.68       0.31   \n",
       "min   500101001.00       0.00       0.00       0.00       0.00       0.00   \n",
       "25%   500207018.00      14.00       2.00       7.00       2.00       0.00   \n",
       "50%   500602036.00      17.00       5.00      11.00       5.00       0.00   \n",
       "75%   501203107.00      24.00       9.00      17.00       9.00       0.00   \n",
       "max   508201041.00      99.00      99.00      99.00      99.00      62.00   \n",
       "std      742878.20      11.86       7.07      10.19       6.98       1.14   \n",
       "\n",
       "             lat        lng                    last_update_ts  \\\n",
       "count 9019891.00 9019891.00                           9019891   \n",
       "mean       24.11     120.56  2024-03-01 11:53:32.968970+08:00   \n",
       "min         0.00       0.00         2024-01-14 01:18:15+08:00   \n",
       "25%        23.01     120.38         2024-02-22 14:21:43+08:00   \n",
       "50%        24.39     120.81         2024-03-01 22:45:18+08:00   \n",
       "75%        25.03     121.49         2024-03-10 21:45:18+08:00   \n",
       "max        25.29     122.00         2024-03-13 12:09:19+08:00   \n",
       "std         1.64       6.79                               NaN   \n",
       "\n",
       "                          extraction_ts  \n",
       "count                           9019891  \n",
       "mean   2024-03-02 18:45:48.909483+08:00  \n",
       "min           2024-02-15 19:41:49+08:00  \n",
       "25%           2024-02-23 09:46:26+08:00  \n",
       "50%           2024-03-02 02:48:34+08:00  \n",
       "75%           2024-03-11 02:30:54+08:00  \n",
       "max           2024-03-13 12:10:56+08:00  \n",
       "std                                 NaN  "
      ]
     },
     "execution_count": 46,
     "metadata": {},
     "output_type": "execute_result"
    }
   ],
   "source": [
    "main_df_num.describe(include='all')"
   ]
  },
  {
   "cell_type": "markdown",
   "id": "6bc567dc-5e02-4442-b5dd-be1455832490",
   "metadata": {},
   "source": [
    "**Observations about range and distribution**\n",
    "- Empty has negative values\n",
    "- Space min value is zero\n",
    "- Some long/lat coordinates are outside of Taiwan\n",
    "- Some ts shows stale data (many days older than latest ts)\n",
    "- Rest is according to expectations"
   ]
  },
  {
   "cell_type": "code",
   "execution_count": 47,
   "id": "69a82a3f-1408-4a40-a172-3d6d57ecf20b",
   "metadata": {
    "jupyter": {
     "source_hidden": true
    }
   },
   "outputs": [
    {
     "data": {
      "text/markdown": [
       "\n",
       "**Dropping:**\n",
       "- Stations with negative empty values. (= Available spaces cannot be negative.)\n",
       "- Stations without space are irrelevant\n",
       "- Stations located outside of Taiwan (these are test locations. Confirmed by not being displayed on YouBikes official map)\n",
       "- Stations with last_update_ts older than the first day of this historical dataset. (Stale data is useless)\n"
      ],
      "text/plain": [
       "<IPython.core.display.Markdown object>"
      ]
     },
     "metadata": {},
     "output_type": "display_data"
    },
    {
     "data": {
      "text/markdown": [
       "Row counts before: 9019891"
      ],
      "text/plain": [
       "<IPython.core.display.Markdown object>"
      ]
     },
     "metadata": {},
     "output_type": "display_data"
    },
    {
     "data": {
      "text/markdown": [
       "Row counts after: 8741784"
      ],
      "text/plain": [
       "<IPython.core.display.Markdown object>"
      ]
     },
     "metadata": {},
     "output_type": "display_data"
    }
   ],
   "source": [
    "dm(\"\"\"\n",
    "**Dropping:**\n",
    "- Stations with negative empty values. (= Available spaces cannot be negative.)\n",
    "- Stations without space are irrelevant\n",
    "- Stations located outside of Taiwan (these are test locations. Confirmed by not being displayed on YouBikes official map)\n",
    "- Stations with last_update_ts older than the first day of this historical dataset. (Stale data is useless)\n",
    "\"\"\")\n",
    "dm(f\"Row counts before: {main_df.shape[0]}\")\n",
    "discard_mask = (\n",
    "    (main_df[\"empty\"] < 0)\n",
    "    | (main_df[\"space\"] < 1) # Stations without space are irrelevant\n",
    "    | (main_df[\"lat\"] < 21.89) #southermost lat of Taiwan's main island\n",
    "    | (main_df[\"lng\"] < 120) #westernmost lng of Taiwan's main island\n",
    "    | (main_df[\"last_update_ts\"] < pd.to_datetime(\"2024-02-16\").tz_localize(tz='Asia/Taipei'))\n",
    ")\n",
    "main_df.drop(main_df[discard_mask == True].index, inplace=True)\n",
    "\n",
    "dm(f\"Row counts after: {main_df.shape[0]}\")\n",
    "#TODO: bound to the easter and northernmost points too? "
   ]
  },
  {
   "cell_type": "markdown",
   "id": "e7b4265e-01e7-4b22-babc-cc6b8c9e0a2b",
   "metadata": {},
   "source": [
    "## Check uniqueness of observations"
   ]
  },
  {
   "cell_type": "code",
   "execution_count": 48,
   "id": "931f3e68-73b8-44e2-b6aa-39b05ccfa41f",
   "metadata": {
    "jupyter": {
     "source_hidden": true
    }
   },
   "outputs": [
    {
     "data": {
      "text/markdown": [
       "#### Unique key is (extraction_ts, id)"
      ],
      "text/plain": [
       "<IPython.core.display.Markdown object>"
      ]
     },
     "metadata": {},
     "output_type": "display_data"
    },
    {
     "data": {
      "text/plain": [
       "identical_key_cnt\n",
       "1    8741784\n",
       "Name: count, dtype: int64"
      ]
     },
     "metadata": {},
     "output_type": "display_data"
    },
    {
     "data": {
      "text/markdown": [
       "key_cnt = 1 means no duplicates"
      ],
      "text/plain": [
       "<IPython.core.display.Markdown object>"
      ]
     },
     "metadata": {},
     "output_type": "display_data"
    }
   ],
   "source": [
    "dm(\"#### Unique key is (extraction_ts, id)\") \n",
    "\n",
    "main_df['identical_key_cnt'] = main_df.groupby(['extraction_ts', 'id']).transform('size')\n",
    "display(main_df['identical_key_cnt'].value_counts())\n",
    "dm(\"key_cnt = 1 means no duplicates\")"
   ]
  },
  {
   "cell_type": "code",
   "execution_count": 49,
   "id": "27146992-c26f-41be-9ced-d1642c0d2c42",
   "metadata": {
    "jupyter": {
     "source_hidden": true
    }
   },
   "outputs": [
    {
     "data": {
      "text/markdown": [
       "### Does each station have a unique record per extraction? (uniqueness on position (= Lat / Lng)"
      ],
      "text/plain": [
       "<IPython.core.display.Markdown object>"
      ]
     },
     "metadata": {},
     "output_type": "display_data"
    },
    {
     "data": {
      "text/html": [
       "<div>\n",
       "<style scoped>\n",
       "    .dataframe tbody tr th:only-of-type {\n",
       "        vertical-align: middle;\n",
       "    }\n",
       "\n",
       "    .dataframe tbody tr th {\n",
       "        vertical-align: top;\n",
       "    }\n",
       "\n",
       "    .dataframe thead th {\n",
       "        text-align: right;\n",
       "    }\n",
       "</style>\n",
       "<table border=\"1\" class=\"dataframe\">\n",
       "  <thead>\n",
       "    <tr style=\"text-align: right;\">\n",
       "      <th></th>\n",
       "      <th>id</th>\n",
       "      <th>type</th>\n",
       "      <th>space</th>\n",
       "      <th>full</th>\n",
       "      <th>empty</th>\n",
       "      <th>bike_yb2</th>\n",
       "      <th>bike_eyb</th>\n",
       "      <th>city</th>\n",
       "      <th>lat</th>\n",
       "      <th>lng</th>\n",
       "      <th>is_open</th>\n",
       "      <th>last_update_ts</th>\n",
       "      <th>extraction_ts</th>\n",
       "      <th>identical_key_cnt</th>\n",
       "      <th>pos</th>\n",
       "      <th>duplic_pos</th>\n",
       "    </tr>\n",
       "  </thead>\n",
       "  <tbody>\n",
       "    <tr>\n",
       "      <th>5462</th>\n",
       "      <td>500199002</td>\n",
       "      <td>2</td>\n",
       "      <td>17</td>\n",
       "      <td>3</td>\n",
       "      <td>13</td>\n",
       "      <td>3</td>\n",
       "      <td>0</td>\n",
       "      <td>TaiBeiShi</td>\n",
       "      <td>25.00</td>\n",
       "      <td>121.54</td>\n",
       "      <td>5</td>\n",
       "      <td>2024-02-22 15:37:18+08:00</td>\n",
       "      <td>2024-02-22 15:42:19+08:00</td>\n",
       "      <td>1</td>\n",
       "      <td>(24.99609, 121.54284)</td>\n",
       "      <td>2</td>\n",
       "    </tr>\n",
       "    <tr>\n",
       "      <th>6404</th>\n",
       "      <td>500105068</td>\n",
       "      <td>2</td>\n",
       "      <td>10</td>\n",
       "      <td>0</td>\n",
       "      <td>10</td>\n",
       "      <td>0</td>\n",
       "      <td>0</td>\n",
       "      <td>TaiBeiShi</td>\n",
       "      <td>25.00</td>\n",
       "      <td>121.54</td>\n",
       "      <td>1</td>\n",
       "      <td>2024-02-22 15:12:14+08:00</td>\n",
       "      <td>2024-02-22 15:42:19+08:00</td>\n",
       "      <td>1</td>\n",
       "      <td>(24.99609, 121.54284)</td>\n",
       "      <td>2</td>\n",
       "    </tr>\n",
       "    <tr>\n",
       "      <th>13400</th>\n",
       "      <td>500199002</td>\n",
       "      <td>2</td>\n",
       "      <td>17</td>\n",
       "      <td>0</td>\n",
       "      <td>17</td>\n",
       "      <td>0</td>\n",
       "      <td>0</td>\n",
       "      <td>TaiBeiShi</td>\n",
       "      <td>25.00</td>\n",
       "      <td>121.54</td>\n",
       "      <td>5</td>\n",
       "      <td>2024-03-07 18:19:20+08:00</td>\n",
       "      <td>2024-03-07 18:25:10+08:00</td>\n",
       "      <td>1</td>\n",
       "      <td>(24.99609, 121.54284)</td>\n",
       "      <td>2</td>\n",
       "    </tr>\n",
       "    <tr>\n",
       "      <th>14342</th>\n",
       "      <td>500105068</td>\n",
       "      <td>2</td>\n",
       "      <td>10</td>\n",
       "      <td>1</td>\n",
       "      <td>9</td>\n",
       "      <td>1</td>\n",
       "      <td>0</td>\n",
       "      <td>TaiBeiShi</td>\n",
       "      <td>25.00</td>\n",
       "      <td>121.54</td>\n",
       "      <td>1</td>\n",
       "      <td>2024-03-07 18:23:14+08:00</td>\n",
       "      <td>2024-03-07 18:25:10+08:00</td>\n",
       "      <td>1</td>\n",
       "      <td>(24.99609, 121.54284)</td>\n",
       "      <td>2</td>\n",
       "    </tr>\n",
       "  </tbody>\n",
       "</table>\n",
       "</div>"
      ],
      "text/plain": [
       "              id  type  space  full  empty  bike_yb2  bike_eyb       city  \\\n",
       "5462   500199002     2     17     3     13         3         0  TaiBeiShi   \n",
       "6404   500105068     2     10     0     10         0         0  TaiBeiShi   \n",
       "13400  500199002     2     17     0     17         0         0  TaiBeiShi   \n",
       "14342  500105068     2     10     1      9         1         0  TaiBeiShi   \n",
       "\n",
       "        lat    lng  is_open            last_update_ts  \\\n",
       "5462  25.00 121.54        5 2024-02-22 15:37:18+08:00   \n",
       "6404  25.00 121.54        1 2024-02-22 15:12:14+08:00   \n",
       "13400 25.00 121.54        5 2024-03-07 18:19:20+08:00   \n",
       "14342 25.00 121.54        1 2024-03-07 18:23:14+08:00   \n",
       "\n",
       "                  extraction_ts  identical_key_cnt                    pos  \\\n",
       "5462  2024-02-22 15:42:19+08:00                  1  (24.99609, 121.54284)   \n",
       "6404  2024-02-22 15:42:19+08:00                  1  (24.99609, 121.54284)   \n",
       "13400 2024-03-07 18:25:10+08:00                  1  (24.99609, 121.54284)   \n",
       "14342 2024-03-07 18:25:10+08:00                  1  (24.99609, 121.54284)   \n",
       "\n",
       "       duplic_pos  \n",
       "5462            2  \n",
       "6404            2  \n",
       "13400           2  \n",
       "14342           2  "
      ]
     },
     "metadata": {},
     "output_type": "display_data"
    },
    {
     "data": {
      "text/markdown": [
       "**Observation:** Some Lat / Lng are recorded twice within the same extraction"
      ],
      "text/plain": [
       "<IPython.core.display.Markdown object>"
      ]
     },
     "metadata": {},
     "output_type": "display_data"
    },
    {
     "data": {
      "text/plain": [
       "duplic_pos\n",
       "1    8739140\n",
       "2       2644\n",
       "Name: count, dtype: int64"
      ]
     },
     "metadata": {},
     "output_type": "display_data"
    },
    {
     "data": {
      "text/markdown": [
       "<br>Filtering for those positions which are recorded twice returns "
      ],
      "text/plain": [
       "<IPython.core.display.Markdown object>"
      ]
     },
     "metadata": {},
     "output_type": "display_data"
    },
    {
     "data": {
      "text/plain": [
       "pos\n",
       "(24.99609, 121.54284)    2644\n",
       "Name: count, dtype: int64"
      ]
     },
     "metadata": {},
     "output_type": "display_data"
    },
    {
     "data": {
      "text/markdown": [
       "**Conclusion**: For the moment, any duplicated station (identified by using pos) per extraction will be dismissed"
      ],
      "text/plain": [
       "<IPython.core.display.Markdown object>"
      ]
     },
     "metadata": {},
     "output_type": "display_data"
    }
   ],
   "source": [
    "dm(\"### Does each station have a unique record per extraction? (uniqueness on position (= Lat / Lng)\")\n",
    "\n",
    "main_df[\"pos\"] = main_df.apply(lambda x: (x[\"lat\"], x[\"lng\"]), axis=1)\n",
    "main_df[\"duplic_pos\"] = main_df.groupby(['pos', 'extraction_ts']).transform('size')\n",
    "\n",
    "display(main_df[main_df[\"duplic_pos\"] > 1].head(4))\n",
    "dm(\"**Observation:** Some Lat / Lng are recorded twice within the same extraction\")\n",
    "display(main_df[\"duplic_pos\"].value_counts())\n",
    "dm(\"<br>Filtering for those positions which are recorded twice returns \")\n",
    "display(main_df[main_df[\"duplic_pos\"] > 1][\"pos\"].value_counts())\n",
    "dm(\"**Conclusion**: For the moment, any duplicated station (identified by using pos) per extraction will be dismissed\")"
   ]
  },
  {
   "cell_type": "code",
   "execution_count": 50,
   "id": "9a9b04b5-4e7b-463c-ab4b-e7d50a098510",
   "metadata": {
    "jupyter": {
     "source_hidden": true
    }
   },
   "outputs": [
    {
     "data": {
      "text/markdown": [
       "Dropping stations with duplicated pos, extraction_ts"
      ],
      "text/plain": [
       "<IPython.core.display.Markdown object>"
      ]
     },
     "metadata": {},
     "output_type": "display_data"
    },
    {
     "data": {
      "text/markdown": [
       "Row count before: 8741784"
      ],
      "text/plain": [
       "<IPython.core.display.Markdown object>"
      ]
     },
     "metadata": {},
     "output_type": "display_data"
    },
    {
     "data": {
      "text/markdown": [
       "Row count after: 8739140"
      ],
      "text/plain": [
       "<IPython.core.display.Markdown object>"
      ]
     },
     "metadata": {},
     "output_type": "display_data"
    }
   ],
   "source": [
    "dm(\"Dropping stations with duplicated pos, extraction_ts\")\n",
    "dm(f\"Row count before: {main_df.shape[0]}\")\n",
    "\n",
    "main_df.drop(main_df[main_df[\"duplic_pos\"] > 1].index, inplace=True)\n",
    "\n",
    "dm(f\"Row count after: {main_df.shape[0]}\")"
   ]
  },
  {
   "cell_type": "code",
   "execution_count": 53,
   "id": "461d151f-259a-410c-b753-f91a089315ba",
   "metadata": {
    "jupyter": {
     "source_hidden": true
    }
   },
   "outputs": [
    {
     "data": {
      "text/html": [
       "<div>\n",
       "<style scoped>\n",
       "    .dataframe tbody tr th:only-of-type {\n",
       "        vertical-align: middle;\n",
       "    }\n",
       "\n",
       "    .dataframe tbody tr th {\n",
       "        vertical-align: top;\n",
       "    }\n",
       "\n",
       "    .dataframe thead th {\n",
       "        text-align: right;\n",
       "    }\n",
       "</style>\n",
       "<table border=\"1\" class=\"dataframe\">\n",
       "  <thead>\n",
       "    <tr style=\"text-align: right;\">\n",
       "      <th></th>\n",
       "      <th>id</th>\n",
       "      <th>space</th>\n",
       "      <th>full</th>\n",
       "      <th>empty</th>\n",
       "      <th>bike_yb2</th>\n",
       "      <th>bike_eyb</th>\n",
       "      <th>city</th>\n",
       "      <th>lat</th>\n",
       "      <th>lng</th>\n",
       "      <th>is_open</th>\n",
       "      <th>last_update_ts</th>\n",
       "      <th>extraction_ts</th>\n",
       "    </tr>\n",
       "  </thead>\n",
       "  <tbody>\n",
       "    <tr>\n",
       "      <th>0</th>\n",
       "      <td>500109091</td>\n",
       "      <td>13</td>\n",
       "      <td>0</td>\n",
       "      <td>13</td>\n",
       "      <td>0</td>\n",
       "      <td>0</td>\n",
       "      <td>TaiBeiShi</td>\n",
       "      <td>25.14</td>\n",
       "      <td>121.50</td>\n",
       "      <td>0</td>\n",
       "      <td>2024-02-22 10:31:19+08:00</td>\n",
       "      <td>2024-02-22 15:42:19+08:00</td>\n",
       "    </tr>\n",
       "    <tr>\n",
       "      <th>2</th>\n",
       "      <td>500106124</td>\n",
       "      <td>15</td>\n",
       "      <td>0</td>\n",
       "      <td>15</td>\n",
       "      <td>0</td>\n",
       "      <td>0</td>\n",
       "      <td>TaiBeiShi</td>\n",
       "      <td>25.04</td>\n",
       "      <td>121.53</td>\n",
       "      <td>0</td>\n",
       "      <td>2024-02-22 14:56:19+08:00</td>\n",
       "      <td>2024-02-22 15:42:19+08:00</td>\n",
       "    </tr>\n",
       "    <tr>\n",
       "      <th>3</th>\n",
       "      <td>500312002</td>\n",
       "      <td>21</td>\n",
       "      <td>0</td>\n",
       "      <td>0</td>\n",
       "      <td>0</td>\n",
       "      <td>0</td>\n",
       "      <td>TaoYuanShi</td>\n",
       "      <td>25.05</td>\n",
       "      <td>121.30</td>\n",
       "      <td>0</td>\n",
       "      <td>2024-02-22 10:34:19+08:00</td>\n",
       "      <td>2024-02-22 15:42:19+08:00</td>\n",
       "    </tr>\n",
       "    <tr>\n",
       "      <th>4</th>\n",
       "      <td>500301028</td>\n",
       "      <td>17</td>\n",
       "      <td>0</td>\n",
       "      <td>0</td>\n",
       "      <td>0</td>\n",
       "      <td>0</td>\n",
       "      <td>TaoYuanShi</td>\n",
       "      <td>24.93</td>\n",
       "      <td>121.28</td>\n",
       "      <td>0</td>\n",
       "      <td>2024-02-22 11:03:20+08:00</td>\n",
       "      <td>2024-02-22 15:42:19+08:00</td>\n",
       "    </tr>\n",
       "    <tr>\n",
       "      <th>6</th>\n",
       "      <td>501217009</td>\n",
       "      <td>10</td>\n",
       "      <td>3</td>\n",
       "      <td>7</td>\n",
       "      <td>3</td>\n",
       "      <td>0</td>\n",
       "      <td>KaoXiongShi</td>\n",
       "      <td>22.91</td>\n",
       "      <td>120.19</td>\n",
       "      <td>1</td>\n",
       "      <td>2024-02-22 14:25:15+08:00</td>\n",
       "      <td>2024-02-22 15:42:19+08:00</td>\n",
       "    </tr>\n",
       "    <tr>\n",
       "      <th>...</th>\n",
       "      <td>...</td>\n",
       "      <td>...</td>\n",
       "      <td>...</td>\n",
       "      <td>...</td>\n",
       "      <td>...</td>\n",
       "      <td>...</td>\n",
       "      <td>...</td>\n",
       "      <td>...</td>\n",
       "      <td>...</td>\n",
       "      <td>...</td>\n",
       "      <td>...</td>\n",
       "      <td>...</td>\n",
       "    </tr>\n",
       "    <tr>\n",
       "      <th>10466648</th>\n",
       "      <td>500101012</td>\n",
       "      <td>8</td>\n",
       "      <td>8</td>\n",
       "      <td>0</td>\n",
       "      <td>8</td>\n",
       "      <td>0</td>\n",
       "      <td>TaiBeiShi</td>\n",
       "      <td>25.02</td>\n",
       "      <td>121.53</td>\n",
       "      <td>1</td>\n",
       "      <td>2024-03-03 13:51:20+08:00</td>\n",
       "      <td>2024-03-03 13:54:19+08:00</td>\n",
       "    </tr>\n",
       "    <tr>\n",
       "      <th>10466649</th>\n",
       "      <td>500101013</td>\n",
       "      <td>9</td>\n",
       "      <td>8</td>\n",
       "      <td>1</td>\n",
       "      <td>8</td>\n",
       "      <td>0</td>\n",
       "      <td>TaiBeiShi</td>\n",
       "      <td>25.03</td>\n",
       "      <td>121.54</td>\n",
       "      <td>1</td>\n",
       "      <td>2024-03-03 13:50:24+08:00</td>\n",
       "      <td>2024-03-03 13:54:19+08:00</td>\n",
       "    </tr>\n",
       "    <tr>\n",
       "      <th>10466650</th>\n",
       "      <td>500101014</td>\n",
       "      <td>11</td>\n",
       "      <td>10</td>\n",
       "      <td>1</td>\n",
       "      <td>10</td>\n",
       "      <td>0</td>\n",
       "      <td>TaiBeiShi</td>\n",
       "      <td>25.02</td>\n",
       "      <td>121.53</td>\n",
       "      <td>1</td>\n",
       "      <td>2024-03-03 13:52:19+08:00</td>\n",
       "      <td>2024-03-03 13:54:19+08:00</td>\n",
       "    </tr>\n",
       "    <tr>\n",
       "      <th>10466651</th>\n",
       "      <td>500101015</td>\n",
       "      <td>14</td>\n",
       "      <td>14</td>\n",
       "      <td>0</td>\n",
       "      <td>14</td>\n",
       "      <td>0</td>\n",
       "      <td>TaiBeiShi</td>\n",
       "      <td>25.02</td>\n",
       "      <td>121.55</td>\n",
       "      <td>1</td>\n",
       "      <td>2024-03-03 13:52:18+08:00</td>\n",
       "      <td>2024-03-03 13:54:19+08:00</td>\n",
       "    </tr>\n",
       "    <tr>\n",
       "      <th>10466652</th>\n",
       "      <td>500101016</td>\n",
       "      <td>8</td>\n",
       "      <td>8</td>\n",
       "      <td>0</td>\n",
       "      <td>8</td>\n",
       "      <td>0</td>\n",
       "      <td>TaiBeiShi</td>\n",
       "      <td>25.02</td>\n",
       "      <td>121.53</td>\n",
       "      <td>1</td>\n",
       "      <td>2024-03-03 13:52:14+08:00</td>\n",
       "      <td>2024-03-03 13:54:19+08:00</td>\n",
       "    </tr>\n",
       "  </tbody>\n",
       "</table>\n",
       "<p>8739140 rows × 12 columns</p>\n",
       "</div>"
      ],
      "text/plain": [
       "                 id  space  full  empty  bike_yb2  bike_eyb         city  \\\n",
       "0         500109091     13     0     13         0         0    TaiBeiShi   \n",
       "2         500106124     15     0     15         0         0    TaiBeiShi   \n",
       "3         500312002     21     0      0         0         0   TaoYuanShi   \n",
       "4         500301028     17     0      0         0         0   TaoYuanShi   \n",
       "6         501217009     10     3      7         3         0  KaoXiongShi   \n",
       "...             ...    ...   ...    ...       ...       ...          ...   \n",
       "10466648  500101012      8     8      0         8         0    TaiBeiShi   \n",
       "10466649  500101013      9     8      1         8         0    TaiBeiShi   \n",
       "10466650  500101014     11    10      1        10         0    TaiBeiShi   \n",
       "10466651  500101015     14    14      0        14         0    TaiBeiShi   \n",
       "10466652  500101016      8     8      0         8         0    TaiBeiShi   \n",
       "\n",
       "           lat    lng  is_open            last_update_ts  \\\n",
       "0        25.14 121.50        0 2024-02-22 10:31:19+08:00   \n",
       "2        25.04 121.53        0 2024-02-22 14:56:19+08:00   \n",
       "3        25.05 121.30        0 2024-02-22 10:34:19+08:00   \n",
       "4        24.93 121.28        0 2024-02-22 11:03:20+08:00   \n",
       "6        22.91 120.19        1 2024-02-22 14:25:15+08:00   \n",
       "...        ...    ...      ...                       ...   \n",
       "10466648 25.02 121.53        1 2024-03-03 13:51:20+08:00   \n",
       "10466649 25.03 121.54        1 2024-03-03 13:50:24+08:00   \n",
       "10466650 25.02 121.53        1 2024-03-03 13:52:19+08:00   \n",
       "10466651 25.02 121.55        1 2024-03-03 13:52:18+08:00   \n",
       "10466652 25.02 121.53        1 2024-03-03 13:52:14+08:00   \n",
       "\n",
       "                     extraction_ts  \n",
       "0        2024-02-22 15:42:19+08:00  \n",
       "2        2024-02-22 15:42:19+08:00  \n",
       "3        2024-02-22 15:42:19+08:00  \n",
       "4        2024-02-22 15:42:19+08:00  \n",
       "6        2024-02-22 15:42:19+08:00  \n",
       "...                            ...  \n",
       "10466648 2024-03-03 13:54:19+08:00  \n",
       "10466649 2024-03-03 13:54:19+08:00  \n",
       "10466650 2024-03-03 13:54:19+08:00  \n",
       "10466651 2024-03-03 13:54:19+08:00  \n",
       "10466652 2024-03-03 13:54:19+08:00  \n",
       "\n",
       "[8739140 rows x 12 columns]"
      ]
     },
     "execution_count": 53,
     "metadata": {},
     "output_type": "execute_result"
    }
   ],
   "source": [
    "#Last visual check before dl\n",
    "#Checkpoint\n",
    "base_df = main_df[['id', 'space', 'full', 'empty', 'bike_yb2', 'bike_eyb', 'city', \n",
    "                   'lat', 'lng', 'is_open', 'last_update_ts', 'extraction_ts']].copy(deep=True)\n",
    "base_df"
   ]
  },
  {
   "cell_type": "code",
   "execution_count": 55,
   "id": "8655dc92-f96d-4f31-aa48-0fb74aa0e2fb",
   "metadata": {},
   "outputs": [],
   "source": [
    "base_df.to_parquet(\"../tmp_data/clean_data/youbike_dock_info_history_2024-02-22_2024-03-13.parquet\", index=False)"
   ]
  },
  {
   "cell_type": "markdown",
   "id": "26625a76-556a-416e-85d6-36edf09d51fe",
   "metadata": {},
   "source": [
    "# Analyze Data\n"
   ]
  },
  {
   "cell_type": "code",
   "execution_count": 77,
   "id": "d4abaa9c-a1b4-4aaa-beef-f1c49268b6ea",
   "metadata": {
    "jupyter": {
     "source_hidden": true
    }
   },
   "outputs": [
    {
     "name": "stdout",
     "output_type": "stream",
     "text": [
      "500604028\n"
     ]
    }
   ],
   "source": [
    "rand_id = base_df['id'].sample(1, ignore_index=True)[0]\n",
    "print(rand_id)"
   ]
  },
  {
   "cell_type": "code",
   "execution_count": 78,
   "id": "ea5f9be5-be2a-4525-930c-af0b161572b1",
   "metadata": {
    "jupyter": {
     "source_hidden": true
    }
   },
   "outputs": [],
   "source": [
    "eg_id = rand_id\n",
    "# base_df.sort_values(by=[\"id\", \"last_update_ts\"]).head(50)\n",
    "s_1 = base_df[base_df[\"id\"] == eg_id] \\\n",
    "    .sort_values(by=[\"id\", \"extraction_ts\"], ascending=False) \\\n",
    "    .copy(deep=True).reset_index(drop=True)\n",
    "# s_1.drop_duplicates(subset=\"last_update_ts\", inplace=True)\n",
    "s_1[\"pct_full\"] = s_1[\"full\"] / s_1[\"space\"]\n",
    "\n",
    "## Apply rolling average \n",
    "\n",
    "s_1[\"30m_rol_avg_pct_full\"] = s_1['pct_full'].rolling(window=3).mean() #Assumes each record is 10 mins"
   ]
  },
  {
   "cell_type": "code",
   "execution_count": 80,
   "id": "a040c023-d347-4b72-add5-15c9499e5049",
   "metadata": {
    "jupyter": {
     "source_hidden": true
    }
   },
   "outputs": [
    {
     "data": {
      "image/png": "[encoded data removed]",
      "text/plain": [
       "<Figure size 500x500 with 1 Axes>"
      ]
     },
     "metadata": {},
     "output_type": "display_data"
    }
   ],
   "source": [
    "sns.relplot(data=s_1.iloc[:188], kind=\"line\", x=\"extraction_ts\", y=\"30m_rol_avg_pct_full\")\n",
    "\n",
    "plt.xticks(rotation=20)\n",
    "plt.ylim(0, 1)\n",
    "plt.show()"
   ]
  },
  {
   "cell_type": "code",
   "execution_count": 81,
   "id": "0ef68bf3-88c7-4255-a744-56acc15b01c6",
   "metadata": {
    "jupyter": {
     "source_hidden": true
    }
   },
   "outputs": [
    {
     "data": {
      "text/html": [
       "<div>\n",
       "<style scoped>\n",
       "    .dataframe tbody tr th:only-of-type {\n",
       "        vertical-align: middle;\n",
       "    }\n",
       "\n",
       "    .dataframe tbody tr th {\n",
       "        vertical-align: top;\n",
       "    }\n",
       "\n",
       "    .dataframe thead th {\n",
       "        text-align: right;\n",
       "    }\n",
       "</style>\n",
       "<table border=\"1\" class=\"dataframe\">\n",
       "  <thead>\n",
       "    <tr style=\"text-align: right;\">\n",
       "      <th></th>\n",
       "      <th>id</th>\n",
       "      <th>space</th>\n",
       "      <th>full</th>\n",
       "      <th>empty</th>\n",
       "      <th>bike_yb2</th>\n",
       "      <th>bike_eyb</th>\n",
       "      <th>city</th>\n",
       "      <th>lat</th>\n",
       "      <th>lng</th>\n",
       "      <th>is_open</th>\n",
       "      <th>last_update_ts</th>\n",
       "      <th>extraction_ts</th>\n",
       "      <th>pct_full</th>\n",
       "      <th>30m_rol_avg_pct_full</th>\n",
       "    </tr>\n",
       "  </thead>\n",
       "  <tbody>\n",
       "    <tr>\n",
       "      <th>0</th>\n",
       "      <td>500604028</td>\n",
       "      <td>24</td>\n",
       "      <td>1</td>\n",
       "      <td>23</td>\n",
       "      <td>0</td>\n",
       "      <td>1</td>\n",
       "      <td>TaiZhongShi</td>\n",
       "      <td>24.13</td>\n",
       "      <td>120.68</td>\n",
       "      <td>1</td>\n",
       "      <td>2024-03-13 11:44:20+08:00</td>\n",
       "      <td>2024-03-13 12:10:56+08:00</td>\n",
       "      <td>0.04</td>\n",
       "      <td>NaN</td>\n",
       "    </tr>\n",
       "    <tr>\n",
       "      <th>1</th>\n",
       "      <td>500604028</td>\n",
       "      <td>24</td>\n",
       "      <td>1</td>\n",
       "      <td>23</td>\n",
       "      <td>0</td>\n",
       "      <td>1</td>\n",
       "      <td>TaiZhongShi</td>\n",
       "      <td>24.13</td>\n",
       "      <td>120.68</td>\n",
       "      <td>1</td>\n",
       "      <td>2024-03-13 11:44:20+08:00</td>\n",
       "      <td>2024-03-13 12:01:04+08:00</td>\n",
       "      <td>0.04</td>\n",
       "      <td>NaN</td>\n",
       "    </tr>\n",
       "    <tr>\n",
       "      <th>2</th>\n",
       "      <td>500604028</td>\n",
       "      <td>24</td>\n",
       "      <td>1</td>\n",
       "      <td>23</td>\n",
       "      <td>0</td>\n",
       "      <td>1</td>\n",
       "      <td>TaiZhongShi</td>\n",
       "      <td>24.13</td>\n",
       "      <td>120.68</td>\n",
       "      <td>1</td>\n",
       "      <td>2024-03-13 11:44:20+08:00</td>\n",
       "      <td>2024-03-13 11:51:00+08:00</td>\n",
       "      <td>0.04</td>\n",
       "      <td>0.04</td>\n",
       "    </tr>\n",
       "    <tr>\n",
       "      <th>3</th>\n",
       "      <td>500604028</td>\n",
       "      <td>24</td>\n",
       "      <td>1</td>\n",
       "      <td>23</td>\n",
       "      <td>0</td>\n",
       "      <td>1</td>\n",
       "      <td>TaiZhongShi</td>\n",
       "      <td>24.13</td>\n",
       "      <td>120.68</td>\n",
       "      <td>1</td>\n",
       "      <td>2024-03-13 11:28:18+08:00</td>\n",
       "      <td>2024-03-13 11:40:55+08:00</td>\n",
       "      <td>0.04</td>\n",
       "      <td>0.04</td>\n",
       "    </tr>\n",
       "    <tr>\n",
       "      <th>4</th>\n",
       "      <td>500604028</td>\n",
       "      <td>24</td>\n",
       "      <td>1</td>\n",
       "      <td>23</td>\n",
       "      <td>0</td>\n",
       "      <td>1</td>\n",
       "      <td>TaiZhongShi</td>\n",
       "      <td>24.13</td>\n",
       "      <td>120.68</td>\n",
       "      <td>1</td>\n",
       "      <td>2024-03-13 11:28:18+08:00</td>\n",
       "      <td>2024-03-13 11:30:56+08:00</td>\n",
       "      <td>0.04</td>\n",
       "      <td>0.04</td>\n",
       "    </tr>\n",
       "    <tr>\n",
       "      <th>5</th>\n",
       "      <td>500604028</td>\n",
       "      <td>24</td>\n",
       "      <td>2</td>\n",
       "      <td>22</td>\n",
       "      <td>1</td>\n",
       "      <td>1</td>\n",
       "      <td>TaiZhongShi</td>\n",
       "      <td>24.13</td>\n",
       "      <td>120.68</td>\n",
       "      <td>1</td>\n",
       "      <td>2024-03-13 11:22:19+08:00</td>\n",
       "      <td>2024-03-13 11:28:02+08:00</td>\n",
       "      <td>0.08</td>\n",
       "      <td>0.06</td>\n",
       "    </tr>\n",
       "    <tr>\n",
       "      <th>6</th>\n",
       "      <td>500604028</td>\n",
       "      <td>24</td>\n",
       "      <td>1</td>\n",
       "      <td>23</td>\n",
       "      <td>1</td>\n",
       "      <td>0</td>\n",
       "      <td>TaiZhongShi</td>\n",
       "      <td>24.13</td>\n",
       "      <td>120.68</td>\n",
       "      <td>1</td>\n",
       "      <td>2024-03-13 11:12:14+08:00</td>\n",
       "      <td>2024-03-13 11:20:46+08:00</td>\n",
       "      <td>0.04</td>\n",
       "      <td>0.06</td>\n",
       "    </tr>\n",
       "    <tr>\n",
       "      <th>7</th>\n",
       "      <td>500604028</td>\n",
       "      <td>24</td>\n",
       "      <td>1</td>\n",
       "      <td>23</td>\n",
       "      <td>1</td>\n",
       "      <td>0</td>\n",
       "      <td>TaiZhongShi</td>\n",
       "      <td>24.13</td>\n",
       "      <td>120.68</td>\n",
       "      <td>1</td>\n",
       "      <td>2024-03-13 11:12:14+08:00</td>\n",
       "      <td>2024-03-13 11:14:44+08:00</td>\n",
       "      <td>0.04</td>\n",
       "      <td>0.06</td>\n",
       "    </tr>\n",
       "    <tr>\n",
       "      <th>8</th>\n",
       "      <td>500604028</td>\n",
       "      <td>24</td>\n",
       "      <td>0</td>\n",
       "      <td>24</td>\n",
       "      <td>0</td>\n",
       "      <td>0</td>\n",
       "      <td>TaiZhongShi</td>\n",
       "      <td>24.13</td>\n",
       "      <td>120.68</td>\n",
       "      <td>1</td>\n",
       "      <td>2024-03-13 10:49:14+08:00</td>\n",
       "      <td>2024-03-13 11:00:54+08:00</td>\n",
       "      <td>0.00</td>\n",
       "      <td>0.03</td>\n",
       "    </tr>\n",
       "    <tr>\n",
       "      <th>9</th>\n",
       "      <td>500604028</td>\n",
       "      <td>24</td>\n",
       "      <td>0</td>\n",
       "      <td>24</td>\n",
       "      <td>0</td>\n",
       "      <td>0</td>\n",
       "      <td>TaiZhongShi</td>\n",
       "      <td>24.13</td>\n",
       "      <td>120.68</td>\n",
       "      <td>1</td>\n",
       "      <td>2024-03-13 10:49:14+08:00</td>\n",
       "      <td>2024-03-13 10:50:51+08:00</td>\n",
       "      <td>0.00</td>\n",
       "      <td>0.01</td>\n",
       "    </tr>\n",
       "  </tbody>\n",
       "</table>\n",
       "</div>"
      ],
      "text/plain": [
       "          id  space  full  empty  bike_yb2  bike_eyb         city   lat  \\\n",
       "0  500604028     24     1     23         0         1  TaiZhongShi 24.13   \n",
       "1  500604028     24     1     23         0         1  TaiZhongShi 24.13   \n",
       "2  500604028     24     1     23         0         1  TaiZhongShi 24.13   \n",
       "3  500604028     24     1     23         0         1  TaiZhongShi 24.13   \n",
       "4  500604028     24     1     23         0         1  TaiZhongShi 24.13   \n",
       "5  500604028     24     2     22         1         1  TaiZhongShi 24.13   \n",
       "6  500604028     24     1     23         1         0  TaiZhongShi 24.13   \n",
       "7  500604028     24     1     23         1         0  TaiZhongShi 24.13   \n",
       "8  500604028     24     0     24         0         0  TaiZhongShi 24.13   \n",
       "9  500604028     24     0     24         0         0  TaiZhongShi 24.13   \n",
       "\n",
       "     lng  is_open            last_update_ts             extraction_ts  \\\n",
       "0 120.68        1 2024-03-13 11:44:20+08:00 2024-03-13 12:10:56+08:00   \n",
       "1 120.68        1 2024-03-13 11:44:20+08:00 2024-03-13 12:01:04+08:00   \n",
       "2 120.68        1 2024-03-13 11:44:20+08:00 2024-03-13 11:51:00+08:00   \n",
       "3 120.68        1 2024-03-13 11:28:18+08:00 2024-03-13 11:40:55+08:00   \n",
       "4 120.68        1 2024-03-13 11:28:18+08:00 2024-03-13 11:30:56+08:00   \n",
       "5 120.68        1 2024-03-13 11:22:19+08:00 2024-03-13 11:28:02+08:00   \n",
       "6 120.68        1 2024-03-13 11:12:14+08:00 2024-03-13 11:20:46+08:00   \n",
       "7 120.68        1 2024-03-13 11:12:14+08:00 2024-03-13 11:14:44+08:00   \n",
       "8 120.68        1 2024-03-13 10:49:14+08:00 2024-03-13 11:00:54+08:00   \n",
       "9 120.68        1 2024-03-13 10:49:14+08:00 2024-03-13 10:50:51+08:00   \n",
       "\n",
       "   pct_full  30m_rol_avg_pct_full  \n",
       "0      0.04                   NaN  \n",
       "1      0.04                   NaN  \n",
       "2      0.04                  0.04  \n",
       "3      0.04                  0.04  \n",
       "4      0.04                  0.04  \n",
       "5      0.08                  0.06  \n",
       "6      0.04                  0.06  \n",
       "7      0.04                  0.06  \n",
       "8      0.00                  0.03  \n",
       "9      0.00                  0.01  "
      ]
     },
     "execution_count": 81,
     "metadata": {},
     "output_type": "execute_result"
    }
   ],
   "source": [
    "s_1.head(10)"
   ]
  }
 ],
 "metadata": {
  "kernelspec": {
   "display_name": "Python 3 (ipykernel)",
   "language": "python",
   "name": "python3"
  },
  "language_info": {
   "codemirror_mode": {
    "name": "ipython",
    "version": 3
   },
   "file_extension": ".py",
   "mimetype": "text/x-python",
   "name": "python",
   "nbconvert_exporter": "python",
   "pygments_lexer": "ipython3",
   "version": "3.10.13"
  }
 },
 "nbformat": 4,
 "nbformat_minor": 5
}
