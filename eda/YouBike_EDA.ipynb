{
 "cells": [
  {
   "cell_type": "code",
   "execution_count": 154,
   "id": "18672940-7efc-442d-98a2-067bdb121e04",
   "metadata": {
    "tags": []
   },
   "outputs": [],
   "source": [
    "import requests\n",
    "import pandas as pd\n",
    "import numpy as np\n",
    "import matplotlib.pyplot as plt\n",
    "import seaborn as sns\n",
    "from datetime import datetime, tzinfo\n",
    "import pytz\n",
    "from io import StringIO\n",
    "import os\n",
    "from IPython.display import Markdown"
   ]
  },
  {
   "cell_type": "code",
   "execution_count": 175,
   "id": "257cea24-fd90-48bd-9fa1-44226fdbabda",
   "metadata": {},
   "outputs": [],
   "source": [
    "# Wrapper function for convenience\n",
    "def dm(text):\n",
    "    return display(Markdown(text))"
   ]
  },
  {
   "cell_type": "markdown",
   "id": "6b363e26-22a0-4bf9-988c-a1d50659f688",
   "metadata": {},
   "source": [
    "# Introduction\n",
    "https://en.youbike.com.tw/region/main/stations/"
   ]
  },
  {
   "cell_type": "code",
   "execution_count": 4,
   "id": "0f19977e-9a65-4705-acfb-42de2f0bac31",
   "metadata": {
    "jupyter": {
     "source_hidden": true
    }
   },
   "outputs": [
    {
     "name": "stdout",
     "output_type": "stream",
     "text": [
      "didn't work for  weather_data_raw_2024-02-20_11:26:22.csv\n",
      "didn't work for  weather_data_raw_2024-02-21_16:53:33.csv\n",
      "didn't work for  .DS_Store\n",
      "didn't work for  weather_data_raw_2024-02-19_09:51:17.csv\n",
      "didn't work for  weather_data_raw_2024-02-16_18:00:06.csv\n",
      "didn't work for  weather_data_raw_2024-02-21_12:31:47.csv\n",
      "didn't work for  weather_data_raw_2024-02-21_18:28:31.csv\n",
      "didn't work for  weather_data_raw_2024-02-19_12:39:08.csv\n"
     ]
    }
   ],
   "source": [
    "\n",
    "folder_raw = \"raw_data\"\n",
    "\n",
    "for path in os.listdir('../backup_raw_data/'):\n",
    "    try:\n",
    "        a = pd.read_csv(f\"../backup_raw_data/{path}\")\n",
    "        ts_str = path.split(\"info_\")[1].split('_raw')[0]\n",
    "        a['extraction_ts'] = pd.to_datetime(ts_str, format=\"%Y-%m-%d_%H:%M:%S\").tz_localize(tz='Asia/Taipei')\n",
    "        a.to_csv(f\"../raw_data/{path}\", index=False)\n",
    "    except:\n",
    "        print(\"didn't work for \", path)"
   ]
  },
  {
   "cell_type": "code",
   "execution_count": 2,
   "id": "01945edb-65f1-4e7b-ad5d-3954fa7335bf",
   "metadata": {
    "jupyter": {
     "source_hidden": true
    }
   },
   "outputs": [],
   "source": [
    "def create_or_append_df(csv_path: str, df: pd.DataFrame) -> pd.DataFrame:\n",
    "    if df is None:\n",
    "        concat_df = pd.read_csv(csv_path).loc[[]]\n",
    "    else:\n",
    "        df_to_append = pd.read_csv(csv_path)\n",
    "        concat_df = pd.concat([df, df_to_append])\n",
    "    return concat_df"
   ]
  },
  {
   "cell_type": "code",
   "execution_count": 3,
   "id": "74804977-2511-4e9b-ac88-da231b54ea03",
   "metadata": {
    "jupyter": {
     "source_hidden": true
    }
   },
   "outputs": [
    {
     "name": "stdout",
     "output_type": "stream",
     "text": [
      "/Users/justinwarambourg/Documents/programming/youbike/eda\n"
     ]
    }
   ],
   "source": [
    "! pwd"
   ]
  },
  {
   "cell_type": "code",
   "execution_count": 5,
   "id": "3e77ee0f-dcba-4266-b9bd-f3425562e74b",
   "metadata": {
    "collapsed": true,
    "jupyter": {
     "outputs_hidden": true,
     "source_hidden": true
    },
    "tags": []
   },
   "outputs": [
    {
     "name": "stdout",
     "output_type": "stream",
     "text": [
      "added  youbike_dock_info_2024-02-21_16:18:40_raw.csv\n",
      "added  youbike_dock_info_2024-02-16_16:32:58_raw.csv\n",
      "added  youbike_dock_info_2024-02-20_13:39:44_raw.csv\n",
      "added  youbike_dock_info_2024-02-20_14:45:12_raw.csv\n",
      "added  youbike_dock_info_2024-02-20_13:29:39_raw.csv\n",
      "added  youbike_dock_info_2024-02-21_13:50:17_raw.csv\n",
      "added  youbike_dock_info_2024-02-19_11:39:45_raw.csv\n",
      "added  youbike_dock_info_2024-02-16_14:16:24_raw.csv\n",
      "added  youbike_dock_info_2024-02-20_13:44:48_raw.csv\n",
      "added  youbike_dock_info_2024-02-19_10:02:24_raw.csv\n",
      "added  youbike_dock_info_2024-02-19_12:04:56_raw.csv\n",
      "added  youbike_dock_info_2024-02-19_15:11:04_raw.csv\n",
      "added  youbike_dock_info_2024-02-16_15:55:05_raw.csv\n",
      "added  youbike_dock_info_2024-02-19_17:54:06_raw.csv\n",
      "added  youbike_dock_info_2024-02-20_14:30:06_raw.csv\n",
      "added  youbike_dock_info_2024-02-19_10:32:36_raw.csv\n",
      "added  youbike_dock_info_2024-02-19_15:16:06_raw.csv\n",
      "added  youbike_dock_info_2024-02-20_13:24:39_raw.csv\n",
      "added  youbike_dock_info_2024-02-21_13:10:00_raw.csv\n",
      "added  youbike_dock_info_2024-02-21_14:00:21_raw.csv\n",
      "added  youbike_dock_info_2024-02-20_14:50:15_raw.csv\n",
      "added  youbike_dock_info_2024-02-19_11:49:49_raw.csv\n",
      "added  youbike_dock_info_2024-02-21_15:18:05_raw.csv\n",
      "added  youbike_dock_info_2024-02-21_16:23:46_raw.csv\n",
      "added  youbike_dock_info_2024-02-20_16:16:34_raw.csv\n",
      "added  youbike_dock_info_2024-02-19_10:42:41_raw.csv\n",
      "added  youbike_dock_info_2024-02-20_17:17:01_raw.csv\n",
      "added  youbike_dock_info_2024-02-20_11:45:39_raw.csv\n",
      "added  youbike_dock_info_2024-02-20_15:00:19_raw.csv\n",
      "added  youbike_dock_info_2024-02-21_16:49:02_raw.csv\n",
      "added  youbike_dock_info_2024-02-20_16:36:43_raw.csv\n",
      "added  youbike_dock_info_2024-02-16_13:59:30_raw.csv\n",
      "added  youbike_dock_info_2024-02-16_17:22:53_raw.csv\n",
      "added  youbike_dock_info_2024-02-19_11:24:39_raw.csv\n",
      "added  youbike_dock_info_2024-02-20_11:04:53_raw.csv\n",
      "added  youbike_dock_info_2024-02-20_12:59:28_raw.csv\n",
      "added  youbike_dock_info_2024-02-16_17:43:02_raw.csv\n",
      "added  youbike_dock_info_2024-02-19_16:58:40_raw.csv\n",
      "added  youbike_dock_info_2024-02-19_17:44:01_raw.csv\n",
      "added  youbike_dock_info_2024-02-20_14:20:01_raw.csv\n",
      "added  youbike_dock_info_2024-02-16_17:58:09_raw.csv\n",
      "added  youbike_dock_info_2024-02-19_14:50:55_raw.csv\n",
      "added  youbike_dock_info_2024-02-20_17:22:03_raw.csv\n",
      "added  youbike_dock_info_2024-02-20_17:11:59_raw.csv\n",
      "added  youbike_dock_info_2024-02-20_14:04:56_raw.csv\n",
      "added  youbike_dock_info_2024-02-20_14:14:59_raw.csv\n",
      "added  youbike_dock_info_2024-02-19_12:30:06_raw.csv\n",
      "added  youbike_dock_info_2024-02-21_14:15:27_raw.csv\n",
      "added  youbike_dock_info_2024-02-20_16:01:28_raw.csv\n",
      "added  youbike_dock_info_2024-02-20_15:35:35_raw.csv\n",
      "added  youbike_dock_info_2024-02-21_14:40:37_raw.csv\n",
      "added  youbike_dock_info_2024-02-20_13:49:50_raw.csv\n",
      "added  youbike_dock_info_2024-02-16_13:35:13_raw.csv\n",
      "added  youbike_dock_info_2024-02-16_17:17:50_raw.csv\n",
      "added  youbike_dock_info_2024-02-19_17:03:40_raw.csv\n",
      "added  youbike_dock_info_2024-02-20_16:31:41_raw.csv\n",
      "added  youbike_dock_info_2024-02-16_18:02:49_raw.csv\n",
      "added  youbike_dock_info_2024-02-20_11:35:35_raw.csv\n",
      "added  youbike_dock_info_2024-02-21_14:30:32_raw.csv\n",
      "added  youbike_dock_info_2024-02-21_12:41:55_raw.csv\n",
      "added  youbike_dock_info_2024-02-19_16:11:30_raw.csv\n",
      "added  youbike_dock_info_2024-02-20_16:51:50_raw.csv\n",
      "added  youbike_dock_info_2024-02-21_14:05:23_raw.csv\n",
      "added  youbike_dock_info_2024-02-21_13:15:02_raw.csv\n",
      "added  youbike_dock_info_2024-02-19_12:20:02_raw.csv\n",
      "added  youbike_dock_info_2024-02-20_14:55:17_raw.csv\n",
      "added  youbike_dock_info_2024-02-20_15:25:31_raw.csv\n",
      "added  youbike_dock_info_2024-02-20_13:59:54_raw.csv\n",
      "added  youbike_dock_info_2024-02-16_17:48:04_raw.csv\n",
      "added  youbike_dock_info_2024-02-19_15:56:24_raw.csv\n",
      "added  youbike_dock_info_2024-02-21_15:48:17_raw.csv\n",
      "added  youbike_dock_info_2024-02-19_10:17:30_raw.csv\n",
      "added  youbike_dock_info_2024-02-20_11:25:31_raw.csv\n",
      "added  youbike_dock_info_2024-02-19_10:47:43_raw.csv\n",
      "added  youbike_dock_info_2024-02-20_16:41:46_raw.csv\n",
      "added  youbike_dock_info_2024-02-16_15:34:57_raw.csv\n",
      "added  youbike_dock_info_2024-02-20_14:40:10_raw.csv\n",
      "added  youbike_dock_info_2024-02-21_16:13:35_raw.csv\n",
      "added  youbike_dock_info_2024-02-19_16:01:26_raw.csv\n",
      "added  youbike_dock_info_2024-02-16_17:32:57_raw.csv\n",
      "added  youbike_dock_info_2024-02-21_16:44:00_raw.csv\n",
      "added  youbike_dock_info_2024-02-20_17:01:54_raw.csv\n",
      "added  youbike_dock_info_2024-02-16_16:16:05_raw.csv\n",
      "added  youbike_dock_info_2024-02-19_10:07:26_raw.csv\n",
      "added  youbike_dock_info_2024-02-16_17:53:06_raw.csv\n",
      "added  youbike_dock_info_2024-02-19_16:48:36_raw.csv\n",
      "added  youbike_dock_info_2024-02-20_16:56:52_raw.csv\n",
      "added  youbike_dock_info_2024-02-19_10:12:28_raw.csv\n",
      "added  youbike_dock_info_2024-02-19_17:49:03_raw.csv\n",
      "added  youbike_dock_info_2024-02-21_12:36:53_raw.csv\n",
      "added  youbike_dock_info_2024-02-15_19:41:49_raw.csv\n",
      "added  youbike_dock_info_2024-02-19_10:22:32_raw.csv\n",
      "added  youbike_dock_info_2024-02-19_15:06:02_raw.csv\n",
      "added  youbike_dock_info_2024-02-19_17:28:53_raw.csv\n",
      "added  youbike_dock_info_2024-02-19_15:31:12_raw.csv\n",
      "added  youbike_dock_info_2024-02-16_14:21:26_raw.csv\n",
      "added  youbike_dock_info_2024-02-16_13:13:09_raw.csv\n",
      "added  youbike_dock_info_2024-02-21_14:10:25_raw.csv\n",
      "added  youbike_dock_info_2024-02-20_15:20:28_raw.csv\n",
      "added  youbike_dock_info_2024-02-19_12:15:00_raw.csv\n",
      "added  youbike_dock_info_2024-02-19_16:16:33_raw.csv\n",
      "added  youbike_dock_info_2024-02-16_15:07:23_raw.csv\n",
      "added  youbike_dock_info_2024-02-19_12:40:10_raw.csv\n",
      "added  youbike_dock_info_2024-02-19_15:41:17_raw.csv\n",
      "added  youbike_dock_info_2024-02-15_19:43:53_raw.csv\n",
      "added  youbike_dock_info_2024-02-20_10:29:15_raw.csv\n",
      "added  youbike_dock_info_2024-02-16_18:03:11_raw.csv\n",
      "added  youbike_dock_info_2024-02-20_16:06:30_raw.csv\n",
      "added  youbike_dock_info_2024-02-19_17:18:48_raw.csv\n",
      "added  youbike_dock_info_2024-02-19_10:52:45_raw.csv\n",
      "added  youbike_dock_info_2024-02-16_14:36:32_raw.csv\n",
      "added  youbike_dock_info_2024-02-21_15:38:13_raw.csv\n",
      "added  youbike_dock_info_2024-02-19_11:29:41_raw.csv\n",
      "added  youbike_dock_info_2024-02-21_13:40:13_raw.csv\n",
      "added  youbike_dock_info_2024-02-16_14:31:30_raw.csv\n",
      "added  youbike_dock_info_2024-02-21_12:31:51_raw.csv\n",
      "added  youbike_dock_info_2024-02-20_16:21:36_raw.csv\n",
      "added  youbike_dock_info_2024-02-16_15:45:01_raw.csv\n",
      "added  youbike_dock_info_2024-02-19_15:01:00_raw.csv\n",
      "added  youbike_dock_info_2024-02-20_14:25:03_raw.csv\n",
      "added  youbike_dock_info_2024-02-19_14:55:57_raw.csv\n",
      "added  youbike_dock_info_2024-02-21_16:28:50_raw.csv\n",
      "added  youbike_dock_info_2024-02-19_11:59:54_raw.csv\n",
      "added  youbike_dock_info_2024-02-20_17:06:57_raw.csv\n",
      "added  youbike_dock_info_2024-02-19_11:19:38_raw.csv\n",
      "added  youbike_dock_info_2024-02-19_17:13:45_raw.csv\n",
      "added  youbike_dock_info_2024-02-16_14:41:35_raw.csv\n",
      "added  youbike_dock_info_2024-02-20_12:49:24_raw.csv\n",
      "added  youbike_dock_info_2024-02-20_15:05:21_raw.csv\n",
      "added  youbike_dock_info_2024-02-16_14:11:21_raw.csv\n",
      "added  youbike_dock_info_2024-02-20_15:46:23_raw.csv\n",
      "added  youbike_dock_info_2024-02-16_16:53:07_raw.csv\n",
      "added  youbike_dock_info_2024-02-16_16:21:08_raw.csv\n",
      "added  youbike_dock_info_2024-02-19_09:52:20_raw.csv\n",
      "added  youbike_dock_info_2024-02-19_11:44:47_raw.csv\n",
      "added  youbike_dock_info_2024-02-16_16:11:03_raw.csv\n",
      "added  youbike_dock_info_2024-02-21_14:45:39_raw.csv\n",
      "added  youbike_dock_info_2024-02-21_12:59:56_raw.csv\n",
      "added  youbike_dock_info_2024-02-16_15:50:03_raw.csv\n",
      "added  youbike_dock_info_2024-02-19_14:45:54_raw.csv\n",
      "added  youbike_dock_info_2024-02-16_15:17:39_raw.csv\n",
      "added  youbike_dock_info_2024-02-19_12:45:14_raw.csv\n",
      "added  youbike_dock_info_2024-02-16_16:48:05_raw.csv\n",
      "added  youbike_dock_info_2024-02-19_12:09:58_raw.csv\n",
      "added  youbike_dock_info_2024-02-16_15:12:38_raw.csv\n",
      "added  youbike_dock_info_2024-02-19_17:08:42_raw.csv\n",
      "added  youbike_dock_info_2024-02-16_14:26:28_raw.csv\n",
      "added  youbike_dock_info_2024-02-19_15:51:22_raw.csv\n",
      "added  youbike_dock_info_2024-02-16_15:29:55_raw.csv\n",
      "added  youbike_dock_info_2024-02-20_11:40:37_raw.csv\n",
      "added  youbike_dock_info_2024-02-16_16:38:00_raw.csv\n",
      "added  youbike_dock_info_2024-02-19_10:37:39_raw.csv\n",
      "added  youbike_dock_info_2024-02-19_15:46:19_raw.csv\n",
      "added  youbike_dock_info_2024-02-19_09:47:18_raw.csv\n",
      "added  youbike_dock_info_2024-02-19_16:53:38_raw.csv\n",
      "added  youbike_dock_info_2024-02-21_13:20:04_raw.csv\n",
      "added  youbike_dock_info_2024-02-19_16:06:28_raw.csv\n",
      "added  youbike_dock_info_2024-02-21_14:35:34_raw.csv\n",
      "added  youbike_dock_info_2024-02-16_17:03:12_raw.csv\n",
      "added  youbike_dock_info_2024-02-20_16:46:48_raw.csv\n",
      "added  youbike_dock_info_2024-02-20_11:30:33_raw.csv\n",
      "added  youbike_dock_info_2024-02-21_16:33:56_raw.csv\n",
      "added  youbike_dock_info_2024-02-20_15:15:26_raw.csv\n",
      "added  youbike_dock_info_2024-02-19_17:38:58_raw.csv\n",
      "added  youbike_dock_info_2024-02-19_15:21:09_raw.csv\n",
      "added  youbike_dock_info_2024-02-20_14:09:58_raw.csv\n",
      "added  youbike_dock_info_2024-02-20_15:30:33_raw.csv\n",
      "added  youbike_dock_info_2024-02-20_13:14:34_raw.csv\n",
      "added  youbike_dock_info_2024-02-19_15:36:14_raw.csv\n",
      "added  youbike_dock_info_2024-02-20_13:09:32_raw.csv\n",
      "added  youbike_dock_info_2024-02-15_19:44:08_raw.csv\n",
      "added  youbike_dock_info_2024-02-20_14:35:08_raw.csv\n",
      "added  youbike_dock_info_2024-02-19_11:14:35_raw.csv\n",
      "added  youbike_dock_info_2024-02-20_12:54:26_raw.csv\n",
      "added  youbike_dock_info_2024-02-21_15:53:19_raw.csv\n",
      "added  youbike_dock_info_2024-02-21_13:55:19_raw.csv\n",
      "added  youbike_dock_info_2024-02-21_16:54:03_raw.csv\n",
      "added  youbike_dock_info_2024-02-19_12:35:09_raw.csv\n",
      "added  youbike_dock_info_2024-02-21_15:28:08_raw.csv\n",
      "added  youbike_dock_info_2024-02-16_17:27:55_raw.csv\n",
      "added  youbike_dock_info_2024-02-19_11:34:43_raw.csv\n",
      "added  youbike_dock_info_2024-02-20_16:26:39_raw.csv\n",
      "added  youbike_dock_info_2024-02-20_13:04:30_raw.csv\n",
      "added  youbike_dock_info_2024-02-21_13:25:07_raw.csv\n",
      "added  youbike_dock_info_2024-02-16_16:58:09_raw.csv\n",
      "added  youbike_dock_info_2024-02-16_17:08:14_raw.csv\n",
      "added  youbike_dock_info_2024-02-19_11:54:52_raw.csv\n",
      "added  youbike_dock_info_2024-02-21_13:30:09_raw.csv\n",
      "added  youbike_dock_info_2024-02-19_17:23:51_raw.csv\n",
      "added  youbike_dock_info_2024-02-16_15:22:42_raw.csv\n",
      "added  youbike_dock_info_2024-02-21_13:04:58_raw.csv\n",
      "added  youbike_dock_info_2024-02-16_15:39:59_raw.csv\n",
      "added  youbike_dock_info_2024-02-21_16:08:29_raw.csv\n",
      "added  youbike_dock_info_2024-02-20_16:11:32_raw.csv\n",
      "added  youbike_dock_info_2024-02-16_14:06:19_raw.csv\n",
      "added  youbike_dock_info_2024-02-21_14:25:30_raw.csv\n",
      "added  youbike_dock_info_2024-02-19_09:57:22_raw.csv\n",
      "added  youbike_dock_info_2024-02-21_15:33:11_raw.csv\n",
      "added  youbike_dock_info_2024-02-16_16:26:10_raw.csv\n",
      "added  youbike_dock_info_2024-02-21_16:03:24_raw.csv\n",
      "added  youbike_dock_info_2024-02-19_12:25:04_raw.csv\n",
      "added  youbike_dock_info_2024-02-21_16:38:58_raw.csv\n",
      "added  youbike_dock_info_2024-02-21_15:43:15_raw.csv\n",
      "added  youbike_dock_info_2024-02-16_16:00:08_raw.csv\n",
      "added  youbike_dock_info_2024-02-21_13:35:10_raw.csv\n",
      "added  youbike_dock_info_2024-02-16_17:37:59_raw.csv\n",
      "added  youbike_dock_info_2024-02-20_11:50:41_raw.csv\n",
      "added  youbike_dock_info_2024-02-20_13:34:41_raw.csv\n",
      "added  youbike_dock_info_2024-02-20_15:51:25_raw.csv\n",
      "added  youbike_dock_info_2024-02-21_13:45:15_raw.csv\n",
      "added  youbike_dock_info_2024-02-21_15:58:21_raw.csv\n",
      "added  youbike_dock_info_2024-02-19_17:33:56_raw.csv\n",
      "added  youbike_dock_info_2024-02-20_13:54:52_raw.csv\n",
      "added  youbike_dock_info_2024-02-20_13:19:37_raw.csv\n",
      "added  youbike_dock_info_2024-02-19_15:26:11_raw.csv\n",
      "added  youbike_dock_info_2024-02-20_15:56:27_raw.csv\n",
      "added  youbike_dock_info_2024-02-21_14:20:29_raw.csv\n",
      "added  youbike_dock_info_2024-02-16_16:43:03_raw.csv\n",
      "added  youbike_dock_info_2024-02-16_16:05:10_raw.csv\n",
      "added  youbike_dock_info_2024-02-20_15:10:24_raw.csv\n",
      "added  youbike_dock_info_2024-02-20_17:32:08_raw.csv\n",
      "added  youbike_dock_info_2024-02-19_10:27:34_raw.csv\n",
      "added  youbike_dock_info_2024-02-21_15:23:06_raw.csv\n",
      "added  youbike_dock_info_2024-02-21_12:49:52_raw.csv\n",
      "added  youbike_dock_info_2024-02-21_12:54:54_raw.csv\n",
      "added  youbike_dock_info_2024-02-20_17:27:06_raw.csv\n",
      "added  youbike_dock_info_2024-02-20_17:37:09_raw.csv\n"
     ]
    }
   ],
   "source": [
    "#Create historical data df\n",
    "hist_df = None\n",
    "for i in os.listdir('../raw_data/'):\n",
    "    if \"youbike_dock_info_\" in i:\n",
    "        try: \n",
    "            hist_df = create_or_append_df(f\"../backup_raw_data/{i}\", hist_df)\n",
    "            print(\"added \", i)\n",
    "        except:\n",
    "            print(\"failed with \", i)"
   ]
  },
  {
   "cell_type": "code",
   "execution_count": 6,
   "id": "9b6539fa-e549-48ef-85d4-257651daf1b6",
   "metadata": {
    "jupyter": {
     "source_hidden": true
    }
   },
   "outputs": [],
   "source": [
    "#intermediary checkpoint\n",
    "hist_df.to_csv(\"./youbike_dock_info_history_2024-02-15_2024-02-21_raw.csv\", index=False)"
   ]
  },
  {
   "cell_type": "code",
   "execution_count": 406,
   "id": "cff765bd-1a65-4bf8-abc0-3da2ad6588a5",
   "metadata": {},
   "outputs": [],
   "source": [
    "#Reload from checkpoint\n",
    "hist_df = pd.read_csv('./youbike_dock_info_history_2024-02-15_2024-02-21_raw.csv')"
   ]
  },
  {
   "cell_type": "code",
   "execution_count": 407,
   "id": "ceb3ae94-4b64-4173-b248-20ad3f2cfec5",
   "metadata": {
    "jupyter": {
     "source_hidden": true
    }
   },
   "outputs": [
    {
     "data": {
      "text/plain": [
       "'Dataset columns'"
      ]
     },
     "metadata": {},
     "output_type": "display_data"
    },
    {
     "data": {
      "text/plain": [
       "Index(['Unnamed: 0', 'id', 'name', 'type', 'space', 'full', 'empty',\n",
       "       'bike_yb1', 'bike_yb2', 'bike_eyb', 'city', 'area', 'lat', 'lng',\n",
       "       'place_id', 'address', 'is_open', 'last_update_ts', 'extraction_ts'],\n",
       "      dtype='object')"
      ]
     },
     "execution_count": 407,
     "metadata": {},
     "output_type": "execute_result"
    }
   ],
   "source": [
    "display(\"Dataset columns\")\n",
    "hist_df.columns"
   ]
  },
  {
   "cell_type": "code",
   "execution_count": 408,
   "id": "3b635129-417b-4f91-95ff-96b27cd4b4ed",
   "metadata": {
    "jupyter": {
     "source_hidden": true
    }
   },
   "outputs": [
    {
     "data": {
      "text/html": [
       "<div>\n",
       "<style scoped>\n",
       "    .dataframe tbody tr th:only-of-type {\n",
       "        vertical-align: middle;\n",
       "    }\n",
       "\n",
       "    .dataframe tbody tr th {\n",
       "        vertical-align: top;\n",
       "    }\n",
       "\n",
       "    .dataframe thead th {\n",
       "        text-align: right;\n",
       "    }\n",
       "</style>\n",
       "<table border=\"1\" class=\"dataframe\">\n",
       "  <thead>\n",
       "    <tr style=\"text-align: right;\">\n",
       "      <th></th>\n",
       "      <th>id</th>\n",
       "      <th>name</th>\n",
       "      <th>type</th>\n",
       "      <th>space</th>\n",
       "      <th>full</th>\n",
       "      <th>empty</th>\n",
       "      <th>bike_yb2</th>\n",
       "      <th>bike_eyb</th>\n",
       "      <th>city</th>\n",
       "      <th>area</th>\n",
       "      <th>lat</th>\n",
       "      <th>lng</th>\n",
       "      <th>address</th>\n",
       "      <th>is_open</th>\n",
       "      <th>place_id</th>\n",
       "      <th>last_update_ts</th>\n",
       "      <th>extraction_ts</th>\n",
       "    </tr>\n",
       "  </thead>\n",
       "  <tbody>\n",
       "    <tr>\n",
       "      <th>0</th>\n",
       "      <td>500203116</td>\n",
       "      <td>三和路四段73號旁</td>\n",
       "      <td>2</td>\n",
       "      <td>15</td>\n",
       "      <td>0</td>\n",
       "      <td>15</td>\n",
       "      <td>0</td>\n",
       "      <td>0</td>\n",
       "      <td>新北市</td>\n",
       "      <td>三重區</td>\n",
       "      <td>25.08</td>\n",
       "      <td>121.49</td>\n",
       "      <td>三和路四段73號(旁)</td>\n",
       "      <td>0</td>\n",
       "      <td>NaN</td>\n",
       "      <td>2024-02-15 11:05:20+08:00</td>\n",
       "      <td>2024-02-16 16:32:58+08:00</td>\n",
       "    </tr>\n",
       "    <tr>\n",
       "      <th>1</th>\n",
       "      <td>500203117</td>\n",
       "      <td>三信集英路口</td>\n",
       "      <td>2</td>\n",
       "      <td>13</td>\n",
       "      <td>0</td>\n",
       "      <td>13</td>\n",
       "      <td>0</td>\n",
       "      <td>0</td>\n",
       "      <td>新北市</td>\n",
       "      <td>三重區</td>\n",
       "      <td>25.09</td>\n",
       "      <td>121.49</td>\n",
       "      <td>集英路1-15號(旁)</td>\n",
       "      <td>0</td>\n",
       "      <td>NaN</td>\n",
       "      <td>2024-02-15 11:23:18+08:00</td>\n",
       "      <td>2024-02-16 16:32:58+08:00</td>\n",
       "    </tr>\n",
       "    <tr>\n",
       "      <th>2</th>\n",
       "      <td>501207051</td>\n",
       "      <td>西門遺址公園</td>\n",
       "      <td>2</td>\n",
       "      <td>0</td>\n",
       "      <td>0</td>\n",
       "      <td>0</td>\n",
       "      <td>0</td>\n",
       "      <td>0</td>\n",
       "      <td>高雄市</td>\n",
       "      <td>左營區</td>\n",
       "      <td>22.68</td>\n",
       "      <td>120.29</td>\n",
       "      <td>左營大路1號對面</td>\n",
       "      <td>0</td>\n",
       "      <td>NaN</td>\n",
       "      <td>2024-02-14 14:44:14+08:00</td>\n",
       "      <td>2024-02-16 16:32:58+08:00</td>\n",
       "    </tr>\n",
       "    <tr>\n",
       "      <th>3</th>\n",
       "      <td>501229010</td>\n",
       "      <td>高雄市立圖書館旗山分館</td>\n",
       "      <td>2</td>\n",
       "      <td>13</td>\n",
       "      <td>0</td>\n",
       "      <td>0</td>\n",
       "      <td>0</td>\n",
       "      <td>0</td>\n",
       "      <td>高雄市</td>\n",
       "      <td>旗山區</td>\n",
       "      <td>22.88</td>\n",
       "      <td>120.48</td>\n",
       "      <td>中學路42號</td>\n",
       "      <td>0</td>\n",
       "      <td>NaN</td>\n",
       "      <td>2024-02-14 14:52:14+08:00</td>\n",
       "      <td>2024-02-16 16:32:58+08:00</td>\n",
       "    </tr>\n",
       "    <tr>\n",
       "      <th>4</th>\n",
       "      <td>501329009</td>\n",
       "      <td>新化高中</td>\n",
       "      <td>2</td>\n",
       "      <td>0</td>\n",
       "      <td>0</td>\n",
       "      <td>0</td>\n",
       "      <td>0</td>\n",
       "      <td>0</td>\n",
       "      <td>臺南市</td>\n",
       "      <td>新化區</td>\n",
       "      <td>23.04</td>\n",
       "      <td>120.31</td>\n",
       "      <td>忠孝路2號南側</td>\n",
       "      <td>0</td>\n",
       "      <td>NaN</td>\n",
       "      <td>2024-02-09 16:34:14+08:00</td>\n",
       "      <td>2024-02-16 16:32:58+08:00</td>\n",
       "    </tr>\n",
       "  </tbody>\n",
       "</table>\n",
       "</div>"
      ],
      "text/plain": [
       "          id         name  type  space  full  empty  bike_yb2  bike_eyb city  \\\n",
       "0  500203116    三和路四段73號旁     2     15     0     15         0         0  新北市   \n",
       "1  500203117       三信集英路口     2     13     0     13         0         0  新北市   \n",
       "2  501207051       西門遺址公園     2      0     0      0         0         0  高雄市   \n",
       "3  501229010  高雄市立圖書館旗山分館     2     13     0      0         0         0  高雄市   \n",
       "4  501329009         新化高中     2      0     0      0         0         0  臺南市   \n",
       "\n",
       "  area   lat    lng      address  is_open  place_id  \\\n",
       "0  三重區 25.08 121.49  三和路四段73號(旁)        0       NaN   \n",
       "1  三重區 25.09 121.49  集英路1-15號(旁)        0       NaN   \n",
       "2  左營區 22.68 120.29     左營大路1號對面        0       NaN   \n",
       "3  旗山區 22.88 120.48       中學路42號        0       NaN   \n",
       "4  新化區 23.04 120.31      忠孝路2號南側        0       NaN   \n",
       "\n",
       "              last_update_ts              extraction_ts  \n",
       "0  2024-02-15 11:05:20+08:00  2024-02-16 16:32:58+08:00  \n",
       "1  2024-02-15 11:23:18+08:00  2024-02-16 16:32:58+08:00  \n",
       "2  2024-02-14 14:44:14+08:00  2024-02-16 16:32:58+08:00  \n",
       "3  2024-02-14 14:52:14+08:00  2024-02-16 16:32:58+08:00  \n",
       "4  2024-02-09 16:34:14+08:00  2024-02-16 16:32:58+08:00  "
      ]
     },
     "execution_count": 408,
     "metadata": {},
     "output_type": "execute_result"
    }
   ],
   "source": [
    "hist_df = hist_df[['id', 'name', 'type', 'space', 'full', 'empty', 'bike_yb2', 'bike_eyb', 'city', 'area',\n",
    "         'lat', 'lng', 'address', 'is_open', 'place_id', 'last_update_ts', 'extraction_ts']].reset_index(drop=True)\n",
    "hist_df.head(5)"
   ]
  },
  {
   "cell_type": "code",
   "execution_count": 409,
   "id": "4aada221-7dc4-4e76-bc9e-d2bb91a17474",
   "metadata": {
    "jupyter": {
     "source_hidden": true
    },
    "tags": []
   },
   "outputs": [],
   "source": [
    "# Analyze Raw data\n",
    "main_df = hist_df.copy(deep=True)\n",
    "\n",
    "# Double check with cleaned df \n",
    "# main_df = bikes_station_clean.copy()"
   ]
  },
  {
   "cell_type": "markdown",
   "id": "8a73905f-2680-4b09-9803-b475f202c0d5",
   "metadata": {},
   "source": [
    "# Validate & clean the dataset"
   ]
  },
  {
   "cell_type": "code",
   "execution_count": 410,
   "id": "cae788bd-b3a9-4f7d-accc-6a635a4cd68d",
   "metadata": {
    "tags": []
   },
   "outputs": [
    {
     "data": {
      "text/plain": [
       "(1782502, 17)"
      ]
     },
     "metadata": {},
     "output_type": "display_data"
    },
    {
     "data": {
      "text/plain": [
       "Index(['id', 'name', 'type', 'space', 'full', 'empty', 'bike_yb2', 'bike_eyb',\n",
       "       'city', 'area', 'lat', 'lng', 'address', 'is_open', 'place_id',\n",
       "       'last_update_ts', 'extraction_ts'],\n",
       "      dtype='object')"
      ]
     },
     "execution_count": 410,
     "metadata": {},
     "output_type": "execute_result"
    }
   ],
   "source": [
    "display(main_df.shape)\n",
    "main_df.columns"
   ]
  },
  {
   "cell_type": "markdown",
   "id": "49508c63-6d3b-4e26-9ccf-3d5abc9bf860",
   "metadata": {},
   "source": [
    "**Columns are understood as follows:**\n",
    "- id: unique identifier per bike station\n",
    "- type: youbike type (1.0, 2.0)\n",
    "- space: total available bike slots per station (= full + empty)\n",
    "- full: nbr of occupied slots (= bike_yb2 + bike_eyb)\n",
    "- empty: nbr of available slots for parking\n",
    "- bike_yb2: count of YouBike 2.0 in occupied slots (see 'full')\n",
    "- bike_eyb: count of E-Youbike 2.0 in occupied slots (see 'full')\n",
    "- city: city where bike station is located\n",
    "- area: city's district where bike station is located\n",
    "- lat: latitude coordinate of bike station\n",
    "- lng: longitude coordinate of bike station\n",
    "- place_id: ??\n",
    "- address: postal address of bike station\n",
    "- is_open: ??\n",
    "- last_updated_ts: timestamp of data in unix epoch\n",
    "- extraction_ts: ts data was pulled from API"
   ]
  },
  {
   "cell_type": "markdown",
   "id": "a86b23f1-5a9f-4240-8d21-1034b71f1b8a",
   "metadata": {},
   "source": [
    "## Check types & missing values"
   ]
  },
  {
   "cell_type": "code",
   "execution_count": 411,
   "id": "1e84f4b8-969a-4621-931d-0334e7a3149d",
   "metadata": {
    "tags": []
   },
   "outputs": [
    {
     "name": "stdout",
     "output_type": "stream",
     "text": [
      "<class 'pandas.core.frame.DataFrame'>\n",
      "RangeIndex: 1782502 entries, 0 to 1782501\n",
      "Data columns (total 17 columns):\n",
      " #   Column          Non-Null Count    Dtype  \n",
      "---  ------          --------------    -----  \n",
      " 0   id              1782502 non-null  int64  \n",
      " 1   name            1782502 non-null  object \n",
      " 2   type            1782502 non-null  int64  \n",
      " 3   space           1782502 non-null  int64  \n",
      " 4   full            1782502 non-null  int64  \n",
      " 5   empty           1782502 non-null  int64  \n",
      " 6   bike_yb2        1782502 non-null  int64  \n",
      " 7   bike_eyb        1782502 non-null  int64  \n",
      " 8   city            1754478 non-null  object \n",
      " 9   area            1782502 non-null  object \n",
      " 10  lat             1782502 non-null  float64\n",
      " 11  lng             1782502 non-null  float64\n",
      " 12  address         1782502 non-null  object \n",
      " 13  is_open         1782502 non-null  int64  \n",
      " 14  place_id        0 non-null        float64\n",
      " 15  last_update_ts  1782502 non-null  object \n",
      " 16  extraction_ts   1782502 non-null  object \n",
      "dtypes: float64(3), int64(8), object(6)\n",
      "memory usage: 231.2+ MB\n"
     ]
    },
    {
     "data": {
      "text/plain": [
       "None"
      ]
     },
     "metadata": {},
     "output_type": "display_data"
    },
    {
     "data": {
      "text/plain": [
       "id                      0\n",
       "name                    0\n",
       "type                    0\n",
       "space                   0\n",
       "full                    0\n",
       "empty                   0\n",
       "bike_yb2                0\n",
       "bike_eyb                0\n",
       "city                28024\n",
       "area                    0\n",
       "lat                     0\n",
       "lng                     0\n",
       "address                 0\n",
       "is_open                 0\n",
       "place_id          1782502\n",
       "last_update_ts          0\n",
       "extraction_ts           0\n",
       "dtype: int64"
      ]
     },
     "metadata": {},
     "output_type": "display_data"
    }
   ],
   "source": [
    "display(main_df.info(show_counts=True))\n",
    "display(main_df.isna().sum())"
   ]
  },
  {
   "cell_type": "markdown",
   "id": "f3192d59-44f8-450f-8916-31fabd231ba0",
   "metadata": {},
   "source": [
    "**Observation**\n",
    "- place_id contains no value\n",
    "- city has empty values\n",
    "- updated_at is an int64"
   ]
  },
  {
   "cell_type": "code",
   "execution_count": 412,
   "id": "102f0846-6439-46a7-82d1-f9cb73c96258",
   "metadata": {
    "jupyter": {
     "source_hidden": true
    },
    "tags": []
   },
   "outputs": [],
   "source": [
    "# Drop empty cities\n",
    "main_df.drop(main_df[main_df[\"city\"].isna()].index, inplace=True) # Discard vals with null cities\n",
    "\n",
    "#Drop youbikes of type 1 - because soon discontinued\n",
    "main_df.drop(main_df[main_df[\"type\"] != 2].index, inplace=True)\n",
    "\n",
    "# Convert ts \n",
    "main_df[\"last_update_ts\"] = pd.to_datetime(main_df[\"last_update_ts\"], yearfirst=True) \n",
    "main_df[\"extraction_ts\"] = pd.to_datetime(main_df[\"extraction_ts\"], yearfirst=True) "
   ]
  },
  {
   "cell_type": "code",
   "execution_count": null,
   "id": "c9fcda36-55a1-4cb7-b50a-2259993b74f7",
   "metadata": {
    "jupyter": {
     "source_hidden": true
    }
   },
   "outputs": [],
   "source": []
  },
  {
   "cell_type": "markdown",
   "id": "cbb5ed05-0077-410f-a9b6-07244b113fcb",
   "metadata": {},
   "source": [
    "## Discard irrelevant features"
   ]
  },
  {
   "cell_type": "code",
   "execution_count": 413,
   "id": "896fb099-0dbb-4b74-aa9c-b520fe605840",
   "metadata": {
    "tags": []
   },
   "outputs": [],
   "source": [
    "main_df.drop(labels=[\"name\", \"area\", \"address\", 'place_id'], axis=1, inplace=True)"
   ]
  },
  {
   "cell_type": "code",
   "execution_count": 414,
   "id": "4a42bd80-540a-43ae-bb40-d19763880fa9",
   "metadata": {},
   "outputs": [
    {
     "data": {
      "text/markdown": [
       "#### Any missing values left?"
      ],
      "text/plain": [
       "<IPython.core.display.Markdown object>"
      ]
     },
     "metadata": {},
     "output_type": "display_data"
    },
    {
     "data": {
      "text/plain": [
       "id                0\n",
       "type              0\n",
       "space             0\n",
       "full              0\n",
       "empty             0\n",
       "bike_yb2          0\n",
       "bike_eyb          0\n",
       "city              0\n",
       "lat               0\n",
       "lng               0\n",
       "is_open           0\n",
       "last_update_ts    0\n",
       "extraction_ts     0\n",
       "dtype: int64"
      ]
     },
     "metadata": {},
     "output_type": "display_data"
    }
   ],
   "source": [
    "dm(\"#### Any missing values left?\")\n",
    "display(main_df.isna().sum())"
   ]
  },
  {
   "cell_type": "markdown",
   "id": "59720735-791e-4c56-8f1a-dc5cfcd5852c",
   "metadata": {},
   "source": [
    "## Check assumptions"
   ]
  },
  {
   "cell_type": "code",
   "execution_count": 415,
   "id": "b86da59e-04a0-46fd-9f18-7424c802bfff",
   "metadata": {},
   "outputs": [
    {
     "data": {
      "text/markdown": [
       "#### Checking if space = full + empty"
      ],
      "text/plain": [
       "<IPython.core.display.Markdown object>"
      ]
     },
     "metadata": {},
     "output_type": "display_data"
    },
    {
     "data": {
      "text/markdown": [
       "**Rows where unequal:** 153433"
      ],
      "text/plain": [
       "<IPython.core.display.Markdown object>"
      ]
     },
     "metadata": {},
     "output_type": "display_data"
    },
    {
     "data": {
      "text/markdown": [
       "**As proportion of total dataset:** 0.10033953770032528"
      ],
      "text/plain": [
       "<IPython.core.display.Markdown object>"
      ]
     },
     "metadata": {},
     "output_type": "display_data"
    },
    {
     "data": {
      "text/markdown": [
       "**Excerpt output**"
      ],
      "text/plain": [
       "<IPython.core.display.Markdown object>"
      ]
     },
     "metadata": {},
     "output_type": "display_data"
    },
    {
     "data": {
      "text/html": [
       "<div>\n",
       "<style scoped>\n",
       "    .dataframe tbody tr th:only-of-type {\n",
       "        vertical-align: middle;\n",
       "    }\n",
       "\n",
       "    .dataframe tbody tr th {\n",
       "        vertical-align: top;\n",
       "    }\n",
       "\n",
       "    .dataframe thead th {\n",
       "        text-align: right;\n",
       "    }\n",
       "</style>\n",
       "<table border=\"1\" class=\"dataframe\">\n",
       "  <thead>\n",
       "    <tr style=\"text-align: right;\">\n",
       "      <th></th>\n",
       "      <th>id</th>\n",
       "      <th>type</th>\n",
       "      <th>space</th>\n",
       "      <th>full</th>\n",
       "      <th>empty</th>\n",
       "      <th>bike_yb2</th>\n",
       "      <th>bike_eyb</th>\n",
       "      <th>city</th>\n",
       "      <th>lat</th>\n",
       "      <th>lng</th>\n",
       "      <th>is_open</th>\n",
       "      <th>last_update_ts</th>\n",
       "      <th>extraction_ts</th>\n",
       "    </tr>\n",
       "  </thead>\n",
       "  <tbody>\n",
       "    <tr>\n",
       "      <th>3</th>\n",
       "      <td>501229010</td>\n",
       "      <td>2</td>\n",
       "      <td>13</td>\n",
       "      <td>0</td>\n",
       "      <td>0</td>\n",
       "      <td>0</td>\n",
       "      <td>0</td>\n",
       "      <td>高雄市</td>\n",
       "      <td>22.88</td>\n",
       "      <td>120.48</td>\n",
       "      <td>0</td>\n",
       "      <td>2024-02-14 14:52:14+08:00</td>\n",
       "      <td>2024-02-16 16:32:58+08:00</td>\n",
       "    </tr>\n",
       "    <tr>\n",
       "      <th>5</th>\n",
       "      <td>501329010</td>\n",
       "      <td>2</td>\n",
       "      <td>20</td>\n",
       "      <td>0</td>\n",
       "      <td>0</td>\n",
       "      <td>0</td>\n",
       "      <td>0</td>\n",
       "      <td>臺南市</td>\n",
       "      <td>23.04</td>\n",
       "      <td>120.32</td>\n",
       "      <td>0</td>\n",
       "      <td>2024-02-09 16:37:14+08:00</td>\n",
       "      <td>2024-02-16 16:32:58+08:00</td>\n",
       "    </tr>\n",
       "    <tr>\n",
       "      <th>6</th>\n",
       "      <td>501317002</td>\n",
       "      <td>2</td>\n",
       "      <td>15</td>\n",
       "      <td>0</td>\n",
       "      <td>0</td>\n",
       "      <td>0</td>\n",
       "      <td>0</td>\n",
       "      <td>臺南市</td>\n",
       "      <td>23.12</td>\n",
       "      <td>120.20</td>\n",
       "      <td>0</td>\n",
       "      <td>2024-02-08 14:45:19+08:00</td>\n",
       "      <td>2024-02-16 16:32:58+08:00</td>\n",
       "    </tr>\n",
       "    <tr>\n",
       "      <th>7</th>\n",
       "      <td>501317001</td>\n",
       "      <td>2</td>\n",
       "      <td>15</td>\n",
       "      <td>0</td>\n",
       "      <td>0</td>\n",
       "      <td>0</td>\n",
       "      <td>0</td>\n",
       "      <td>臺南市</td>\n",
       "      <td>23.12</td>\n",
       "      <td>120.20</td>\n",
       "      <td>0</td>\n",
       "      <td>2024-02-08 14:46:14+08:00</td>\n",
       "      <td>2024-02-16 16:32:58+08:00</td>\n",
       "    </tr>\n",
       "    <tr>\n",
       "      <th>16</th>\n",
       "      <td>501227002</td>\n",
       "      <td>2</td>\n",
       "      <td>10</td>\n",
       "      <td>0</td>\n",
       "      <td>0</td>\n",
       "      <td>0</td>\n",
       "      <td>0</td>\n",
       "      <td>高雄市</td>\n",
       "      <td>22.80</td>\n",
       "      <td>120.25</td>\n",
       "      <td>0</td>\n",
       "      <td>2024-02-08 11:36:14+08:00</td>\n",
       "      <td>2024-02-16 16:32:58+08:00</td>\n",
       "    </tr>\n",
       "  </tbody>\n",
       "</table>\n",
       "</div>"
      ],
      "text/plain": [
       "           id  type  space  full  empty  bike_yb2  bike_eyb city   lat    lng  \\\n",
       "3   501229010     2     13     0      0         0         0  高雄市 22.88 120.48   \n",
       "5   501329010     2     20     0      0         0         0  臺南市 23.04 120.32   \n",
       "6   501317002     2     15     0      0         0         0  臺南市 23.12 120.20   \n",
       "7   501317001     2     15     0      0         0         0  臺南市 23.12 120.20   \n",
       "16  501227002     2     10     0      0         0         0  高雄市 22.80 120.25   \n",
       "\n",
       "    is_open            last_update_ts             extraction_ts  \n",
       "3         0 2024-02-14 14:52:14+08:00 2024-02-16 16:32:58+08:00  \n",
       "5         0 2024-02-09 16:37:14+08:00 2024-02-16 16:32:58+08:00  \n",
       "6         0 2024-02-08 14:45:19+08:00 2024-02-16 16:32:58+08:00  \n",
       "7         0 2024-02-08 14:46:14+08:00 2024-02-16 16:32:58+08:00  \n",
       "16        0 2024-02-08 11:36:14+08:00 2024-02-16 16:32:58+08:00  "
      ]
     },
     "metadata": {},
     "output_type": "display_data"
    },
    {
     "data": {
      "text/markdown": [
       "**conclusion:** Understanding the is_open code mapping would be useful to assess how to handle these records"
      ],
      "text/plain": [
       "<IPython.core.display.Markdown object>"
      ]
     },
     "metadata": {},
     "output_type": "display_data"
    }
   ],
   "source": [
    "# Space = full + empty\n",
    "\n",
    "space_uneq = main_df[main_df[\"space\"] != (main_df[\"full\"] + main_df[\"empty\"])]\n",
    "\n",
    "\n",
    "display(Markdown('#### Checking if space = full + empty'))\n",
    "display(Markdown(f'**Rows where unequal:** {space_uneq.shape[0]}'))\n",
    "display(Markdown(f'**As proportion of total dataset:** {space_uneq.shape[0] / main_df.shape[0]}')) #displays ratio of total bikes \n",
    "display(Markdown('**Excerpt output**'))\n",
    "display(space_uneq.head(5)) # Displays where it is not true\n",
    "dm(f'**conclusion:** Understanding the is_open code mapping would be useful to assess how to handle these records')"
   ]
  },
  {
   "cell_type": "code",
   "execution_count": 416,
   "id": "2b8ba329-28ab-4bb6-9aec-e2f755109ba2",
   "metadata": {},
   "outputs": [
    {
     "data": {
      "text/markdown": [
       "Inequality appears across all is_open, and mostly on 0 and 2. \n",
       " Proportion rows unequal vs total per is_open"
      ],
      "text/plain": [
       "<IPython.core.display.Markdown object>"
      ]
     },
     "metadata": {},
     "output_type": "display_data"
    },
    {
     "data": {
      "text/plain": [
       "is_open\n",
       "0   0.26\n",
       "1   0.09\n",
       "2   0.62\n",
       "3    NaN\n",
       "4   0.02\n",
       "5   0.12\n",
       "Name: count, dtype: float64"
      ]
     },
     "metadata": {},
     "output_type": "display_data"
    }
   ],
   "source": [
    "dm(f'Inequality appears across all is_open, and mostly on 0 and 2. \\n Proportion rows unequal vs total per is_open')\n",
    "display(space_uneq[\"is_open\"].value_counts() / main_df[\"is_open\"].value_counts())"
   ]
  },
  {
   "cell_type": "code",
   "execution_count": 417,
   "id": "644c3145-fcee-4d08-8073-5f8208ce8764",
   "metadata": {},
   "outputs": [
    {
     "data": {
      "text/markdown": [
       "#### Check if full = bike_yb2 + bike_eyb"
      ],
      "text/plain": [
       "<IPython.core.display.Markdown object>"
      ]
     },
     "metadata": {},
     "output_type": "display_data"
    },
    {
     "data": {
      "text/markdown": [
       "**Rows where unequal:** 0"
      ],
      "text/plain": [
       "<IPython.core.display.Markdown object>"
      ]
     },
     "metadata": {},
     "output_type": "display_data"
    },
    {
     "data": {
      "text/markdown": [
       "**Excerpt output where unequal**"
      ],
      "text/plain": [
       "<IPython.core.display.Markdown object>"
      ]
     },
     "metadata": {},
     "output_type": "display_data"
    },
    {
     "data": {
      "text/html": [
       "<div>\n",
       "<style scoped>\n",
       "    .dataframe tbody tr th:only-of-type {\n",
       "        vertical-align: middle;\n",
       "    }\n",
       "\n",
       "    .dataframe tbody tr th {\n",
       "        vertical-align: top;\n",
       "    }\n",
       "\n",
       "    .dataframe thead th {\n",
       "        text-align: right;\n",
       "    }\n",
       "</style>\n",
       "<table border=\"1\" class=\"dataframe\">\n",
       "  <thead>\n",
       "    <tr style=\"text-align: right;\">\n",
       "      <th></th>\n",
       "      <th>id</th>\n",
       "      <th>type</th>\n",
       "      <th>space</th>\n",
       "      <th>full</th>\n",
       "      <th>empty</th>\n",
       "      <th>bike_yb2</th>\n",
       "      <th>bike_eyb</th>\n",
       "      <th>city</th>\n",
       "      <th>lat</th>\n",
       "      <th>lng</th>\n",
       "      <th>is_open</th>\n",
       "      <th>last_update_ts</th>\n",
       "      <th>extraction_ts</th>\n",
       "    </tr>\n",
       "  </thead>\n",
       "  <tbody>\n",
       "  </tbody>\n",
       "</table>\n",
       "</div>"
      ],
      "text/plain": [
       "Empty DataFrame\n",
       "Columns: [id, type, space, full, empty, bike_yb2, bike_eyb, city, lat, lng, is_open, last_update_ts, extraction_ts]\n",
       "Index: []"
      ]
     },
     "metadata": {},
     "output_type": "display_data"
    },
    {
     "data": {
      "text/markdown": [
       "**Conclusion**: Assumption is valid"
      ],
      "text/plain": [
       "<IPython.core.display.Markdown object>"
      ]
     },
     "metadata": {},
     "output_type": "display_data"
    }
   ],
   "source": [
    "dm('#### Check if full = bike_yb2 + bike_eyb')\n",
    "full_uneq = main_df[main_df[\"full\"] != (main_df[\"bike_yb2\"] + main_df[\"bike_eyb\"])]\n",
    "dm(f'**Rows where unequal:** {full_uneq.shape[0]}')\n",
    "dm(f'**Excerpt output where unequal**')\n",
    "display(full_uneq.head(5))\n",
    "dm(f'**Conclusion**: Assumption is valid')"
   ]
  },
  {
   "cell_type": "markdown",
   "id": "823c6d5d-249c-4d32-8fad-19bb74647d31",
   "metadata": {
    "tags": []
   },
   "source": [
    "## Check range and distribution of values"
   ]
  },
  {
   "cell_type": "markdown",
   "id": "46eab2b7-1f19-4993-8bb2-b21d0d8940e2",
   "metadata": {},
   "source": [
    "### Categorical"
   ]
  },
  {
   "cell_type": "code",
   "execution_count": 418,
   "id": "e2683e0e-27ba-454e-9e5c-5bd3f092147d",
   "metadata": {
    "jupyter": {
     "source_hidden": true
    },
    "tags": []
   },
   "outputs": [],
   "source": [
    "main_df_cat = main_df.select_dtypes(include=[\"category\", \"object\"]) \n",
    "main_df_cat[\"type\"] = hist_df[\"type\"]\n",
    "main_df_cat[\"is_open\"] = hist_df[\"is_open\"]"
   ]
  },
  {
   "cell_type": "code",
   "execution_count": 419,
   "id": "9b0491d1-8b34-4e5a-b2fe-7f67800d1496",
   "metadata": {
    "jupyter": {
     "source_hidden": true
    }
   },
   "outputs": [
    {
     "name": "stdout",
     "output_type": "stream",
     "text": [
      "Unique values in 'city': ['新北市' '高雄市' '臺南市' '台中市' '台北市' '桃園市' '新竹科學工業園區' '屏東縣' '嘉義市' '苗栗縣' '新竹縣'\n",
      " '新竹市']\n",
      "Unique values in 'type': [2]\n",
      "Unique values in 'is_open': [0 1 5 4 2 3]\n"
     ]
    }
   ],
   "source": [
    "for col in main_df_cat.columns:\n",
    "    unique_values = main_df[col].unique()\n",
    "    print(f\"Unique values in '{col}': {unique_values}\")"
   ]
  },
  {
   "cell_type": "code",
   "execution_count": 420,
   "id": "97e43208-8cae-484a-8889-0804920c7941",
   "metadata": {
    "jupyter": {
     "source_hidden": true
    },
    "tags": []
   },
   "outputs": [],
   "source": [
    "#Map city to ascii chars\n",
    "city_name_glossary = {\"新北市\": \"XinBeiShi\",\n",
    "                      \"台北市\": \"TaiBeiShi\",\n",
    "                      \"台中市\":\"TaiZhongShi\",\n",
    "                      \"高雄市\":\"KaoXiongShi\",\n",
    "                      \"桃園市\":\"TaoYuanShi\",\n",
    "                      \"臺南市\": \"TaiNanShi\",\n",
    "                      \"嘉義市\": \"JiaYiShi\",\n",
    "                      \"屏東縣\": \"PingDongXian\",\n",
    "                      \"新竹市\": \"XinZhuShi\",\n",
    "                      \"新竹縣\": \"XinZhuXian\",\n",
    "                      \"苗栗縣\" : \"MiaoLiXian\",\n",
    "                      \"新竹科學工業園區\": \"XinZhuKeXueGong\"}  \n",
    "\n",
    "#TODO Need to catch KeyError and set default value. \n",
    "main_df[\"city\"] = main_df.apply(lambda x: city_name_glossary[x[\"city\"]], axis=1)\n"
   ]
  },
  {
   "cell_type": "markdown",
   "id": "1e4d8ec6-9aaf-4358-b2f2-07fcedc73c7e",
   "metadata": {},
   "source": [
    "### Numerical"
   ]
  },
  {
   "cell_type": "code",
   "execution_count": 421,
   "id": "dcef713c-749e-4bbf-84fe-6bfa7004fd51",
   "metadata": {
    "jupyter": {
     "source_hidden": true
    }
   },
   "outputs": [],
   "source": [
    "main_df_num = main_df.drop(labels=main_df_cat.columns, axis=1)"
   ]
  },
  {
   "cell_type": "code",
   "execution_count": 422,
   "id": "6e320a75-08e4-4069-83f9-aa1b944ca35a",
   "metadata": {},
   "outputs": [],
   "source": [
    "pd.set_option('display.float_format', '{:.2f}'.format)\n"
   ]
  },
  {
   "cell_type": "code",
   "execution_count": 423,
   "id": "a34d9e3d-ff68-4953-91ee-380a367e8976",
   "metadata": {
    "jupyter": {
     "source_hidden": true
    },
    "tags": []
   },
   "outputs": [
    {
     "data": {
      "text/html": [
       "<div>\n",
       "<style scoped>\n",
       "    .dataframe tbody tr th:only-of-type {\n",
       "        vertical-align: middle;\n",
       "    }\n",
       "\n",
       "    .dataframe tbody tr th {\n",
       "        vertical-align: top;\n",
       "    }\n",
       "\n",
       "    .dataframe thead th {\n",
       "        text-align: right;\n",
       "    }\n",
       "</style>\n",
       "<table border=\"1\" class=\"dataframe\">\n",
       "  <thead>\n",
       "    <tr style=\"text-align: right;\">\n",
       "      <th></th>\n",
       "      <th>id</th>\n",
       "      <th>space</th>\n",
       "      <th>full</th>\n",
       "      <th>empty</th>\n",
       "      <th>bike_yb2</th>\n",
       "      <th>bike_eyb</th>\n",
       "      <th>lat</th>\n",
       "      <th>lng</th>\n",
       "    </tr>\n",
       "  </thead>\n",
       "  <tbody>\n",
       "    <tr>\n",
       "      <th>count</th>\n",
       "      <td>1529138.00</td>\n",
       "      <td>1529138.00</td>\n",
       "      <td>1529138.00</td>\n",
       "      <td>1529138.00</td>\n",
       "      <td>1529138.00</td>\n",
       "      <td>1529138.00</td>\n",
       "      <td>1529138.00</td>\n",
       "      <td>1529138.00</td>\n",
       "    </tr>\n",
       "    <tr>\n",
       "      <th>mean</th>\n",
       "      <td>500639464.76</td>\n",
       "      <td>20.77</td>\n",
       "      <td>6.46</td>\n",
       "      <td>13.89</td>\n",
       "      <td>6.18</td>\n",
       "      <td>0.28</td>\n",
       "      <td>24.11</td>\n",
       "      <td>120.57</td>\n",
       "    </tr>\n",
       "    <tr>\n",
       "      <th>std</th>\n",
       "      <td>744104.69</td>\n",
       "      <td>11.70</td>\n",
       "      <td>7.02</td>\n",
       "      <td>10.02</td>\n",
       "      <td>6.90</td>\n",
       "      <td>1.07</td>\n",
       "      <td>1.63</td>\n",
       "      <td>6.71</td>\n",
       "    </tr>\n",
       "    <tr>\n",
       "      <th>min</th>\n",
       "      <td>500101001.00</td>\n",
       "      <td>0.00</td>\n",
       "      <td>0.00</td>\n",
       "      <td>0.00</td>\n",
       "      <td>0.00</td>\n",
       "      <td>0.00</td>\n",
       "      <td>0.00</td>\n",
       "      <td>0.00</td>\n",
       "    </tr>\n",
       "    <tr>\n",
       "      <th>25%</th>\n",
       "      <td>500207021.00</td>\n",
       "      <td>14.00</td>\n",
       "      <td>2.00</td>\n",
       "      <td>8.00</td>\n",
       "      <td>2.00</td>\n",
       "      <td>0.00</td>\n",
       "      <td>23.01</td>\n",
       "      <td>120.39</td>\n",
       "    </tr>\n",
       "    <tr>\n",
       "      <th>50%</th>\n",
       "      <td>500602037.00</td>\n",
       "      <td>17.00</td>\n",
       "      <td>5.00</td>\n",
       "      <td>12.00</td>\n",
       "      <td>4.00</td>\n",
       "      <td>0.00</td>\n",
       "      <td>24.38</td>\n",
       "      <td>120.81</td>\n",
       "    </tr>\n",
       "    <tr>\n",
       "      <th>75%</th>\n",
       "      <td>501203102.00</td>\n",
       "      <td>24.00</td>\n",
       "      <td>9.00</td>\n",
       "      <td>17.00</td>\n",
       "      <td>8.00</td>\n",
       "      <td>0.00</td>\n",
       "      <td>25.03</td>\n",
       "      <td>121.49</td>\n",
       "    </tr>\n",
       "    <tr>\n",
       "      <th>max</th>\n",
       "      <td>508201041.00</td>\n",
       "      <td>99.00</td>\n",
       "      <td>95.00</td>\n",
       "      <td>99.00</td>\n",
       "      <td>95.00</td>\n",
       "      <td>38.00</td>\n",
       "      <td>25.29</td>\n",
       "      <td>122.00</td>\n",
       "    </tr>\n",
       "  </tbody>\n",
       "</table>\n",
       "</div>"
      ],
      "text/plain": [
       "                id      space       full      empty   bike_yb2   bike_eyb  \\\n",
       "count   1529138.00 1529138.00 1529138.00 1529138.00 1529138.00 1529138.00   \n",
       "mean  500639464.76      20.77       6.46      13.89       6.18       0.28   \n",
       "std      744104.69      11.70       7.02      10.02       6.90       1.07   \n",
       "min   500101001.00       0.00       0.00       0.00       0.00       0.00   \n",
       "25%   500207021.00      14.00       2.00       8.00       2.00       0.00   \n",
       "50%   500602037.00      17.00       5.00      12.00       4.00       0.00   \n",
       "75%   501203102.00      24.00       9.00      17.00       8.00       0.00   \n",
       "max   508201041.00      99.00      95.00      99.00      95.00      38.00   \n",
       "\n",
       "             lat        lng  \n",
       "count 1529138.00 1529138.00  \n",
       "mean       24.11     120.57  \n",
       "std         1.63       6.71  \n",
       "min         0.00       0.00  \n",
       "25%        23.01     120.39  \n",
       "50%        24.38     120.81  \n",
       "75%        25.03     121.49  \n",
       "max        25.29     122.00  "
      ]
     },
     "execution_count": 423,
     "metadata": {},
     "output_type": "execute_result"
    }
   ],
   "source": [
    "main_df_num.describe()"
   ]
  },
  {
   "cell_type": "markdown",
   "id": "6bc567dc-5e02-4442-b5dd-be1455832490",
   "metadata": {},
   "source": [
    "**Observations about range and distribution**\n",
    "- Empty has negative values\n",
    "- Some long/lat coordinates are outside of Taiwan\n",
    "- Some ts shows stale data (many days older than latest ts)\n",
    "- Rest is according to expectations"
   ]
  },
  {
   "cell_type": "code",
   "execution_count": 424,
   "id": "69a82a3f-1408-4a40-a172-3d6d57ecf20b",
   "metadata": {
    "jupyter": {
     "source_hidden": true
    }
   },
   "outputs": [
    {
     "data": {
      "text/markdown": [
       "\n",
       "**Dropping:**\n",
       "- Stations with negative empty values. (= Available spaces cannot be negative.)\n",
       "- Stations without space are irrelevant\n",
       "- Stations located outside of Taiwan (these are test locations. Confirmed by not being displayed on YouBikes official map)\n",
       "- Stations with last_update_ts older than the first day of this historical dataset. (Stale data is useless)\n"
      ],
      "text/plain": [
       "<IPython.core.display.Markdown object>"
      ]
     },
     "metadata": {},
     "output_type": "display_data"
    },
    {
     "data": {
      "text/markdown": [
       "Row counts before: 1529138"
      ],
      "text/plain": [
       "<IPython.core.display.Markdown object>"
      ]
     },
     "metadata": {},
     "output_type": "display_data"
    },
    {
     "data": {
      "text/markdown": [
       "Row counts after: 1455807"
      ],
      "text/plain": [
       "<IPython.core.display.Markdown object>"
      ]
     },
     "metadata": {},
     "output_type": "display_data"
    }
   ],
   "source": [
    "dm(\"\"\"\n",
    "**Dropping:**\n",
    "- Stations with negative empty values. (= Available spaces cannot be negative.)\n",
    "- Stations without space are irrelevant\n",
    "- Stations located outside of Taiwan (these are test locations. Confirmed by not being displayed on YouBikes official map)\n",
    "- Stations with last_update_ts older than the first day of this historical dataset. (Stale data is useless)\n",
    "\"\"\")\n",
    "dm(f\"Row counts before: {main_df.shape[0]}\")\n",
    "discard_mask = (\n",
    "    (main_df[\"empty\"] < 0)\n",
    "    | (main_df[\"space\"] < 1) # Stations without space are irrelevant\n",
    "    | (main_df[\"lat\"] < 21.89) #southermost lat of Taiwan's main island\n",
    "    | (main_df[\"lng\"] < 120) #westernmost lng of Taiwan's main island\n",
    "    | (main_df[\"last_update_ts\"] < pd.to_datetime(\"2024-02-16\").tz_localize(tz='Asia/Taipei'))\n",
    ")\n",
    "main_df.drop(main_df[discard_mask == True].index, inplace=True)\n",
    "\n",
    "dm(f\"Row counts after: {main_df.shape[0]}\")\n",
    "#TODO: bound to the easter and northernmost points too? "
   ]
  },
  {
   "cell_type": "markdown",
   "id": "e7b4265e-01e7-4b22-babc-cc6b8c9e0a2b",
   "metadata": {},
   "source": [
    "## Check uniqueness of observations"
   ]
  },
  {
   "cell_type": "code",
   "execution_count": 425,
   "id": "931f3e68-73b8-44e2-b6aa-39b05ccfa41f",
   "metadata": {},
   "outputs": [
    {
     "data": {
      "text/markdown": [
       "#### Unique key is (extraction_ts, id)"
      ],
      "text/plain": [
       "<IPython.core.display.Markdown object>"
      ]
     },
     "metadata": {},
     "output_type": "display_data"
    },
    {
     "data": {
      "text/plain": [
       "duplicated_observation\n",
       "1    1455807\n",
       "Name: count, dtype: int64"
      ]
     },
     "metadata": {},
     "output_type": "display_data"
    },
    {
     "data": {
      "text/markdown": [
       "Value_count = 1 means no duplicates"
      ],
      "text/plain": [
       "<IPython.core.display.Markdown object>"
      ]
     },
     "metadata": {},
     "output_type": "display_data"
    }
   ],
   "source": [
    "dm(\"#### Unique key is (extraction_ts, id)\") \n",
    "\n",
    "main_df['duplicated_observation'] = main_df.groupby(['extraction_ts', 'id']).transform('size')\n",
    "display(main_df['duplicated_observation'].value_counts())\n",
    "dm(\"Value_count = 1 means no duplicates\")"
   ]
  },
  {
   "cell_type": "code",
   "execution_count": 426,
   "id": "27146992-c26f-41be-9ced-d1642c0d2c42",
   "metadata": {},
   "outputs": [
    {
     "data": {
      "text/markdown": [
       "### Does each station have a unique record per extraction? (uniqueness on position (= Lat / Lng)"
      ],
      "text/plain": [
       "<IPython.core.display.Markdown object>"
      ]
     },
     "metadata": {},
     "output_type": "display_data"
    },
    {
     "data": {
      "text/html": [
       "<div>\n",
       "<style scoped>\n",
       "    .dataframe tbody tr th:only-of-type {\n",
       "        vertical-align: middle;\n",
       "    }\n",
       "\n",
       "    .dataframe tbody tr th {\n",
       "        vertical-align: top;\n",
       "    }\n",
       "\n",
       "    .dataframe thead th {\n",
       "        text-align: right;\n",
       "    }\n",
       "</style>\n",
       "<table border=\"1\" class=\"dataframe\">\n",
       "  <thead>\n",
       "    <tr style=\"text-align: right;\">\n",
       "      <th></th>\n",
       "      <th>id</th>\n",
       "      <th>type</th>\n",
       "      <th>space</th>\n",
       "      <th>full</th>\n",
       "      <th>empty</th>\n",
       "      <th>bike_yb2</th>\n",
       "      <th>bike_eyb</th>\n",
       "      <th>city</th>\n",
       "      <th>lat</th>\n",
       "      <th>lng</th>\n",
       "      <th>is_open</th>\n",
       "      <th>last_update_ts</th>\n",
       "      <th>extraction_ts</th>\n",
       "      <th>duplicated_observation</th>\n",
       "      <th>pos</th>\n",
       "      <th>duplic_pos</th>\n",
       "    </tr>\n",
       "  </thead>\n",
       "  <tbody>\n",
       "    <tr>\n",
       "      <th>5433</th>\n",
       "      <td>500199002</td>\n",
       "      <td>2</td>\n",
       "      <td>17</td>\n",
       "      <td>1</td>\n",
       "      <td>16</td>\n",
       "      <td>1</td>\n",
       "      <td>0</td>\n",
       "      <td>TaiBeiShi</td>\n",
       "      <td>25.00</td>\n",
       "      <td>121.54</td>\n",
       "      <td>5</td>\n",
       "      <td>2024-02-16 16:29:19+08:00</td>\n",
       "      <td>2024-02-16 16:32:58+08:00</td>\n",
       "      <td>1</td>\n",
       "      <td>(24.99609, 121.54284)</td>\n",
       "      <td>2</td>\n",
       "    </tr>\n",
       "    <tr>\n",
       "      <th>6375</th>\n",
       "      <td>500105068</td>\n",
       "      <td>2</td>\n",
       "      <td>10</td>\n",
       "      <td>0</td>\n",
       "      <td>10</td>\n",
       "      <td>0</td>\n",
       "      <td>0</td>\n",
       "      <td>TaiBeiShi</td>\n",
       "      <td>25.00</td>\n",
       "      <td>121.54</td>\n",
       "      <td>1</td>\n",
       "      <td>2024-02-16 16:29:14+08:00</td>\n",
       "      <td>2024-02-16 16:32:58+08:00</td>\n",
       "      <td>1</td>\n",
       "      <td>(24.99609, 121.54284)</td>\n",
       "      <td>2</td>\n",
       "    </tr>\n",
       "    <tr>\n",
       "      <th>13326</th>\n",
       "      <td>500199002</td>\n",
       "      <td>2</td>\n",
       "      <td>17</td>\n",
       "      <td>1</td>\n",
       "      <td>16</td>\n",
       "      <td>1</td>\n",
       "      <td>0</td>\n",
       "      <td>TaiBeiShi</td>\n",
       "      <td>25.00</td>\n",
       "      <td>121.54</td>\n",
       "      <td>5</td>\n",
       "      <td>2024-02-20 11:51:19+08:00</td>\n",
       "      <td>2024-02-20 13:39:44+08:00</td>\n",
       "      <td>1</td>\n",
       "      <td>(24.99609, 121.54284)</td>\n",
       "      <td>2</td>\n",
       "    </tr>\n",
       "    <tr>\n",
       "      <th>14268</th>\n",
       "      <td>500105068</td>\n",
       "      <td>2</td>\n",
       "      <td>10</td>\n",
       "      <td>3</td>\n",
       "      <td>7</td>\n",
       "      <td>3</td>\n",
       "      <td>0</td>\n",
       "      <td>TaiBeiShi</td>\n",
       "      <td>25.00</td>\n",
       "      <td>121.54</td>\n",
       "      <td>1</td>\n",
       "      <td>2024-02-20 13:06:20+08:00</td>\n",
       "      <td>2024-02-20 13:39:44+08:00</td>\n",
       "      <td>1</td>\n",
       "      <td>(24.99609, 121.54284)</td>\n",
       "      <td>2</td>\n",
       "    </tr>\n",
       "  </tbody>\n",
       "</table>\n",
       "</div>"
      ],
      "text/plain": [
       "              id  type  space  full  empty  bike_yb2  bike_eyb       city  \\\n",
       "5433   500199002     2     17     1     16         1         0  TaiBeiShi   \n",
       "6375   500105068     2     10     0     10         0         0  TaiBeiShi   \n",
       "13326  500199002     2     17     1     16         1         0  TaiBeiShi   \n",
       "14268  500105068     2     10     3      7         3         0  TaiBeiShi   \n",
       "\n",
       "        lat    lng  is_open            last_update_ts  \\\n",
       "5433  25.00 121.54        5 2024-02-16 16:29:19+08:00   \n",
       "6375  25.00 121.54        1 2024-02-16 16:29:14+08:00   \n",
       "13326 25.00 121.54        5 2024-02-20 11:51:19+08:00   \n",
       "14268 25.00 121.54        1 2024-02-20 13:06:20+08:00   \n",
       "\n",
       "                  extraction_ts  duplicated_observation  \\\n",
       "5433  2024-02-16 16:32:58+08:00                       1   \n",
       "6375  2024-02-16 16:32:58+08:00                       1   \n",
       "13326 2024-02-20 13:39:44+08:00                       1   \n",
       "14268 2024-02-20 13:39:44+08:00                       1   \n",
       "\n",
       "                         pos  duplic_pos  \n",
       "5433   (24.99609, 121.54284)           2  \n",
       "6375   (24.99609, 121.54284)           2  \n",
       "13326  (24.99609, 121.54284)           2  \n",
       "14268  (24.99609, 121.54284)           2  "
      ]
     },
     "metadata": {},
     "output_type": "display_data"
    },
    {
     "data": {
      "text/markdown": [
       "**Observation:** Some Lat / Lng are recorded twice within the same extraction"
      ],
      "text/plain": [
       "<IPython.core.display.Markdown object>"
      ]
     },
     "metadata": {},
     "output_type": "display_data"
    },
    {
     "data": {
      "text/plain": [
       "duplic_pos\n",
       "1    1455361\n",
       "2        446\n",
       "Name: count, dtype: int64"
      ]
     },
     "metadata": {},
     "output_type": "display_data"
    },
    {
     "data": {
      "text/markdown": [
       "<br>Filtering for those positions which are recorded twice returns "
      ],
      "text/plain": [
       "<IPython.core.display.Markdown object>"
      ]
     },
     "metadata": {},
     "output_type": "display_data"
    },
    {
     "data": {
      "text/plain": [
       "pos\n",
       "(24.99609, 121.54284)    446\n",
       "Name: count, dtype: int64"
      ]
     },
     "metadata": {},
     "output_type": "display_data"
    },
    {
     "data": {
      "text/markdown": [
       "**Conclusion**: For the moment, any duplicated station (identified by using pos) per extraction will be dismissed"
      ],
      "text/plain": [
       "<IPython.core.display.Markdown object>"
      ]
     },
     "metadata": {},
     "output_type": "display_data"
    }
   ],
   "source": [
    "dm(\"### Does each station have a unique record per extraction? (uniqueness on position (= Lat / Lng)\")\n",
    "\n",
    "main_df[\"pos\"] = main_df.apply(lambda x: (x[\"lat\"], x[\"lng\"]), axis=1)\n",
    "main_df[\"duplic_pos\"] = main_df.groupby(['pos', 'extraction_ts']).transform('size')\n",
    "\n",
    "display(main_df[main_df[\"duplic_pos\"] > 1].head(4))\n",
    "dm(\"**Observation:** Some Lat / Lng are recorded twice within the same extraction\")\n",
    "display(main_df[\"duplic_pos\"].value_counts())\n",
    "dm(\"<br>Filtering for those positions which are recorded twice returns \")\n",
    "display(main_df[main_df[\"duplic_pos\"] > 1][\"pos\"].value_counts())\n",
    "dm(\"**Conclusion**: For the moment, any duplicated station (identified by using pos) per extraction will be dismissed\")"
   ]
  },
  {
   "cell_type": "code",
   "execution_count": 427,
   "id": "9a9b04b5-4e7b-463c-ab4b-e7d50a098510",
   "metadata": {},
   "outputs": [
    {
     "data": {
      "text/markdown": [
       "Dropping stations with duplicated pos, extraction_ts"
      ],
      "text/plain": [
       "<IPython.core.display.Markdown object>"
      ]
     },
     "metadata": {},
     "output_type": "display_data"
    },
    {
     "data": {
      "text/markdown": [
       "Row count before: 1455807"
      ],
      "text/plain": [
       "<IPython.core.display.Markdown object>"
      ]
     },
     "metadata": {},
     "output_type": "display_data"
    },
    {
     "data": {
      "text/markdown": [
       "Row count after: 1455361"
      ],
      "text/plain": [
       "<IPython.core.display.Markdown object>"
      ]
     },
     "metadata": {},
     "output_type": "display_data"
    }
   ],
   "source": [
    "dm(\"Dropping stations with duplicated pos, extraction_ts\")\n",
    "dm(f\"Row count before: {main_df.shape[0]}\")\n",
    "\n",
    "main_df.drop(main_df[main_df[\"duplic_pos\"] > 1].index, inplace=True)\n",
    "\n",
    "dm(f\"Row count after: {main_df.shape[0]}\")"
   ]
  },
  {
   "cell_type": "code",
   "execution_count": 428,
   "id": "e4e6eb0a-376c-4cf1-bc2b-ed39bdbd8806",
   "metadata": {
    "jupyter": {
     "source_hidden": true
    },
    "scrolled": true,
    "tags": []
   },
   "outputs": [],
   "source": [
    "# col_nb = 3\n",
    "# fig, ax = plt.subplots(4, col_nb, figsize=(12, 6))\n",
    "\n",
    "# main_df_num = main_df.drop(labels=main_df_cat.columns, axis=1)\n",
    "# for i, col_name in enumerate(main_df_num.columns):\n",
    "#     col = i % col_nb\n",
    "#     row = i // col_nb\n",
    "#     sns.boxplot(x=col_name, data=main_df_num, ax=ax[row, col], )\n",
    "# plt.xticks(rotation=45)\n",
    "# plt.tight_layout()  # Adjust subplots to fit into the figure area.\n",
    "\n",
    "# plt.show()"
   ]
  },
  {
   "cell_type": "code",
   "execution_count": null,
   "id": "5018d96a-ab09-45f8-8cf3-374423dea3b4",
   "metadata": {},
   "outputs": [],
   "source": []
  },
  {
   "cell_type": "markdown",
   "id": "26625a76-556a-416e-85d6-36edf09d51fe",
   "metadata": {},
   "source": [
    "# Analyze Data\n"
   ]
  },
  {
   "cell_type": "code",
   "execution_count": 429,
   "id": "02297a35-c254-423f-a251-94aedc3682df",
   "metadata": {},
   "outputs": [],
   "source": [
    "#Checkpoint\n",
    "base_df = main_df[['id', 'space', 'full', 'empty', 'bike_yb2', 'bike_eyb', 'city', \n",
    "                   'lat', 'lng', 'is_open', 'last_update_ts', 'extraction_ts']].copy(deep=True)"
   ]
  },
  {
   "cell_type": "code",
   "execution_count": 430,
   "id": "ea5f9be5-be2a-4525-930c-af0b161572b1",
   "metadata": {},
   "outputs": [],
   "source": [
    "eg_id = 500101001\n",
    "# base_df.sort_values(by=[\"id\", \"last_update_ts\"]).head(50)\n",
    "s_1 = base_df[base_df[\"id\"] == eg_id] \\\n",
    "    .sort_values(by=[\"id\", \"last_update_ts\"]) \\\n",
    "    .copy(deep=True).reset_index(drop=True)\n",
    "s_1.drop_duplicates(subset=\"last_update_ts\", inplace=True)\n",
    "s_1[\"pct_full\"] = s_1[\"full\"] / s_1[\"space\"]"
   ]
  },
  {
   "cell_type": "code",
   "execution_count": 431,
   "id": "f1b2e5a1-382b-4e33-99e4-5292f42abcdb",
   "metadata": {},
   "outputs": [
    {
     "data": {
      "text/plain": [
       "(array([19773.16666667, 19773.20833333, 19773.25      , 19773.29166667,\n",
       "        19773.33333333, 19773.375     ]),\n",
       " [Text(19773.166666666668, 0, '02-20 12'),\n",
       "  Text(19773.208333333332, 0, '02-20 13'),\n",
       "  Text(19773.25, 0, '02-20 14'),\n",
       "  Text(19773.291666666668, 0, '02-20 15'),\n",
       "  Text(19773.333333333332, 0, '02-20 16'),\n",
       "  Text(19773.375, 0, '02-20 17')])"
      ]
     },
     "execution_count": 431,
     "metadata": {},
     "output_type": "execute_result"
    },
    {
     "data": {
      "image/png": "[encoded data removed]",
      "text/plain": [
       "<Figure size 500x500 with 1 Axes>"
      ]
     },
     "metadata": {},
     "output_type": "display_data"
    }
   ],
   "source": [
    "sns.relplot(data=s_1.loc[115:176], kind=\"line\", x=\"last_update_ts\", y=\"pct_full\")\n",
    "plt.xticks(rotation=10)"
   ]
  },
  {
   "cell_type": "code",
   "execution_count": null,
   "id": "a149ca18-40a0-4a65-b801-2799746c690a",
   "metadata": {},
   "outputs": [],
   "source": []
  },
  {
   "cell_type": "code",
   "execution_count": null,
   "id": "2c5c74de-b052-4492-82dc-794c6cc19c8d",
   "metadata": {},
   "outputs": [],
   "source": []
  },
  {
   "cell_type": "code",
   "execution_count": null,
   "id": "44536212-c617-4201-864c-551d35596b39",
   "metadata": {},
   "outputs": [],
   "source": []
  },
  {
   "cell_type": "code",
   "execution_count": null,
   "id": "968b6a8d-685a-447b-b6d0-92309add2641",
   "metadata": {},
   "outputs": [],
   "source": []
  },
  {
   "cell_type": "code",
   "execution_count": null,
   "id": "fa4dad07-6ebc-484c-8c04-98c8d3141561",
   "metadata": {},
   "outputs": [],
   "source": []
  },
  {
   "cell_type": "code",
   "execution_count": null,
   "id": "9d8b3b47-25b6-4e96-abe5-ba7f173e4909",
   "metadata": {},
   "outputs": [],
   "source": []
  },
  {
   "cell_type": "code",
   "execution_count": null,
   "id": "4459eab5-aff4-45ca-a6d6-fe8d1458c4c2",
   "metadata": {},
   "outputs": [],
   "source": []
  },
  {
   "cell_type": "code",
   "execution_count": null,
   "id": "922f0f9f-b419-4ce5-a68c-1a8a189a1a83",
   "metadata": {},
   "outputs": [],
   "source": []
  },
  {
   "cell_type": "code",
   "execution_count": null,
   "id": "3e24c1dc-4558-471d-b820-04c36ef170d2",
   "metadata": {},
   "outputs": [],
   "source": []
  },
  {
   "cell_type": "code",
   "execution_count": null,
   "id": "c0121b8e-ff26-47f9-a901-737204d633be",
   "metadata": {},
   "outputs": [],
   "source": []
  },
  {
   "cell_type": "code",
   "execution_count": 29,
   "id": "7e0b8cf6-a8c6-4685-9968-0782d8b2b222",
   "metadata": {
    "jupyter": {
     "source_hidden": true
    },
    "tags": []
   },
   "outputs": [
    {
     "name": "stdout",
     "output_type": "stream",
     "text": [
      "is_open\n",
      "1          7335\n",
      "0           175\n",
      "2            86\n",
      "5            30\n",
      "4             5\n",
      "3             3\n",
      "Name: count, dtype: int64\n"
     ]
    }
   ],
   "source": [
    "print(main_df[[\"is_open\"]].value_counts())"
   ]
  },
  {
   "cell_type": "code",
   "execution_count": 30,
   "id": "cb967482-1412-4942-8979-7c7856ce89a0",
   "metadata": {
    "jupyter": {
     "source_hidden": true
    },
    "tags": []
   },
   "outputs": [
    {
     "data": {
      "text/html": [
       "<div>\n",
       "<style scoped>\n",
       "    .dataframe tbody tr th:only-of-type {\n",
       "        vertical-align: middle;\n",
       "    }\n",
       "\n",
       "    .dataframe tbody tr th {\n",
       "        vertical-align: top;\n",
       "    }\n",
       "\n",
       "    .dataframe thead th {\n",
       "        text-align: right;\n",
       "    }\n",
       "</style>\n",
       "<table border=\"1\" class=\"dataframe\">\n",
       "  <thead>\n",
       "    <tr style=\"text-align: right;\">\n",
       "      <th></th>\n",
       "      <th>type</th>\n",
       "      <th>space</th>\n",
       "      <th>full</th>\n",
       "      <th>empty</th>\n",
       "      <th>bike_yb1</th>\n",
       "      <th>bike_yb2</th>\n",
       "      <th>bike_eyb</th>\n",
       "    </tr>\n",
       "  </thead>\n",
       "  <tbody>\n",
       "    <tr>\n",
       "      <th>count</th>\n",
       "      <td>40.0</td>\n",
       "      <td>40.000000</td>\n",
       "      <td>40.0</td>\n",
       "      <td>40.000000</td>\n",
       "      <td>40.0</td>\n",
       "      <td>40.0</td>\n",
       "      <td>40.0</td>\n",
       "    </tr>\n",
       "    <tr>\n",
       "      <th>mean</th>\n",
       "      <td>2.0</td>\n",
       "      <td>20.125000</td>\n",
       "      <td>0.0</td>\n",
       "      <td>20.075000</td>\n",
       "      <td>0.0</td>\n",
       "      <td>0.0</td>\n",
       "      <td>0.0</td>\n",
       "    </tr>\n",
       "    <tr>\n",
       "      <th>std</th>\n",
       "      <td>0.0</td>\n",
       "      <td>13.091762</td>\n",
       "      <td>0.0</td>\n",
       "      <td>13.160523</td>\n",
       "      <td>0.0</td>\n",
       "      <td>0.0</td>\n",
       "      <td>0.0</td>\n",
       "    </tr>\n",
       "    <tr>\n",
       "      <th>min</th>\n",
       "      <td>2.0</td>\n",
       "      <td>3.000000</td>\n",
       "      <td>0.0</td>\n",
       "      <td>2.000000</td>\n",
       "      <td>0.0</td>\n",
       "      <td>0.0</td>\n",
       "      <td>0.0</td>\n",
       "    </tr>\n",
       "    <tr>\n",
       "      <th>25%</th>\n",
       "      <td>2.0</td>\n",
       "      <td>10.000000</td>\n",
       "      <td>0.0</td>\n",
       "      <td>10.000000</td>\n",
       "      <td>0.0</td>\n",
       "      <td>0.0</td>\n",
       "      <td>0.0</td>\n",
       "    </tr>\n",
       "    <tr>\n",
       "      <th>50%</th>\n",
       "      <td>2.0</td>\n",
       "      <td>14.500000</td>\n",
       "      <td>0.0</td>\n",
       "      <td>14.500000</td>\n",
       "      <td>0.0</td>\n",
       "      <td>0.0</td>\n",
       "      <td>0.0</td>\n",
       "    </tr>\n",
       "    <tr>\n",
       "      <th>75%</th>\n",
       "      <td>2.0</td>\n",
       "      <td>32.250000</td>\n",
       "      <td>0.0</td>\n",
       "      <td>32.250000</td>\n",
       "      <td>0.0</td>\n",
       "      <td>0.0</td>\n",
       "      <td>0.0</td>\n",
       "    </tr>\n",
       "    <tr>\n",
       "      <th>max</th>\n",
       "      <td>2.0</td>\n",
       "      <td>50.000000</td>\n",
       "      <td>0.0</td>\n",
       "      <td>50.000000</td>\n",
       "      <td>0.0</td>\n",
       "      <td>0.0</td>\n",
       "      <td>0.0</td>\n",
       "    </tr>\n",
       "  </tbody>\n",
       "</table>\n",
       "</div>"
      ],
      "text/plain": [
       "       type      space  full      empty  bike_yb1  bike_yb2  bike_eyb\n",
       "count  40.0  40.000000  40.0  40.000000      40.0      40.0      40.0\n",
       "mean    2.0  20.125000   0.0  20.075000       0.0       0.0       0.0\n",
       "std     0.0  13.091762   0.0  13.160523       0.0       0.0       0.0\n",
       "min     2.0   3.000000   0.0   2.000000       0.0       0.0       0.0\n",
       "25%     2.0  10.000000   0.0  10.000000       0.0       0.0       0.0\n",
       "50%     2.0  14.500000   0.0  14.500000       0.0       0.0       0.0\n",
       "75%     2.0  32.250000   0.0  32.250000       0.0       0.0       0.0\n",
       "max     2.0  50.000000   0.0  50.000000       0.0       0.0       0.0"
      ]
     },
     "execution_count": 30,
     "metadata": {},
     "output_type": "execute_result"
    }
   ],
   "source": [
    "main_df[(main_df[\"is_open\"] == 0) & (main_df[\"empty\"] >0)].loc[:,\"type\":\"bike_eyb\"].describe()"
   ]
  },
  {
   "cell_type": "code",
   "execution_count": 31,
   "id": "d3be6cf4-2a40-41fa-95c8-264b83da8c6b",
   "metadata": {
    "jupyter": {
     "source_hidden": true
    },
    "tags": []
   },
   "outputs": [
    {
     "data": {
      "text/html": [
       "<div>\n",
       "<style scoped>\n",
       "    .dataframe tbody tr th:only-of-type {\n",
       "        vertical-align: middle;\n",
       "    }\n",
       "\n",
       "    .dataframe tbody tr th {\n",
       "        vertical-align: top;\n",
       "    }\n",
       "\n",
       "    .dataframe thead th {\n",
       "        text-align: right;\n",
       "    }\n",
       "</style>\n",
       "<table border=\"1\" class=\"dataframe\">\n",
       "  <thead>\n",
       "    <tr style=\"text-align: right;\">\n",
       "      <th></th>\n",
       "      <th>id</th>\n",
       "      <th>type</th>\n",
       "      <th>space</th>\n",
       "      <th>full</th>\n",
       "      <th>empty</th>\n",
       "      <th>bike_yb1</th>\n",
       "      <th>bike_yb2</th>\n",
       "      <th>bike_eyb</th>\n",
       "      <th>city</th>\n",
       "      <th>lat</th>\n",
       "      <th>lng</th>\n",
       "      <th>is_open</th>\n",
       "      <th>ts</th>\n",
       "      <th>gps</th>\n",
       "    </tr>\n",
       "  </thead>\n",
       "  <tbody>\n",
       "    <tr>\n",
       "      <th>18</th>\n",
       "      <td>500799001</td>\n",
       "      <td>2</td>\n",
       "      <td>5</td>\n",
       "      <td>0</td>\n",
       "      <td>5</td>\n",
       "      <td>0</td>\n",
       "      <td>0</td>\n",
       "      <td>0</td>\n",
       "      <td>MiaoLiXian</td>\n",
       "      <td>24.612617</td>\n",
       "      <td>120.821200</td>\n",
       "      <td>5</td>\n",
       "      <td>2024-01-05 16:12:16</td>\n",
       "      <td>(24.612617, 120.8212)</td>\n",
       "    </tr>\n",
       "    <tr>\n",
       "      <th>464</th>\n",
       "      <td>500399001</td>\n",
       "      <td>2</td>\n",
       "      <td>26</td>\n",
       "      <td>0</td>\n",
       "      <td>26</td>\n",
       "      <td>0</td>\n",
       "      <td>0</td>\n",
       "      <td>0</td>\n",
       "      <td>TaoYuanShi</td>\n",
       "      <td>24.594650</td>\n",
       "      <td>121.151120</td>\n",
       "      <td>5</td>\n",
       "      <td>2024-01-05 16:12:16</td>\n",
       "      <td>(24.59465, 121.15112)</td>\n",
       "    </tr>\n",
       "    <tr>\n",
       "      <th>535</th>\n",
       "      <td>500211002</td>\n",
       "      <td>2</td>\n",
       "      <td>26</td>\n",
       "      <td>0</td>\n",
       "      <td>0</td>\n",
       "      <td>0</td>\n",
       "      <td>0</td>\n",
       "      <td>0</td>\n",
       "      <td>XinBeiShi</td>\n",
       "      <td>25.293010</td>\n",
       "      <td>121.536240</td>\n",
       "      <td>2</td>\n",
       "      <td>2024-01-05 16:12:16</td>\n",
       "      <td>(25.29301, 121.53624)</td>\n",
       "    </tr>\n",
       "    <tr>\n",
       "      <th>611</th>\n",
       "      <td>1702</td>\n",
       "      <td>1</td>\n",
       "      <td>16</td>\n",
       "      <td>0</td>\n",
       "      <td>16</td>\n",
       "      <td>0</td>\n",
       "      <td>0</td>\n",
       "      <td>0</td>\n",
       "      <td>XinBeiShi</td>\n",
       "      <td>25.108260</td>\n",
       "      <td>121.455960</td>\n",
       "      <td>2</td>\n",
       "      <td>2024-01-05 16:11:36</td>\n",
       "      <td>(25.10826, 121.45596)</td>\n",
       "    </tr>\n",
       "    <tr>\n",
       "      <th>903</th>\n",
       "      <td>500214063</td>\n",
       "      <td>2</td>\n",
       "      <td>16</td>\n",
       "      <td>0</td>\n",
       "      <td>0</td>\n",
       "      <td>0</td>\n",
       "      <td>0</td>\n",
       "      <td>0</td>\n",
       "      <td>XinBeiShi</td>\n",
       "      <td>25.097050</td>\n",
       "      <td>121.642410</td>\n",
       "      <td>2</td>\n",
       "      <td>2024-01-05 16:12:16</td>\n",
       "      <td>(25.09705, 121.64241)</td>\n",
       "    </tr>\n",
       "    <tr>\n",
       "      <th>...</th>\n",
       "      <td>...</td>\n",
       "      <td>...</td>\n",
       "      <td>...</td>\n",
       "      <td>...</td>\n",
       "      <td>...</td>\n",
       "      <td>...</td>\n",
       "      <td>...</td>\n",
       "      <td>...</td>\n",
       "      <td>...</td>\n",
       "      <td>...</td>\n",
       "      <td>...</td>\n",
       "      <td>...</td>\n",
       "      <td>...</td>\n",
       "      <td>...</td>\n",
       "    </tr>\n",
       "    <tr>\n",
       "      <th>6921</th>\n",
       "      <td>501299003</td>\n",
       "      <td>2</td>\n",
       "      <td>25</td>\n",
       "      <td>0</td>\n",
       "      <td>25</td>\n",
       "      <td>0</td>\n",
       "      <td>0</td>\n",
       "      <td>0</td>\n",
       "      <td>KaoXiongShi</td>\n",
       "      <td>22.628844</td>\n",
       "      <td>120.293747</td>\n",
       "      <td>5</td>\n",
       "      <td>2024-01-05 16:12:16</td>\n",
       "      <td>(22.628844, 120.293747)</td>\n",
       "    </tr>\n",
       "    <tr>\n",
       "      <th>7080</th>\n",
       "      <td>2087</td>\n",
       "      <td>1</td>\n",
       "      <td>18</td>\n",
       "      <td>0</td>\n",
       "      <td>0</td>\n",
       "      <td>0</td>\n",
       "      <td>0</td>\n",
       "      <td>0</td>\n",
       "      <td>TaoYuanShi</td>\n",
       "      <td>24.973517</td>\n",
       "      <td>121.298761</td>\n",
       "      <td>2</td>\n",
       "      <td>2024-01-05 16:12:17</td>\n",
       "      <td>(24.973517, 121.298761)</td>\n",
       "    </tr>\n",
       "    <tr>\n",
       "      <th>7453</th>\n",
       "      <td>1129</td>\n",
       "      <td>1</td>\n",
       "      <td>64</td>\n",
       "      <td>0</td>\n",
       "      <td>0</td>\n",
       "      <td>0</td>\n",
       "      <td>0</td>\n",
       "      <td>0</td>\n",
       "      <td>XinBeiShi</td>\n",
       "      <td>25.045729</td>\n",
       "      <td>121.426269</td>\n",
       "      <td>2</td>\n",
       "      <td>2024-01-05 16:11:42</td>\n",
       "      <td>(25.045729, 121.426269)</td>\n",
       "    </tr>\n",
       "    <tr>\n",
       "      <th>7716</th>\n",
       "      <td>1437</td>\n",
       "      <td>1</td>\n",
       "      <td>12</td>\n",
       "      <td>0</td>\n",
       "      <td>12</td>\n",
       "      <td>0</td>\n",
       "      <td>0</td>\n",
       "      <td>0</td>\n",
       "      <td>XinBeiShi</td>\n",
       "      <td>25.099230</td>\n",
       "      <td>121.450630</td>\n",
       "      <td>2</td>\n",
       "      <td>2024-01-05 16:11:32</td>\n",
       "      <td>(25.09923, 121.45063)</td>\n",
       "    </tr>\n",
       "    <tr>\n",
       "      <th>7730</th>\n",
       "      <td>1452</td>\n",
       "      <td>1</td>\n",
       "      <td>16</td>\n",
       "      <td>0</td>\n",
       "      <td>1</td>\n",
       "      <td>0</td>\n",
       "      <td>0</td>\n",
       "      <td>0</td>\n",
       "      <td>XinBeiShi</td>\n",
       "      <td>25.053098</td>\n",
       "      <td>121.470165</td>\n",
       "      <td>2</td>\n",
       "      <td>2024-01-05 16:11:44</td>\n",
       "      <td>(25.053098, 121.470165)</td>\n",
       "    </tr>\n",
       "  </tbody>\n",
       "</table>\n",
       "<p>124 rows × 14 columns</p>\n",
       "</div>"
      ],
      "text/plain": [
       "             id  type  space  full  empty  bike_yb1  bike_yb2  bike_eyb  \\\n",
       "18    500799001     2      5     0      5         0         0         0   \n",
       "464   500399001     2     26     0     26         0         0         0   \n",
       "535   500211002     2     26     0      0         0         0         0   \n",
       "611        1702     1     16     0     16         0         0         0   \n",
       "903   500214063     2     16     0      0         0         0         0   \n",
       "...         ...   ...    ...   ...    ...       ...       ...       ...   \n",
       "6921  501299003     2     25     0     25         0         0         0   \n",
       "7080       2087     1     18     0      0         0         0         0   \n",
       "7453       1129     1     64     0      0         0         0         0   \n",
       "7716       1437     1     12     0     12         0         0         0   \n",
       "7730       1452     1     16     0      1         0         0         0   \n",
       "\n",
       "             city        lat         lng  is_open                  ts  \\\n",
       "18     MiaoLiXian  24.612617  120.821200        5 2024-01-05 16:12:16   \n",
       "464    TaoYuanShi  24.594650  121.151120        5 2024-01-05 16:12:16   \n",
       "535     XinBeiShi  25.293010  121.536240        2 2024-01-05 16:12:16   \n",
       "611     XinBeiShi  25.108260  121.455960        2 2024-01-05 16:11:36   \n",
       "903     XinBeiShi  25.097050  121.642410        2 2024-01-05 16:12:16   \n",
       "...           ...        ...         ...      ...                 ...   \n",
       "6921  KaoXiongShi  22.628844  120.293747        5 2024-01-05 16:12:16   \n",
       "7080   TaoYuanShi  24.973517  121.298761        2 2024-01-05 16:12:17   \n",
       "7453    XinBeiShi  25.045729  121.426269        2 2024-01-05 16:11:42   \n",
       "7716    XinBeiShi  25.099230  121.450630        2 2024-01-05 16:11:32   \n",
       "7730    XinBeiShi  25.053098  121.470165        2 2024-01-05 16:11:44   \n",
       "\n",
       "                          gps  \n",
       "18      (24.612617, 120.8212)  \n",
       "464     (24.59465, 121.15112)  \n",
       "535     (25.29301, 121.53624)  \n",
       "611     (25.10826, 121.45596)  \n",
       "903     (25.09705, 121.64241)  \n",
       "...                       ...  \n",
       "6921  (22.628844, 120.293747)  \n",
       "7080  (24.973517, 121.298761)  \n",
       "7453  (25.045729, 121.426269)  \n",
       "7716    (25.09923, 121.45063)  \n",
       "7730  (25.053098, 121.470165)  \n",
       "\n",
       "[124 rows x 14 columns]"
      ]
     },
     "execution_count": 31,
     "metadata": {},
     "output_type": "execute_result"
    }
   ],
   "source": [
    "\n",
    "main_df[(main_df[\"is_open\"] > 1)]"
   ]
  },
  {
   "cell_type": "code",
   "execution_count": 31,
   "id": "a1bcbd73-bc91-428b-8a72-ec94a2cc08d8",
   "metadata": {
    "jupyter": {
     "source_hidden": true
    },
    "tags": []
   },
   "outputs": [],
   "source": [
    "from numpy.random import rand"
   ]
  },
  {
   "cell_type": "code",
   "execution_count": 48,
   "id": "c332e361-3a3b-4063-951d-fa790a9e0fc8",
   "metadata": {
    "jupyter": {
     "source_hidden": true
    },
    "tags": []
   },
   "outputs": [],
   "source": [
    "main_df_dummy = main_df.copy(deep=True)\n",
    "city_dummies = rand(main_df_dummy[\"city\"].isna().sum())\n",
    "main_df_dummy[\"city_na\"] = main_df_dummy[\"city\"].isna()"
   ]
  },
  {
   "cell_type": "code",
   "execution_count": 52,
   "id": "22f361d8-f034-4c4d-80e9-38e520a10075",
   "metadata": {
    "jupyter": {
     "source_hidden": true
    },
    "tags": []
   },
   "outputs": [
    {
     "data": {
      "text/plain": [
       "<seaborn.axisgrid.FacetGrid at 0x166bf9f00>"
      ]
     },
     "execution_count": 52,
     "metadata": {},
     "output_type": "execute_result"
    },
    {
     "data": {
      "image/png": "[encoded data removed]",
      "text/plain": [
       "<Figure size 584.875x500 with 1 Axes>"
      ]
     },
     "metadata": {},
     "output_type": "display_data"
    }
   ],
   "source": [
    "main_df[main_df_dummy[\"city\"].isna()]\n",
    "sns.relplot(kind=\"scatter\", x=\"lat\", y=\"lng\", data=main_df_dummy[main_df_dummy[\"lat\"] > 20], hue=\"city_na\")"
   ]
  },
  {
   "cell_type": "markdown",
   "id": "79848a29-3c86-4c1e-928d-4cfd14692dda",
   "metadata": {},
   "source": [
    "### Transfer to clean df"
   ]
  },
  {
   "cell_type": "code",
   "execution_count": null,
   "id": "67c0acf4-ac8c-4191-a1f6-d4e6dc6023e1",
   "metadata": {
    "jupyter": {
     "source_hidden": true
    },
    "tags": []
   },
   "outputs": [],
   "source": [
    "bikes_station_clean = main_df.copy()"
   ]
  },
  {
   "cell_type": "code",
   "execution_count": 44,
   "id": "a106e4d3-27a5-4511-91e5-4cc7b23bf099",
   "metadata": {
    "jupyter": {
     "source_hidden": true
    },
    "tags": []
   },
   "outputs": [
    {
     "ename": "TypeError",
     "evalue": "ufunc 'isnan' not supported for the input types, and the inputs could not be safely coerced to any supported types according to the casting rule ''safe''",
     "output_type": "error",
     "traceback": [
      "\u001b[0;31m---------------------------------------------------------------------------\u001b[0m",
      "\u001b[0;31mTypeError\u001b[0m                                 Traceback (most recent call last)",
      "Cell \u001b[0;32mIn[44], line 2\u001b[0m\n\u001b[1;32m      1\u001b[0m \u001b[38;5;28;01mimport\u001b[39;00m \u001b[38;5;21;01mnumpy\u001b[39;00m \u001b[38;5;28;01mas\u001b[39;00m \u001b[38;5;21;01mnp\u001b[39;00m \n\u001b[0;32m----> 2\u001b[0m \u001b[43mnp\u001b[49m\u001b[38;5;241;43m.\u001b[39;49m\u001b[43misnan\u001b[49m\u001b[43m(\u001b[49m\u001b[43mmain_df_dummy\u001b[49m\u001b[43m[\u001b[49m\u001b[38;5;124;43m\"\u001b[39;49m\u001b[38;5;124;43mcity\u001b[39;49m\u001b[38;5;124;43m\"\u001b[39;49m\u001b[43m]\u001b[49m\u001b[43m[\u001b[49m\u001b[38;5;241;43m0\u001b[39;49m\u001b[43m]\u001b[49m\u001b[43m)\u001b[49m\n",
      "\u001b[0;31mTypeError\u001b[0m: ufunc 'isnan' not supported for the input types, and the inputs could not be safely coerced to any supported types according to the casting rule ''safe''"
     ]
    }
   ],
   "source": [
    "import numpy as np \n",
    "np.isnan(main_df_dummy[\"city\"][0])"
   ]
  },
  {
   "cell_type": "code",
   "execution_count": 47,
   "id": "f3f45c07-d163-4cf2-8200-d417264e3853",
   "metadata": {
    "jupyter": {
     "source_hidden": true
    },
    "tags": []
   },
   "outputs": [
    {
     "data": {
      "text/plain": [
       "0       False\n",
       "1       False\n",
       "2       False\n",
       "3       False\n",
       "4       False\n",
       "        ...  \n",
       "7849    False\n",
       "7850    False\n",
       "7851    False\n",
       "7852    False\n",
       "7853    False\n",
       "Name: city, Length: 7854, dtype: bool"
      ]
     },
     "execution_count": 47,
     "metadata": {},
     "output_type": "execute_result"
    }
   ],
   "source": [
    "main_df_dummy[\"city\"].isna()"
   ]
  }
 ],
 "metadata": {
  "kernelspec": {
   "display_name": "Python 3 (ipykernel)",
   "language": "python",
   "name": "python3"
  },
  "language_info": {
   "codemirror_mode": {
    "name": "ipython",
    "version": 3
   },
   "file_extension": ".py",
   "mimetype": "text/x-python",
   "name": "python",
   "nbconvert_exporter": "python",
   "pygments_lexer": "ipython3",
   "version": "3.10.13"
  }
 },
 "nbformat": 4,
 "nbformat_minor": 5
}
