{
 "cells": [
  {
   "cell_type": "code",
   "execution_count": 1,
   "id": "18672940-7efc-442d-98a2-067bdb121e04",
   "metadata": {
    "jupyter": {
     "source_hidden": true
    },
    "tags": []
   },
   "outputs": [],
   "source": [
    "import requests\n",
    "import pandas as pd\n",
    "import numpy as np\n",
    "import matplotlib.pyplot as plt\n",
    "import seaborn as sns\n",
    "from datetime import datetime, tzinfo\n",
    "import pytz\n",
    "from io import StringIO\n",
    "import os\n",
    "from IPython.display import Markdown\n",
    "import boto3"
   ]
  },
  {
   "cell_type": "code",
   "execution_count": 2,
   "id": "257cea24-fd90-48bd-9fa1-44226fdbabda",
   "metadata": {
    "jupyter": {
     "source_hidden": true
    }
   },
   "outputs": [],
   "source": [
    "# Wrapper function for convenience\n",
    "def dm(text):\n",
    "    return display(Markdown(text))"
   ]
  },
  {
   "cell_type": "markdown",
   "id": "6b363e26-22a0-4bf9-988c-a1d50659f688",
   "metadata": {
    "jp-MarkdownHeadingCollapsed": true
   },
   "source": [
    "# Introduction\n",
    "https://en.youbike.com.tw/region/main/stations/"
   ]
  },
  {
   "cell_type": "code",
   "execution_count": 3,
   "id": "b1af9cc0-7f6a-45a0-b735-6b826fd786d5",
   "metadata": {
    "jupyter": {
     "source_hidden": true
    }
   },
   "outputs": [],
   "source": [
    "class ConnectionToS3:\n",
    "    \"\"\"Factory method object to create an active boto3 S3 resource. Ensure the correct env variables are set before calling this object.\n",
    "\n",
    "    Available class method:\n",
    "        from_env(): create connection from environment variables\n",
    "\n",
    "    \"\"\"\n",
    "\n",
    "    def __init__(\n",
    "        self,\n",
    "        bucket_name: str,\n",
    "        aws_access_key_id: str,\n",
    "        aws_secret_access_key: str,\n",
    "        endpoint_url: str = None,\n",
    "        region_name: str = \"ap-northeast-1\",\n",
    "    ):\n",
    "        self._resource = boto3.resource(\n",
    "            \"s3\",\n",
    "            endpoint_url=endpoint_url,\n",
    "            region_name=region_name,\n",
    "            aws_access_key_id=aws_access_key_id,\n",
    "            aws_secret_access_key=aws_secret_access_key,\n",
    "        )\n",
    "        self._bucket_name = bucket_name\n",
    "\n",
    "    @classmethod\n",
    "    def from_env(cls):\n",
    "        app_env = os.getenv(\"APP_ENV\", \"local\")\n",
    "        print(\"Loading from env: \", app_env)\n",
    "        if app_env == \"local\":\n",
    "            return cls(\n",
    "                \"local-youbike\",\n",
    "                os.environ[\"MINIO_ACCESS_KEY_ID\"],\n",
    "                os.environ[\"MINIO_SECRET_ACCESS_KEY\"],\n",
    "                f'http://{os.environ[\"MINIO_HOST\"]}:9000'\n",
    "            )\n",
    "        elif app_env == \"stage\":\n",
    "            return cls(\n",
    "                \"stage-youbike\",\n",
    "                os.environ[\"AWS_ACCESS_KEY_ID\"],\n",
    "                os.environ[\"AWS_SECRET_ACCESS_KEY\"],\n",
    "            )\n",
    "        else:\n",
    "            raise Exception(f\"The argument env={app_env} is not valid.\")\n",
    "\n",
    "    @property\n",
    "    def resource(self):\n",
    "        return self._resource\n",
    "\n",
    "    @property\n",
    "    def bucket_name(self):\n",
    "        return self._bucket_name\n",
    "\n"
   ]
  },
  {
   "cell_type": "code",
   "execution_count": null,
   "id": "ef5eb107-227a-4b52-9ef0-12152ec7dd66",
   "metadata": {
    "jupyter": {
     "source_hidden": true
    }
   },
   "outputs": [],
   "source": [
    "os.environ['APP_ENV'] = 'stage'"
   ]
  },
  {
   "cell_type": "code",
   "execution_count": null,
   "id": "1864f043-c9ce-4491-ae08-2d2eba83b967",
   "metadata": {
    "jupyter": {
     "source_hidden": true
    }
   },
   "outputs": [],
   "source": [
    "connection = ConnectionToS3.from_env()\n",
    "connection.bucket_name"
   ]
  },
  {
   "cell_type": "code",
   "execution_count": null,
   "id": "fb24b93d-965a-476c-b80d-0d38654d1e2b",
   "metadata": {
    "jupyter": {
     "source_hidden": true
    }
   },
   "outputs": [],
   "source": [
    "def download_from_bucket(bucket_name: str, remote_path: str, filter: str, dest_dir: str):\n",
    "    bucket = connection.resource.Bucket(bucket_name)\n",
    "\n",
    "    for obj in bucket.objects.all():\n",
    "        if f'{remote_path}{filter}' in obj.key:\n",
    "            local_file_path = os.path.join(dest_dir, obj.key)\n",
    "            if '/' in obj.key:\n",
    "                os.makedirs(os.path.dirname(local_file_path), exist_ok=True)\n",
    "                connection.resource.meta.client.download_file(connection.bucket_name, obj.key, local_file_path)\n",
    "            print(f\"Downloaded {obj.key} at {dest_dir}\")"
   ]
  },
  {
   "cell_type": "code",
   "execution_count": null,
   "id": "01945edb-65f1-4e7b-ad5d-3954fa7335bf",
   "metadata": {
    "jupyter": {
     "source_hidden": true
    }
   },
   "outputs": [],
   "source": [
    "def create_or_append_df(parquet_path: str, df: pd.DataFrame) -> pd.DataFrame:\n",
    "    if df is None:\n",
    "        concat_df = pd.read_parquet(parquet_path).loc[[]]\n",
    "    else:\n",
    "        df_to_append = pd.read_parquet(parquet_path)\n",
    "        concat_df = pd.concat([df, df_to_append], join='outer')\n",
    "    return concat_df"
   ]
  },
  {
   "cell_type": "code",
   "execution_count": null,
   "id": "c7f25c34-c3af-43c9-bd69-0eb07bc09fa2",
   "metadata": {
    "jupyter": {
     "source_hidden": true
    },
    "scrolled": true
   },
   "outputs": [],
   "source": [
    "download_from_bucket(connection.bucket_name, 'raw_data/', 'youbike_dock_info_2024-03-18', '../tmp_data/parquet_raw_data')"
   ]
  },
  {
   "cell_type": "code",
   "execution_count": null,
   "id": "3e77ee0f-dcba-4266-b9bd-f3425562e74b",
   "metadata": {
    "jupyter": {
     "source_hidden": true
    },
    "scrolled": true,
    "tags": []
   },
   "outputs": [],
   "source": [
    "#Create historical data df\n",
    "hist_df = None\n",
    "cnt = 0\n",
    "for i in os.listdir('../tmp_data/parquet_raw_data/raw_data/'):\n",
    "    if \"youbike_dock_info_2024-03-18\" in i:\n",
    "        print(i)\n",
    "        try: \n",
    "            hist_df = create_or_append_df(f\"../tmp_data/parquet_raw_data/raw_data/{i}\", hist_df)\n",
    "        except:\n",
    "            print(\"failed with \", i)\n",
    "        cnt += 1\n",
    "        print(f\"Added: {cnt} / {len(os.listdir('../tmp_data/parquet_raw_data/raw_data/'))}\")"
   ]
  },
  {
   "cell_type": "code",
   "execution_count": null,
   "id": "02b7b9de-96d8-493a-b1f6-6fbbe957618b",
   "metadata": {
    "jupyter": {
     "source_hidden": true
    }
   },
   "outputs": [],
   "source": [
    "#Enforce Schema for historical df\n",
    "hist_df = hist_df[['id', 'name', 'type', 'space', 'full', 'empty', 'bike_yb2', 'bike_eyb', 'city', 'area',\n",
    "         'lat', 'lng', 'address', 'is_open', 'place_id', 'last_update_ts', 'extraction_ts']].reset_index(drop=True)\n",
    "display(hist_df.head(5), hist_df.shape)"
   ]
  },
  {
   "cell_type": "markdown",
   "id": "8a73905f-2680-4b09-9803-b475f202c0d5",
   "metadata": {},
   "source": [
    "# Validate & clean the dataset"
   ]
  },
  {
   "cell_type": "code",
   "execution_count": 50,
   "id": "4aada221-7dc4-4e76-bc9e-d2bb91a17474",
   "metadata": {
    "jupyter": {
     "source_hidden": true
    },
    "tags": []
   },
   "outputs": [],
   "source": [
    "# Analyze Raw da\n",
    "main_df = pd.read_parquet(\"./youbike_dock_info_history_2024-03-01_2024-03-18_raw.parquet\")\n",
    "\n"
   ]
  },
  {
   "cell_type": "markdown",
   "id": "49508c63-6d3b-4e26-9ccf-3d5abc9bf860",
   "metadata": {},
   "source": [
    "**Columns are understood as follows:**\n",
    "- id: unique identifier per bike station\n",
    "- type: youbike type (1.0, 2.0)\n",
    "- space: total available bike slots per station (= full + empty)\n",
    "- full: nbr of occupied slots (= bike_yb2 + bike_eyb)\n",
    "- empty: nbr of available slots for parking\n",
    "- bike_yb2: count of YouBike 2.0 in occupied slots (see 'full')\n",
    "- bike_eyb: count of E-Youbike 2.0 in occupied slots (see 'full')\n",
    "- city: city where bike station is located\n",
    "- area: city's district where bike station is located\n",
    "- lat: latitude coordinate of bike station\n",
    "- lng: longitude coordinate of bike station\n",
    "- place_id: ??\n",
    "- address: postal address of bike station\n",
    "- is_open: ??\n",
    "- last_updated_ts: timestamp of data in unix epoch\n",
    "- extraction_ts: ts data was pulled from API"
   ]
  },
  {
   "cell_type": "markdown",
   "id": "a86b23f1-5a9f-4240-8d21-1034b71f1b8a",
   "metadata": {},
   "source": [
    "## Check types & missing values"
   ]
  },
  {
   "cell_type": "code",
   "execution_count": 51,
   "id": "1e84f4b8-969a-4621-931d-0334e7a3149d",
   "metadata": {
    "jupyter": {
     "source_hidden": true
    },
    "tags": []
   },
   "outputs": [
    {
     "name": "stdout",
     "output_type": "stream",
     "text": [
      "<class 'pandas.core.frame.DataFrame'>\n",
      "RangeIndex: 12650288 entries, 0 to 12650287\n",
      "Data columns (total 17 columns):\n",
      " #   Column          Non-Null Count     Dtype                      \n",
      "---  ------          --------------     -----                      \n",
      " 0   id              12650288 non-null  int64                      \n",
      " 1   name            12650288 non-null  object                     \n",
      " 2   type            12650288 non-null  int64                      \n",
      " 3   space           12650288 non-null  int64                      \n",
      " 4   full            12650288 non-null  int64                      \n",
      " 5   empty           12650288 non-null  int64                      \n",
      " 6   bike_yb2        12650288 non-null  int64                      \n",
      " 7   bike_eyb        12650288 non-null  int64                      \n",
      " 8   city            12452384 non-null  object                     \n",
      " 9   area            12650288 non-null  object                     \n",
      " 10  lat             12650288 non-null  float64                    \n",
      " 11  lng             12650288 non-null  float64                    \n",
      " 12  address         12650288 non-null  object                     \n",
      " 13  is_open         12650288 non-null  int64                      \n",
      " 14  place_id        0 non-null         float64                    \n",
      " 15  last_update_ts  12650288 non-null  datetime64[ns, Asia/Taipei]\n",
      " 16  extraction_ts   12650288 non-null  datetime64[ns, Asia/Taipei]\n",
      "dtypes: datetime64[ns, Asia/Taipei](2), float64(3), int64(8), object(4)\n",
      "memory usage: 1.6+ GB\n"
     ]
    },
    {
     "data": {
      "text/plain": [
       "None"
      ]
     },
     "metadata": {},
     "output_type": "display_data"
    }
   ],
   "source": [
    "display(main_df.info(show_counts=True))"
   ]
  },
  {
   "cell_type": "markdown",
   "id": "f3192d59-44f8-450f-8916-31fabd231ba0",
   "metadata": {},
   "source": [
    "**Observation**\n",
    "- place_id contains no value\n",
    "- city has empty values\n",
    "- updated_at is an int64"
   ]
  },
  {
   "cell_type": "code",
   "execution_count": 52,
   "id": "102f0846-6439-46a7-82d1-f9cb73c96258",
   "metadata": {
    "jupyter": {
     "source_hidden": true
    },
    "tags": []
   },
   "outputs": [],
   "source": [
    "# Drop empty cities\n",
    "main_df.drop(main_df[main_df[\"city\"].isna()].index, inplace=True) # Discard vals with null cities\n",
    "\n",
    "#Drop youbikes of type 1 - because soon discontinued\n",
    "main_df.drop(main_df[main_df[\"type\"] != 2].index, inplace=True)\n",
    "\n",
    "#"
   ]
  },
  {
   "cell_type": "markdown",
   "id": "cbb5ed05-0077-410f-a9b6-07244b113fcb",
   "metadata": {},
   "source": [
    "## Discard irrelevant features"
   ]
  },
  {
   "cell_type": "code",
   "execution_count": 53,
   "id": "896fb099-0dbb-4b74-aa9c-b520fe605840",
   "metadata": {
    "jupyter": {
     "source_hidden": true
    },
    "tags": []
   },
   "outputs": [],
   "source": [
    "main_df.drop(labels=['place_id', 'address'], axis=1, inplace=True)"
   ]
  },
  {
   "cell_type": "code",
   "execution_count": 54,
   "id": "4a42bd80-540a-43ae-bb40-d19763880fa9",
   "metadata": {
    "jupyter": {
     "source_hidden": true
    }
   },
   "outputs": [
    {
     "data": {
      "text/markdown": [
       "#### Any missing values left?"
      ],
      "text/plain": [
       "<IPython.core.display.Markdown object>"
      ]
     },
     "metadata": {},
     "output_type": "display_data"
    },
    {
     "data": {
      "text/plain": [
       "id                0\n",
       "name              0\n",
       "type              0\n",
       "space             0\n",
       "full              0\n",
       "empty             0\n",
       "bike_yb2          0\n",
       "bike_eyb          0\n",
       "city              0\n",
       "area              0\n",
       "lat               0\n",
       "lng               0\n",
       "is_open           0\n",
       "last_update_ts    0\n",
       "extraction_ts     0\n",
       "dtype: int64"
      ]
     },
     "metadata": {},
     "output_type": "display_data"
    }
   ],
   "source": [
    "dm(\"#### Any missing values left?\")\n",
    "display(main_df.isna().sum())"
   ]
  },
  {
   "cell_type": "markdown",
   "id": "59720735-791e-4c56-8f1a-dc5cfcd5852c",
   "metadata": {},
   "source": [
    "## Check assumptions"
   ]
  },
  {
   "cell_type": "code",
   "execution_count": 55,
   "id": "b86da59e-04a0-46fd-9f18-7424c802bfff",
   "metadata": {
    "jupyter": {
     "source_hidden": true
    }
   },
   "outputs": [
    {
     "data": {
      "text/markdown": [
       "#### Checking if space = full + empty"
      ],
      "text/plain": [
       "<IPython.core.display.Markdown object>"
      ]
     },
     "metadata": {},
     "output_type": "display_data"
    },
    {
     "data": {
      "text/markdown": [
       "**Rows where unequal:** 1196884"
      ],
      "text/plain": [
       "<IPython.core.display.Markdown object>"
      ]
     },
     "metadata": {},
     "output_type": "display_data"
    },
    {
     "data": {
      "text/markdown": [
       "**As proportion of total dataset:** 0.10951727845970659"
      ],
      "text/plain": [
       "<IPython.core.display.Markdown object>"
      ]
     },
     "metadata": {},
     "output_type": "display_data"
    },
    {
     "data": {
      "text/markdown": [
       "**Excerpt output**"
      ],
      "text/plain": [
       "<IPython.core.display.Markdown object>"
      ]
     },
     "metadata": {},
     "output_type": "display_data"
    },
    {
     "data": {
      "text/html": [
       "<div>\n",
       "<style scoped>\n",
       "    .dataframe tbody tr th:only-of-type {\n",
       "        vertical-align: middle;\n",
       "    }\n",
       "\n",
       "    .dataframe tbody tr th {\n",
       "        vertical-align: top;\n",
       "    }\n",
       "\n",
       "    .dataframe thead th {\n",
       "        text-align: right;\n",
       "    }\n",
       "</style>\n",
       "<table border=\"1\" class=\"dataframe\">\n",
       "  <thead>\n",
       "    <tr style=\"text-align: right;\">\n",
       "      <th></th>\n",
       "      <th>id</th>\n",
       "      <th>name</th>\n",
       "      <th>type</th>\n",
       "      <th>space</th>\n",
       "      <th>full</th>\n",
       "      <th>empty</th>\n",
       "      <th>bike_yb2</th>\n",
       "      <th>bike_eyb</th>\n",
       "      <th>city</th>\n",
       "      <th>area</th>\n",
       "      <th>lat</th>\n",
       "      <th>lng</th>\n",
       "      <th>is_open</th>\n",
       "      <th>last_update_ts</th>\n",
       "      <th>extraction_ts</th>\n",
       "    </tr>\n",
       "  </thead>\n",
       "  <tbody>\n",
       "    <tr>\n",
       "      <th>1</th>\n",
       "      <td>500501081</td>\n",
       "      <td>北興停車場</td>\n",
       "      <td>2</td>\n",
       "      <td>25</td>\n",
       "      <td>0</td>\n",
       "      <td>0</td>\n",
       "      <td>0</td>\n",
       "      <td>0</td>\n",
       "      <td>新竹縣</td>\n",
       "      <td>竹北市</td>\n",
       "      <td>24.83</td>\n",
       "      <td>121.03</td>\n",
       "      <td>0</td>\n",
       "      <td>2024-03-07 15:09:17+08:00</td>\n",
       "      <td>2024-03-07 18:25:10+08:00</td>\n",
       "    </tr>\n",
       "    <tr>\n",
       "      <th>4</th>\n",
       "      <td>500501077</td>\n",
       "      <td>竹北國民運動中心(縣泳館)</td>\n",
       "      <td>2</td>\n",
       "      <td>25</td>\n",
       "      <td>0</td>\n",
       "      <td>0</td>\n",
       "      <td>0</td>\n",
       "      <td>0</td>\n",
       "      <td>新竹縣</td>\n",
       "      <td>竹北市</td>\n",
       "      <td>24.82</td>\n",
       "      <td>121.02</td>\n",
       "      <td>0</td>\n",
       "      <td>2024-03-07 15:09:17+08:00</td>\n",
       "      <td>2024-03-07 18:25:10+08:00</td>\n",
       "    </tr>\n",
       "    <tr>\n",
       "      <th>7</th>\n",
       "      <td>500501075</td>\n",
       "      <td>綠41公園</td>\n",
       "      <td>2</td>\n",
       "      <td>20</td>\n",
       "      <td>0</td>\n",
       "      <td>0</td>\n",
       "      <td>0</td>\n",
       "      <td>0</td>\n",
       "      <td>新竹縣</td>\n",
       "      <td>竹北市</td>\n",
       "      <td>24.82</td>\n",
       "      <td>121.02</td>\n",
       "      <td>0</td>\n",
       "      <td>2024-03-07 15:28:19+08:00</td>\n",
       "      <td>2024-03-07 18:25:10+08:00</td>\n",
       "    </tr>\n",
       "    <tr>\n",
       "      <th>8</th>\n",
       "      <td>500501073</td>\n",
       "      <td>廣五公園</td>\n",
       "      <td>2</td>\n",
       "      <td>18</td>\n",
       "      <td>0</td>\n",
       "      <td>0</td>\n",
       "      <td>0</td>\n",
       "      <td>0</td>\n",
       "      <td>新竹縣</td>\n",
       "      <td>竹北市</td>\n",
       "      <td>24.83</td>\n",
       "      <td>121.00</td>\n",
       "      <td>0</td>\n",
       "      <td>2024-03-07 15:09:18+08:00</td>\n",
       "      <td>2024-03-07 18:25:10+08:00</td>\n",
       "    </tr>\n",
       "    <tr>\n",
       "      <th>10</th>\n",
       "      <td>501310001</td>\n",
       "      <td>左鎮化石園區</td>\n",
       "      <td>2</td>\n",
       "      <td>20</td>\n",
       "      <td>0</td>\n",
       "      <td>0</td>\n",
       "      <td>0</td>\n",
       "      <td>0</td>\n",
       "      <td>臺南市</td>\n",
       "      <td>左鎮區</td>\n",
       "      <td>23.06</td>\n",
       "      <td>120.39</td>\n",
       "      <td>0</td>\n",
       "      <td>2024-03-06 21:06:15+08:00</td>\n",
       "      <td>2024-03-07 18:25:10+08:00</td>\n",
       "    </tr>\n",
       "  </tbody>\n",
       "</table>\n",
       "</div>"
      ],
      "text/plain": [
       "           id           name  type  space  full  empty  bike_yb2  bike_eyb  \\\n",
       "1   500501081          北興停車場     2     25     0      0         0         0   \n",
       "4   500501077  竹北國民運動中心(縣泳館)     2     25     0      0         0         0   \n",
       "7   500501075          綠41公園     2     20     0      0         0         0   \n",
       "8   500501073           廣五公園     2     18     0      0         0         0   \n",
       "10  501310001         左鎮化石園區     2     20     0      0         0         0   \n",
       "\n",
       "   city area   lat    lng  is_open            last_update_ts  \\\n",
       "1   新竹縣  竹北市 24.83 121.03        0 2024-03-07 15:09:17+08:00   \n",
       "4   新竹縣  竹北市 24.82 121.02        0 2024-03-07 15:09:17+08:00   \n",
       "7   新竹縣  竹北市 24.82 121.02        0 2024-03-07 15:28:19+08:00   \n",
       "8   新竹縣  竹北市 24.83 121.00        0 2024-03-07 15:09:18+08:00   \n",
       "10  臺南市  左鎮區 23.06 120.39        0 2024-03-06 21:06:15+08:00   \n",
       "\n",
       "               extraction_ts  \n",
       "1  2024-03-07 18:25:10+08:00  \n",
       "4  2024-03-07 18:25:10+08:00  \n",
       "7  2024-03-07 18:25:10+08:00  \n",
       "8  2024-03-07 18:25:10+08:00  \n",
       "10 2024-03-07 18:25:10+08:00  "
      ]
     },
     "metadata": {},
     "output_type": "display_data"
    },
    {
     "data": {
      "text/markdown": [
       "**conclusion:** Understanding the is_open code mapping would be useful to assess how to handle these records"
      ],
      "text/plain": [
       "<IPython.core.display.Markdown object>"
      ]
     },
     "metadata": {},
     "output_type": "display_data"
    }
   ],
   "source": [
    "# Space = full + empty\n",
    "\n",
    "space_uneq = main_df[main_df[\"space\"] != (main_df[\"full\"] + main_df[\"empty\"])]\n",
    "\n",
    "\n",
    "display(Markdown('#### Checking if space = full + empty'))\n",
    "display(Markdown(f'**Rows where unequal:** {space_uneq.shape[0]}'))\n",
    "display(Markdown(f'**As proportion of total dataset:** {space_uneq.shape[0] / main_df.shape[0]}')) #displays ratio of total bikes \n",
    "display(Markdown('**Excerpt output**'))\n",
    "display(space_uneq.head(5)) # Displays where it is not true\n",
    "dm(f'**conclusion:** Understanding the is_open code mapping would be useful to assess how to handle these records')"
   ]
  },
  {
   "cell_type": "code",
   "execution_count": 56,
   "id": "2b8ba329-28ab-4bb6-9aec-e2f755109ba2",
   "metadata": {
    "jupyter": {
     "source_hidden": true
    }
   },
   "outputs": [
    {
     "data": {
      "text/markdown": [
       "Inequality appears across all is_open, and mostly on 0 and 2. \n",
       " Proportion rows unequal vs total per is_open"
      ],
      "text/plain": [
       "<IPython.core.display.Markdown object>"
      ]
     },
     "metadata": {},
     "output_type": "display_data"
    },
    {
     "data": {
      "text/plain": [
       "is_open\n",
       "0   0.25\n",
       "1   0.10\n",
       "2   0.65\n",
       "3    NaN\n",
       "4   0.05\n",
       "5   0.12\n",
       "Name: count, dtype: float64"
      ]
     },
     "metadata": {},
     "output_type": "display_data"
    }
   ],
   "source": [
    "dm(f'Inequality appears across all is_open, and mostly on 0 and 2. \\n Proportion rows unequal vs total per is_open')\n",
    "display(space_uneq[\"is_open\"].value_counts() / main_df[\"is_open\"].value_counts())"
   ]
  },
  {
   "cell_type": "code",
   "execution_count": 57,
   "id": "644c3145-fcee-4d08-8073-5f8208ce8764",
   "metadata": {
    "jupyter": {
     "source_hidden": true
    }
   },
   "outputs": [
    {
     "data": {
      "text/markdown": [
       "#### Check if full = bike_yb2 + bike_eyb"
      ],
      "text/plain": [
       "<IPython.core.display.Markdown object>"
      ]
     },
     "metadata": {},
     "output_type": "display_data"
    },
    {
     "data": {
      "text/markdown": [
       "**Rows where unequal:** 0"
      ],
      "text/plain": [
       "<IPython.core.display.Markdown object>"
      ]
     },
     "metadata": {},
     "output_type": "display_data"
    },
    {
     "data": {
      "text/markdown": [
       "**Excerpt output where unequal**"
      ],
      "text/plain": [
       "<IPython.core.display.Markdown object>"
      ]
     },
     "metadata": {},
     "output_type": "display_data"
    },
    {
     "data": {
      "text/html": [
       "<div>\n",
       "<style scoped>\n",
       "    .dataframe tbody tr th:only-of-type {\n",
       "        vertical-align: middle;\n",
       "    }\n",
       "\n",
       "    .dataframe tbody tr th {\n",
       "        vertical-align: top;\n",
       "    }\n",
       "\n",
       "    .dataframe thead th {\n",
       "        text-align: right;\n",
       "    }\n",
       "</style>\n",
       "<table border=\"1\" class=\"dataframe\">\n",
       "  <thead>\n",
       "    <tr style=\"text-align: right;\">\n",
       "      <th></th>\n",
       "      <th>id</th>\n",
       "      <th>name</th>\n",
       "      <th>type</th>\n",
       "      <th>space</th>\n",
       "      <th>full</th>\n",
       "      <th>empty</th>\n",
       "      <th>bike_yb2</th>\n",
       "      <th>bike_eyb</th>\n",
       "      <th>city</th>\n",
       "      <th>area</th>\n",
       "      <th>lat</th>\n",
       "      <th>lng</th>\n",
       "      <th>is_open</th>\n",
       "      <th>last_update_ts</th>\n",
       "      <th>extraction_ts</th>\n",
       "    </tr>\n",
       "  </thead>\n",
       "  <tbody>\n",
       "  </tbody>\n",
       "</table>\n",
       "</div>"
      ],
      "text/plain": [
       "Empty DataFrame\n",
       "Columns: [id, name, type, space, full, empty, bike_yb2, bike_eyb, city, area, lat, lng, is_open, last_update_ts, extraction_ts]\n",
       "Index: []"
      ]
     },
     "metadata": {},
     "output_type": "display_data"
    },
    {
     "data": {
      "text/markdown": [
       "**Conclusion**: Assumption is valid"
      ],
      "text/plain": [
       "<IPython.core.display.Markdown object>"
      ]
     },
     "metadata": {},
     "output_type": "display_data"
    }
   ],
   "source": [
    "dm('#### Check if full = bike_yb2 + bike_eyb')\n",
    "full_uneq = main_df[main_df[\"full\"] != (main_df[\"bike_yb2\"] + main_df[\"bike_eyb\"])]\n",
    "dm(f'**Rows where unequal:** {full_uneq.shape[0]}')\n",
    "dm(f'**Excerpt output where unequal**')\n",
    "display(full_uneq.head(5))\n",
    "dm(f'**Conclusion**: Assumption is valid')"
   ]
  },
  {
   "cell_type": "markdown",
   "id": "823c6d5d-249c-4d32-8fad-19bb74647d31",
   "metadata": {
    "tags": []
   },
   "source": [
    "## Check range and distribution of values"
   ]
  },
  {
   "cell_type": "markdown",
   "id": "46eab2b7-1f19-4993-8bb2-b21d0d8940e2",
   "metadata": {},
   "source": [
    "### Categorical"
   ]
  },
  {
   "cell_type": "code",
   "execution_count": 58,
   "id": "e2683e0e-27ba-454e-9e5c-5bd3f092147d",
   "metadata": {
    "jupyter": {
     "source_hidden": true
    },
    "tags": []
   },
   "outputs": [],
   "source": [
    "main_df_cat = main_df.select_dtypes(include=[\"category\", \"object\"]) \n",
    "main_df_cat[\"type\"] = main_df[\"type\"]\n",
    "main_df_cat[\"is_open\"] = main_df[\"is_open\"]"
   ]
  },
  {
   "cell_type": "code",
   "execution_count": 59,
   "id": "9b0491d1-8b34-4e5a-b2fe-7f67800d1496",
   "metadata": {
    "jupyter": {
     "source_hidden": true
    },
    "scrolled": true
   },
   "outputs": [
    {
     "name": "stdout",
     "output_type": "stream",
     "text": [
      "Unique values in 'name': ['勝利國中' '北興停車場' '兒10公園' ... '為恭醫院' '立功街55巷口' '關渡國中']\n",
      "Unique values in 'city': ['新竹縣' '苗栗縣' '臺南市' '台中市' '台北市' '新北市' '桃園市' '高雄市' '新竹科學工業園區' '屏東縣' '嘉義市'\n",
      " '新竹市']\n",
      "Unique values in 'area': ['竹北市' '後龍鎮' '左鎮區' '楠西區' '后里區' '松山區' '中山區' '文山區' '大安區' '信義區' '中正區' '南區'\n",
      " '安南區' '善化區' '通霄鎮' '汐止區' '安定區' '東區' '三重區' '仁德區' '北投區' '蘆竹區' '八德區' '茄萣區'\n",
      " '林園區' '三民區' '湖內區' '中和區' '板橋區' '歸仁區' '楠梓區' '烏日區' '永康區' '佳里區' '左營區' '旗山區'\n",
      " '新化區' '西港區' '鹽水區' '新營區' '鶯歌區' '土城區' '八里區' '永安區' '鼓山區' '中西區' '橋頭區' '台北維調區'\n",
      " '前鎮區' '大樹區' '岡山區' '苓雅區' '路竹區' '霧峰區' '士林區' '新竹科學園區' '潮州鎮' '竹田鄉' '車城鄉'\n",
      " '林邊鄉' '麟洛鄉' '維調區' '恆春鎮' '東港鎮' '屏東市' '關廟區' '學甲區' '新市區' '麻豆區' '後壁區' '柳營區'\n",
      " '東山區' '官田區' '安平區' '玉井區' '白河區' '北區' '六甲區' '北門區' '七股區' '下營區' '大內區' '山上區'\n",
      " '美濃區' '甲仙區' '維護調度中心' '燕巢區' '阿蓮區' '彌陀區' '大社區' '大寮區' '鳥松區' '仁武區' '梓官區'\n",
      " '小港區' '旗津區' '鳳山區' '前金區' '鹽埕區' '新興區' '市區' '臨時站' '維修調度中心' '測試站' '竹南鎮' '苑裡鎮'\n",
      " '新社區' '外埔區' '和平區' '石岡區' '龍井區' '潭子區' '大雅區' '大肚區' '神岡區' '梧棲區' '東勢區' '大甲區'\n",
      " '沙鹿區' '清水區' '太平區' '大里區' '豐原區' '北屯區' '南屯區' '西屯區' '西區' '新豐鄉' '中區' '湖口鄉'\n",
      " '竹東鎮' '香山區' '觀音區' '龜山區' '龍潭區' '楊梅區' '桃園區' '新屋區' '平鎮區' '中壢區' '大溪區' '大園區'\n",
      " '猴雙公共自行車專區' '新北維調區' '蘆洲區' '樹林區' '雙溪區' '新莊區' '新店區' '萬里區' '瑞芳區' '淡水區' '深坑區'\n",
      " '泰山區' '林口區' '坪林區' '金山區' '永和區' '石門區' '石碇區' '五股區' '三峽區' '三芝區' '臺大公館校區'\n",
      " '萬華區' '南港區' '內湖區' '大同區' '苗栗市' '頭份市']\n",
      "Unique values in 'type': [2]\n",
      "Unique values in 'is_open': [0 1 5 4 2 3]\n"
     ]
    }
   ],
   "source": [
    "for col in main_df_cat.columns:\n",
    "    unique_values = main_df[col].unique()\n",
    "    print(f\"Unique values in '{col}': {unique_values}\")"
   ]
  },
  {
   "cell_type": "code",
   "execution_count": 60,
   "id": "87821a94-5e34-4133-befe-d5c2d9cdf1b2",
   "metadata": {
    "jupyter": {
     "source_hidden": true
    }
   },
   "outputs": [],
   "source": [
    "class TransliterationMapper(dict):\n",
    "    def __missing__(self, key):\n",
    "        return 'N/A'\n",
    "#Map city to ascii chars\n",
    "\n",
    "city_name_glossary = TransliterationMapper({\"新北市\": \"XinBeiShi\",\n",
    "                      \"台北市\": \"TaiBeiShi\",\n",
    "                      \"台中市\":\"TaiZhongShi\",\n",
    "                      \"高雄市\":\"GaoXiongShi\",\n",
    "                      \"桃園市\":\"TaoYuanShi\",\n",
    "                      \"臺南市\": \"TaiNanShi\",\n",
    "                      \"嘉義市\": \"JiaYiShi\",\n",
    "                      \"屏東縣\": \"PingDongXian\",\n",
    "                      \"新竹市\": \"XinZhuShi\",\n",
    "                      \"新竹縣\": \"XinZhuXian\",\n",
    "                      \"苗栗縣\" : \"MiaoLiXian\",\n",
    "                      \"新竹科學工業園區\": \"XinZhuKeXueGong\"})"
   ]
  },
  {
   "cell_type": "code",
   "execution_count": 61,
   "id": "773329cd-a186-46ad-a22f-224ab2515a8d",
   "metadata": {
    "jupyter": {
     "source_hidden": true
    }
   },
   "outputs": [],
   "source": [
    "area_name_glossary = TransliterationMapper(\n",
    "     {'竹北市': 'ZhuBeiShi',\n",
    "    '後龍鎮': 'HouLongZhen',\n",
    "    '左鎮區': 'ZuoZhenQu',\n",
    "    '楠西區': 'NanXiQu',\n",
    "    '后里區': 'HouLiQu',\n",
    "    '松山區': 'SongShanQu',\n",
    "    '中山區': 'ZhongShanQu',\n",
    "    '文山區': 'WenShanQu',\n",
    "    '大安區': 'DaAnQu',\n",
    "    '信義區': 'XinYiQu',\n",
    "    '中正區': 'ZhongZhengQu',\n",
    "    '南區': 'NanQu',\n",
    "    '安南區': 'AnNanQu',\n",
    "    '善化區': 'ShanHuaQu',\n",
    "    '通霄鎮': 'TongXiaoZhen',\n",
    "    '汐止區': 'XiZhiQu',\n",
    "    '安定區': 'AnDingQu',\n",
    "    '東區': 'DongQu',\n",
    "    '三重區': 'SanChongQu',\n",
    "    '仁德區': 'RenDeQu',\n",
    "    '北投區': 'BeiTouQu',\n",
    "    '蘆竹區': 'LuZhuQu',\n",
    "    '八德區': 'BaDeQu',\n",
    "    '茄萣區': 'QieDingQu',\n",
    "    '林園區': 'LinYuanQu',\n",
    "    '三民區': 'SanMinQu',\n",
    "    '湖內區': 'HuNeiQu',\n",
    "    '中和區': 'ZhongHeQu',\n",
    "    '板橋區': 'BanQiaoQu',\n",
    "    '歸仁區': 'GuiRenQu',\n",
    "    '楠梓區': 'NanZiQu',\n",
    "    '烏日區': 'WuRiQu',\n",
    "    '永康區': 'YongKangQu',\n",
    "    '佳里區': 'JiaLiQu',\n",
    "    '左營區': 'ZuoYingQu',\n",
    "    '旗山區': 'QiShanQu',\n",
    "    '新化區': 'XinHuaQu',\n",
    "    '西港區': 'XiGangQu',\n",
    "    '鹽水區': 'YanShuiQu',\n",
    "    '新營區': 'XinYingQu',\n",
    "    '鶯歌區': 'YingGeQu',\n",
    "    '土城區': 'TuChengQu',\n",
    "    '八里區': 'BaLiQu',\n",
    "    '永安區': 'YongAnQu',\n",
    "    '鼓山區': 'GuShanQu',\n",
    "    '中西區': 'ZhongXiQu',\n",
    "    '橋頭區': 'QiaoTouQu',\n",
    "    '台北維調區': 'TaiBeiWeiDiaoQu',\n",
    "    '前鎮區': 'QianZhenQu',\n",
    "    '大樹區': 'DaShuQu',\n",
    "    '岡山區': 'GangShanQu',\n",
    "    '苓雅區': 'LingYaQu',\n",
    "    '路竹區': 'LuZhuQu',\n",
    "    '霧峰區': 'WuFengQu',\n",
    "    '士林區': 'ShiLinQu',\n",
    "    '新竹科學園區': 'XinZhuKeXueYuanQu',\n",
    "    '潮州鎮': 'ChaoZhouZhen',\n",
    "    '竹田鄉': 'ZhuTianXiang',\n",
    "    '車城鄉': 'CheChengXiang',\n",
    "    '林邊鄉': 'LinBianXiang',\n",
    "    '麟洛鄉': 'LinLuoXiang',\n",
    "    '維調區': 'WeiDiaoQu',\n",
    "    '恆春鎮': 'HengChunZhen',\n",
    "    '東港鎮': 'DongGangZhen',\n",
    "    '屏東市': 'PingDongShi',\n",
    "    '關廟區': 'GuanMiaoQu',\n",
    "    '學甲區': 'XueJiaQu',\n",
    "    '新市區': 'XinShiQu',\n",
    "    '麻豆區': 'MaDouQu',\n",
    "    '後壁區': 'HouBiQu',\n",
    "    '柳營區': 'LiuYingQu',\n",
    "    '東山區': 'DongShanQu',\n",
    "    '官田區': 'GuanTianQu',\n",
    "    '安平區': 'AnPingQu',\n",
    "    '玉井區': 'YuJingQu',\n",
    "    '白河區': 'BaiHeQu',\n",
    "    '北區': 'BeiQu',\n",
    "    '六甲區': 'LiuJiaQu',\n",
    "    '北門區': 'BeiMenQu',\n",
    "    '七股區': 'QiGuQu',\n",
    "    '下營區': 'XiaYingQu',\n",
    "    '大內區': 'DaNeiQu',\n",
    "    '山上區': 'ShanShangQu',\n",
    "    '美濃區': 'MeiNongQu',\n",
    "    '甲仙區': 'JiaXianQu',\n",
    "    '維護調度中心': 'WeiHuTiaoDuZhongXin',\n",
    "    '燕巢區': 'YanChaoQu',\n",
    "    '阿蓮區': 'ALianQu',\n",
    "    '彌陀區': 'MiTuoQu',\n",
    "    '大社區': 'DaSheQu',\n",
    "    '大寮區': 'DaLiaoQu',\n",
    "    '鳥松區': 'NiaoSongQu',\n",
    "    '仁武區': 'RenWuQu',\n",
    "    '梓官區': 'ZiGuanQu',\n",
    "    '小港區': 'XiaoGangQu',\n",
    "    '旗津區': 'QiJinQu',\n",
    "    '鳳山區': 'FengShanQu',\n",
    "    '前金區': 'QianJinQu',\n",
    "      '鹽埕區': 'YanChengQu',\n",
    "    '新興區': 'XinXingQu',\n",
    "    '市區': 'ShiQu',\n",
    "    '臨時站': 'LinShiZhan',\n",
    "    '維修調度中心': 'WeiXiuTiaoDuZhongXin',\n",
    "    '測試站': 'CeShiZhan',\n",
    "    '竹南鎮': 'ZhuNanZhen',\n",
    "    '苑裡鎮': 'YuanLiZhen',\n",
    "    '新社區': 'XinSheQu',\n",
    "    '外埔區': 'WaiPuQu',\n",
    "    '和平區': 'HePingQu',\n",
    "    '石岡區': 'ShiGangQu',\n",
    "    '龍井區': 'LongJingQu',\n",
    "    '潭子區': 'TanZiQu',\n",
    "    '大雅區': 'DaYaQu',\n",
    "    '大肚區': 'DaDuQu',\n",
    "    '神岡區': 'ShenGangQu',\n",
    "    '梧棲區': 'WuQiQu',\n",
    "    '東勢區': 'DongShiQu',\n",
    "    '大甲區': 'DaJiaQu',\n",
    "    '沙鹿區': 'ShaLuQu',\n",
    "    '清水區': 'QingShuiQu',\n",
    "    '太平區': 'TaiPingQu',\n",
    "    '大里區': 'DaLiQu',\n",
    "    '豐原區': 'FengYuanQu',\n",
    "    '北屯區': 'BeiTunQu',\n",
    "    '南屯區': 'NanTunQu',\n",
    "    '西屯區': 'XiTunQu',\n",
    "    '西區': 'XiQu',\n",
    "    '新豐鄉': 'XinFengXiang',\n",
    "    '中區': 'ZhongQu',\n",
    "    '湖口鄉': 'HuKouXiang',\n",
    "    '竹東鎮': 'ZhuDongZhen',\n",
    "    '香山區': 'XiangShanQu',\n",
    "    '觀音區': 'GuanYinQu',\n",
    "    '龜山區': 'GuiShanQu',\n",
    "    '龍潭區': 'LongTanQu',\n",
    "    '楊梅區': 'YangMeiQu',\n",
    "    '桃園區': 'TaoYuanQu',\n",
    "    '新屋區': 'XinWuQu',\n",
    "    '平鎮區': 'PingZhenQu',\n",
    "    '中壢區': 'ZhongLiQu',\n",
    "    '大溪區': 'DaXiQu',\n",
    "    '大園區': 'DaYuanQu',\n",
    "    '猴雙公共自行車專區': 'HouShuangGongGongZiXingCheZhuanQu',\n",
    "    '新北維調區': 'XinBeiWeiDiaoQu',\n",
    "    '蘆洲區': 'LuZhouQu',\n",
    "    '樹林區': 'ShuLinQu',\n",
    "    '雙溪區': 'ShuangXiQu',\n",
    "    '新莊區': 'XinZhuangQu',\n",
    "    '新店區': 'XinDianQu',\n",
    "    '萬里區': 'WanLiQu',\n",
    "    '瑞芳區': 'RuiFangQu',\n",
    "    '淡水區': 'DanShuiQu',\n",
    "    '深坑區': 'ShenKengQu',\n",
    "    '泰山區': 'TaiShanQu',\n",
    "    '林口區': 'LinKouQu',\n",
    "    '坪林區': 'PingLinQu',\n",
    "    '金山區': 'JinShanQu',\n",
    "    '永和區': 'YongHeQu',\n",
    "    '石門區': 'ShiMenQu',\n",
    "    '石碇區': 'ShiDingQu',\n",
    "    '五股區': 'WuGuQu',\n",
    "    '三峽區': 'SanXiaQu',\n",
    "    '三芝區': 'SanZhiQu',\n",
    "    '臺大公館校區': 'TaiDaGongGuanXiaoQu',\n",
    "    '萬華區': 'WanHuaQu',\n",
    "    '南港區': 'NanGangQu',\n",
    "    '內湖區': 'NeiHuQu',\n",
    "    '大同區': 'DaTongQu',\n",
    "    '苗栗市': 'MiaoLiShi',\n",
    "    '頭份市': 'TouFenShi'}\n",
    ")"
   ]
  },
  {
   "cell_type": "code",
   "execution_count": 62,
   "id": "ecd04b53-140a-4839-a316-392da3cb6be2",
   "metadata": {
    "jupyter": {
     "source_hidden": true
    },
    "scrolled": true
   },
   "outputs": [
    {
     "data": {
      "text/markdown": [
       "**Outcome**: Transliterating Chinese characters for standardization"
      ],
      "text/plain": [
       "<IPython.core.display.Markdown object>"
      ]
     },
     "metadata": {},
     "output_type": "display_data"
    },
    {
     "name": "stdout",
     "output_type": "stream",
     "text": [
      "Unique values in 'city' ['新竹縣' '苗栗縣' '臺南市' '台中市' '台北市' '新北市' '桃園市' '高雄市' '新竹科學工業園區' '屏東縣' '嘉義市'\n",
      " '新竹市']\n",
      "Unique values in 'area' ['竹北市' '後龍鎮' '左鎮區' '楠西區' '后里區' '松山區' '中山區' '文山區' '大安區' '信義區' '中正區' '南區'\n",
      " '安南區' '善化區' '通霄鎮' '汐止區' '安定區' '東區' '三重區' '仁德區' '北投區' '蘆竹區' '八德區' '茄萣區'\n",
      " '林園區' '三民區' '湖內區' '中和區' '板橋區' '歸仁區' '楠梓區' '烏日區' '永康區' '佳里區' '左營區' '旗山區'\n",
      " '新化區' '西港區' '鹽水區' '新營區' '鶯歌區' '土城區' '八里區' '永安區' '鼓山區' '中西區' '橋頭區' '台北維調區'\n",
      " '前鎮區' '大樹區' '岡山區' '苓雅區' '路竹區' '霧峰區' '士林區' '新竹科學園區' '潮州鎮' '竹田鄉' '車城鄉'\n",
      " '林邊鄉' '麟洛鄉' '維調區' '恆春鎮' '東港鎮' '屏東市' '關廟區' '學甲區' '新市區' '麻豆區' '後壁區' '柳營區'\n",
      " '東山區' '官田區' '安平區' '玉井區' '白河區' '北區' '六甲區' '北門區' '七股區' '下營區' '大內區' '山上區'\n",
      " '美濃區' '甲仙區' '維護調度中心' '燕巢區' '阿蓮區' '彌陀區' '大社區' '大寮區' '鳥松區' '仁武區' '梓官區'\n",
      " '小港區' '旗津區' '鳳山區' '前金區' '鹽埕區' '新興區' '市區' '臨時站' '維修調度中心' '測試站' '竹南鎮' '苑裡鎮'\n",
      " '新社區' '外埔區' '和平區' '石岡區' '龍井區' '潭子區' '大雅區' '大肚區' '神岡區' '梧棲區' '東勢區' '大甲區'\n",
      " '沙鹿區' '清水區' '太平區' '大里區' '豐原區' '北屯區' '南屯區' '西屯區' '西區' '新豐鄉' '中區' '湖口鄉'\n",
      " '竹東鎮' '香山區' '觀音區' '龜山區' '龍潭區' '楊梅區' '桃園區' '新屋區' '平鎮區' '中壢區' '大溪區' '大園區'\n",
      " '猴雙公共自行車專區' '新北維調區' '蘆洲區' '樹林區' '雙溪區' '新莊區' '新店區' '萬里區' '瑞芳區' '淡水區' '深坑區'\n",
      " '泰山區' '林口區' '坪林區' '金山區' '永和區' '石門區' '石碇區' '五股區' '三峽區' '三芝區' '臺大公館校區'\n",
      " '萬華區' '南港區' '內湖區' '大同區' '苗栗市' '頭份市']\n"
     ]
    }
   ],
   "source": [
    "dm('**Outcome**: Transliterating Chinese characters for standardization')\n",
    "for col in main_df[['city', 'area']].columns:\n",
    "    print(f\"Unique values in '{col}' {main_df[col].unique()}\")\n",
    "# main_df['city'] = main_df['city'].map(city_name_glossary)\n",
    "# main_df['area'] = main_df['area'].map(area_name_glossary)"
   ]
  },
  {
   "cell_type": "markdown",
   "id": "1e4d8ec6-9aaf-4358-b2f2-07fcedc73c7e",
   "metadata": {},
   "source": [
    "### Numerical"
   ]
  },
  {
   "cell_type": "code",
   "execution_count": 63,
   "id": "dcef713c-749e-4bbf-84fe-6bfa7004fd51",
   "metadata": {
    "jupyter": {
     "source_hidden": true
    }
   },
   "outputs": [],
   "source": [
    "main_df_num = main_df.drop(labels=main_df_cat.columns, axis=1)\n",
    "main_df_num['last_update_ts'] = main_df['last_update_ts'].copy(deep=True)\n",
    "main_df_num['extraction_ts'] = main_df['extraction_ts'].copy(deep=True)"
   ]
  },
  {
   "cell_type": "code",
   "execution_count": 64,
   "id": "6e320a75-08e4-4069-83f9-aa1b944ca35a",
   "metadata": {
    "jupyter": {
     "source_hidden": true
    }
   },
   "outputs": [],
   "source": [
    "pd.set_option('display.float_format', '{:.2f}'.format)\n"
   ]
  },
  {
   "cell_type": "code",
   "execution_count": 65,
   "id": "a34d9e3d-ff68-4953-91ee-380a367e8976",
   "metadata": {
    "jupyter": {
     "source_hidden": true
    },
    "tags": []
   },
   "outputs": [
    {
     "data": {
      "text/html": [
       "<div>\n",
       "<style scoped>\n",
       "    .dataframe tbody tr th:only-of-type {\n",
       "        vertical-align: middle;\n",
       "    }\n",
       "\n",
       "    .dataframe tbody tr th {\n",
       "        vertical-align: top;\n",
       "    }\n",
       "\n",
       "    .dataframe thead th {\n",
       "        text-align: right;\n",
       "    }\n",
       "</style>\n",
       "<table border=\"1\" class=\"dataframe\">\n",
       "  <thead>\n",
       "    <tr style=\"text-align: right;\">\n",
       "      <th></th>\n",
       "      <th>id</th>\n",
       "      <th>space</th>\n",
       "      <th>full</th>\n",
       "      <th>empty</th>\n",
       "      <th>bike_yb2</th>\n",
       "      <th>bike_eyb</th>\n",
       "      <th>lat</th>\n",
       "      <th>lng</th>\n",
       "      <th>last_update_ts</th>\n",
       "      <th>extraction_ts</th>\n",
       "    </tr>\n",
       "  </thead>\n",
       "  <tbody>\n",
       "    <tr>\n",
       "      <th>count</th>\n",
       "      <td>10928723.00</td>\n",
       "      <td>10928723.00</td>\n",
       "      <td>10928723.00</td>\n",
       "      <td>10928723.00</td>\n",
       "      <td>10928723.00</td>\n",
       "      <td>10928723.00</td>\n",
       "      <td>10928723.00</td>\n",
       "      <td>10928723.00</td>\n",
       "      <td>10928723</td>\n",
       "      <td>10928723</td>\n",
       "    </tr>\n",
       "    <tr>\n",
       "      <th>mean</th>\n",
       "      <td>500638998.41</td>\n",
       "      <td>20.95</td>\n",
       "      <td>7.25</td>\n",
       "      <td>13.25</td>\n",
       "      <td>6.91</td>\n",
       "      <td>0.34</td>\n",
       "      <td>24.11</td>\n",
       "      <td>120.56</td>\n",
       "      <td>2024-03-10 21:23:24.960862208+08:00</td>\n",
       "      <td>2024-03-12 09:04:26.412556032+08:00</td>\n",
       "    </tr>\n",
       "    <tr>\n",
       "      <th>min</th>\n",
       "      <td>500101001.00</td>\n",
       "      <td>0.00</td>\n",
       "      <td>0.00</td>\n",
       "      <td>0.00</td>\n",
       "      <td>0.00</td>\n",
       "      <td>0.00</td>\n",
       "      <td>0.00</td>\n",
       "      <td>0.00</td>\n",
       "      <td>2024-01-14 01:18:15+08:00</td>\n",
       "      <td>2024-03-01 04:18:31+08:00</td>\n",
       "    </tr>\n",
       "    <tr>\n",
       "      <th>25%</th>\n",
       "      <td>500207013.00</td>\n",
       "      <td>14.00</td>\n",
       "      <td>3.00</td>\n",
       "      <td>7.00</td>\n",
       "      <td>2.00</td>\n",
       "      <td>0.00</td>\n",
       "      <td>23.01</td>\n",
       "      <td>120.38</td>\n",
       "      <td>2024-03-08 12:32:19+08:00</td>\n",
       "      <td>2024-03-10 14:56:07+08:00</td>\n",
       "    </tr>\n",
       "    <tr>\n",
       "      <th>50%</th>\n",
       "      <td>500602030.00</td>\n",
       "      <td>17.00</td>\n",
       "      <td>6.00</td>\n",
       "      <td>11.00</td>\n",
       "      <td>5.00</td>\n",
       "      <td>0.00</td>\n",
       "      <td>24.44</td>\n",
       "      <td>120.83</td>\n",
       "      <td>2024-03-13 02:03:14+08:00</td>\n",
       "      <td>2024-03-13 11:14:44+08:00</td>\n",
       "    </tr>\n",
       "    <tr>\n",
       "      <th>75%</th>\n",
       "      <td>501203106.00</td>\n",
       "      <td>24.00</td>\n",
       "      <td>10.00</td>\n",
       "      <td>16.00</td>\n",
       "      <td>9.00</td>\n",
       "      <td>0.00</td>\n",
       "      <td>25.03</td>\n",
       "      <td>121.49</td>\n",
       "      <td>2024-03-15 23:53:18+08:00</td>\n",
       "      <td>2024-03-16 05:20:52+08:00</td>\n",
       "    </tr>\n",
       "    <tr>\n",
       "      <th>max</th>\n",
       "      <td>508201041.00</td>\n",
       "      <td>99.00</td>\n",
       "      <td>99.00</td>\n",
       "      <td>99.00</td>\n",
       "      <td>99.00</td>\n",
       "      <td>62.00</td>\n",
       "      <td>25.29</td>\n",
       "      <td>122.00</td>\n",
       "      <td>2024-03-18 23:49:18+08:00</td>\n",
       "      <td>2024-03-18 23:50:54+08:00</td>\n",
       "    </tr>\n",
       "    <tr>\n",
       "      <th>std</th>\n",
       "      <td>741534.43</td>\n",
       "      <td>11.97</td>\n",
       "      <td>7.05</td>\n",
       "      <td>10.38</td>\n",
       "      <td>6.96</td>\n",
       "      <td>1.23</td>\n",
       "      <td>1.65</td>\n",
       "      <td>6.83</td>\n",
       "      <td>NaN</td>\n",
       "      <td>NaN</td>\n",
       "    </tr>\n",
       "  </tbody>\n",
       "</table>\n",
       "</div>"
      ],
      "text/plain": [
       "                id       space        full       empty    bike_yb2  \\\n",
       "count  10928723.00 10928723.00 10928723.00 10928723.00 10928723.00   \n",
       "mean  500638998.41       20.95        7.25       13.25        6.91   \n",
       "min   500101001.00        0.00        0.00        0.00        0.00   \n",
       "25%   500207013.00       14.00        3.00        7.00        2.00   \n",
       "50%   500602030.00       17.00        6.00       11.00        5.00   \n",
       "75%   501203106.00       24.00       10.00       16.00        9.00   \n",
       "max   508201041.00       99.00       99.00       99.00       99.00   \n",
       "std      741534.43       11.97        7.05       10.38        6.96   \n",
       "\n",
       "         bike_eyb         lat         lng  \\\n",
       "count 10928723.00 10928723.00 10928723.00   \n",
       "mean         0.34       24.11      120.56   \n",
       "min          0.00        0.00        0.00   \n",
       "25%          0.00       23.01      120.38   \n",
       "50%          0.00       24.44      120.83   \n",
       "75%          0.00       25.03      121.49   \n",
       "max         62.00       25.29      122.00   \n",
       "std          1.23        1.65        6.83   \n",
       "\n",
       "                            last_update_ts  \\\n",
       "count                             10928723   \n",
       "mean   2024-03-10 21:23:24.960862208+08:00   \n",
       "min              2024-01-14 01:18:15+08:00   \n",
       "25%              2024-03-08 12:32:19+08:00   \n",
       "50%              2024-03-13 02:03:14+08:00   \n",
       "75%              2024-03-15 23:53:18+08:00   \n",
       "max              2024-03-18 23:49:18+08:00   \n",
       "std                                    NaN   \n",
       "\n",
       "                             extraction_ts  \n",
       "count                             10928723  \n",
       "mean   2024-03-12 09:04:26.412556032+08:00  \n",
       "min              2024-03-01 04:18:31+08:00  \n",
       "25%              2024-03-10 14:56:07+08:00  \n",
       "50%              2024-03-13 11:14:44+08:00  \n",
       "75%              2024-03-16 05:20:52+08:00  \n",
       "max              2024-03-18 23:50:54+08:00  \n",
       "std                                    NaN  "
      ]
     },
     "execution_count": 65,
     "metadata": {},
     "output_type": "execute_result"
    }
   ],
   "source": [
    "main_df_num.describe(include='all')"
   ]
  },
  {
   "cell_type": "markdown",
   "id": "6bc567dc-5e02-4442-b5dd-be1455832490",
   "metadata": {},
   "source": [
    "**Observations about range and distribution**\n",
    "- Empty has negative values\n",
    "- Space min value is zero\n",
    "- Some long/lat coordinates are outside of Taiwan\n",
    "- Some ts shows stale data (many days older than latest ts)\n",
    "- Rest is according to expectations"
   ]
  },
  {
   "cell_type": "code",
   "execution_count": 66,
   "id": "69a82a3f-1408-4a40-a172-3d6d57ecf20b",
   "metadata": {
    "jupyter": {
     "source_hidden": true
    }
   },
   "outputs": [
    {
     "data": {
      "text/markdown": [
       "\n",
       "**Dropping:**\n",
       "- Stations with negative empty values. (= Available spaces cannot be negative.)\n",
       "- Stations without space are irrelevant\n",
       "- Stations located outside of Taiwan (these are test locations. Confirmed by not being displayed on YouBikes official map)\n",
       "- Stations with last_update_ts older than the first day of this historical dataset. (Stale data is useless)\n"
      ],
      "text/plain": [
       "<IPython.core.display.Markdown object>"
      ]
     },
     "metadata": {},
     "output_type": "display_data"
    },
    {
     "data": {
      "text/markdown": [
       "Row counts before: 10928723"
      ],
      "text/plain": [
       "<IPython.core.display.Markdown object>"
      ]
     },
     "metadata": {},
     "output_type": "display_data"
    },
    {
     "data": {
      "text/markdown": [
       "Row counts after: 10633396"
      ],
      "text/plain": [
       "<IPython.core.display.Markdown object>"
      ]
     },
     "metadata": {},
     "output_type": "display_data"
    }
   ],
   "source": [
    "dm(\"\"\"\n",
    "**Dropping:**\n",
    "- Stations with negative empty values. (= Available spaces cannot be negative.)\n",
    "- Stations without space are irrelevant\n",
    "- Stations located outside of Taiwan (these are test locations. Confirmed by not being displayed on YouBikes official map)\n",
    "- Stations with last_update_ts older than the first day of this historical dataset. (Stale data is useless)\n",
    "\"\"\")\n",
    "dm(f\"Row counts before: {main_df.shape[0]}\")\n",
    "discard_mask = (\n",
    "    (main_df[\"empty\"] < 0)\n",
    "    | (main_df[\"space\"] < 1) # Stations without space are irrelevant\n",
    "    | (main_df[\"lat\"] < 21.89) #southermost lat of Taiwan's main island\n",
    "    | (main_df[\"lng\"] < 120) #westernmost lng of Taiwan's main island\n",
    "    | (main_df[\"last_update_ts\"] < pd.to_datetime(\"2024-02-16\").tz_localize(tz='Asia/Taipei'))\n",
    ")\n",
    "main_df.drop(main_df[discard_mask == True].index, inplace=True)\n",
    "\n",
    "dm(f\"Row counts after: {main_df.shape[0]}\")\n",
    "#TODO: bound to the easter and northernmost points too? "
   ]
  },
  {
   "cell_type": "markdown",
   "id": "e7b4265e-01e7-4b22-babc-cc6b8c9e0a2b",
   "metadata": {},
   "source": [
    "## Check uniqueness of observations"
   ]
  },
  {
   "cell_type": "code",
   "execution_count": 67,
   "id": "931f3e68-73b8-44e2-b6aa-39b05ccfa41f",
   "metadata": {
    "jupyter": {
     "source_hidden": true
    }
   },
   "outputs": [
    {
     "data": {
      "text/markdown": [
       "#### Unique key is (extraction_ts, id)"
      ],
      "text/plain": [
       "<IPython.core.display.Markdown object>"
      ]
     },
     "metadata": {},
     "output_type": "display_data"
    },
    {
     "data": {
      "text/plain": [
       "identical_key_cnt\n",
       "1    10633396\n",
       "Name: count, dtype: int64"
      ]
     },
     "metadata": {},
     "output_type": "display_data"
    },
    {
     "data": {
      "text/markdown": [
       "key_cnt = 1 means no duplicates"
      ],
      "text/plain": [
       "<IPython.core.display.Markdown object>"
      ]
     },
     "metadata": {},
     "output_type": "display_data"
    }
   ],
   "source": [
    "dm(\"#### Unique key is (extraction_ts, id)\") \n",
    "\n",
    "main_df['identical_key_cnt'] = main_df.groupby(['extraction_ts', 'id']).transform('size')\n",
    "display(main_df['identical_key_cnt'].value_counts())\n",
    "dm(\"key_cnt = 1 means no duplicates\")"
   ]
  },
  {
   "cell_type": "code",
   "execution_count": null,
   "id": "5f02456f-683b-44c0-9999-9d34d72945c1",
   "metadata": {
    "jupyter": {
     "source_hidden": true
    }
   },
   "outputs": [],
   "source": []
  },
  {
   "cell_type": "code",
   "execution_count": 68,
   "id": "27146992-c26f-41be-9ced-d1642c0d2c42",
   "metadata": {
    "jupyter": {
     "source_hidden": true
    }
   },
   "outputs": [
    {
     "data": {
      "text/markdown": [
       "### Does each station have a unique record per extraction? (uniqueness on position (= Lat / Lng)"
      ],
      "text/plain": [
       "<IPython.core.display.Markdown object>"
      ]
     },
     "metadata": {},
     "output_type": "display_data"
    },
    {
     "data": {
      "text/html": [
       "<div>\n",
       "<style scoped>\n",
       "    .dataframe tbody tr th:only-of-type {\n",
       "        vertical-align: middle;\n",
       "    }\n",
       "\n",
       "    .dataframe tbody tr th {\n",
       "        vertical-align: top;\n",
       "    }\n",
       "\n",
       "    .dataframe thead th {\n",
       "        text-align: right;\n",
       "    }\n",
       "</style>\n",
       "<table border=\"1\" class=\"dataframe\">\n",
       "  <thead>\n",
       "    <tr style=\"text-align: right;\">\n",
       "      <th></th>\n",
       "      <th>id</th>\n",
       "      <th>name</th>\n",
       "      <th>type</th>\n",
       "      <th>space</th>\n",
       "      <th>full</th>\n",
       "      <th>empty</th>\n",
       "      <th>bike_yb2</th>\n",
       "      <th>bike_eyb</th>\n",
       "      <th>city</th>\n",
       "      <th>area</th>\n",
       "      <th>lat</th>\n",
       "      <th>lng</th>\n",
       "      <th>is_open</th>\n",
       "      <th>last_update_ts</th>\n",
       "      <th>extraction_ts</th>\n",
       "      <th>identical_key_cnt</th>\n",
       "      <th>pos</th>\n",
       "      <th>duplic_pos</th>\n",
       "    </tr>\n",
       "  </thead>\n",
       "  <tbody>\n",
       "    <tr>\n",
       "      <th>5504</th>\n",
       "      <td>500199002</td>\n",
       "      <td>蘆洲維修中心</td>\n",
       "      <td>2</td>\n",
       "      <td>17</td>\n",
       "      <td>0</td>\n",
       "      <td>17</td>\n",
       "      <td>0</td>\n",
       "      <td>0</td>\n",
       "      <td>台北市</td>\n",
       "      <td>台北維調區</td>\n",
       "      <td>25.00</td>\n",
       "      <td>121.54</td>\n",
       "      <td>5</td>\n",
       "      <td>2024-03-07 18:19:20+08:00</td>\n",
       "      <td>2024-03-07 18:25:10+08:00</td>\n",
       "      <td>1</td>\n",
       "      <td>(24.99609, 121.54284)</td>\n",
       "      <td>2</td>\n",
       "    </tr>\n",
       "    <tr>\n",
       "      <th>6446</th>\n",
       "      <td>500105068</td>\n",
       "      <td>景興國中</td>\n",
       "      <td>2</td>\n",
       "      <td>10</td>\n",
       "      <td>1</td>\n",
       "      <td>9</td>\n",
       "      <td>1</td>\n",
       "      <td>0</td>\n",
       "      <td>台北市</td>\n",
       "      <td>文山區</td>\n",
       "      <td>25.00</td>\n",
       "      <td>121.54</td>\n",
       "      <td>1</td>\n",
       "      <td>2024-03-07 18:23:14+08:00</td>\n",
       "      <td>2024-03-07 18:25:10+08:00</td>\n",
       "      <td>1</td>\n",
       "      <td>(24.99609, 121.54284)</td>\n",
       "      <td>2</td>\n",
       "    </tr>\n",
       "    <tr>\n",
       "      <th>13387</th>\n",
       "      <td>500199002</td>\n",
       "      <td>蘆洲維修中心</td>\n",
       "      <td>2</td>\n",
       "      <td>17</td>\n",
       "      <td>0</td>\n",
       "      <td>17</td>\n",
       "      <td>0</td>\n",
       "      <td>0</td>\n",
       "      <td>台北市</td>\n",
       "      <td>台北維調區</td>\n",
       "      <td>25.00</td>\n",
       "      <td>121.54</td>\n",
       "      <td>5</td>\n",
       "      <td>2024-03-01 11:33:20+08:00</td>\n",
       "      <td>2024-03-01 11:57:38+08:00</td>\n",
       "      <td>1</td>\n",
       "      <td>(24.99609, 121.54284)</td>\n",
       "      <td>2</td>\n",
       "    </tr>\n",
       "    <tr>\n",
       "      <th>14329</th>\n",
       "      <td>500105068</td>\n",
       "      <td>景興國中</td>\n",
       "      <td>2</td>\n",
       "      <td>10</td>\n",
       "      <td>0</td>\n",
       "      <td>10</td>\n",
       "      <td>0</td>\n",
       "      <td>0</td>\n",
       "      <td>台北市</td>\n",
       "      <td>文山區</td>\n",
       "      <td>25.00</td>\n",
       "      <td>121.54</td>\n",
       "      <td>1</td>\n",
       "      <td>2024-03-01 11:48:14+08:00</td>\n",
       "      <td>2024-03-01 11:57:38+08:00</td>\n",
       "      <td>1</td>\n",
       "      <td>(24.99609, 121.54284)</td>\n",
       "      <td>2</td>\n",
       "    </tr>\n",
       "  </tbody>\n",
       "</table>\n",
       "</div>"
      ],
      "text/plain": [
       "              id    name  type  space  full  empty  bike_yb2  bike_eyb city  \\\n",
       "5504   500199002  蘆洲維修中心     2     17     0     17         0         0  台北市   \n",
       "6446   500105068    景興國中     2     10     1      9         1         0  台北市   \n",
       "13387  500199002  蘆洲維修中心     2     17     0     17         0         0  台北市   \n",
       "14329  500105068    景興國中     2     10     0     10         0         0  台北市   \n",
       "\n",
       "        area   lat    lng  is_open            last_update_ts  \\\n",
       "5504   台北維調區 25.00 121.54        5 2024-03-07 18:19:20+08:00   \n",
       "6446     文山區 25.00 121.54        1 2024-03-07 18:23:14+08:00   \n",
       "13387  台北維調區 25.00 121.54        5 2024-03-01 11:33:20+08:00   \n",
       "14329    文山區 25.00 121.54        1 2024-03-01 11:48:14+08:00   \n",
       "\n",
       "                  extraction_ts  identical_key_cnt                    pos  \\\n",
       "5504  2024-03-07 18:25:10+08:00                  1  (24.99609, 121.54284)   \n",
       "6446  2024-03-07 18:25:10+08:00                  1  (24.99609, 121.54284)   \n",
       "13387 2024-03-01 11:57:38+08:00                  1  (24.99609, 121.54284)   \n",
       "14329 2024-03-01 11:57:38+08:00                  1  (24.99609, 121.54284)   \n",
       "\n",
       "       duplic_pos  \n",
       "5504            2  \n",
       "6446            2  \n",
       "13387           2  \n",
       "14329           2  "
      ]
     },
     "metadata": {},
     "output_type": "display_data"
    },
    {
     "data": {
      "text/markdown": [
       "**Observation:** Some Lat / Lng are recorded twice within the same extraction"
      ],
      "text/plain": [
       "<IPython.core.display.Markdown object>"
      ]
     },
     "metadata": {},
     "output_type": "display_data"
    },
    {
     "data": {
      "text/plain": [
       "duplic_pos\n",
       "1    10628352\n",
       "2        5044\n",
       "Name: count, dtype: int64"
      ]
     },
     "metadata": {},
     "output_type": "display_data"
    },
    {
     "data": {
      "text/markdown": [
       "<br>Filtering for those positions which are recorded twice returns "
      ],
      "text/plain": [
       "<IPython.core.display.Markdown object>"
      ]
     },
     "metadata": {},
     "output_type": "display_data"
    },
    {
     "data": {
      "text/plain": [
       "pos\n",
       "(24.99609, 121.54284)    3192\n",
       "(25.07965, 121.54148)     984\n",
       "(25.03062, 121.49021)     868\n",
       "Name: count, dtype: int64"
      ]
     },
     "metadata": {},
     "output_type": "display_data"
    },
    {
     "data": {
      "text/markdown": [
       "**Conclusion**: For the moment, any duplicated station (identified by using pos) per extraction will be dismissed"
      ],
      "text/plain": [
       "<IPython.core.display.Markdown object>"
      ]
     },
     "metadata": {},
     "output_type": "display_data"
    }
   ],
   "source": [
    "dm(\"### Does each station have a unique record per extraction? (uniqueness on position (= Lat / Lng)\")\n",
    "\n",
    "main_df[\"pos\"] = list(zip(main_df['lat'], main_df['lng']))\n",
    "main_df[\"duplic_pos\"] = main_df.groupby(['pos', 'extraction_ts']).transform('size')\n",
    "\n",
    "display(main_df[main_df[\"duplic_pos\"] > 1].head(4))\n",
    "dm(\"**Observation:** Some Lat / Lng are recorded twice within the same extraction\")\n",
    "display(main_df[\"duplic_pos\"].value_counts())\n",
    "dm(\"<br>Filtering for those positions which are recorded twice returns \")\n",
    "display(main_df[main_df[\"duplic_pos\"] > 1][\"pos\"].value_counts())\n",
    "dm(\"**Conclusion**: For the moment, any duplicated station (identified by using pos) per extraction will be dismissed\")"
   ]
  },
  {
   "cell_type": "code",
   "execution_count": 69,
   "id": "9a9b04b5-4e7b-463c-ab4b-e7d50a098510",
   "metadata": {
    "jupyter": {
     "source_hidden": true
    }
   },
   "outputs": [
    {
     "data": {
      "text/markdown": [
       "Dropping stations with duplicated pos, extraction_ts"
      ],
      "text/plain": [
       "<IPython.core.display.Markdown object>"
      ]
     },
     "metadata": {},
     "output_type": "display_data"
    },
    {
     "data": {
      "text/markdown": [
       "Row count before: 10633396"
      ],
      "text/plain": [
       "<IPython.core.display.Markdown object>"
      ]
     },
     "metadata": {},
     "output_type": "display_data"
    },
    {
     "data": {
      "text/markdown": [
       "Row count after: 10628352"
      ],
      "text/plain": [
       "<IPython.core.display.Markdown object>"
      ]
     },
     "metadata": {},
     "output_type": "display_data"
    }
   ],
   "source": [
    "dm(\"Dropping stations with duplicated pos, extraction_ts\")\n",
    "dm(f\"Row count before: {main_df.shape[0]}\")\n",
    "\n",
    "main_df.drop(main_df[main_df[\"duplic_pos\"] > 1].index, inplace=True)\n",
    "\n",
    "dm(f\"Row count after: {main_df.shape[0]}\")"
   ]
  },
  {
   "cell_type": "code",
   "execution_count": 70,
   "id": "461d151f-259a-410c-b753-f91a089315ba",
   "metadata": {
    "jupyter": {
     "source_hidden": true
    }
   },
   "outputs": [],
   "source": [
    "#Last visual check before dl\n",
    "#Checkpoint\n",
    "base_df = (\n",
    "    main_df[['id', 'name', 'lat', 'lng', 'space', 'full', 'empty', 'bike_yb2', 'bike_eyb', \n",
    "             'city', 'area', 'last_update_ts','extraction_ts']]\n",
    "    .sort_values(by=['id', 'extraction_ts'])\n",
    "    .reset_index(drop=True)\n",
    "    .copy(deep=True)\n",
    "          )\n"
   ]
  },
  {
   "cell_type": "code",
   "execution_count": 71,
   "id": "75360f73-633b-4c23-ad43-c1913dd70d2f",
   "metadata": {
    "jupyter": {
     "source_hidden": true
    }
   },
   "outputs": [
    {
     "data": {
      "text/markdown": [
       "Last visual check before saving"
      ],
      "text/plain": [
       "<IPython.core.display.Markdown object>"
      ]
     },
     "metadata": {},
     "output_type": "display_data"
    },
    {
     "data": {
      "text/html": [
       "<div>\n",
       "<style scoped>\n",
       "    .dataframe tbody tr th:only-of-type {\n",
       "        vertical-align: middle;\n",
       "    }\n",
       "\n",
       "    .dataframe tbody tr th {\n",
       "        vertical-align: top;\n",
       "    }\n",
       "\n",
       "    .dataframe thead th {\n",
       "        text-align: right;\n",
       "    }\n",
       "</style>\n",
       "<table border=\"1\" class=\"dataframe\">\n",
       "  <thead>\n",
       "    <tr style=\"text-align: right;\">\n",
       "      <th></th>\n",
       "      <th>id</th>\n",
       "      <th>name</th>\n",
       "      <th>lat</th>\n",
       "      <th>lng</th>\n",
       "      <th>space</th>\n",
       "      <th>full</th>\n",
       "      <th>empty</th>\n",
       "      <th>bike_yb2</th>\n",
       "      <th>bike_eyb</th>\n",
       "      <th>city</th>\n",
       "      <th>area</th>\n",
       "      <th>last_update_ts</th>\n",
       "      <th>extraction_ts</th>\n",
       "    </tr>\n",
       "  </thead>\n",
       "  <tbody>\n",
       "    <tr>\n",
       "      <th>0</th>\n",
       "      <td>500101001</td>\n",
       "      <td>捷運科技大樓站</td>\n",
       "      <td>25.03</td>\n",
       "      <td>121.54</td>\n",
       "      <td>28</td>\n",
       "      <td>1</td>\n",
       "      <td>27</td>\n",
       "      <td>1</td>\n",
       "      <td>0</td>\n",
       "      <td>台北市</td>\n",
       "      <td>大安區</td>\n",
       "      <td>2024-03-01 03:35:18+08:00</td>\n",
       "      <td>2024-03-01 04:18:31+08:00</td>\n",
       "    </tr>\n",
       "    <tr>\n",
       "      <th>1</th>\n",
       "      <td>500101001</td>\n",
       "      <td>捷運科技大樓站</td>\n",
       "      <td>25.03</td>\n",
       "      <td>121.54</td>\n",
       "      <td>28</td>\n",
       "      <td>3</td>\n",
       "      <td>25</td>\n",
       "      <td>3</td>\n",
       "      <td>0</td>\n",
       "      <td>台北市</td>\n",
       "      <td>大安區</td>\n",
       "      <td>2024-03-01 10:57:52+08:00</td>\n",
       "      <td>2024-03-01 11:00:48+08:00</td>\n",
       "    </tr>\n",
       "    <tr>\n",
       "      <th>2</th>\n",
       "      <td>500101001</td>\n",
       "      <td>捷運科技大樓站</td>\n",
       "      <td>25.03</td>\n",
       "      <td>121.54</td>\n",
       "      <td>28</td>\n",
       "      <td>4</td>\n",
       "      <td>24</td>\n",
       "      <td>4</td>\n",
       "      <td>0</td>\n",
       "      <td>台北市</td>\n",
       "      <td>大安區</td>\n",
       "      <td>2024-03-01 11:03:19+08:00</td>\n",
       "      <td>2024-03-01 11:05:52+08:00</td>\n",
       "    </tr>\n",
       "    <tr>\n",
       "      <th>3</th>\n",
       "      <td>500101001</td>\n",
       "      <td>捷運科技大樓站</td>\n",
       "      <td>25.03</td>\n",
       "      <td>121.54</td>\n",
       "      <td>28</td>\n",
       "      <td>2</td>\n",
       "      <td>26</td>\n",
       "      <td>2</td>\n",
       "      <td>0</td>\n",
       "      <td>台北市</td>\n",
       "      <td>大安區</td>\n",
       "      <td>2024-03-01 11:09:19+08:00</td>\n",
       "      <td>2024-03-01 11:10:57+08:00</td>\n",
       "    </tr>\n",
       "    <tr>\n",
       "      <th>4</th>\n",
       "      <td>500101001</td>\n",
       "      <td>捷運科技大樓站</td>\n",
       "      <td>25.03</td>\n",
       "      <td>121.54</td>\n",
       "      <td>28</td>\n",
       "      <td>4</td>\n",
       "      <td>24</td>\n",
       "      <td>4</td>\n",
       "      <td>0</td>\n",
       "      <td>台北市</td>\n",
       "      <td>大安區</td>\n",
       "      <td>2024-03-01 11:14:19+08:00</td>\n",
       "      <td>2024-03-01 11:16:02+08:00</td>\n",
       "    </tr>\n",
       "  </tbody>\n",
       "</table>\n",
       "</div>"
      ],
      "text/plain": [
       "          id     name   lat    lng  space  full  empty  bike_yb2  bike_eyb  \\\n",
       "0  500101001  捷運科技大樓站 25.03 121.54     28     1     27         1         0   \n",
       "1  500101001  捷運科技大樓站 25.03 121.54     28     3     25         3         0   \n",
       "2  500101001  捷運科技大樓站 25.03 121.54     28     4     24         4         0   \n",
       "3  500101001  捷運科技大樓站 25.03 121.54     28     2     26         2         0   \n",
       "4  500101001  捷運科技大樓站 25.03 121.54     28     4     24         4         0   \n",
       "\n",
       "  city area            last_update_ts             extraction_ts  \n",
       "0  台北市  大安區 2024-03-01 03:35:18+08:00 2024-03-01 04:18:31+08:00  \n",
       "1  台北市  大安區 2024-03-01 10:57:52+08:00 2024-03-01 11:00:48+08:00  \n",
       "2  台北市  大安區 2024-03-01 11:03:19+08:00 2024-03-01 11:05:52+08:00  \n",
       "3  台北市  大安區 2024-03-01 11:09:19+08:00 2024-03-01 11:10:57+08:00  \n",
       "4  台北市  大安區 2024-03-01 11:14:19+08:00 2024-03-01 11:16:02+08:00  "
      ]
     },
     "execution_count": 71,
     "metadata": {},
     "output_type": "execute_result"
    }
   ],
   "source": [
    "dm(\"Last visual check before saving\")\n",
    "base_df.head(5)"
   ]
  },
  {
   "cell_type": "code",
   "execution_count": null,
   "id": "8655dc92-f96d-4f31-aa48-0fb74aa0e2fb",
   "metadata": {
    "jupyter": {
     "source_hidden": true
    }
   },
   "outputs": [],
   "source": [
    "base_df.to_parquet(\"../tmp_data/clean_data/youbike_dock_info_history_2024-03-01_2024-03-18.parquet\", index=False)"
   ]
  }
 ],
 "metadata": {
  "kernelspec": {
   "display_name": "Python 3 (ipykernel)",
   "language": "python",
   "name": "python3"
  },
  "language_info": {
   "codemirror_mode": {
    "name": "ipython",
    "version": 3
   },
   "file_extension": ".py",
   "mimetype": "text/x-python",
   "name": "python",
   "nbconvert_exporter": "python",
   "pygments_lexer": "ipython3",
   "version": "3.10.13"
  }
 },
 "nbformat": 4,
 "nbformat_minor": 5
}
